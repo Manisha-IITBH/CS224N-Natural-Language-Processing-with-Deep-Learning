{
  "cells": [
    {
      "cell_type": "markdown",
      "metadata": {
        "id": "3HqK14JLSStR"
      },
      "source": [
        "# CS224N Assignment 1: Exploring Word Vectors (25 Points)\n",
        "### <font color='blue'> Due 4:30pm, Tue April 9th 2024</font>\n",
        "\n",
        "Welcome to CS224N!\n",
        "\n",
        "Before you start, make sure you **read the README.md** in the same directory as this notebook for important setup information. You need to install some Python libraries before you can successfully do this assignment. A lot of code is provided in this notebook, and we highly encourage you to read and understand it as part of the learning :)\n",
        "\n",
        "If you aren't super familiar with Python, Numpy, or Matplotlib, we recommend you check out the review session on Friday. The session will be recorded and the material will be made available on our [website](http://web.stanford.edu/class/cs224n/index.html#schedule). The CS231N Python/Numpy [tutorial](https://cs231n.github.io/python-numpy-tutorial/) is also a great resource.\n",
        "\n",
        "\n",
        "**Assignment Notes:** Please make sure to save the notebook as you go along. Submission Instructions are located at the bottom of the notebook."
      ]
    },
    {
      "cell_type": "code",
      "source": [
        "!pip install gensim"
      ],
      "metadata": {
        "colab": {
          "base_uri": "https://localhost:8080/"
        },
        "id": "PrYK9tdE2H-Q",
        "outputId": "77fdff20-5282-4bdd-d30c-0e794a077dc2"
      },
      "execution_count": 1,
      "outputs": [
        {
          "output_type": "stream",
          "name": "stdout",
          "text": [
            "Requirement already satisfied: gensim in /usr/local/lib/python3.11/dist-packages (4.3.3)\n",
            "Requirement already satisfied: numpy<2.0,>=1.18.5 in /usr/local/lib/python3.11/dist-packages (from gensim) (1.26.4)\n",
            "Requirement already satisfied: scipy<1.14.0,>=1.7.0 in /usr/local/lib/python3.11/dist-packages (from gensim) (1.13.1)\n",
            "Requirement already satisfied: smart-open>=1.8.1 in /usr/local/lib/python3.11/dist-packages (from gensim) (7.3.0.post1)\n",
            "Requirement already satisfied: wrapt in /usr/local/lib/python3.11/dist-packages (from smart-open>=1.8.1->gensim) (1.17.3)\n"
          ]
        }
      ]
    },
    {
      "cell_type": "code",
      "execution_count": 2,
      "metadata": {
        "ExecuteTime": {
          "end_time": "2024-03-27T08:04:19.343709Z",
          "start_time": "2024-03-27T08:04:15.222676Z"
        },
        "colab": {
          "base_uri": "https://localhost:8080/",
          "height": 345,
          "referenced_widgets": [
            "cf7c3d8f4cb44e43bf23c08edbdb4ff4",
            "6dbcc0f94e6d4e839676153b0e7c27b2",
            "a14304827ad74e22ae816608d5f656ba",
            "939221d820bd4a87b86f3a5eef7f9b58",
            "fc935db32bee4c6299aabf1587400f7b",
            "09faf11289b047f294765aa48d7e58fc",
            "0985737bedb643d4bdf1a7d2be77e884",
            "7b007e96c50f4e4b84fbe6ef01a45714",
            "e28ba9399a634793a4d76fe07efc853e",
            "24d111df139d4f5caef75ab06808798d",
            "95f9143e630b45feac98a8946f81078d",
            "2b14a0c40f0644b39a774e071a5d054e",
            "6951b3060be1418584ecd90fe9cacddc",
            "740788851cfb4b23823a9aeff48a29bf",
            "e0624009fe8e4085b6dab07870dd4aff",
            "36aac12489104390af5e40839161e3e6",
            "a1663ec20a3d45fd8e3ba9386e10a918",
            "a1a36dfe96594658814f124a9fce9b0c",
            "e4c65d57ddcb474287f62cf5c98cd4b5",
            "7dc69ade70434b77995a04749ae17ccb",
            "54a24d03b6be41189d6f2ff5683ff03f",
            "6de89effac504f7191dc0ccf1e402919",
            "c6a58eb237bf498880109022158b8e28",
            "f11db810cfa049919566ec120b38567a",
            "18dce283a45145d2b9f6d04045e8d4a4",
            "675f3e5cc5f54b85895afd10a400b25d",
            "655fa0f2cc1b4d66a9613cc07f985409",
            "88d10a7bc1de40cba5038d293f6d91dd",
            "ff1dcbe12ea64914a4af6fe392750097",
            "8bf73d933831403287f278b4fa13f050",
            "e252d6c8e45a4cc0826917df5bfcfe70",
            "eca23f05c4e64b7ca83c01784608413e",
            "6014c194c14a42369cd8b7b825b7204f",
            "e3e4a60cd6f8446e9a78e5391309b373",
            "17da207a943e49caaf0332306875c6d2",
            "08b936a949744dcf88ff691dda5982ec",
            "9f5db4b6b7f24340b69042853e9163bc",
            "5b5bd67276384df59d26a82ace0eb00c",
            "61cb64bedff84bf29b9e28a4ad0db989",
            "d4ac71cd68ad4877953ceb5bc97b4ed0",
            "27b90786c2684841aba784763b4d43e2",
            "4a96a0de7efa4dfbb5fc031325ccbaca",
            "2ab010aa4c7b4ce3985783cf27d4e3d5",
            "32e9a8ec635440dea5bd3b6b2a675f81",
            "01ae92a149b546e18fa540ff1a3be69e",
            "a14373668a74426bb01b7259d35e6d5d",
            "b6b6b7adb6ec4d23b0a00b61ddba2b7c",
            "0ff4e5c3665242aaaad4ece27508efa6",
            "c4ee073293ac4c039155c3e8badb2780",
            "02662179fc8945afbc07bb73caa7cbfa",
            "fd34d5f806ed4e77b21e7b083e08590e",
            "69decf47cb86400cb0c5a5a7d7d270e4",
            "d72bd8b775934c219b743d9703aa62fc",
            "1b22353b488046e39ab56ce368ec33fc",
            "536e4a35eb654ce6891258ad51656bfd",
            "0854539c3df94aa79d3c3f854de831f9",
            "96fa59d457744d54b6d1d60ac9eee67c",
            "4d3b4e0eab2b4999b74b891bbec5050d",
            "0e8975b705d14964a2403a8e2f925f80",
            "57081c3a3a3d44aeab7b75f4dd391064",
            "e671a8094d27414ea0f8d127fbdbe211",
            "ba087fcff25e4db9a99a2195666cd291",
            "472ad90453184c7588a6d09da1f47b25",
            "14c5a0043032487c97d75de09a5d47bf",
            "157fad9691c5422091cfd96ec8b07b96",
            "3bca9869483a4855aa0e3de48ad92009",
            "f09d017f50a8414399da02c0224233cc",
            "fa0d85397894421e977334b72c4cdd71",
            "e1ec3778880d4c468d1f201b6f40c3a9",
            "675c45fa07d04ed6a2efc3d7958760b5",
            "f27009fe3bb5466bac0ddfcef39a9d72",
            "0073c7e1f02348ddb0884984751be6f5",
            "fee233059b184821b700bee282fed6d6",
            "3cc5737bc3134307a340ff351054e1da",
            "b466335666ec460f8f9a0cd81be1a7ca",
            "8f87878452444649802d0daf9bf2b190",
            "39068e30b3f142f5b1899c13dc1e9612"
          ]
        },
        "id": "8AGQxROrSStf",
        "outputId": "4f5ef57d-af7f-4d1e-df11-1917df770351"
      },
      "outputs": [
        {
          "output_type": "stream",
          "name": "stderr",
          "text": [
            "/usr/local/lib/python3.11/dist-packages/huggingface_hub/utils/_auth.py:94: UserWarning: \n",
            "The secret `HF_TOKEN` does not exist in your Colab secrets.\n",
            "To authenticate with the Hugging Face Hub, create a token in your settings tab (https://huggingface.co/settings/tokens), set it as secret in your Google Colab and restart your session.\n",
            "You will be able to reuse this secret in all of your notebooks.\n",
            "Please note that authentication is recommended but still optional to access public models or datasets.\n",
            "  warnings.warn(\n"
          ]
        },
        {
          "output_type": "display_data",
          "data": {
            "text/plain": [
              "README.md: 0.00B [00:00, ?B/s]"
            ],
            "application/vnd.jupyter.widget-view+json": {
              "version_major": 2,
              "version_minor": 0,
              "model_id": "cf7c3d8f4cb44e43bf23c08edbdb4ff4"
            }
          },
          "metadata": {}
        },
        {
          "output_type": "display_data",
          "data": {
            "text/plain": [
              "train-00000-of-00001.parquet:   0%|          | 0.00/21.0M [00:00<?, ?B/s]"
            ],
            "application/vnd.jupyter.widget-view+json": {
              "version_major": 2,
              "version_minor": 0,
              "model_id": "2b14a0c40f0644b39a774e071a5d054e"
            }
          },
          "metadata": {}
        },
        {
          "output_type": "display_data",
          "data": {
            "text/plain": [
              "test-00000-of-00001.parquet:   0%|          | 0.00/20.5M [00:00<?, ?B/s]"
            ],
            "application/vnd.jupyter.widget-view+json": {
              "version_major": 2,
              "version_minor": 0,
              "model_id": "c6a58eb237bf498880109022158b8e28"
            }
          },
          "metadata": {}
        },
        {
          "output_type": "display_data",
          "data": {
            "text/plain": [
              "unsupervised-00000-of-00001.parquet:   0%|          | 0.00/42.0M [00:00<?, ?B/s]"
            ],
            "application/vnd.jupyter.widget-view+json": {
              "version_major": 2,
              "version_minor": 0,
              "model_id": "e3e4a60cd6f8446e9a78e5391309b373"
            }
          },
          "metadata": {}
        },
        {
          "output_type": "display_data",
          "data": {
            "text/plain": [
              "Generating train split:   0%|          | 0/25000 [00:00<?, ? examples/s]"
            ],
            "application/vnd.jupyter.widget-view+json": {
              "version_major": 2,
              "version_minor": 0,
              "model_id": "01ae92a149b546e18fa540ff1a3be69e"
            }
          },
          "metadata": {}
        },
        {
          "output_type": "display_data",
          "data": {
            "text/plain": [
              "Generating test split:   0%|          | 0/25000 [00:00<?, ? examples/s]"
            ],
            "application/vnd.jupyter.widget-view+json": {
              "version_major": 2,
              "version_minor": 0,
              "model_id": "0854539c3df94aa79d3c3f854de831f9"
            }
          },
          "metadata": {}
        },
        {
          "output_type": "display_data",
          "data": {
            "text/plain": [
              "Generating unsupervised split:   0%|          | 0/50000 [00:00<?, ? examples/s]"
            ],
            "application/vnd.jupyter.widget-view+json": {
              "version_major": 2,
              "version_minor": 0,
              "model_id": "f09d017f50a8414399da02c0224233cc"
            }
          },
          "metadata": {}
        }
      ],
      "source": [
        "# All Import Statements Defined Here\n",
        "# Note: Do not add to this list.\n",
        "# ----------------\n",
        "\n",
        "import sys\n",
        "assert sys.version_info[0] == 3\n",
        "assert sys.version_info[1] >= 8\n",
        "\n",
        "from platform import python_version\n",
        "assert int(python_version().split(\".\")[1]) >= 5, \"Please upgrade your Python version following the instructions in \\\n",
        "    the README.md file found in the same directory as this notebook. Your Python version is \" + python_version()\n",
        "\n",
        "from gensim.models import KeyedVectors\n",
        "from gensim.test.utils import datapath\n",
        "import pprint\n",
        "import matplotlib.pyplot as plt\n",
        "plt.rcParams['figure.figsize'] = [10, 5]\n",
        "\n",
        "from datasets import load_dataset\n",
        "imdb_dataset = load_dataset(\"stanfordnlp/imdb\")\n",
        "\n",
        "import re\n",
        "import numpy as np\n",
        "import random\n",
        "import scipy as sp\n",
        "from sklearn.decomposition import TruncatedSVD\n",
        "from sklearn.decomposition import PCA\n",
        "\n",
        "START_TOKEN = '<START>'\n",
        "END_TOKEN = '<END>'\n",
        "NUM_SAMPLES = 150\n",
        "\n",
        "np.random.seed(0)\n",
        "random.seed(0)\n",
        "# ----------------"
      ]
    },
    {
      "cell_type": "markdown",
      "metadata": {
        "id": "SICd5IedSSto"
      },
      "source": [
        "## Word Vectors\n",
        "\n",
        "Word Vectors are often used as a fundamental component for downstream NLP tasks, e.g. question answering, text generation, translation, etc., so it is important to build some intuitions as to their strengths and weaknesses. Here, you will explore two types of word vectors: those derived from *co-occurrence matrices*, and those derived via *GloVe*.\n",
        "\n",
        "**Note on Terminology:** The terms \"word vectors\" and \"word embeddings\" are often used interchangeably. The term \"embedding\" refers to the fact that we are encoding aspects of a word's meaning in a lower dimensional space. As [Wikipedia](https://en.wikipedia.org/wiki/Word_embedding) states, \"*conceptually it involves a mathematical embedding from a space with one dimension per word to a continuous vector space with a much lower dimension*\"."
      ]
    },
    {
      "cell_type": "markdown",
      "metadata": {
        "id": "6Eug6AVrSStr"
      },
      "source": [
        "## Part 1: Count-Based Word Vectors (10 points)\n",
        "\n",
        "Most word vector models start from the following idea:\n",
        "\n",
        "*You shall know a word by the company it keeps ([Firth, J. R. 1957:11](https://en.wikipedia.org/wiki/John_Rupert_Firth))*\n",
        "\n",
        "Many word vector implementations are driven by the idea that similar words, i.e., (near) synonyms, will be used in similar contexts. As a result, similar words will often be spoken or written along with a shared subset of words, i.e., contexts. By examining these contexts, we can try to develop embeddings for our words. With this intuition in mind, many \"old school\" approaches to constructing word vectors relied on word counts. Here we elaborate upon one of those strategies, *co-occurrence matrices* (for more information, see [here](https://web.stanford.edu/~jurafsky/slp3/6.pdf) or [here](https://web.archive.org/web/20190530091127/https://medium.com/data-science-group-iitr/word-embedding-2d05d270b285))."
      ]
    },
    {
      "cell_type": "markdown",
      "metadata": {
        "id": "L6uQ9-DVSSts"
      },
      "source": [
        "### Co-Occurrence\n",
        "\n",
        "A co-occurrence matrix counts how often things co-occur in some environment. Given some word $w_i$ occurring in the document, we consider the *context window* surrounding $w_i$. Supposing our fixed window size is $n$, then this is the $n$ preceding and $n$ subsequent words in that document, i.e. words $w_{i-n} \\dots w_{i-1}$ and $w_{i+1} \\dots w_{i+n}$. We build a *co-occurrence matrix* $M$, which is a symmetric word-by-word matrix in which $M_{ij}$ is the number of times $w_j$ appears inside $w_i$'s window among all documents.\n",
        "\n",
        "**Example: Co-Occurrence with Fixed Window of n=1**:\n",
        "\n",
        "Document 1: \"all that glitters is not gold\"\n",
        "\n",
        "Document 2: \"all is well that ends well\"\n",
        "\n",
        "\n",
        "|     *    | `<START>` | all | that | glitters | is   | not  | gold  | well | ends | `<END>` |\n",
        "|----------|-------|-----|------|----------|------|------|-------|------|------|-----|\n",
        "| `<START>`    | 0     | 2   | 0    | 0        | 0    | 0    | 0     | 0    | 0    | 0   |\n",
        "| all      | 2     | 0   | 1    | 0        | 1    | 0    | 0     | 0    | 0    | 0   |\n",
        "| that     | 0     | 1   | 0    | 1        | 0    | 0    | 0     | 1    | 1    | 0   |\n",
        "| glitters | 0     | 0   | 1    | 0        | 1    | 0    | 0     | 0    | 0    | 0   |\n",
        "| is       | 0     | 1   | 0    | 1        | 0    | 1    | 0     | 1    | 0    | 0   |\n",
        "| not      | 0     | 0   | 0    | 0        | 1    | 0    | 1     | 0    | 0    | 0   |\n",
        "| gold     | 0     | 0   | 0    | 0        | 0    | 1    | 0     | 0    | 0    | 1   |\n",
        "| well     | 0     | 0   | 1    | 0        | 1    | 0    | 0     | 0    | 1    | 1   |\n",
        "| ends     | 0     | 0   | 1    | 0        | 0    | 0    | 0     | 1    | 0    | 0   |\n",
        "| `<END>`      | 0     | 0   | 0    | 0        | 0    | 0    | 1     | 1    | 0    | 0   |\n",
        "\n",
        "In NLP, we commonly use `<START>` and `<END>` tokens to mark the beginning and end of sentences, paragraphs, or documents. These tokens are included in co-occurrence counts, encapsulating each document, for example: \"`<START>` All that glitters is not gold `<END>`\".\n",
        "\n",
        "The matrix rows (or columns) provide word vectors based on word-word co-occurrence, but they can be large. To reduce dimensionality, we employ Singular Value Decomposition (SVD), akin to PCA, selecting the top $k$ principal components. The SVD process decomposes the co-occurrence matrix $A$ into singular values in the diagonal $S$ matrix and new, shorter word vectors in $U_k$.\n",
        "\n",
        "This dimensionality reduction maintains semantic relationships; for instance, *doctor* and *hospital* will be closer than *doctor* and *dog*.\n",
        "\n",
        "For those unfamiliar with eigenvalues and SVD, a beginner-friendly introduction to SVD is available [here](https://davetang.org/file/Singular_Value_Decomposition_Tutorial.pdf). Additional resources for in-depth understanding include lectures [7](https://web.stanford.edu/class/cs168/l/l7.pdf), [8](http://theory.stanford.edu/~tim/s15/l/l8.pdf), and [9](https://web.stanford.edu/class/cs168/l/l9.pdf) of CS168, providing high-level treatment of these algorithms. For practical implementation, utilizing pre-programmed functions from Python packages like numpy, scipy, or sklearn is recommended. While applying full SVD to large corpora can be memory-intensive, scalable techniques such as Truncated SVD exist for extracting the top $k$ vector components efficiently."
      ]
    },
    {
      "cell_type": "markdown",
      "metadata": {
        "id": "7IKeK4xtSStv"
      },
      "source": [
        "### Plotting Co-Occurrence Word Embeddings\n",
        "\n",
        "Here, we will be using the Large Movie Review Dataset. This is a dataset for binary sentiment classification containing substantially more data than previous benchmark datasets. We provide a set of 25,000 highly polar movie reviews for training, and 25,000 for testing. There is additional unlabeled data for use as well. We provide a `read_corpus` function below that pulls out the text of a movie review from the dataset. The function also adds `<START>` and `<END>` tokens to each of the documents, and lowercases words. You do **not** have to perform any other kind of pre-processing."
      ]
    },
    {
      "cell_type": "code",
      "execution_count": 3,
      "metadata": {
        "ExecuteTime": {
          "end_time": "2024-03-27T08:06:28.097673Z",
          "start_time": "2024-03-27T08:06:28.094138Z"
        },
        "id": "xwD2htUoSStw"
      },
      "outputs": [],
      "source": [
        "def read_corpus():\n",
        "    \"\"\" Read files from the Large Movie Review Dataset.\n",
        "        Params:\n",
        "            category (string): category name\n",
        "        Return:\n",
        "            list of lists, with words from each of the processed files\n",
        "    \"\"\"\n",
        "    files = imdb_dataset[\"train\"][\"text\"][:NUM_SAMPLES]\n",
        "    return [[START_TOKEN] + [re.sub(r'[^\\w]', '', w.lower()) for w in f.split(\" \")] + [END_TOKEN] for f in files]\n"
      ]
    },
    {
      "cell_type": "markdown",
      "metadata": {
        "id": "hVLquFhjSStx"
      },
      "source": [
        "Let's have a look what these documents are like…."
      ]
    },
    {
      "cell_type": "code",
      "execution_count": 4,
      "metadata": {
        "ExecuteTime": {
          "end_time": "2024-03-27T08:06:29.881790Z",
          "start_time": "2024-03-27T08:06:29.404708Z"
        },
        "colab": {
          "base_uri": "https://localhost:8080/"
        },
        "id": "mC7B9Cb-SSty",
        "outputId": "0c3e3756-646f-4fe4-c571-894763910981"
      },
      "outputs": [
        {
          "output_type": "stream",
          "name": "stdout",
          "text": [
            "[['<START>', 'i', 'rented', 'i', 'am', 'curiousyellow', 'from', 'my', 'video', 'store', 'because',\n",
            "  'of', 'all', 'the', 'controversy', 'that', 'surrounded', 'it', 'when', 'it', 'was', 'first',\n",
            "  'released', 'in', '1967', 'i', 'also', 'heard', 'that', 'at', 'first', 'it', 'was', 'seized',\n",
            "  'by', 'us', 'customs', 'if', 'it', 'ever', 'tried', 'to', 'enter', 'this', 'country', 'therefore',\n",
            "  'being', 'a', 'fan', 'of', 'films', 'considered', 'controversial', 'i', 'really', 'had', 'to',\n",
            "  'see', 'this', 'for', 'myselfbr', 'br', 'the', 'plot', 'is', 'centered', 'around', 'a', 'young',\n",
            "  'swedish', 'drama', 'student', 'named', 'lena', 'who', 'wants', 'to', 'learn', 'everything',\n",
            "  'she', 'can', 'about', 'life', 'in', 'particular', 'she', 'wants', 'to', 'focus', 'her',\n",
            "  'attentions', 'to', 'making', 'some', 'sort', 'of', 'documentary', 'on', 'what', 'the', 'average',\n",
            "  'swede', 'thought', 'about', 'certain', 'political', 'issues', 'such', 'as', 'the', 'vietnam',\n",
            "  'war', 'and', 'race', 'issues', 'in', 'the', 'united', 'states', 'in', 'between', 'asking',\n",
            "  'politicians', 'and', 'ordinary', 'denizens', 'of', 'stockholm', 'about', 'their', 'opinions',\n",
            "  'on', 'politics', 'she', 'has', 'sex', 'with', 'her', 'drama', 'teacher', 'classmates', 'and',\n",
            "  'married', 'menbr', 'br', 'what', 'kills', 'me', 'about', 'i', 'am', 'curiousyellow', 'is',\n",
            "  'that', '40', 'years', 'ago', 'this', 'was', 'considered', 'pornographic', 'really', 'the', 'sex',\n",
            "  'and', 'nudity', 'scenes', 'are', 'few', 'and', 'far', 'between', 'even', 'then', 'its', 'not',\n",
            "  'shot', 'like', 'some', 'cheaply', 'made', 'porno', 'while', 'my', 'countrymen', 'mind', 'find',\n",
            "  'it', 'shocking', 'in', 'reality', 'sex', 'and', 'nudity', 'are', 'a', 'major', 'staple', 'in',\n",
            "  'swedish', 'cinema', 'even', 'ingmar', 'bergman', 'arguably', 'their', 'answer', 'to', 'good',\n",
            "  'old', 'boy', 'john', 'ford', 'had', 'sex', 'scenes', 'in', 'his', 'filmsbr', 'br', 'i', 'do',\n",
            "  'commend', 'the', 'filmmakers', 'for', 'the', 'fact', 'that', 'any', 'sex', 'shown', 'in', 'the',\n",
            "  'film', 'is', 'shown', 'for', 'artistic', 'purposes', 'rather', 'than', 'just', 'to', 'shock',\n",
            "  'people', 'and', 'make', 'money', 'to', 'be', 'shown', 'in', 'pornographic', 'theaters', 'in',\n",
            "  'america', 'i', 'am', 'curiousyellow', 'is', 'a', 'good', 'film', 'for', 'anyone', 'wanting',\n",
            "  'to', 'study', 'the', 'meat', 'and', 'potatoes', 'no', 'pun', 'intended', 'of', 'swedish',\n",
            "  'cinema', 'but', 'really', 'this', 'film', 'doesnt', 'have', 'much', 'of', 'a', 'plot', '<END>'],\n",
            " ['<START>', 'i', 'am', 'curious', 'yellow', 'is', 'a', 'risible', 'and', 'pretentious', 'steaming',\n",
            "  'pile', 'it', 'doesnt', 'matter', 'what', 'ones', 'political', 'views', 'are', 'because', 'this',\n",
            "  'film', 'can', 'hardly', 'be', 'taken', 'seriously', 'on', 'any', 'level', 'as', 'for', 'the',\n",
            "  'claim', 'that', 'frontal', 'male', 'nudity', 'is', 'an', 'automatic', 'nc17', 'that', 'isnt',\n",
            "  'true', 'ive', 'seen', 'rrated', 'films', 'with', 'male', 'nudity', 'granted', 'they', 'only',\n",
            "  'offer', 'some', 'fleeting', 'views', 'but', 'where', 'are', 'the', 'rrated', 'films', 'with',\n",
            "  'gaping', 'vulvas', 'and', 'flapping', 'labia', 'nowhere', 'because', 'they', 'dont', 'exist',\n",
            "  'the', 'same', 'goes', 'for', 'those', 'crappy', 'cable', 'shows', 'schlongs', 'swinging', 'in',\n",
            "  'the', 'breeze', 'but', 'not', 'a', 'clitoris', 'in', 'sight', 'and', 'those', 'pretentious',\n",
            "  'indie', 'movies', 'like', 'the', 'brown', 'bunny', 'in', 'which', 'were', 'treated', 'to', 'the',\n",
            "  'site', 'of', 'vincent', 'gallos', 'throbbing', 'johnson', 'but', 'not', 'a', 'trace', 'of',\n",
            "  'pink', 'visible', 'on', 'chloe', 'sevigny', 'before', 'crying', 'or', 'implying',\n",
            "  'doublestandard', 'in', 'matters', 'of', 'nudity', 'the', 'mentally', 'obtuse', 'should', 'take',\n",
            "  'into', 'account', 'one', 'unavoidably', 'obvious', 'anatomical', 'difference', 'between', 'men',\n",
            "  'and', 'women', 'there', 'are', 'no', 'genitals', 'on', 'display', 'when', 'actresses', 'appears',\n",
            "  'nude', 'and', 'the', 'same', 'cannot', 'be', 'said', 'for', 'a', 'man', 'in', 'fact', 'you',\n",
            "  'generally', 'wont', 'see', 'female', 'genitals', 'in', 'an', 'american', 'film', 'in',\n",
            "  'anything', 'short', 'of', 'porn', 'or', 'explicit', 'erotica', 'this', 'alleged',\n",
            "  'doublestandard', 'is', 'less', 'a', 'double', 'standard', 'than', 'an', 'admittedly',\n",
            "  'depressing', 'ability', 'to', 'come', 'to', 'terms', 'culturally', 'with', 'the', 'insides',\n",
            "  'of', 'womens', 'bodies', '<END>'],\n",
            " ['<START>', 'if', 'only', 'to', 'avoid', 'making', 'this', 'type', 'of', 'film', 'in', 'the',\n",
            "  'future', 'this', 'film', 'is', 'interesting', 'as', 'an', 'experiment', 'but', 'tells', 'no',\n",
            "  'cogent', 'storybr', 'br', 'one', 'might', 'feel', 'virtuous', 'for', 'sitting', 'thru', 'it',\n",
            "  'because', 'it', 'touches', 'on', 'so', 'many', 'important', 'issues', 'but', 'it', 'does', 'so',\n",
            "  'without', 'any', 'discernable', 'motive', 'the', 'viewer', 'comes', 'away', 'with', 'no', 'new',\n",
            "  'perspectives', 'unless', 'one', 'comes', 'up', 'with', 'one', 'while', 'ones', 'mind', 'wanders',\n",
            "  'as', 'it', 'will', 'invariably', 'do', 'during', 'this', 'pointless', 'filmbr', 'br', 'one',\n",
            "  'might', 'better', 'spend', 'ones', 'time', 'staring', 'out', 'a', 'window', 'at', 'a', 'tree',\n",
            "  'growingbr', 'br', '', '<END>']]\n",
            "corpus size:  290\n"
          ]
        }
      ],
      "source": [
        "imdb_corpus = read_corpus()\n",
        "pprint.pprint(imdb_corpus[:3], compact=True, width=100)\n",
        "print(\"corpus size: \", len(imdb_corpus[0]))"
      ]
    },
    {
      "cell_type": "markdown",
      "metadata": {
        "id": "tfa216H1SSt0"
      },
      "source": [
        "### Question 1.1: Implement `distinct_words` [code] (2 points)\n",
        "\n",
        "Write a method to work out the distinct words (word types) that occur in the corpus.\n",
        "\n",
        "You can use `for` loops to process the input `corpus` (a list of list of strings), but try using Python list comprehensions (which are generally faster). In particular, [this](https://coderwall.com/p/rcmaea/flatten-a-list-of-lists-in-one-line-in-python) may be useful to flatten a list of lists. If you're not familiar with Python list comprehensions in general, here's [more information](https://python-3-patterns-idioms-test.readthedocs.io/en/latest/Comprehensions.html).\n",
        "\n",
        "Your returned `corpus_words` should be sorted. You can use python's `sorted` function for this.\n",
        "\n",
        "You may find it useful to use [Python sets](https://www.w3schools.com/python/python_sets.asp) to remove duplicate words."
      ]
    },
    {
      "cell_type": "code",
      "execution_count": 5,
      "metadata": {
        "id": "NjJABbVFSSt1"
      },
      "outputs": [],
      "source": [
        "def distinct_words(corpus):\n",
        "    \"\"\" Determine a list of distinct words for the corpus.\n",
        "        Params:\n",
        "            corpus (list of list of strings): corpus of documents\n",
        "        Return:\n",
        "            corpus_words (list of strings): sorted list of distinct words across the corpus\n",
        "            n_corpus_words (integer): number of distinct words across the corpus\n",
        "    \"\"\"\n",
        "    corpus_words = []\n",
        "    n_corpus_words = -1\n",
        "\n",
        "    # ------------------\n",
        "    # Write your implementation here.\n",
        "    corpus_words=sorted(list(set(item for current_list in corpus for item in current_list)))\n",
        "    n_corpus_words=len(corpus_words)\n",
        "\n",
        "\n",
        "    # ------------------\n",
        "\n",
        "    return corpus_words, n_corpus_words"
      ]
    },
    {
      "cell_type": "code",
      "execution_count": 6,
      "metadata": {
        "colab": {
          "base_uri": "https://localhost:8080/"
        },
        "id": "iKfXBXySSSt3",
        "outputId": "04dba0fb-eb03-4455-da1b-b9511fb37906"
      },
      "outputs": [
        {
          "output_type": "stream",
          "name": "stdout",
          "text": [
            "--------------------------------------------------------------------------------\n",
            "Passed All Tests!\n",
            "--------------------------------------------------------------------------------\n"
          ]
        }
      ],
      "source": [
        "# ---------------------\n",
        "# Run this sanity check\n",
        "# Note that this not an exhaustive check for correctness.\n",
        "# ---------------------\n",
        "\n",
        "# Define toy corpus\n",
        "test_corpus = [\"{} All that glitters isn't gold {}\".format(START_TOKEN, END_TOKEN).split(\" \"), \"{} All's well that ends well {}\".format(START_TOKEN, END_TOKEN).split(\" \")]\n",
        "test_corpus_words, num_corpus_words = distinct_words(test_corpus)\n",
        "\n",
        "# Correct answers\n",
        "ans_test_corpus_words = sorted([START_TOKEN, \"All\", \"ends\", \"that\", \"gold\", \"All's\", \"glitters\", \"isn't\", \"well\", END_TOKEN])\n",
        "ans_num_corpus_words = len(ans_test_corpus_words)\n",
        "\n",
        "# Test correct number of words\n",
        "assert(num_corpus_words == ans_num_corpus_words), \"Incorrect number of distinct words. Correct: {}. Yours: {}\".format(ans_num_corpus_words, num_corpus_words)\n",
        "\n",
        "# Test correct words\n",
        "assert (test_corpus_words == ans_test_corpus_words), \"Incorrect corpus_words.\\nCorrect: {}\\nYours:   {}\".format(str(ans_test_corpus_words), str(test_corpus_words))\n",
        "\n",
        "# Print Success\n",
        "print (\"-\" * 80)\n",
        "print(\"Passed All Tests!\")\n",
        "print (\"-\" * 80)"
      ]
    },
    {
      "cell_type": "markdown",
      "metadata": {
        "id": "ymDFJn_lSSt5"
      },
      "source": [
        "### Question 1.2: Implement `compute_co_occurrence_matrix` [code] (3 points)\n",
        "\n",
        "Write a method that constructs a co-occurrence matrix for a certain window-size $n$ (with a default of 4), considering words $n$ before and $n$ after the word in the center of the window. Here, we start to use `numpy (np)` to represent vectors, matrices, and tensors. If you're not familiar with NumPy, there's a NumPy tutorial in the second half of this cs231n [Python NumPy tutorial](http://cs231n.github.io/python-numpy-tutorial/).\n"
      ]
    },
    {
      "cell_type": "code",
      "execution_count": 7,
      "metadata": {
        "id": "v8MIy3KDSSt6"
      },
      "outputs": [],
      "source": [
        "def compute_co_occurrence_matrix(corpus, window_size=4):\n",
        "    \"\"\" Compute co-occurrence matrix for the given corpus and window_size (default of 4).\n",
        "\n",
        "        Note: Each word in a document should be at the center of a window. Words near edges will have a smaller\n",
        "              number of co-occurring words.\n",
        "\n",
        "              For example, if we take the document \"<START> All that glitters is not gold <END>\" with window size of 4,\n",
        "              \"All\" will co-occur with \"<START>\", \"that\", \"glitters\", \"is\", and \"not\".\n",
        "\n",
        "        Params:\n",
        "            corpus (list of list of strings): corpus of documents\n",
        "            window_size (int): size of context window\n",
        "        Return:\n",
        "            M (a symmetric numpy matrix of shape (number of unique words in the corpus , number of unique words in the corpus)):\n",
        "                Co-occurence matrix of word counts.\n",
        "                The ordering of the words in the rows/columns should be the same as the ordering of the words given by the distinct_words function.\n",
        "            word2ind (dict): dictionary that maps word to index (i.e. row/column number) for matrix M.\n",
        "    \"\"\"\n",
        "    words, n_words = distinct_words(corpus)\n",
        "    M = None\n",
        "    word2ind = {}\n",
        "\n",
        "    # ------------------\n",
        "    # Write your implementation here.\n",
        "    M = np.zeros((n_words,n_words))\n",
        "    word2ind={ch:i for i,ch in enumerate(words)}\n",
        "\n",
        "#     print(word2ind)\n",
        "    print(f\"corpus: {corpus}\")\n",
        "\n",
        "    for sublist in corpus: #\n",
        "        for c in range(len(sublist)): # center character of each sublist\n",
        "\n",
        "            for o in range(window_size): # o-> context for C in the current sublist\n",
        "                indx_left=c-o-1 # left index word (w_(i-m))\n",
        "                indx_right=c+o+1 # right index word (w_(i+m))\n",
        "                if indx_left>=0:\n",
        "                    M[word2ind[sublist[c]]][word2ind[sublist[indx_left]]] += 1\n",
        "                if indx_right<len(sublist):\n",
        "                    M[word2ind[sublist[c]]][word2ind[sublist[indx_right]]] += 1\n",
        "\n",
        "\n",
        "\n",
        "    # ------------------\n",
        "\n",
        "    return M, word2ind"
      ]
    },
    {
      "cell_type": "code",
      "execution_count": 8,
      "metadata": {
        "colab": {
          "base_uri": "https://localhost:8080/"
        },
        "id": "u-6ID1qhSSt7",
        "outputId": "e3c884ae-d11e-4edc-ec74-3f7b84240ac4"
      },
      "outputs": [
        {
          "output_type": "stream",
          "name": "stdout",
          "text": [
            "corpus: [['<START>', 'All', 'that', 'glitters', \"isn't\", 'gold', '<END>'], ['<START>', \"All's\", 'well', 'that', 'ends', 'well', '<END>']]\n",
            "hi {'<END>': 0, '<START>': 1, 'All': 2, \"All's\": 3, 'ends': 4, 'glitters': 5, 'gold': 6, \"isn't\": 7, 'that': 8, 'well': 9}\n",
            "--------------------------------------------------------------------------------\n",
            "Passed All Tests!\n",
            "--------------------------------------------------------------------------------\n"
          ]
        }
      ],
      "source": [
        "# --------------------- b\n",
        "# Run this sanity check\n",
        "# Note that this is not an exhaustive check for correctness.\n",
        "# ---------------------\n",
        "\n",
        "# Define toy corpus and get student's co-occurrence matrix\n",
        "test_corpus = [\"{} All that glitters isn't gold {}\".format(START_TOKEN, END_TOKEN).split(\" \"), \"{} All's well that ends well {}\".format(START_TOKEN, END_TOKEN).split(\" \")]\n",
        "M_test, word2ind_test = compute_co_occurrence_matrix(test_corpus, window_size=1)\n",
        "print(f\"hi {word2ind_test}\")\n",
        "# Correct M and word2ind\n",
        "M_test_ans = np.array(\n",
        "    [[0., 0., 0., 0., 0., 0., 1., 0., 0., 1.,],\n",
        "     [0., 0., 1., 1., 0., 0., 0., 0., 0., 0.,],\n",
        "     [0., 1., 0., 0., 0., 0., 0., 0., 1., 0.,],\n",
        "     [0., 1., 0., 0., 0., 0., 0., 0., 0., 1.,],\n",
        "     [0., 0., 0., 0., 0., 0., 0., 0., 1., 1.,],\n",
        "     [0., 0., 0., 0., 0., 0., 0., 1., 1., 0.,],\n",
        "     [1., 0., 0., 0., 0., 0., 0., 1., 0., 0.,],\n",
        "     [0., 0., 0., 0., 0., 1., 1., 0., 0., 0.,],\n",
        "     [0., 0., 1., 0., 1., 1., 0., 0., 0., 1.,],\n",
        "     [1., 0., 0., 1., 1., 0., 0., 0., 1., 0.,]]\n",
        ")\n",
        "ans_test_corpus_words = sorted([START_TOKEN, \"All\", \"ends\", \"that\", \"gold\", \"All's\", \"glitters\", \"isn't\", \"well\", END_TOKEN])\n",
        "word2ind_ans = dict(zip(ans_test_corpus_words, range(len(ans_test_corpus_words))))\n",
        "\n",
        "# Test correct word2ind\n",
        "assert (word2ind_ans == word2ind_test), \"Your word2ind is incorrect:\\nCorrect: {}\\nYours: {}\".format(word2ind_ans, word2ind_test)\n",
        "\n",
        "# Test correct M shape\n",
        "assert (M_test.shape == M_test_ans.shape), \"M matrix has incorrect shape.\\nCorrect: {}\\nYours: {}\".format(M_test.shape, M_test_ans.shape)\n",
        "\n",
        "# Test correct M values\n",
        "for w1 in word2ind_ans.keys():\n",
        "    idx1 = word2ind_ans[w1]\n",
        "    for w2 in word2ind_ans.keys():\n",
        "        idx2 = word2ind_ans[w2]\n",
        "        student = M_test[idx1, idx2]\n",
        "        correct = M_test_ans[idx1, idx2]\n",
        "        if student != correct:\n",
        "            print(\"Correct M:\")\n",
        "            print(M_test_ans)\n",
        "            print(\"Your M: \")\n",
        "            print(M_test)\n",
        "            raise AssertionError(\"Incorrect count at index ({}, {})=({}, {}) in matrix M. Yours has {} but should have {}.\".format(idx1, idx2, w1, w2, student, correct))\n",
        "\n",
        "# Print Success\n",
        "print (\"-\" * 80)\n",
        "print(\"Passed All Tests!\")\n",
        "print (\"-\" * 80)"
      ]
    },
    {
      "cell_type": "markdown",
      "metadata": {
        "id": "K-nyJnAASSt9"
      },
      "source": [
        "### Question 1.3: Implement `reduce_to_k_dim` [code] (1 point)\n",
        "\n",
        "Construct a method that performs dimensionality reduction on the matrix to produce k-dimensional embeddings. Use SVD to take the top k components and produce a new matrix of k-dimensional embeddings.\n",
        "\n",
        "**Note:** All of numpy, scipy, and scikit-learn (`sklearn`) provide *some* implementation of SVD, but only scipy and sklearn provide an implementation of Truncated SVD, and only sklearn provides an efficient randomized algorithm for calculating large-scale Truncated SVD. So please use [sklearn.decomposition.TruncatedSVD](https://scikit-learn.org/stable/modules/generated/sklearn.decomposition.TruncatedSVD.html)."
      ]
    },
    {
      "cell_type": "code",
      "execution_count": 9,
      "metadata": {
        "id": "truGMjifSSt9"
      },
      "outputs": [],
      "source": [
        "from sklearn.decomposition import TruncatedSVD\n",
        "\n",
        "def reduce_to_k_dim(M, k=2):\n",
        "    \"\"\" Reduce a co-occurence count matrix of dimensionality (num_corpus_words, num_corpus_words)\n",
        "        to a matrix of dimensionality (num_corpus_words, k) using the following SVD function from Scikit-Learn:\n",
        "            - http://scikit-learn.org/stable/modules/generated/sklearn.decomposition.TruncatedSVD.html\n",
        "\n",
        "        Params:\n",
        "            M (numpy matrix of shape (number of unique words in the corpus , number of unique words in the corpus)): co-occurence matrix of word counts\n",
        "            k (int): embedding size of each word after dimension reduction\n",
        "        Return:\n",
        "            M_reduced (numpy matrix of shape (number of corpus words, k)): matrix of k-dimensioal word embeddings.\n",
        "                    In terms of the SVD from math class, this actually returns U * S\n",
        "    \"\"\"\n",
        "    n_iters = 10    # Use this parameter in your call to `TruncatedSVD`\n",
        "    M_reduced = None\n",
        "    print(\"Running Truncated SVD over %i words...\" % (M.shape[0]))\n",
        "\n",
        "    # ------------------\n",
        "    # Write your implementation here.\n",
        "    svd=TruncatedSVD(n_components=k,n_iter=n_iters,random_state=42)\n",
        "    M_reduced=svd.fit_transform(M, y=None)\n",
        "\n",
        "\n",
        "    # ------------------\n",
        "\n",
        "    print(\"Done.\")\n",
        "    return M_reduced"
      ]
    },
    {
      "cell_type": "code",
      "execution_count": 10,
      "metadata": {
        "colab": {
          "base_uri": "https://localhost:8080/"
        },
        "id": "7pqKuqvhSSt-",
        "outputId": "5af18a50-eae2-4a09-bebe-0a19d0f459cc"
      },
      "outputs": [
        {
          "output_type": "stream",
          "name": "stdout",
          "text": [
            "corpus: [['<START>', 'All', 'that', 'glitters', \"isn't\", 'gold', '<END>'], ['<START>', \"All's\", 'well', 'that', 'ends', 'well', '<END>']]\n",
            "Running Truncated SVD over 10 words...\n",
            "Done.\n",
            "--------------------------------------------------------------------------------\n",
            "Passed All Tests!\n",
            "--------------------------------------------------------------------------------\n"
          ]
        }
      ],
      "source": [
        "# ---------------------\n",
        "# Run this sanity check\n",
        "# Note that this is not an exhaustive check for correctness\n",
        "# In fact we only check that your M_reduced has the right dimensions.\n",
        "# ---------------------\n",
        "\n",
        "# Define toy corpus and run student code\n",
        "test_corpus = [\"{} All that glitters isn't gold {}\".format(START_TOKEN, END_TOKEN).split(\" \"), \"{} All's well that ends well {}\".format(START_TOKEN, END_TOKEN).split(\" \")]\n",
        "M_test, word2ind_test = compute_co_occurrence_matrix(test_corpus, window_size=1)\n",
        "M_test_reduced = reduce_to_k_dim(M_test, k=2)\n",
        "\n",
        "# Test proper dimensions\n",
        "assert (M_test_reduced.shape[0] == 10), \"M_reduced has {} rows; should have {}\".format(M_test_reduced.shape[0], 10)\n",
        "assert (M_test_reduced.shape[1] == 2), \"M_reduced has {} columns; should have {}\".format(M_test_reduced.shape[1], 2)\n",
        "\n",
        "# Print Success\n",
        "print (\"-\" * 80)\n",
        "print(\"Passed All Tests!\")\n",
        "print (\"-\" * 80)"
      ]
    },
    {
      "cell_type": "markdown",
      "metadata": {
        "id": "apZknsLoSSt_"
      },
      "source": [
        "### Question 1.4: Implement `plot_embeddings` [code] (1 point)\n",
        "\n",
        "Here you will write a function to plot a set of 2D vectors in 2D space. For graphs, we will use Matplotlib (`plt`).\n",
        "\n",
        "For this example, you may find it useful to adapt [this code](http://web.archive.org/web/20190924160434/https://www.pythonmembers.club/2018/05/08/matplotlib-scatter-plot-annotate-set-text-at-label-each-point/). In the future, a good way to make a plot is to look at [the Matplotlib gallery](https://matplotlib.org/gallery/index.html), find a plot that looks somewhat like what you want, and adapt the code they give."
      ]
    },
    {
      "cell_type": "code",
      "execution_count": 11,
      "metadata": {
        "id": "dDcCZE5lSSuA"
      },
      "outputs": [],
      "source": [
        "def plot_embeddings(M_reduced, word2ind, words):\n",
        "    \"\"\" Plot in a scatterplot the embeddings of the words specified in the list \"words\".\n",
        "        NOTE: do not plot all the words listed in M_reduced / word2ind.\n",
        "        Include a label next to each point.\n",
        "\n",
        "        Params:\n",
        "            M_reduced (numpy matrix of shape (number of unique words in the corpus , 2)): matrix of 2-dimensioal word embeddings\n",
        "            word2ind (dict): dictionary that maps word to indices for matrix M\n",
        "            words (list of strings): words whose embeddings we want to visualize\n",
        "    \"\"\"\n",
        "\n",
        "    # ------------------\n",
        "    # Write your implementation here.\n",
        "    print(f\"shape M_reduced: {M_reduced.shape}\")\n",
        "    for word in words:\n",
        "        row_index=word2ind[word]\n",
        "\n",
        "        print(f\"word: {word}, row_index: {row_index}\")\n",
        "        x=M_reduced[row_index][0]\n",
        "        y=M_reduced[row_index][1]\n",
        "        plt.scatter(x, y)\n",
        "\n",
        "\n",
        "        plt.annotate(word,(x, y), textcoords=\"offset points\", xytext=(0,10), ha='center')\n",
        "\n",
        "    plt.title('Scatter Plot with Labels')\n",
        "    plt.show()\n",
        "\n",
        "\n",
        "    # ------------------"
      ]
    },
    {
      "cell_type": "code",
      "execution_count": 12,
      "metadata": {
        "colab": {
          "base_uri": "https://localhost:8080/",
          "height": 624
        },
        "id": "gHxOMWPxSSuB",
        "outputId": "834a70ee-02b0-48ea-89b5-20deebe0265c"
      },
      "outputs": [
        {
          "output_type": "stream",
          "name": "stdout",
          "text": [
            "--------------------------------------------------------------------------------\n",
            "Outputted Plot:\n",
            "shape M_reduced: (5, 2)\n",
            "word: test1, row_index: 0\n",
            "word: test2, row_index: 1\n",
            "word: test3, row_index: 2\n",
            "word: test4, row_index: 3\n",
            "word: test5, row_index: 4\n"
          ]
        },
        {
          "output_type": "display_data",
          "data": {
            "text/plain": [
              "<Figure size 1000x500 with 1 Axes>"
            ],
            "image/png": "[encoded data removed]"
          },
          "metadata": {}
        },
        {
          "output_type": "stream",
          "name": "stdout",
          "text": [
            "--------------------------------------------------------------------------------\n"
          ]
        }
      ],
      "source": [
        "# ---------------------\n",
        "# Run this sanity check\n",
        "# Note that this is not an exhaustive check for correctness.\n",
        "# The plot produced should look like the included file question_1.4_test.png\n",
        "# ---------------------\n",
        "\n",
        "print (\"-\" * 80)\n",
        "print (\"Outputted Plot:\")\n",
        "\n",
        "M_reduced_plot_test = np.array([[1, 1], [-1, -1], [1, -1], [-1, 1], [0, 0]])\n",
        "word2ind_plot_test = {'test1': 0, 'test2': 1, 'test3': 2, 'test4': 3, 'test5': 4}\n",
        "words = ['test1', 'test2', 'test3', 'test4', 'test5']\n",
        "plot_embeddings(M_reduced_plot_test, word2ind_plot_test, words)\n",
        "\n",
        "print (\"-\" * 80)"
      ]
    },
    {
      "cell_type": "markdown",
      "metadata": {
        "id": "YpBzYs2hSSuC"
      },
      "source": [
        "### Question 1.5: Co-Occurrence Plot Analysis [written] (3 points)\n",
        "\n",
        "Now we will put together all the parts you have written! We will compute the co-occurrence matrix with fixed window of 4 (the default window size), over the Large Movie Review corpus. Then we will use TruncatedSVD to compute 2-dimensional embeddings of each word. TruncatedSVD returns U\\*S, so we need to normalize the returned vectors, so that all the vectors will appear around the unit circle (therefore closeness is directional closeness). **Note**: The line of code below that does the normalizing uses the NumPy concept of *broadcasting*. If you don't know about broadcasting, check out\n",
        "[Computation on Arrays: Broadcasting by Jake VanderPlas](https://jakevdp.github.io/PythonDataScienceHandbook/02.05-computation-on-arrays-broadcasting.html).\n",
        "\n",
        "Run the below cell to produce the plot. It can take up to a few minutes to run."
      ]
    },
    {
      "cell_type": "code",
      "execution_count": 13,
      "metadata": {
        "colab": {
          "base_uri": "https://localhost:8080/",
          "height": 731
        },
        "id": "7L1Uk50mSSuD",
        "outputId": "c40e1428-cfdd-4f99-fc9d-0e2a33d95a21"
      },
      "outputs": [
        {
          "output_type": "stream",
          "name": "stdout",
          "text": [
            "corpus: [['<START>', 'i', 'rented', 'i', 'am', 'curiousyellow', 'from', 'my', 'video', 'store', 'because', 'of', 'all', 'the', 'controversy', 'that', 'surrounded', 'it', 'when', 'it', 'was', 'first', 'released', 'in', '1967', 'i', 'also', 'heard', 'that', 'at', 'first', 'it', 'was', 'seized', 'by', 'us', 'customs', 'if', 'it', 'ever', 'tried', 'to', 'enter', 'this', 'country', 'therefore', 'being', 'a', 'fan', 'of', 'films', 'considered', 'controversial', 'i', 'really', 'had', 'to', 'see', 'this', 'for', 'myselfbr', 'br', 'the', 'plot', 'is', 'centered', 'around', 'a', 'young', 'swedish', 'drama', 'student', 'named', 'lena', 'who', 'wants', 'to', 'learn', 'everything', 'she', 'can', 'about', 'life', 'in', 'particular', 'she', 'wants', 'to', 'focus', 'her', 'attentions', 'to', 'making', 'some', 'sort', 'of', 'documentary', 'on', 'what', 'the', 'average', 'swede', 'thought', 'about', 'certain', 'political', 'issues', 'such', 'as', 'the', 'vietnam', 'war', 'and', 'race', 'issues', 'in', 'the', 'united', 'states', 'in', 'between', 'asking', 'politicians', 'and', 'ordinary', 'denizens', 'of', 'stockholm', 'about', 'their', 'opinions', 'on', 'politics', 'she', 'has', 'sex', 'with', 'her', 'drama', 'teacher', 'classmates', 'and', 'married', 'menbr', 'br', 'what', 'kills', 'me', 'about', 'i', 'am', 'curiousyellow', 'is', 'that', '40', 'years', 'ago', 'this', 'was', 'considered', 'pornographic', 'really', 'the', 'sex', 'and', 'nudity', 'scenes', 'are', 'few', 'and', 'far', 'between', 'even', 'then', 'its', 'not', 'shot', 'like', 'some', 'cheaply', 'made', 'porno', 'while', 'my', 'countrymen', 'mind', 'find', 'it', 'shocking', 'in', 'reality', 'sex', 'and', 'nudity', 'are', 'a', 'major', 'staple', 'in', 'swedish', 'cinema', 'even', 'ingmar', 'bergman', 'arguably', 'their', 'answer', 'to', 'good', 'old', 'boy', 'john', 'ford', 'had', 'sex', 'scenes', 'in', 'his', 'filmsbr', 'br', 'i', 'do', 'commend', 'the', 'filmmakers', 'for', 'the', 'fact', 'that', 'any', 'sex', 'shown', 'in', 'the', 'film', 'is', 'shown', 'for', 'artistic', 'purposes', 'rather', 'than', 'just', 'to', 'shock', 'people', 'and', 'make', 'money', 'to', 'be', 'shown', 'in', 'pornographic', 'theaters', 'in', 'america', 'i', 'am', 'curiousyellow', 'is', 'a', 'good', 'film', 'for', 'anyone', 'wanting', 'to', 'study', 'the', 'meat', 'and', 'potatoes', 'no', 'pun', 'intended', 'of', 'swedish', 'cinema', 'but', 'really', 'this', 'film', 'doesnt', 'have', 'much', 'of', 'a', 'plot', '<END>'], ['<START>', 'i', 'am', 'curious', 'yellow', 'is', 'a', 'risible', 'and', 'pretentious', 'steaming', 'pile', 'it', 'doesnt', 'matter', 'what', 'ones', 'political', 'views', 'are', 'because', 'this', 'film', 'can', 'hardly', 'be', 'taken', 'seriously', 'on', 'any', 'level', 'as', 'for', 'the', 'claim', 'that', 'frontal', 'male', 'nudity', 'is', 'an', 'automatic', 'nc17', 'that', 'isnt', 'true', 'ive', 'seen', 'rrated', 'films', 'with', 'male', 'nudity', 'granted', 'they', 'only', 'offer', 'some', 'fleeting', 'views', 'but', 'where', 'are', 'the', 'rrated', 'films', 'with', 'gaping', 'vulvas', 'and', 'flapping', 'labia', 'nowhere', 'because', 'they', 'dont', 'exist', 'the', 'same', 'goes', 'for', 'those', 'crappy', 'cable', 'shows', 'schlongs', 'swinging', 'in', 'the', 'breeze', 'but', 'not', 'a', 'clitoris', 'in', 'sight', 'and', 'those', 'pretentious', 'indie', 'movies', 'like', 'the', 'brown', 'bunny', 'in', 'which', 'were', 'treated', 'to', 'the', 'site', 'of', 'vincent', 'gallos', 'throbbing', 'johnson', 'but', 'not', 'a', 'trace', 'of', 'pink', 'visible', 'on', 'chloe', 'sevigny', 'before', 'crying', 'or', 'implying', 'doublestandard', 'in', 'matters', 'of', 'nudity', 'the', 'mentally', 'obtuse', 'should', 'take', 'into', 'account', 'one', 'unavoidably', 'obvious', 'anatomical', 'difference', 'between', 'men', 'and', 'women', 'there', 'are', 'no', 'genitals', 'on', 'display', 'when', 'actresses', 'appears', 'nude', 'and', 'the', 'same', 'cannot', 'be', 'said', 'for', 'a', 'man', 'in', 'fact', 'you', 'generally', 'wont', 'see', 'female', 'genitals', 'in', 'an', 'american', 'film', 'in', 'anything', 'short', 'of', 'porn', 'or', 'explicit', 'erotica', 'this', 'alleged', 'doublestandard', 'is', 'less', 'a', 'double', 'standard', 'than', 'an', 'admittedly', 'depressing', 'ability', 'to', 'come', 'to', 'terms', 'culturally', 'with', 'the', 'insides', 'of', 'womens', 'bodies', '<END>'], ['<START>', 'if', 'only', 'to', 'avoid', 'making', 'this', 'type', 'of', 'film', 'in', 'the', 'future', 'this', 'film', 'is', 'interesting', 'as', 'an', 'experiment', 'but', 'tells', 'no', 'cogent', 'storybr', 'br', 'one', 'might', 'feel', 'virtuous', 'for', 'sitting', 'thru', 'it', 'because', 'it', 'touches', 'on', 'so', 'many', 'important', 'issues', 'but', 'it', 'does', 'so', 'without', 'any', 'discernable', 'motive', 'the', 'viewer', 'comes', 'away', 'with', 'no', 'new', 'perspectives', 'unless', 'one', 'comes', 'up', 'with', 'one', 'while', 'ones', 'mind', 'wanders', 'as', 'it', 'will', 'invariably', 'do', 'during', 'this', 'pointless', 'filmbr', 'br', 'one', 'might', 'better', 'spend', 'ones', 'time', 'staring', 'out', 'a', 'window', 'at', 'a', 'tree', 'growingbr', 'br', '', '<END>'], ['<START>', 'this', 'film', 'was', 'probably', 'inspired', 'by', 'godards', 'masculin', 'féminin', 'and', 'i', 'urge', 'you', 'to', 'see', 'that', 'film', 'insteadbr', 'br', 'the', 'film', 'has', 'two', 'strong', 'elements', 'and', 'those', 'are', '1', 'the', 'realistic', 'acting', '2', 'the', 'impressive', 'undeservedly', 'good', 'photo', 'apart', 'from', 'that', 'what', 'strikes', 'me', 'most', 'is', 'the', 'endless', 'stream', 'of', 'silliness', 'lena', 'nyman', 'has', 'to', 'be', 'most', 'annoying', 'actress', 'in', 'the', 'world', 'she', 'acts', 'so', 'stupid', 'and', 'with', 'all', 'the', 'nudity', 'in', 'this', 'filmits', 'unattractive', 'comparing', 'to', 'godards', 'film', 'intellectuality', 'has', 'been', 'replaced', 'with', 'stupidity', 'without', 'going', 'too', 'far', 'on', 'this', 'subject', 'i', 'would', 'say', 'that', 'follows', 'from', 'the', 'difference', 'in', 'ideals', 'between', 'the', 'french', 'and', 'the', 'swedish', 'societybr', 'br', 'a', 'movie', 'of', 'its', 'time', 'and', 'place', '210', '<END>'], ['<START>', 'oh', 'brotherafter', 'hearing', 'about', 'this', 'ridiculous', 'film', 'for', 'umpteen', 'years', 'all', 'i', 'can', 'think', 'of', 'is', 'that', 'old', 'peggy', 'lee', 'songbr', 'br', 'is', 'that', 'all', 'there', 'is', 'i', 'was', 'just', 'an', 'early', 'teen', 'when', 'this', 'smoked', 'fish', 'hit', 'the', 'us', 'i', 'was', 'too', 'young', 'to', 'get', 'in', 'the', 'theater', 'although', 'i', 'did', 'manage', 'to', 'sneak', 'into', 'goodbye', 'columbus', 'then', 'a', 'screening', 'at', 'a', 'local', 'film', 'museum', 'beckoned', '', 'finally', 'i', 'could', 'see', 'this', 'film', 'except', 'now', 'i', 'was', 'as', 'old', 'as', 'my', 'parents', 'were', 'when', 'they', 'schlepped', 'to', 'see', 'itbr', 'br', 'the', 'only', 'reason', 'this', 'film', 'was', 'not', 'condemned', 'to', 'the', 'anonymous', 'sands', 'of', 'time', 'was', 'because', 'of', 'the', 'obscenity', 'case', 'sparked', 'by', 'its', 'us', 'release', 'millions', 'of', 'people', 'flocked', 'to', 'this', 'stinker', 'thinking', 'they', 'were', 'going', 'to', 'see', 'a', 'sex', 'filminstead', 'they', 'got', 'lots', 'of', 'closeups', 'of', 'gnarly', 'repulsive', 'swedes', 'onstreet', 'interviews', 'in', 'bland', 'shopping', 'malls', 'asinie', 'political', 'pretensionand', 'feeble', 'whocares', 'simulated', 'sex', 'scenes', 'with', 'saggy', 'pale', 'actorsbr', 'br', 'cultural', 'icon', 'holy', 'grail', 'historic', 'artifactwhatever', 'this', 'thing', 'was', 'shred', 'it', 'burn', 'it', 'then', 'stuff', 'the', 'ashes', 'in', 'a', 'lead', 'boxbr', 'br', 'elite', 'esthetes', 'still', 'scrape', 'to', 'find', 'value', 'in', 'its', 'boring', 'pseudo', 'revolutionary', 'political', 'spewingsbut', 'if', 'it', 'werent', 'for', 'the', 'censorship', 'scandal', 'it', 'would', 'have', 'been', 'ignored', 'then', 'forgottenbr', 'br', 'instead', 'the', 'i', 'am', 'blank', 'blank', 'rhythymed', 'title', 'was', 'repeated', 'endlessly', 'for', 'years', 'as', 'a', 'titilation', 'for', 'porno', 'films', 'i', 'am', 'curious', 'lavender', '', 'for', 'gay', 'films', 'i', 'am', 'curious', 'black', '', 'for', 'blaxploitation', 'films', 'etc', 'and', 'every', 'ten', 'years', 'or', 'so', 'the', 'thing', 'rises', 'from', 'the', 'dead', 'to', 'be', 'viewed', 'by', 'a', 'new', 'generation', 'of', 'suckers', 'who', 'want', 'to', 'see', 'that', 'naughty', 'sex', 'film', 'that', 'revolutionized', 'the', 'film', 'industrybr', 'br', 'yeesh', 'avoid', 'like', 'the', 'plagueor', 'if', 'you', 'must', 'see', 'it', '', 'rent', 'the', 'video', 'and', 'fast', 'forward', 'to', 'the', 'dirty', 'parts', 'just', 'to', 'get', 'it', 'over', 'withbr', 'br', '', '<END>'], ['<START>', 'i', 'would', 'put', 'this', 'at', 'the', 'top', 'of', 'my', 'list', 'of', 'films', 'in', 'the', 'category', 'of', 'unwatchable', 'trash', 'there', 'are', 'films', 'that', 'are', 'bad', 'but', 'the', 'worst', 'kind', 'are', 'the', 'ones', 'that', 'are', 'unwatchable', 'but', 'you', 'are', 'suppose', 'to', 'like', 'them', 'because', 'they', 'are', 'supposed', 'to', 'be', 'good', 'for', 'you', 'the', 'sex', 'sequences', 'so', 'shocking', 'in', 'its', 'day', 'couldnt', 'even', 'arouse', 'a', 'rabbit', 'the', 'so', 'called', 'controversial', 'politics', 'is', 'strictly', 'high', 'school', 'sophomore', 'amateur', 'night', 'marxism', 'the', 'film', 'is', 'selfconsciously', 'arty', 'in', 'the', 'worst', 'sense', 'of', 'the', 'term', 'the', 'photography', 'is', 'in', 'a', 'harsh', 'grainy', 'black', 'and', 'white', 'some', 'scenes', 'are', 'out', 'of', 'focus', 'or', 'taken', 'from', 'the', 'wrong', 'angle', 'even', 'the', 'sound', 'is', 'bad', 'and', 'some', 'people', 'call', 'this', 'artbr', 'br', '', '<END>'], ['<START>', 'whoever', 'wrote', 'the', 'screenplay', 'for', 'this', 'movie', 'obviously', 'never', 'consulted', 'any', 'books', 'about', 'lucille', 'ball', 'especially', 'her', 'autobiography', 'ive', 'never', 'seen', 'so', 'many', 'mistakes', 'in', 'a', 'biopic', 'ranging', 'from', 'her', 'early', 'years', 'in', 'celoron', 'and', 'jamestown', 'to', 'her', 'later', 'years', 'with', 'desi', 'i', 'could', 'write', 'a', 'whole', 'list', 'of', 'factual', 'errors', 'but', 'it', 'would', 'go', 'on', 'for', 'pages', 'in', 'all', 'i', 'believe', 'that', 'lucille', 'ball', 'is', 'one', 'of', 'those', 'inimitable', 'people', 'who', 'simply', 'cannot', 'be', 'portrayed', 'by', 'anyone', 'other', 'than', 'themselves', 'if', 'i', 'were', 'lucie', 'arnaz', 'and', 'desi', 'jr', 'i', 'would', 'be', 'irate', 'at', 'how', 'many', 'mistakes', 'were', 'made', 'in', 'this', 'film', 'the', 'filmmakers', 'tried', 'hard', 'but', 'the', 'movie', 'seems', 'awfully', 'sloppy', 'to', 'me', '<END>'], ['<START>', 'when', 'i', 'first', 'saw', 'a', 'glimpse', 'of', 'this', 'movie', 'i', 'quickly', 'noticed', 'the', 'actress', 'who', 'was', 'playing', 'the', 'role', 'of', 'lucille', 'ball', 'rachel', 'yorks', 'portrayal', 'of', 'lucy', 'is', 'absolutely', 'awful', 'lucille', 'ball', 'was', 'an', 'astounding', 'comedian', 'with', 'incredible', 'talent', 'to', 'think', 'about', 'a', 'legend', 'like', 'lucille', 'ball', 'being', 'portrayed', 'the', 'way', 'she', 'was', 'in', 'the', 'movie', 'is', 'horrendous', 'i', 'cannot', 'believe', 'out', 'of', 'all', 'the', 'actresses', 'in', 'the', 'world', 'who', 'could', 'play', 'a', 'much', 'better', 'lucy', 'the', 'producers', 'decided', 'to', 'get', 'rachel', 'york', 'she', 'might', 'be', 'a', 'good', 'actress', 'in', 'other', 'roles', 'but', 'to', 'play', 'the', 'role', 'of', 'lucille', 'ball', 'is', 'tough', 'it', 'is', 'pretty', 'hard', 'to', 'find', 'someone', 'who', 'could', 'resemble', 'lucille', 'ball', 'but', 'they', 'could', 'at', 'least', 'find', 'someone', 'a', 'bit', 'similar', 'in', 'looks', 'and', 'talent', 'if', 'you', 'noticed', 'yorks', 'portrayal', 'of', 'lucy', 'in', 'episodes', 'of', 'i', 'love', 'lucy', 'like', 'the', 'chocolate', 'factory', 'or', 'vitavetavegamin', 'nothing', 'is', 'similar', 'in', 'any', 'wayher', 'expression', 'voice', 'or', 'movementbr', 'br', 'to', 'top', 'it', 'all', 'off', 'danny', 'pino', 'playing', 'desi', 'arnaz', 'is', 'horrible', 'pino', 'does', 'not', 'qualify', 'to', 'play', 'as', 'ricky', 'hes', 'small', 'and', 'skinny', 'his', 'accent', 'is', 'unreal', 'and', 'once', 'again', 'his', 'acting', 'is', 'unbelievable', 'although', 'fred', 'and', 'ethel', 'were', 'not', 'similar', 'either', 'they', 'were', 'not', 'as', 'bad', 'as', 'the', 'characters', 'of', 'lucy', 'and', 'rickybr', 'br', 'overall', 'extremely', 'horrible', 'casting', 'and', 'the', 'story', 'is', 'badly', 'told', 'if', 'people', 'want', 'to', 'understand', 'the', 'real', 'life', 'situation', 'of', 'lucille', 'ball', 'i', 'suggest', 'watching', 'ae', 'biography', 'of', 'lucy', 'and', 'desi', 'read', 'the', 'book', 'from', 'lucille', 'ball', 'herself', 'or', 'pbs', 'american', 'masters', 'finding', 'lucy', 'if', 'you', 'want', 'to', 'see', 'a', 'docudrama', 'before', 'the', 'laughter', 'would', 'be', 'a', 'better', 'choice', 'the', 'casting', 'of', 'lucille', 'ball', 'and', 'desi', 'arnaz', 'in', 'before', 'the', 'laughter', 'is', 'much', 'better', 'compared', 'to', 'this', 'at', 'least', 'a', 'similar', 'aspect', 'is', 'shown', 'rather', 'than', 'nothing', '<END>'], ['<START>', 'who', 'are', 'these', 'they', 'the', 'actors', 'the', 'filmmakers', 'certainly', 'couldnt', 'be', 'the', 'audience', 'this', 'is', 'among', 'the', 'most', 'airpuffed', 'productions', 'in', 'existence', 'its', 'the', 'kind', 'of', 'movie', 'that', 'looks', 'like', 'it', 'was', 'a', 'lot', 'of', 'fun', 'to', 'shoot', 'too', 'much', 'fun', 'nobody', 'is', 'getting', 'any', 'actual', 'work', 'done', 'and', 'that', 'almost', 'always', 'makes', 'for', 'a', 'movie', 'thats', 'no', 'fun', 'to', 'watchbr', 'br', 'ritter', 'dons', 'glasses', 'so', 'as', 'to', 'hammer', 'home', 'his', 'characters', 'status', 'as', 'a', 'sort', 'of', 'doppleganger', 'of', 'the', 'bespectacled', 'bogdanovich', 'the', 'scenes', 'with', 'the', 'breezy', 'ms', 'stratten', 'are', 'sweet', 'but', 'have', 'an', 'embarrassing', 'lookguysimdatingthepromqueen', 'feel', 'to', 'them', 'ben', 'gazzara', 'sports', 'his', 'usual', 'catsgotcanary', 'grin', 'in', 'a', 'futile', 'attempt', 'to', 'elevate', 'the', 'meager', 'plot', 'which', 'requires', 'him', 'to', 'pursue', 'audrey', 'hepburn', 'with', 'all', 'the', 'interest', 'of', 'a', 'narcoleptic', 'at', 'an', 'insomnia', 'clinic', 'in', 'the', 'meantime', 'the', 'budding', 'couples', 'respective', 'children', 'nepotism', 'alert', 'bogdanovichs', 'daughters', 'spew', 'cute', 'and', 'pick', 'up', 'some', 'fairly', 'disturbing', 'pointers', 'on', 'love', 'while', 'observing', 'their', 'parents', 'ms', 'hepburn', 'drawing', 'on', 'her', 'dignity', 'manages', 'to', 'rise', 'above', 'the', 'proceedings', 'but', 'she', 'has', 'the', 'monumental', 'challenge', 'of', 'playing', 'herself', 'ostensibly', 'everybody', 'looks', 'great', 'but', 'so', 'what', 'its', 'a', 'movie', 'and', 'we', 'can', 'expect', 'that', 'much', 'if', 'thats', 'what', 'youre', 'looking', 'for', 'youd', 'be', 'better', 'off', 'picking', 'up', 'a', 'copy', 'of', 'voguebr', 'br', 'oh', 'and', 'it', 'has', 'to', 'be', 'mentioned', 'that', 'colleen', 'camp', 'thoroughly', 'annoys', 'even', 'apart', 'from', 'her', 'singing', 'which', 'while', 'competent', 'is', 'wholly', 'unconvincing', 'the', 'country', 'and', 'western', 'numbers', 'are', 'woefully', 'mismatched', 'with', 'the', 'standards', 'on', 'the', 'soundtrack', 'surely', 'this', 'is', 'not', 'what', 'gershwin', 'who', 'wrote', 'the', 'song', 'from', 'which', 'the', 'movies', 'title', 'is', 'derived', 'had', 'in', 'mind', 'his', 'stage', 'musicals', 'of', 'the', '20s', 'may', 'have', 'been', 'slight', 'but', 'at', 'least', 'they', 'were', 'long', 'on', 'charm', 'they', 'all', 'laughed', 'tries', 'to', 'coast', 'on', 'its', 'good', 'intentions', 'but', 'nobody', 'least', 'of', 'all', 'peter', 'bogdanovich', '', 'has', 'the', 'good', 'sense', 'to', 'put', 'on', 'the', 'brakesbr', 'br', 'due', 'in', 'no', 'small', 'part', 'to', 'the', 'tragic', 'death', 'of', 'dorothy', 'stratten', 'this', 'movie', 'has', 'a', 'special', 'place', 'in', 'the', 'heart', 'of', 'mr', 'bogdanovich', 'he', 'even', 'bought', 'it', 'back', 'from', 'its', 'producers', 'then', 'distributed', 'it', 'on', 'his', 'own', 'and', 'went', 'bankrupt', 'when', 'it', 'didnt', 'prove', 'popular', 'his', 'rise', 'and', 'fall', 'is', 'among', 'the', 'more', 'sympathetic', 'and', 'tragic', 'of', 'hollywood', 'stories', 'so', 'theres', 'no', 'joy', 'in', 'criticizing', 'the', 'film', 'there', '_is_', 'real', 'emotional', 'investment', 'in', 'ms', 'strattens', 'scenes', 'but', 'laughed', 'is', 'a', 'faint', 'echo', 'of', 'the', 'last', 'picture', 'show', 'paper', 'moon', 'or', 'whats', 'up', 'doc', 'following', 'daisy', 'miller', 'and', 'at', 'long', 'last', 'love', 'it', 'was', 'a', 'thundering', 'confirmation', 'of', 'the', 'phase', 'from', 'which', 'pb', 'has', 'never', 'emergedbr', 'br', 'all', 'in', 'all', 'though', 'the', 'movie', 'is', 'harmless', 'only', 'a', 'waste', 'of', 'rental', 'i', 'want', 'to', 'watch', 'people', 'having', 'a', 'good', 'time', 'ill', 'go', 'to', 'the', 'park', 'on', 'a', 'sunny', 'day', 'for', 'filmic', 'expressions', 'of', 'joy', 'and', 'love', 'ill', 'stick', 'to', 'ernest', 'lubitsch', 'and', 'jaques', 'demy', '<END>'], ['<START>', 'this', 'is', 'said', 'to', 'be', 'a', 'personal', 'film', 'for', 'peter', 'bogdonavitch', 'he', 'based', 'it', 'on', 'his', 'life', 'but', 'changed', 'things', 'around', 'to', 'fit', 'the', 'characters', 'who', 'are', 'detectives', 'these', 'detectives', 'date', 'beautiful', 'models', 'and', 'have', 'no', 'problem', 'getting', 'them', 'sounds', 'more', 'like', 'a', 'millionaire', 'playboy', 'filmmaker', 'than', 'a', 'detective', 'doesnt', 'it', 'this', 'entire', 'movie', 'was', 'written', 'by', 'peter', 'and', 'it', 'shows', 'how', 'out', 'of', 'touch', 'with', 'real', 'people', 'he', 'was', 'youre', 'supposed', 'to', 'write', 'what', 'you', 'know', 'and', 'he', 'did', 'that', 'indeed', 'and', 'leaves', 'the', 'audience', 'bored', 'and', 'confused', 'and', 'jealous', 'for', 'that', 'matter', 'this', 'is', 'a', 'curio', 'for', 'people', 'who', 'want', 'to', 'see', 'dorothy', 'stratten', 'who', 'was', 'murdered', 'right', 'after', 'filming', 'but', 'patti', 'hanson', 'who', 'would', 'in', 'real', 'life', 'marry', 'keith', 'richards', 'was', 'also', 'a', 'model', 'like', 'stratten', 'but', 'is', 'a', 'lot', 'better', 'and', 'has', 'a', 'more', 'ample', 'part', 'in', 'fact', 'strattens', 'part', 'seemed', 'forced', 'added', 'she', 'doesnt', 'have', 'a', 'lot', 'to', 'do', 'with', 'the', 'story', 'which', 'is', 'pretty', 'convoluted', 'to', 'begin', 'with', 'all', 'in', 'all', 'every', 'character', 'in', 'this', 'film', 'is', 'somebody', 'that', 'very', 'few', 'people', 'can', 'relate', 'with', 'unless', 'youre', 'millionaire', 'from', 'manhattan', 'with', 'beautiful', 'supermodels', 'at', 'your', 'beckon', 'call', 'for', 'the', 'rest', 'of', 'us', 'its', 'an', 'irritating', 'snore', 'fest', 'thats', 'what', 'happens', 'when', 'youre', 'out', 'of', 'touch', 'you', 'entertain', 'your', 'few', 'friends', 'with', 'inside', 'jokes', 'and', 'bore', 'all', 'the', 'rest', '<END>'], ['<START>', 'it', 'was', 'great', 'to', 'see', 'some', 'of', 'my', 'favorite', 'stars', 'of', '30', 'years', 'ago', 'including', 'john', 'ritter', 'ben', 'gazarra', 'and', 'audrey', 'hepburn', 'they', 'looked', 'quite', 'wonderful', 'but', 'that', 'was', 'it', 'they', 'were', 'not', 'given', 'any', 'characters', 'or', 'good', 'lines', 'to', 'work', 'with', 'i', 'neither', 'understood', 'or', 'cared', 'what', 'the', 'characters', 'were', 'doingbr', 'br', 'some', 'of', 'the', 'smaller', 'female', 'roles', 'were', 'fine', 'patty', 'henson', 'and', 'colleen', 'camp', 'were', 'quite', 'competent', 'and', 'confident', 'in', 'their', 'small', 'sidekick', 'parts', 'they', 'showed', 'some', 'talent', 'and', 'it', 'is', 'sad', 'they', 'didnt', 'go', 'on', 'to', 'star', 'in', 'more', 'and', 'better', 'films', 'sadly', 'i', 'didnt', 'think', 'dorothy', 'stratten', 'got', 'a', 'chance', 'to', 'act', 'in', 'this', 'her', 'only', 'important', 'film', 'rolebr', 'br', 'the', 'film', 'appears', 'to', 'have', 'some', 'fans', 'and', 'i', 'was', 'very', 'openminded', 'when', 'i', 'started', 'watching', 'it', 'i', 'am', 'a', 'big', 'peter', 'bogdanovich', 'fan', 'and', 'i', 'enjoyed', 'his', 'last', 'movie', 'cats', 'meow', 'and', 'all', 'his', 'early', 'ones', 'from', 'targets', 'to', 'nickleodeon', 'so', 'it', 'really', 'surprised', 'me', 'that', 'i', 'was', 'barely', 'able', 'to', 'keep', 'awake', 'watching', 'this', 'onebr', 'br', 'it', 'is', 'ironic', 'that', 'this', 'movie', 'is', 'about', 'a', 'detective', 'agency', 'where', 'the', 'detectives', 'and', 'clients', 'get', 'romantically', 'involved', 'with', 'each', 'other', 'five', 'years', 'later', 'bogdanovichs', 'exgirlfriend', 'cybil', 'shepherd', 'had', 'a', 'hit', 'television', 'series', 'called', 'moonlighting', 'stealing', 'the', 'story', 'idea', 'from', 'bogdanovich', 'of', 'course', 'there', 'was', 'a', 'great', 'difference', 'in', 'that', 'the', 'series', 'relied', 'on', 'tons', 'of', 'witty', 'dialogue', 'while', 'this', 'tries', 'to', 'make', 'do', 'with', 'slapstick', 'and', 'a', 'few', 'screwball', 'linesbr', 'br', 'bottom', 'line', 'it', 'aint', 'no', 'paper', 'moon', 'and', 'only', 'a', 'very', 'pale', 'version', 'of', 'whats', 'up', 'doc', '<END>'], ['<START>', 'i', 'cant', 'believe', 'that', 'those', 'praising', 'this', 'movie', 'herein', 'arent', 'thinking', 'of', 'some', 'other', 'film', 'i', 'was', 'prepared', 'for', 'the', 'possibility', 'that', 'this', 'would', 'be', 'awful', 'but', 'the', 'script', 'or', 'lack', 'thereof', 'makes', 'for', 'a', 'film', 'thats', 'also', 'pointless', 'on', 'the', 'plus', 'side', 'the', 'general', 'level', 'of', 'craft', 'on', 'the', 'part', 'of', 'the', 'actors', 'and', 'technical', 'crew', 'is', 'quite', 'competent', 'but', 'when', 'youve', 'got', 'a', 'sows', 'ear', 'to', 'work', 'with', 'you', 'cant', 'make', 'a', 'silk', 'purse', 'ben', 'g', 'fans', 'should', 'stick', 'with', 'just', 'about', 'any', 'other', 'movie', 'hes', 'been', 'in', 'dorothy', 's', 'fans', 'should', 'stick', 'to', 'galaxina', 'peter', 'b', 'fans', 'should', 'stick', 'to', 'last', 'picture', 'show', 'and', 'target', 'fans', 'of', 'cheap', 'laughs', 'at', 'the', 'expense', 'of', 'those', 'who', 'seem', 'to', 'be', 'asking', 'for', 'it', 'should', 'stick', 'to', 'peter', 'bs', 'amazingly', 'awful', 'book', 'killing', 'of', 'the', 'unicorn', '<END>'], ['<START>', 'never', 'cast', 'models', 'and', 'playboy', 'bunnies', 'in', 'your', 'films', 'bob', 'fosses', 'star', '80', 'about', 'dorothy', 'stratten', 'of', 'whom', 'bogdanovich', 'was', 'obsessed', 'enough', 'to', 'have', 'married', 'her', 'sister', 'after', 'her', 'murder', 'at', 'the', 'hands', 'of', 'her', 'lowlife', 'husband', 'is', 'a', 'zillion', 'times', 'more', 'interesting', 'than', 'dorothy', 'herself', 'on', 'the', 'silver', 'screen', 'patty', 'hansen', 'is', 'no', 'actress', 'eitheri', 'expected', 'to', 'see', 'some', 'sort', 'of', 'lost', 'masterpiece', 'a', 'la', 'orson', 'welles', 'but', 'instead', 'got', 'audrey', 'hepburn', 'cavorting', 'in', 'jeans', 'and', 'a', 'godawful', 'poodlesque', 'hairdovery', 'disappointingpaper', 'moon', 'and', 'the', 'last', 'picture', 'show', 'i', 'could', 'watch', 'again', 'and', 'again', 'this', 'clunker', 'i', 'could', 'barely', 'sit', 'through', 'once', 'this', 'movie', 'was', 'reputedly', 'not', 'released', 'because', 'of', 'the', 'brouhaha', 'surrounding', 'ms', 'strattens', 'tawdry', 'death', 'i', 'think', 'the', 'real', 'reason', 'was', 'because', 'it', 'was', 'so', 'bad', '<END>'], ['<START>', 'its', 'not', 'the', 'cast', 'a', 'finer', 'group', 'of', 'actors', 'you', 'could', 'not', 'find', 'its', 'not', 'the', 'setting', 'the', 'director', 'is', 'in', 'love', 'with', 'new', 'york', 'city', 'and', 'by', 'the', 'end', 'of', 'the', 'film', 'so', 'are', 'we', 'all', 'woody', 'allen', 'could', 'not', 'improve', 'upon', 'what', 'bogdonovich', 'has', 'done', 'here', 'if', 'you', 'are', 'going', 'to', 'fall', 'in', 'love', 'or', 'find', 'love', 'manhattan', 'is', 'the', 'place', 'to', 'go', 'no', 'the', 'problem', 'with', 'the', 'movie', 'is', 'the', 'script', 'there', 'is', 'none', 'the', 'actors', 'fall', 'in', 'love', 'at', 'first', 'sight', 'words', 'are', 'unnecessary', 'in', 'the', 'directors', 'own', 'experience', 'in', 'hollywood', 'that', 'is', 'what', 'happens', 'when', 'they', 'go', 'to', 'work', 'on', 'the', 'set', 'it', 'is', 'reality', 'to', 'him', 'and', 'his', 'peers', 'but', 'it', 'is', 'a', 'fantasy', 'to', 'most', 'of', 'us', 'in', 'the', 'real', 'world', 'so', 'in', 'the', 'end', 'the', 'movie', 'is', 'hollow', 'and', 'shallow', 'and', 'messageless', '<END>'], ['<START>', 'today', 'i', 'found', 'they', 'all', 'laughed', 'on', 'vhs', 'on', 'sale', 'in', 'a', 'rental', 'it', 'was', 'a', 'really', 'old', 'and', 'very', 'used', 'vhs', 'i', 'had', 'no', 'information', 'about', 'this', 'movie', 'but', 'i', 'liked', 'the', 'references', 'listed', 'on', 'its', 'cover', 'the', 'names', 'of', 'peter', 'bogdanovich', 'audrey', 'hepburn', 'john', 'ritter', 'and', 'specially', 'dorothy', 'stratten', 'attracted', 'me', 'the', 'price', 'was', 'very', 'low', 'and', 'i', 'decided', 'to', 'risk', 'and', 'buy', 'it', 'i', 'searched', 'imdb', 'and', 'the', 'user', 'rating', 'of', '60', 'was', 'an', 'excellent', 'reference', 'i', 'looked', 'in', 'mick', 'martin', '', 'marsha', 'porter', 'video', '', 'dvd', 'guide', '2003', 'and', '', 'wow', '', 'four', 'stars', 'so', 'i', 'decided', 'that', 'i', 'could', 'not', 'waste', 'more', 'time', 'and', 'immediately', 'see', 'it', 'indeed', 'i', 'have', 'just', 'finished', 'watching', 'they', 'all', 'laughed', 'and', 'i', 'found', 'it', 'a', 'very', 'boring', 'overrated', 'movie', 'the', 'characters', 'are', 'badly', 'developed', 'and', 'i', 'spent', 'lots', 'of', 'minutes', 'to', 'understand', 'their', 'roles', 'in', 'the', 'story', 'the', 'plot', 'is', 'supposed', 'to', 'be', 'funny', 'private', 'eyes', 'who', 'fall', 'in', 'love', 'for', 'the', 'women', 'they', 'are', 'chasing', 'but', 'i', 'have', 'not', 'laughed', 'along', 'the', 'whole', 'story', 'the', 'coincidences', 'in', 'a', 'huge', 'city', 'like', 'new', 'york', 'are', 'ridiculous', 'ben', 'gazarra', 'as', 'an', 'attractive', 'and', 'very', 'seductive', 'man', 'with', 'the', 'women', 'falling', 'for', 'him', 'as', 'if', 'her', 'were', 'a', 'brad', 'pitt', 'antonio', 'banderas', 'or', 'george', 'clooney', 'is', 'quite', 'ridiculous', 'in', 'the', 'end', 'the', 'greater', 'attractions', 'certainly', 'are', 'the', 'presence', 'of', 'the', 'playboy', 'centerfold', 'and', 'playmate', 'of', 'the', 'year', 'dorothy', 'stratten', 'murdered', 'by', 'her', 'husband', 'pretty', 'after', 'the', 'release', 'of', 'this', 'movie', 'and', 'whose', 'life', 'was', 'showed', 'in', 'star', '80', 'and', 'death', 'of', 'a', 'centerfold', 'the', 'dorothy', 'stratten', 'story', 'the', 'amazing', 'beauty', 'of', 'the', 'sexy', 'patti', 'hansen', 'the', 'future', 'mrs', 'keith', 'richards', 'the', 'always', 'wonderful', 'even', 'being', 'fiftytwo', 'years', 'old', 'audrey', 'hepburn', 'and', 'the', 'song', 'amigo', 'from', 'roberto', 'carlos', 'although', 'i', 'do', 'not', 'like', 'him', 'roberto', 'carlos', 'has', 'been', 'the', 'most', 'popular', 'brazilian', 'singer', 'since', 'the', 'end', 'of', 'the', '60s', 'and', 'is', 'called', 'by', 'his', 'fans', 'as', 'the', 'king', 'i', 'will', 'keep', 'this', 'movie', 'in', 'my', 'collection', 'only', 'because', 'of', 'these', 'attractions', 'manly', 'dorothy', 'stratten', 'my', 'vote', 'is', 'fourbr', 'br', 'title', 'brazil', 'muito', 'riso', 'e', 'muita', 'alegria', 'many', 'laughs', 'and', 'lots', 'of', 'happiness', '<END>'], ['<START>', 'this', 'film', 'is', 'just', 'plain', 'horrible', 'john', 'ritter', 'doing', 'pratt', 'falls', '75', 'of', 'the', 'actors', 'delivering', 'their', 'lines', 'as', 'if', 'they', 'were', 'reading', 'them', 'from', 'cue', 'cards', 'poor', 'editing', 'horrible', 'sound', 'mixing', 'dialogue', 'is', 'tough', 'to', 'pick', 'up', 'in', 'places', 'over', 'the', 'background', 'noise', 'and', 'a', 'plot', 'that', 'really', 'goes', 'nowhere', 'i', 'didnt', 'think', 'id', 'ever', 'say', 'this', 'but', 'dorothy', 'stratten', 'is', 'not', 'the', 'worst', 'actress', 'in', 'this', 'film', 'there', 'are', 'at', 'least', '3', 'others', 'that', 'suck', 'more', 'patti', 'hansen', 'delivers', 'her', 'lines', 'with', 'the', 'passion', 'of', 'ben', 'stein', 'i', 'started', 'to', 'wonder', 'if', 'she', 'wasnt', 'dead', 'inside', 'even', 'bogdanovichs', 'kids', 'are', 'awful', 'the', 'oldest', 'one', 'is', 'definitely', 'reading', 'her', 'lines', 'from', 'a', 'cue', 'card', 'this', 'movie', 'is', 'seriously', 'horrible', 'theres', 'a', 'reason', 'bogdanovich', 'couldnt', 'get', 'another', 'project', 'until', '4', 'years', 'later', 'please', 'dont', 'watch', 'it', 'if', 'you', 'see', 'it', 'in', 'your', 'television', 'listings', 'cancel', 'your', 'cable', 'if', 'a', 'friend', 'suggests', 'it', 'to', 'you', 'reconsider', 'your', 'friendship', 'if', 'your', 'spouse', 'wants', 'to', 'watch', 'it', 'youre', 'better', 'off', 'finding', 'another', 'soulmate', 'id', 'rather', 'gouge', 'my', 'eyes', 'out', 'with', 'lawn', 'darts', 'than', 'sit', 'through', 'this', 'piece', 'of', 'garbage', 'again', 'if', 'i', 'could', 'sum', 'this', 'film', 'up', 'in', 'one', 'word', 'that', 'word', 'would', 'be', 'suckotrocity', '<END>'], ['<START>', 'my', 'interest', 'in', 'dorothy', 'stratten', 'caused', 'me', 'to', 'purchase', 'this', 'video', 'although', 'it', 'had', 'great', 'actorsactresses', 'there', 'were', 'just', 'too', 'many', 'subplots', 'going', 'on', 'to', 'retain', 'interest', 'plus', 'it', 'just', 'wasnt', 'that', 'interesting', 'dialogue', 'was', 'stiff', 'and', 'confusing', 'and', 'the', 'story', 'just', 'flipped', 'around', 'too', 'much', 'to', 'be', 'believable', 'i', 'was', 'pretty', 'disappointed', 'in', 'what', 'i', 'believe', 'was', 'one', 'of', 'audrey', 'hepburns', 'last', 'movies', 'ill', 'always', 'love', 'john', 'ritter', 'best', 'in', 'slapstick', 'he', 'was', 'just', 'too', 'pathetic', 'here', '<END>'], ['<START>', 'i', 'have', 'this', 'film', 'out', 'of', 'the', 'library', 'right', 'now', 'and', 'i', 'havent', 'finished', 'watching', 'it', 'it', 'is', 'so', 'bad', 'i', 'am', 'in', 'disbelief', 'audrey', 'hepburn', 'had', 'totally', 'lost', 'her', 'talent', 'by', 'then', 'although', 'shed', 'pretty', 'much', 'finished', 'with', 'it', 'in', 'robin', 'and', 'marian', 'this', 'is', 'the', 'worst', 'thing', 'about', 'this', 'appallingly', 'stupid', 'film', 'its', 'really', 'only', 'of', 'interest', 'because', 'it', 'was', 'her', 'last', 'feature', 'film', 'and', 'because', 'of', 'the', 'dorothy', 'stratten', 'appearance', 'just', 'prior', 'to', 'her', 'homicidebr', 'br', 'there', 'is', 'nothing', 'but', 'idiocy', 'between', 'gazzara', 'and', 'his', 'cronies', 'little', 'signals', 'and', 'little', 'bows', 'and', 'nods', 'to', 'real', 'screwball', 'comedy', 'of', 'which', 'this', 'is', 'the', 'faintest', 'palest', 'shadowbr', 'br', 'who', 'could', 'believe', 'that', 'there', 'are', 'even', 'some', 'of', 'the', 'same', 'manhattan', 'environs', 'that', 'hepburn', 'inhabited', 'so', 'magically', 'and', 'even', 'mythically', 'in', 'breakfast', 'at', 'tiffanys', 'twenty', 'years', 'earlier', 'the', 'soundtrack', 'of', 'old', 'sinatra', 'songs', 'and', 'the', 'gershwin', 'song', 'from', 'which', 'the', 'title', 'is', 'taken', 'is', 'too', 'loud', 'and', 'obviousyou', 'sure', 'dont', 'have', 'to', 'wait', 'for', 'the', 'credits', 'to', 'find', 'out', 'that', 'something', 'was', 'subtly', 'woven', 'into', 'the', 'cinemusique', 'of', 'the', 'picture', 'to', 'know', 'when', 'the', 'songs', 'blasted', 'out', 'at', 'youbr', 'br', 'reverting', 'to', 'type', 'means', 'going', 'back', 'up', 'as', 'well', 'as', 'going', 'back', 'down', 'i', 'guess', 'in', 'this', 'case', 'audrey', 'hepburns', 'chic', 'european', 'lady', 'is', 'all', 'you', 'see', 'of', 'someone', 'who', 'was', 'formerly', 'occasionally', 'an', 'actress', 'and', 'always', 'a', 'star', 'here', 'she', 'has', 'even', 'lost', 'her', 'talent', 'as', 'a', 'star', 'if', 'someone', 'whose', 'talent', 'was', 'continuing', 'to', 'grow', 'in', 'the', 'period', 'like', 'annmargret', 'had', 'played', 'the', 'role', 'there', 'would', 'have', 'been', 'some', 'life', 'in', 'it', 'even', 'given', 'the', 'unbelievably', 'bad', 'material', 'and', 'mongoloidlevel', 'situationsbr', 'br', 'hepburn', 'was', 'a', 'great', 'person', 'of', 'course', 'greater', 'than', 'most', 'movie', 'stars', 'ever', 'dreamed', 'of', 'being', 'and', 'she', 'was', 'once', 'one', 'of', 'the', 'most', 'charming', 'and', 'beautiful', 'of', 'film', 'actors', 'after', 'this', 'dreadful', 'performance', 'she', 'went', 'on', 'to', 'make', 'an', 'atrocious', 'tv', 'movie', 'with', 'robert', 'wagner', 'called', 'love', 'among', 'thieves', 'in', 'they', 'all', 'laughed', 'it', 'is', 'as', 'though', 'she', 'were', 'still', 'playing', 'an', 'ingenue', 'in', 'her', '50s', 'even', 'much', 'vainer', 'and', 'obviously', 'less', 'intelligent', 'actresses', 'who', 'insisted', 'upon', 'doing', 'this', 'like', 'lana', 'turner', 'were', 'infinitely', 'more', 'effective', 'than', 'is', 'hepburn', 'turner', 'took', 'acting', 'seriously', 'even', 'when', 'she', 'was', 'bad', 'hepburn', 'doesnt', 'take', 'it', 'seriously', 'at', 'all', 'couldnt', 'be', 'bothered', 'with', 'it', 'even', 'her', 'hair', 'and', 'clothes', 'look', 'tacky', 'her', 'last', 'really', 'good', 'work', 'was', 'in', 'two', 'for', 'the', 'road', 'perhaps', 'her', 'most', 'perfect', 'if', 'possibly', 'not', 'her', 'best', 'in', 'many', 'waysbr', 'br', 'and', 'that', 'girl', 'who', 'plays', 'the', 'country', 'singer', 'is', 'just', 'sickening', 'john', 'ritter', 'is', 'horrible', 'there', 'is', 'simply', 'nothing', 'to', 'recommend', 'this', 'film', 'except', 'to', 'see', 'dorothy', 'stratten', 'who', 'was', 'truly', 'pretty', 'otherwise', 'critic', 'david', 'thomsons', 'oftused', 'phrase', 'losing', 'hisher', 'talent', 'never', 'has', 'made', 'more', 'sensebr', 'br', 'ben', 'gazarra', 'had', 'lost', 'all', 'sex', 'appeal', 'by', 'then', 'and', 'so', 'we', 'have', '2', 'films', 'with', 'gazarra', 'and', 'hepburnwho', 'could', 'ask', 'for', 'anything', 'less', 'sandra', 'dees', 'last', 'pitiful', 'film', 'lost', 'from', '2', 'years', 'later', 'a', 'lowbudget', 'nothing', 'had', 'more', 'to', 'it', 'than', 'this', 'at', 'least', 'ms', 'dee', 'spoke', 'in', 'her', 'own', 'voice', 'by', '1981', 'audrey', 'hepburns', 'accent', 'just', 'sounded', 'silly', 'shed', 'go', 'on', 'to', 'do', 'the', 'pbs', 'gardens', 'of', 'the', 'world', 'with', 'audrey', 'hepburn', 'and', 'there', 'her', 'somewhat', 'irritating', 'accent', 'works', 'as', 'she', 'walks', 'through', 'english', 'gardens', 'with', 'aristocrats', 'or', 'waxes', 'effusively', 'about', 'what', 'i', 'like', 'most', 'is', 'when', 'flowers', 'go', 'back', 'to', 'nature', 'as', 'in', 'naturalized', 'daffodils', 'but', 'in', 'an', 'actual', 'fictional', 'movie', 'she', 'just', 'sounds', 'ridiculousbr', 'br', 'to', 'think', 'that', 'breakfast', 'at', 'tiffanys', 'was', 'such', 'a', 'profound', 'sort', 'of', 'light', 'poetic', 'thing', 'with', 'audrey', 'hepburn', 'one', 'of', 'the', 'most', 'beautiful', 'women', 'in', 'the', 'worldshe', 'was', 'surely', 'one', 'of', 'the', 'most', 'beautiful', 'screen', 'presences', 'in', 'my', 'fair', 'lady', 'matching', 'garbo', 'in', 'several', 'things', 'and', 'delphine', 'seyrig', 'in', 'last', 'year', 'at', 'marienbad', 'and', 'then', 'this', 'and', 'her', 'final', 'brief', 'role', 'as', 'the', 'angel', 'hap', 'in', 'the', 'spielberg', 'film', 'always', 'was', 'just', 'more', 'of', 'the', 'lady', 'stuffcorny', 'witless', 'and', 'stiflingbr', 'br', 'i', 'went', 'to', 'her', 'memorial', 'service', 'at', 'the', 'fifth', 'avenue', 'presbyterian', 'church', 'a', 'beautiful', 'service', 'which', 'included', 'a', 'boys', 'choir', 'singing', 'the', 'shaker', 'hymn', 'simple', 'gifts', 'the', 'only', 'thing', 'not', 'listed', 'in', 'the', 'program', 'was', 'the', 'sudden', 'playing', 'of', 'hepburns', 'singing', 'moon', 'river', 'on', 'the', 'fire', 'escape', 'in', 'breakfast', 'at', 'tiffanys', 'and', 'this', 'brought', 'much', 'emotion', 'and', 'some', 'real', 'tears', 'out', 'in', 'the', 'congregationbr', 'br', 'a', 'great', 'lady', 'who', 'was', 'once', 'a', 'fine', 'actress', 'as', 'in', 'the', 'nuns', 'story', 'and', 'one', 'of', 'the', 'greatest', 'and', 'most', 'beautiful', 'of', 'film', 'stars', 'in', 'many', 'movies', 'of', 'the', '50s', 'and', '60s', 'who', 'became', 'a', 'truly', 'bad', 'onethats', 'not', 'all', 'that', 'common', 'and', 'perhaps', 'it', 'is', 'only', 'a', 'great', 'human', 'being', 'who', 'in', 'making', 'such', 'things', 'as', 'film', 'performances', 'trivial', 'nevertheless', 'has', 'the', 'largeness', 'of', 'mind', 'to', 'want', 'to', 'have', 'the', 'flaws', 'pointed', 'out', 'mercilesslywhich', 'all', 'of', 'her', 'late', 'film', 'work', 'contained', 'in', 'abundance', 'most', 'of', 'the', 'talk', 'about', 'hepburns', 'miscasting', 'is', 'about', 'my', 'fair', 'lady', 'but', 'the', 'one', 'that', 'should', 'have', 'had', 'the', 'original', 'actress', 'in', 'it', 'was', 'wait', 'until', 'dark', 'which', 'had', 'starred', 'lee', 'remick', 'on', 'broadway', 'never', 'as', 'celebrated', 'as', 'hepburn', 'she', 'was', 'a', 'better', 'actress', 'in', 'many', 'ways', 'hepburn', 'was', 'completely', 'incapable', 'of', 'playing', 'anything', 'really', 'sordid', 'although', 'hepburn', 'was', 'at', 'least', 'adequate', 'enough', 'in', 'that', 'part', 'after', 'that', 'all', 'of', 'her', 'acting', 'went', 'downhill', '<END>'], ['<START>', 'i', 'think', 'i', 'will', 'make', 'a', 'movie', 'next', 'weekend', 'oh', 'wait', 'im', 'workingoh', 'im', 'sure', 'i', 'can', 'fit', 'it', 'in', 'it', 'looks', 'like', 'whoever', 'made', 'this', 'film', 'fit', 'it', 'in', 'i', 'hope', 'the', 'makers', 'of', 'this', 'crap', 'have', 'day', 'jobs', 'because', 'this', 'film', 'sucked', 'it', 'looks', 'like', 'someones', 'home', 'movie', 'and', 'i', 'dont', 'think', 'more', 'than', '100', 'was', 'spent', 'making', 'it', 'total', 'crap', 'who', 'lets', 'this', 'stuff', 'be', 'released', '<END>'], ['<START>', 'pros', 'nothingbr', 'br', 'cons', 'everythingbr', 'br', 'plot', 'summary', 'a', 'female', 'reporter', 'runs', 'into', 'a', 'hitchhiker', 'that', 'tells', 'her', 'stories', 'about', 'the', 'deaths', 'of', 'people', 'that', 'were', 'killed', 'by', 'zombiesbr', 'br', 'review', 'never', 'in', 'my', 'life', 'have', 'i', 'come', 'across', 'a', 'movie', 'as', 'bad', 'the', 'zombie', 'chronicles', 'filmed', 'on', 'a', 'budget', 'of', 'what', 'looks', 'to', 'be', 'about', '20', 'bucks', 'tzc', 'is', 'a', 'completely', 'horrible', 'horror', 'movie', 'that', 'relies', 'on', 'lame', 'forgetable', 'actors', 'whom', 'couldnt', 'act', 'to', 'save', 'their', 'lives', 'and', 'gore', 'thats', 'more', 'gross', 'than', 'frightening', 'how', 'does', 'a', 'movie', 'like', 'this', 'even', 'get', 'made', 'simply', 'put', 'avoid', 'tzc', 'like', 'a', 'sexuallytransmitted', 'diseasebr', 'br', 'my', 'last', '2', 'cents', 'humorously', 'enough', 'this', 'movie', 'was', 'made', 'by', 'a', 'movie', 'company', 'called', 'brain', 'damage', 'films', 'theyre', 'brains', 'must', 'have', 'really', 'been', 'damaged', 'to', 'come', 'up', 'with', 'a', 'craptacular', 'movie', 'like', 'thisbr', 'br', 'my', 'rating', '1', 'out', 'of', '10if', 'it', 'were', 'up', 'to', 'me', 'this', 'movie', 'would', 'get', 'the', 'rating', 'of', 'negative', 'bajillion', '<END>'], ['<START>', 'if', 'the', 'crew', 'behind', 'zombie', 'chronicles', 'ever', 'read', 'this', 'heres', 'some', 'advice', 'guys', 'br', 'br', '1', 'in', 'a', 'twist', 'endingtype', 'movie', 'its', 'not', 'a', 'good', 'idea', 'to', 'insert', 'closeups', 'of', 'every', 'death', 'in', 'the', 'movie', 'in', 'the', 'opening', 'credits', 'that', 'tends', 'to', 'spoil', 'the', 'twists', 'yknow', 'br', 'br', '2', 'i', 'know', 'you', 'produced', 'this', 'on', 'a', 'shoestring', 'and', '', 'to', 'be', 'fair', '', 'you', 'worked', 'miracles', 'with', 'your', 'budget', 'but', 'please', 'hire', 'people', 'who', 'can', 'actually', 'act', 'or', 'at', 'least', 'walk', 'talk', 'and', 'gesture', 'at', 'the', 'same', 'time', 'joe', 'haggerty', 'im', 'looking', 'at', 'youbr', 'br', '3', 'if', 'youre', 'going', 'to', 'set', 'a', 'part', 'of', 'your', 'movie', 'in', 'the', 'past', 'only', 'do', 'this', 'if', 'you', 'have', 'the', 'props', 'and', 'costumes', 'of', 'the', 'timebr', 'br', '4', 'twist', 'endings', 'are', 'supposed', 'to', 'be', 'a', 'surprise', 'sure', 'we', 'dont', 'want', 'twists', 'that', 'make', 'no', 'sense', 'but', 'signposting', 'the', 'reveal', 'as', 'soon', 'as', 'you', 'introduce', 'a', 'character', 'thats', 'not', 'a', 'great', 'ideabr', 'br', 'kudos', 'to', 'the', 'guys', 'for', 'trying', 'but', 'in', 'all', 'honesty', 'id', 'rather', 'they', 'hadntbr', 'br', 'only', 'for', 'zombie', 'completists', '<END>'], ['<START>', '1st', 'watched', '832003', '', '2', 'out', 'of', '10dirbrad', 'sykes', 'mindless', '3d', 'movie', 'about', 'flesheating', 'zombies', 'in', 'a', '3', 'story', 'within', 'a', 'movie', 'chronicle', 'and', 'yes', 'we', 'get', 'to', 'see', 'zombies', 'eating', 'human', 'flesh', 'parts', 'in', '3d', 'wow', 'not', 'that', 'has', 'been', 'done', 'time', 'and', 'time', 'again', 'in', '2d', 'in', 'a', 'zombie', 'movie', 'but', 'what', 'usually', 'makes', 'a', 'zombie', 'movie', 'better', 'is', 'the', 'underlying', 'story', 'not', 'the', 'actual', 'flesheating', 'thats', 'what', 'made', 'the', 'original', 'zombie', 'classics', 'good', 'the', 'flesheating', 'was', 'just', 'thrown', 'in', 'as', 'an', 'extra', 'were', 'actually', 'bored', 'throughout', 'most', 'of', 'this', '3part', 'chronicle', 'because', 'of', 'the', 'lametwilightzone', 'like', 'easily', 'understood', 'and', 'slowpacingly', 'revealed', 'finales', 'the', 'last', 'story', 'is', 'actually', 'the', 'story', 'the', 'movie', 'started', 'withhaving', 'a', 'reporter', 'investigating', 'a', 'socalled', 'ghost', 'town', 'and', 'of', 'course', 'we', 'get', 'to', 'see', 'flesh', 'eating', 'zombies', 'in', 'that', 'one', 'as', 'well', 'well', 'i', 'think', 'ive', 'said', 'enough', 'watch', 'the', 'classics', 'not', 'this', '3d', 'borefeast', '<END>'], ['<START>', 'theres', 'tons', 'of', 'goodlooking', 'women', 'in', 'this', 'flick', 'but', 'alas', 'this', 'movie', 'is', 'nudityfree', 'grrrrrrrrrr', 'strike', 'onebr', 'br', 'ahem', 'one', 'story', 'in', 'this', 'film', 'takes', 'place', 'in', '1971', 'then', 'why', 'the', 'hell', 'are', 'the', 'main', 'characters', 'driving', 'a', 'kia', 'sportage', 'hello', 'continuity', 'anyonebr', 'br', 'as', 'you', 'might', 'know', 'this', 'movie', 'was', 'released', 'in', 'stereoscopic', '3d', 'and', 'it', 'is', 'the', 'most', 'hideous', 'effect', 'i', 'have', 'ever', 'seen', 'im', 'not', 'sure', 'if', 'someone', 'botched', 'the', 'job', 'on', 'this', 'but', 'there', 'was', 'no', '3d', 'just', 'doublevision', 'blurs', 'i', 'didnt', 'have', 'the', 'same', 'problem', 'with', 'this', 'companys', 'other', '3d', 'movies', 'hunting', 'season', 'and', 'camp', 'blood', 'sure', 'the', '3d', 'in', 'those', 'ones', 'sucked', 'too', 'but', 'with', 'them', 'i', 'could', 'see', 'a', 'semblance', 'of', '3d', 'effectbr', 'br', 'this', 'thing', 'is', 'a', 'big', 'ball', 'of', 'nothingbr', 'br', 'and', 'whoever', 'that', 'women', 'was', 'who', 'played', 'the', 'daughter', 'of', 'the', 'eareating', 'dame', 'yum', 'id', 'like', 'to', 'see', 'more', 'of', 'her', 'in', 'movies', 'as', 'well', 'looks', 'like', 'janet', 'margolin', 'at', 'a', 'young', 'age', 'purrrrrrrrrrrrrrrrbr', 'br', '', '<END>'], ['<START>', 'en', 'route', 'to', 'a', 'small', 'town', 'that', 'lays', 'way', 'off', 'the', 'beaten', 'track', 'but', 'which', 'looks', 'suspiciously', 'close', 'to', 'a', 'freeway', 'a', 'female', 'reporter', 'runs', 'into', 'a', 'strange', 'hitchhiker', 'who', 'agrees', 'to', 'help', 'direct', 'her', 'to', 'her', 'destination', 'the', 'strange', 'man', 'then', 'recounts', 'a', 'pair', 'of', 'gruesome', 'tales', 'connected', 'to', 'the', 'area', 'in', 'the', 'first', 'story', 'an', 'adulterous', 'couple', 'plot', 'to', 'kill', 'the', 'womans', 'husband', 'but', 'eventually', 'suffer', 'a', 'far', 'worse', 'fate', 'themselves', 'when', 'they', 'are', 'attacked', 'by', 'a', 'zombie', 'and', 'in', 'the', 'second', 'story', 'a', 'group', 'of', 'campers', 'have', 'their', 'vacation', 'cut', 'short', 'when', 'an', 'undead', 'outlaw', 'takes', 'umbrage', 'at', 'having', 'his', 'grave', 'peed', 'onbr', 'br', 'the', 'zombie', 'chronicles', 'is', 'an', 'attempt', 'by', 'writer', 'garrett', 'clancy', 'and', 'director', 'brad', 'sykes', 'at', 'making', 'a', 'zombie', 'themed', 'anthologya', 'nice', 'idea', 'but', 'with', 'only', 'two', 'stories', 'it', 'falls', 'woefully', 'short', 'and', 'thats', 'not', 'the', 'only', 'way', 'in', 'which', 'this', 'low', 'budget', 'gore', 'flick', 'fails', 'to', 'deliver', 'the', 'acting', 'is', 'lousy', 'with', 'joe', 'haggerty', 'as', 'the', 'taletelling', 'ebenezer', 'jackson', 'giving', 'one', 'of', 'the', 'strangest', 'performances', 'i', 'have', 'ever', 'seen', 'the', 'locations', 'are', 'uninspired', 'the', 'script', 'is', 'dreary', 'theres', 'a', 'sex', 'scene', 'with', 'zero', 'nudity', 'and', 'the', 'ending', 'well', 'that', 'beggars', 'beliefbr', 'br', 'to', 'be', 'fair', 'some', 'of', 'sykes', 'creative', 'camerawork', 'is', 'effective', 'although', 'the', 'gimmicky', 'technique', 'employed', 'as', 'characters', 'run', 'through', 'the', 'woods', 'is', 'a', 'tad', 'overused', 'and', 'joe', 'castros', 'cheapo', 'gore', 'is', 'enthusiastic', 'an', 'ear', 'is', 'bitten', 'off', 'eyeballs', 'are', 'plucked', 'out', 'a', 'face', 'is', 'removed', 'brains', 'are', 'squished', 'and', 'there', 'is', 'a', 'messy', 'decapitation', 'these', 'positives', 'just', 'about', 'make', 'the', 'film', 'bearable', 'but', 'be', 'warned', 'the', 'zombie', 'chronicles', 'aint', 'a', 'stroll', 'in', 'the', 'park', 'even', 'for', 'seasoned', 'viewers', 'of', 'zgrade', 'trashbr', 'br', 'i', 'give', 'the', 'zombie', 'chronicles', '210', 'but', 'generously', 'raise', 'my', 'rating', 'to', '3', 'since', 'i', 'didnt', 'get', 'to', 'view', 'the', 'film', 'with', 'the', 'benefit', 'of', '3d', 'although', 'i', 'have', 'a', 'sneaking', 'suspicion', 'that', 'an', 'extra', 'dimension', 'wouldnt', 'have', 'made', 'that', 'much', 'of', 'a', 'difference', '<END>'], ['<START>', 'without', 'wishing', 'to', 'be', 'a', 'killjoy', 'brad', 'sykes', 'is', 'responsible', 'for', 'at', 'least', 'two', 'of', 'the', 'most', 'dull', 'and', 'clichéd', 'films', 'ive', 'ever', 'seen', '', 'this', 'being', 'one', 'of', 'them', 'and', 'camp', 'blood', 'being', 'another', 'br', 'br', 'the', 'acting', 'is', 'terrible', 'the', 'print', 'is', 'shoddy', 'and', 'everything', 'about', 'this', 'film', 'screams', 'seriously', 'you', 'could', 'do', 'better', 'yourself', 'maybe', 'this', 'is', 'a', 'challenge', 'to', 'everyone', 'to', 'saturate', 'youtube', 'with', 'our', 'own', 'zombie', 'related', 'crapbr', 'br', 'i', 'bought', 'this', 'for', '1', 'but', 'remember', 'you', 'cant', 'put', 'a', 'price', 'on', '71', 'minutes', 'of', 'your', 'life', 'youd', 'do', 'well', 'to', 'avoid', 'this', 'turkey', 'even', 'at', 'a', 'bargain', 'basement', 'price', '<END>'], ['<START>', 'my', 'girlfriend', 'once', 'brought', 'around', 'the', 'zombie', 'chronicles', 'for', 'us', 'to', 'watch', 'as', 'a', 'joke', 'little', 'did', 'we', 'realize', 'the', 'joke', 'was', 'on', 'her', 'for', 'paying', '1', 'for', 'it', 'while', 'watching', 'this', 'film', 'i', 'started', 'to', 'come', 'up', 'with', 'things', 'i', 'would', 'rather', 'be', 'doing', 'than', 'watching', 'the', 'zombie', 'chronicles', 'these', 'includedbr', 'br', '1', 'drinking', 'bleach', '2', 'rubbing', 'sand', 'in', 'my', 'eyes', '3', 'writing', 'a', 'letter', 'to', 'brad', 'sykes', 'and', 'garrett', 'clancy', '4', 'reenacting', 'the', 'american', 'civil', 'war', '5', 'tax', 'returns', '6', 'gcse', 'maths', '7', 'sex', 'with', 'an', 'old', 'ladybr', 'br', 'garrett', 'clancy', 'aka', 'sgt', 'ben', 'draper', 'wrote', 'this', 'the', 'guy', 'couldnt', 'even', 'dig', 'a', 'hole', 'properly', 'the', 'best', 'ting', 'he', 'did', 'was', 'kick', 'a', 'door', 'down', 'the', 'best', 'part', 'of', 'the', 'film', 'this', 'was', 'the', 'worst', 'film', 'i', 'have', 'ever', 'seen', 'and', 'ive', 'seen', 'white', 'noise', 'the', 'light', 'never', 'has', 'a', 'film', 'had', 'so', 'many', 'mistakes', 'in', 'it', 'my', 'girlfriend', 'left', 'it', 'here', 'so', 'now', 'i', 'live', 'with', 'the', 'shame', 'of', 'owning', 'this', 'piece', 'of', 'crapbr', 'br', 'news', 'just', 'in', 'owen', 'wilson', 'watched', 'this', 'film', 'and', 'tried', 'to', 'kill', 'himself', 'factbr', 'br', 'do', 'not', 'watch', '<END>'], ['<START>', 'amateur', 'no', 'budget', 'films', 'can', 'be', 'surprisingly', 'good', '', 'this', 'however', 'is', 'not', 'one', 'of', 'thembr', 'br', 'ah', 'another', 'brad', 'sykes', 'atrocity', 'the', 'acting', 'is', 'hideous', 'except', 'for', 'emmy', 'smith', 'who', 'shows', 'some', 'promise', 'the', 'camera', 'direction', 'needs', 'serious', 'reworking', 'and', 'no', 'more', 'hold', 'the', 'camera', 'and', 'run', 'gimmicks', 'either', 'it', 'just', 'doesnt', 'work', 'the', 'special', 'effects', 'are', 'unimaginative', 'theres', 'a', 'problem', 'when', 'the', 'effect', 'can', 'be', 'identified', 'in', 'real', 'time', 'if', 'youre', 'going', 'to', 'rip', 'off', 'an', 'ear', 'please', 'dont', 'let', 'us', 'see', 'the', 'actors', 'real', 'ear', 'beneath', 'the', 'blood', 'the', 'scenery', 'is', 'bland', 'and', 'boring', 'same', 'as', 'mr', 'sykes', 'other', 'ventures', 'and', 'the', 'music', 'is', 'a', 'cross', 'between', 'cheap', 'motel', 'porn', 'and', 'really', 'bad', 'guitar', 'driven', 'metal', 'see', 'the', 'scenery', 'commentbr', 'br', 'did', 'i', 'mention', 'the', 'lack', 'of', 'any', 'real', 'plot', 'or', 'character', 'development', 'apparently', 'the', 'scriptwriter', 'didntbr', 'br', 'whoever', 'is', 'funding', 'this', 'guy', '', 'please', 'stop', 'ive', 'seen', 'some', 'of', 'his', 'other', 'home', 'movies', 'which', 'i', 'will', 'not', 'plug', 'and', 'they', 'are', 'just', 'as', 'bad', 'normally', 'a', 'director', 'will', 'grow', 'and', 'learn', 'from', 'his', 'previous', 'efforts', '', 'not', 'this', 'guy', 'its', 'one', 'thing', 'to', 'be', 'an', 'amateur', 'filmmaker', 'but', 'anyone', 'can', 'be', 'a', 'hackbr', 'br', 'definitely', 'not', 'even', 'a', 'popcorn', 'film', '', 'of', 'course', 'chewing', 'on', 'popcorn', 'kernels', 'would', 'be', 'less', 'painful', 'than', 'this', 'effortbr', 'br', 'award', 'the', 'worst', 'ever', 'military', 'pushups', 'in', 'a', 'film', '<END>'], ['<START>', 'ok', 'its', 'not', 'the', 'best', 'film', 'ive', 'ever', 'seen', 'but', 'at', 'the', 'same', 'time', 'ive', 'been', 'able', 'to', 'sit', 'and', 'watch', 'it', 'twice', 'story', 'line', 'was', 'pretty', 'awful', 'and', 'during', 'the', 'first', 'part', 'of', 'the', 'first', 'short', 'story', 'i', 'wondered', 'what', 'the', 'hell', 'i', 'was', 'watching', 'but', 'at', 'the', 'same', 'time', 'it', 'was', 'so', 'awful', 'i', 'loved', 'it', 'cheap', 'laughs', 'all', 'the', 'waybr', 'br', 'and', 'jebidia', 'deserves', 'an', 'oscar', 'for', 'his', 'role', 'in', 'this', 'movie', 'the', 'only', 'thing', 'that', 'let', 'him', 'down', 'was', 'half', 'way', 'through', 'he', 'stopped', 'his', 'silly', 'name', 'callingbr', 'br', 'overall', 'the', 'film', 'was', 'pretty', 'perfetic', 'but', 'if', 'your', 'after', 'cheap', 'laughs', 'and', 'you', 'see', 'it', 'in', 'pound', 'land', 'go', 'by', 'it', '<END>'], ['<START>', 'some', 'films', 'that', 'you', 'pick', 'up', 'for', 'a', 'pound', 'turn', 'out', 'to', 'be', 'rather', 'good', '', '23rd', 'century', 'films', 'released', 'dozens', 'of', 'obscure', 'italian', 'and', 'american', 'movie', 'that', 'were', 'great', 'but', 'although', 'hardgore', 'released', 'some', 'fulci', 'films', 'amongst', 'others', 'the', 'bulk', 'of', 'their', 'output', 'is', 'crap', 'like', 'the', 'zombie', 'chroniclesbr', 'br', 'the', 'only', 'positive', 'thing', 'i', 'can', 'say', 'about', 'this', 'film', 'is', 'that', 'its', 'nowhere', 'near', 'as', 'annoying', 'as', 'the', 'stink', 'of', 'flesh', 'other', 'than', 'that', 'its', 'a', 'very', 'clumsy', 'anthology', 'film', 'with', 'the', 'technical', 'competence', 'of', 'a', 'lego', 'house', 'built', 'by', 'a', 'whelkbr', 'br', 'its', 'been', 'noted', 'elsewhere', 'but', 'you', 'really', 'do', 'have', 'to', 'worry', 'about', 'a', 'film', 'that', 'inserts', 'previews', 'of', 'the', 'action', 'into', 'its', 'credit', 'sequence', 'so', 'by', 'the', 'time', 'it', 'gets', 'to', 'the', 'zombie', 'attacks', 'youve', 'seen', 'it', 'all', 'alreadybr', 'br', 'bad', 'movie', 'fans', 'will', 'have', 'a', 'ball', 'watching', 'the', '18000', 'continuity', 'mistakes', 'and', 'the', 'diabolical', 'acting', 'of', 'the', 'cast', 'especially', 'the', 'hitchhiker', 'who', 'was', 'so', 'bad', 'he', 'did', 'make', 'me', 'laugh', 'a', 'bit', 'and', 'kudos', 'to', 'hardgore', 'for', 'getting', 'in', 'to', 'the', 'spirit', 'of', 'things', 'by', 'releasing', 'a', 'print', 'so', 'bad', 'it', 'felt', 'like', 'i', 'was', 'watching', 'some', 'beat', 'up', 'home', 'video', 'of', 'a', 'camping', 'tripbr', 'br', 'awful', 'awful', 'stuff', 'weve', 'all', 'made', 'stuff', 'like', 'this', 'when', 'weve', 'gotten', 'a', 'hold', 'of', 'a', 'camera', 'but', 'common', 'sense', 'prevails', 'and', 'these', 'films', 'languish', 'in', 'our', 'cupboards', 'somewhere', 'avoid', '<END>'], ['<START>', 'i', 'received', 'this', 'movie', 'as', 'a', 'gift', 'i', 'knew', 'from', 'the', 'dvd', 'cover', 'this', 'movie', 'are', 'going', 'to', 'be', 'badafter', 'not', 'watching', 'it', 'for', 'more', 'than', 'a', 'year', 'i', 'finally', 'watched', 'it', 'what', 'a', 'pathetic', 'moviebr', 'br', 'i', 'almost', 'didnt', 'finish', 'watching', 'this', 'bad', 'moviebut', 'it', 'will', 'be', 'unfair', 'of', 'me', 'to', 'write', 'a', 'review', 'without', 'watching', 'the', 'complete', 'moviebr', 'br', 'trust', 'me', 'when', 'i', 'say', '', 'this', 'movie', 'sucks', 'i', 'am', 'truly', 'shocked', 'that', 'some', 'bad', 'filmmaker', 'wane', 'bee', 'got', 'even', 'financed', 'to', 'make', 'this', 'pathetic', 'movie', 'but', 'it', 'couldnt', 'have', 'cost', 'more', 'than', '20', '000', 'to', 'produce', 'this', 'movie', 'all', 'you', 'need', 'are', 'a', 'cheap', 'camcorder', 'or', 'a', 'cell', 'phone', 'camera', 'about', '15', 'people', 'with', 'no', 'acting', 'skills', 'a', 'scrip', 'that', 'were', 'written', 'by', 'a', 'couple', 'of', 'drunk', 'peoplebr', 'br', 'in', 'the', 'fist', 'part', 'of', 'this', 'ultra', 'bad', 'move', 'a', 'reporter', 'tara', 'woodley', 'run', 'a', 'suppose', 'to', 'be', 'drunk', 'man', 'over', 'on', 'her', 'way', 'to', 'report', 'on', 'a', 'hunted', 'town', 'he', 'are', 'completely', 'unharmed', 'they', 'went', 'to', 'a', 'supposed', 'to', 'be', 'abandon', 'house', 'but', 'luckily', 'for', 'the', 'it', 'almost', 'complete', 'furnished', 'and', 'a', 'bottle', 'of', 'liquor', 'on', 'the', 'door', 'step', 'happens', 'to', 'be', 'there', 'just', 'for', 'the', 'supposed', 'to', 'be', 'drunk', 'man', 'but', 'all', 'is', 'not', 'what', 'it', 'seemsbr', 'br', 'then', 'the', 'supposed', 'drunk', 'man', 'start', 'telling', 'tara', 'ghostzombies', 'storiesbr', 'br', 'the', 'fist', 'of', 'his', 'stupid', 'lame', 'stories', 'must', 'be', 'the', 'worst', 'in', 'historybr', 'br', 'his', 'storybr', 'br', 'sgt', 'ben', 'draper', 'let', 'one', 'of', 'his', 'soldiers', 'die', 'of', 'complete', 'exhaustion', 'i', 'think', 'this', 'is', 'what', 'happensafter', 'letting', 'the', 'poor', 'soldier', 'private', 'wilson', 'do', 'sit', 'ups', 'he', 'let', 'him', 'dig', 'a', 'grave', 'and', 'then', 'the', 'soldier', 'collapse', 'ben', 'draperbr', 'br', 'buries', 'him', 'in', 'a', 'shallow', 'gravebr', 'br', 'but', 'sgt', 'ben', 'draper', 'are', 'in', 'for', 'n', 'big', 'surprise', 'his', 'wifegirl', 'fiend', 'knows', 'about', 'this', 'and', 'she', 'and', 'her', 'lover', 'kills', 'sgt', 'ben', 'draper', 'to', 'take', 'revenge', 'on', 'private', 'wilsonnext', 'to', 'the', 'grave', 'of', 'the', 'soldier', 'he', 'sort', 'off', 'murdered', 'the', 'soldier', 'wakes', 'up', 'from', 'his', 'grave', 'in', 'the', 'form', 'of', 'zombie', 'and', 'kill', 'them', 'for', 'taking', 'revenge', 'on', 'his', 'behalfbr', 'br', 'the', 'twist', 'ending', 'were', 'so', 'lamebr', 'br', 'even', 'if', 'you', 'like', 'b', 'horror', 'movies', 'dont', 'watch', 'this', 'movie', '<END>'], ['<START>', 'i', 'have', 'not', 'seen', 'many', 'low', 'budget', 'films', 'i', 'must', 'admit', 'but', 'this', 'is', 'the', 'worst', 'movie', 'ever', 'probably', 'the', 'main', 'character', 'the', 'old', 'man', 'talked', 'like', 'he', 'had', 'a', 'lobotomy', 'and', 'lost', 'the', 'power', 'to', 'speak', 'more', 'than', 'one', 'word', 'every', '5', 'seconds', 'a', '5', 'year', 'old', 'could', 'act', 'better', 'the', 'story', 'had', 'the', 'most', 'awful', 'plot', 'and', 'well', 'the', 'army', 'guy', 'had', 'put', 'what', 'he', 'thought', 'was', 'army', 'like', 'and', 'then', 'just', 'went', 'over', 'the', 'top', 'i', 'only', 'watched', 'it', 'to', 'laugh', 'at', 'how', 'bad', 'it', 'was', 'and', 'hoped', 'it', 'was', 'leading', 'onto', 'the', 'real', 'movie', 'i', 'cant', 'believe', 'it', 'was', 'under', 'the', '2', 'night', 'rental', 'thing', 'at', 'blockbusters', 'instead', 'of', 'a', 'please', 'take', 'this', 'for', 'free', 'and', 'get', 'it', 'out', 'of', 'our', 'sight', 'i', 'think', 'there', 'was', 'one', 'semi', 'decent', 'actor', 'other', 'than', 'the', 'woman', 'i', 'think', 'the', 'only', 'thing', 'ok', 'with', 'the', 'budget', 'was', 'the', 'make', 'up', 'but', 'they', 'show', 'every', 'important', 'scene', 'of', 'the', 'film', 'in', 'the', 'beginning', 'music', 'bit', 'awful', 'simply', 'awful', '<END>'], ['<START>', 'oh', 'wait', 'i', 'can', 'this', 'movie', 'is', 'not', 'for', 'the', 'typical', 'film', 'snob', 'unless', 'you', 'want', 'to', 'brush', 'up', 'on', 'your', 'typical', 'cinematic', 'definitions', 'like', 'continuity', 'editing', 'and', 'geographic', 'match', 'i', 'couldnt', 'tell', 'where', 'i', 'was', 'in', 'this', 'movie', 'one', 'second', 'theyre', 'in', 'the', 'present', 'next', 'minute', 'their', 'supposedly', 'in', 'the', '70s', 'driving', 'a', 'modern', 'suv', 'and', 'wearing', 'what', 'looked', 'like', 'to', 'me', 'as', '80s', 'style', 'clothing', 'i', 'think', 'i', 'couldnt', 'pay', 'long', 'enough', 'attention', 'to', 'it', 'since', 'the', 'acting', 'was', 'just', 'horrible', 'i', 'think', 'it', 'only', 'got', 'attention', 'because', 'it', 'has', 'a', '3d', 'which', 'i', 'did', 'not', 'watch', 'if', 'youre', 'a', 'bmovie', 'buff', 'and', 'by', 'bmovie', 'i', 'mean', 'bad', 'movie', 'then', 'this', 'film', 'is', 'for', 'you', 'its', 'homemovie', 'and', 'all', 'nonsense', 'style', 'will', 'keep', 'you', 'laughing', 'for', 'as', 'long', 'as', 'you', 'can', 'stay', 'awake', 'if', 'your', 'tastes', 'are', 'more', 'for', 'goddard', 'and', 'antonioni', 'though', 'just', 'skip', 'this', 'one', '<END>'], ['<START>', 'you', 'have', 'to', 'admire', 'brad', 'sykes', 'even', 'if', 'you', 'dont', 'particularly', 'want', 'to', 'a', 'man', 'who', 'churns', 'out', 'budget', 'horror', 'after', 'budget', 'horror', 'to', 'less', 'than', 'enthusiastic', 'receptions', 'but', 'keeps', 'on', 'doing', 'it', 'all', 'the', 'same', 'even', 'the', 'halfhearted', 'praise', 'than', 'surrounds', 'his', 'camp', 'blood', 'films', 'is', 'given', 'grudgingly', 'and', 'im', 'as', 'guilty', 'of', 'this', 'as', 'anyone', 'brad', 'normally', 'manages', 'to', 'throw', 'something', 'interesting', 'into', 'the', 'mix', 'a', 'neat', 'idea', 'a', 'kooky', 'character', 'whatever', 'but', 'without', 'the', 'funds', 'to', 'take', 'it', 'further', 'than', 'base', 'level', 'he', 'relies', 'on', 'the', 'audience', 'to', 'cut', 'him', 'some', 'slack', 'and', 'appreciate', 'it', 'for', 'what', 'it', 'is', 'and', 'what', 'it', 'could', 'be', 'joe', 'haggerty', 'gives', 'a', 'spirited', 'and', 'very', 'funny', 'performance', 'as', 'ebenezer', 'jackson', 'and', 'its', 'a', 'credit', 'to', 'sykes', 'that', 'he', 'can', 'sense', 'that', 'this', 'oddball', 'turn', 'is', 'going', 'to', 'work', 'within', 'the', 'framework', 'of', 'the', 'film', 'coming', 'to', 'a', 'multiplex', 'near', 'you', 'in', 'a', 'parallel', 'universe', 'somewhere', '<END>'], ['<START>', 'the', 'zombie', 'chronicles', 'br', 'br', 'aspect', 'ratio', '1331', 'nuview', '3dbr', 'br', 'sound', 'format', 'monobr', 'br', 'whilst', 'searching', 'for', 'a', 'literal', 'ghost', 'town', 'in', 'the', 'middle', 'of', 'nowhere', 'a', 'young', 'reporter', 'emmy', 'smith', 'picks', 'up', 'a', 'grizzled', 'hitchhiker', 'joseph', 'haggerty', 'who', 'tells', 'her', 'two', 'stories', 'involving', 'flesheating', 'zombies', 'reputed', 'to', 'haunt', 'the', 'areabr', 'br', 'an', 'absolute', 'waste', 'of', 'time', 'hobbled', 'from', 'the', 'outset', 'by', 'haggertys', 'painfully', 'amateurish', 'performance', 'in', 'a', 'key', 'role', 'worse', 'still', 'the', 'two', 'stories', 'which', 'make', 'up', 'the', 'bulk', 'of', 'the', 'running', 'time', 'are', 'utterly', 'routine', 'made', 'worse', 'by', 'indifferent', 'performances', 'and', 'lackluster', 'direction', 'by', 'brad', 'sykes', 'previously', 'responsible', 'for', 'the', 'likes', 'of', 'camp', 'blood', '1999', 'this', 'isnt', 'a', 'fun', 'movie', 'in', 'the', 'sense', 'that', 'ed', 'woods', 'movies', 'are', 'fun', 'he', 'at', 'least', 'believed', 'in', 'what', 'he', 'was', 'doing', 'and', 'was', 'sincere', 'in', 'his', 'efforts', 'despite', 'a', 'lack', 'of', 'talent', 'sykes', 'homemade', 'movies', 'are', 'in', 'fact', 'aggravating', 'boring', 'and', 'almost', 'completely', 'devoid', 'of', 'any', 'redeeming', 'virtue', 'and', 'most', 'viewers', 'will', 'feel', 'justifiably', 'angry', 'and', 'cheated', 'by', 'such', 'unimaginative', 'badlyconceived', 'junk', 'the', '3d', 'format', 'is', 'utterly', 'wasted', 'here', '<END>'], ['<START>', 'a', 'woman', 'asks', 'for', 'advice', 'on', 'the', 'road', 'to', 'reach', 'a', 'mysterious', 'town', 'and', 'hears', 'two', 'ghoulish', 'stories', 'from', 'the', 'local', 'weirdo', 'both', 'zombie', 'related', 'but', 'perhaps', 'fate', 'has', 'something', 'nasty', 'in', 'store', 'for', 'her', 'toobr', 'br', 'the', 'zombie', 'chronicles', 'is', 'absolutely', 'one', 'of', 'the', 'worst', 'films', 'i', 'have', 'ever', 'seen', 'in', 'fact', 'i', 'must', 'confess', 'so', 'bad', 'was', 'it', 'i', 'fast', 'forwarded', 'through', 'most', 'of', 'the', 'garbage', 'and', 'there', 'was', 'a', 'lot', 'of', 'that', 'believe', 'me', 'it', 'runs', 'for', 'just', '69', 'minutes', 'and', 'there', 'is', 'still', 'tons', 'of', 'filler', 'you', 'get', 'some', 'skinhead', 'doing', 'a', 'lot', 'of', 'push', 'ups', 'plenty', 'of', 'dull', 'kissykissy', 'scenes', 'between', 'goofy', 'teens', 'that', 'rhymed', 'tee', 'hee', 'and', 'some', 'fine', 'examples', 'of', 'why', 'some', 'people', 'should', 'never', 'become', 'actorsbr', 'br', 'as', 'for', 'the', 'title', 'characters', 'they', 'barely', 'even', 'have', 'a', 'footnote', 'in', 'the', 'film', 'why', 'you', 'get', 'more', 'undead', 'action', 'in', 'the', 'intro', 'than', 'you', 'do', 'the', 'preceding', 'feature', 'though', 'considering', 'how', 'pathetic', 'the', 'eyes', 'bursting', 'out', 'of', 'sockets', 'and', 'the', 'eating', 'of', 'brains', 'sequences', 'are', 'amongst', 'other', 'delights', 'maybe', 'thats', 'a', 'blessing', 'in', 'disguisebr', 'br', 'and', 'to', 'top', 'it', 'all', 'off', 'it', 'looks', 'likes', 'its', 'been', 'filmed', 'on', 'someones', 'mobile', 'phone', 'for', 'broadcast', 'on', 'youtube', 'jerky', 'camerawork', 'scratches', 'on', 'the', 'print', 'flickering', 'lights', 'i', 'had', 'to', 'rub', 'my', 'eyes', 'when', 'i', 'realised', 'it', 'was', 'made', 'in', '2001', 'and', 'not', '1971', 'even', 'the', 'clothes', 'and', 'fashioned', 'look', 'about', 'three', 'decades', 'out', 'of', 'datebr', 'br', 'if', 'you', 'think', 'im', 'not', 'qualified', 'to', 'do', 'a', 'review', 'of', 'chronicles', 'having', 'not', 'seen', 'the', 'whole', 'film', 'then', 'go', 'ahead', 'you', 'try', 'sitting', 'through', 'it', 'i', 'betcha', 'you', 'wont', 'even', 'make', 'it', 'to', 'the', 'first', 'appearance', 'of', 'the', 'bluesmartie', 'coloured', 'freaks', 'before', 'making', 'your', 'excuses', 'and', 'leaving', 'it', 'is', 'truly', 'laughable', 'that', 'anyone', 'chose', 'to', 'release', 'it', 'and', 'honestly', 'youll', 'get', 'far', 'more', 'fun', 'resting', 'your', 'drink', 'on', 'the', 'disc', 'than', 'actually', 'torturing', 'your', 'dvd', 'player', 'with', 'this', 'gigglesome', 'excuse', 'for', 'horror', 'in', 'fact', 'dont', 'for', 'surprised', 'if', 'it', 'packs', 'its', 'bags', 'and', 'leaves', 'in', 'the', 'morning', 'leaving', 'you', 'doomed', 'to', 'watch', 'vhs', 'tapes', 'for', 'the', 'rest', 'of', 'your', 'life', 'you', 'have', 'been', 'warned', '010br', 'br', 'ps', 'what', 'kind', 'of', '18rated', 'horror', 'has', 'the', 'woman', 'keep', 'a', 'massive', 'sports', 'bra', 'on', 'during', 'the', 'obligatory', 'sex', 'scene', 'see', 'the', 'movie', 'cant', 'even', 'get', 'that', 'part', 'right', '<END>'], ['<START>', 'really', 'i', 'cant', 'believe', 'that', 'i', 'spent', '5', 'on', 'this', 'movie', 'i', 'am', 'a', 'huge', 'zombie', 'fanatic', 'and', 'thought', 'the', 'movie', 'couldnt', 'be', 'that', 'bad', 'it', 'had', 'zombies', 'in', 'it', 'right', 'was', 'i', 'wrong', 'to', 'be', 'honest', 'the', 'movie', 'had', 'its', 'momentsi', 'thought', 'it', 'was', 'cool', 'when', 'the', 'guy', 'got', 'his', 'head', 'ripped', 'off', 'but', 'that', 'was', 'about', 'it', 'overall', 'i', 'think', 'that', 'it', 'would', 'be', 'more', 'enjoyable', 'to', 'slide', 'down', 'a', 'razorblade', 'slide', 'on', 'my', 'bare', 'nutsack', 'into', 'a', 'vat', 'of', 'vinegar', 'then', 'watch', 'this', 'movie', 'again', 'the', 'movie', 'could', 'have', 'been', 'better', 'if', 'we', 'could', 'see', 'some', 'boob', 'but', 'i', 'had', 'to', 'watch', 'the', 'trailers', 'for', 'the', 'other', 'movies', 'produced', 'by', 'this', 'company', 'to', 'see', 'that', 'buyer', 'bewareunless', 'you', 'are', 'into', 'masochism', '<END>'], ['<START>', 'i', 'rented', 'this', 'movie', 'about', '3', 'years', 'ago', 'and', 'it', 'still', 'stands', 'out', 'in', 'my', 'mind', 'as', 'the', 'worst', 'movie', 'ever', 'made', 'i', 'dont', 'think', 'i', 'ever', 'finished', 'it', 'it', 'is', 'worse', 'than', 'a', 'home', 'video', 'made', 'by', 'a', 'high', 'school', 'student', 'i', 'remember', 'them', 'doing', 'a', 'flashback', 'to', '1970', 'something', 'and', 'in', 'the', 'flashback', 'there', 'was', 'a', 'man', 'with', 'a', 'polo', 'shirt', 'oakley', 'sunglasses', 'and', 'a', 'newer', 'suv', 'like', 'a', 'toyota', 'rav4', 'or', 'something', 'i', 'dont', 'remember', 'i', 'dont', 'understand', 'how', 'they', 'could', 'have', 'possibly', 'said', 'that', 'to', 'be', 'in', 'the', '70s', 'he', 'might', 'have', 'had', 'a', 'cell', 'phone', 'too', 'i', 'cant', 'remember', 'it', 'was', 'just', 'horrible', 'i', 'returned', 'it', 'to', 'the', 'video', 'store', 'and', 'asked', 'them', 'why', 'they', 'even', 'carry', 'the', 'movie', 'and', 'if', 'i', 'could', 'get', 'the', 'hour', 'of', 'my', 'life', 'back', 'to', 'this', 'day', 'it', 'is', 'the', 'worst', 'movie', 'i', 'have', 'ever', 'seen', 'and', 'i', 'have', 'seen', 'some', 'pretty', 'bad', 'ones', '<END>'], ['<START>', 'spoilersbr', 'br', 'i', 'was', 'very', 'disappointed', 'in', 'loves', 'abiding', 'joy', 'i', 'had', 'been', 'waiting', 'a', 'really', 'long', 'time', 'to', 'see', 'it', 'and', 'i', 'finally', 'got', 'the', 'chance', 'when', 'it', 'reaired', 'thursday', 'night', 'on', 'hallmark', 'i', 'love', 'the', 'first', 'three', 'love', 'movies', 'but', 'this', 'one', 'was', 'nothing', 'like', 'i', 'thought', 'it', 'was', 'going', 'to', 'be', 'the', 'whole', 'movie', 'was', 'sad', 'and', 'depressing', 'there', 'were', 'way', 'to', 'many', 'goofs', 'and', 'the', 'editing', 'was', 'very', 'poor', '', 'to', 'many', 'scenes', 'out', 'of', 'context', 'i', 'also', 'think', 'the', 'death', 'of', 'baby', 'kathy', 'happened', 'way', 'to', 'soon', 'and', 'clarks', 'appearance', 'in', 'the', 'movie', 'just', 'didnt', 'seem', 'to', 'fit', 'it', 'seemed', 'like', 'none', 'of', 'the', 'actors', 'really', 'wanted', 'to', 'be', 'there', '', 'they', 'were', 'all', 'lacking', 'emotion', 'there', 'seemed', 'to', 'be', 'no', 'interaction', 'between', 'missie', 'and', 'willie', 'at', 'allbr', 'br', 'i', 'think', 'the', 'script', 'writers', 'should', 'have', 'went', 'more', 'by', 'the', 'book', 'it', 'seems', 'like', 'every', 'movie', 'thats', 'been', 'made', 'so', 'far', 'just', 'slips', 'further', 'and', 'further', 'away', 'from', 'janette', 'okes', 'writings', 'i', 'mean', 'in', 'the', 'movie', 'they', 'never', 'mentioned', 'a', 'thing', 'about', 'the', 'mine', 'and', 'the', 'two', 'boys', 'or', 'clark', 'getting', 'hurt', 'because', 'of', 'it', 'and', 'i', 'think', 'missie', 'and', 'willies', 'reactions', 'to', 'kathys', 'death', 'could', 'have', 'been', 'shown', 'and', 'heard', 'rather', 'than', 'just', 'heardbr', 'br', 'out', 'of', 'the', 'four', 'movies', 'that', 'have', 'been', 'made', 'so', 'far', 'id', 'have', 'to', 'say', 'that', 'loves', 'abiding', 'joy', 'is', 'my', 'least', 'favorite', 'i', 'hope', 'with', 'the', 'next', 'four', 'movies', 'that', 'more', 'of', 'the', 'book', 'is', 'followed', 'and', 'if', 'clarks', 'character', 'is', 'in', 'them', 'i', 'hope', 'hes', 'got', 'a', 'bigger', 'part', 'and', 'i', 'hope', 'his', 'part', 'isnt', 'so', 'bland', 'i', 'also', 'hope', 'there', 'is', 'more', 'of', 'scottie', 'and', 'cookie', 'and', 'maybe', 'even', 'marty', 'but', 'who', 'knows', 'what', 'the', 'script', 'writers', 'will', 'have', 'in', 'store', 'next', '<END>'], ['<START>', 'ive', 'seen', 'all', 'four', 'of', 'the', 'movies', 'in', 'this', 'series', 'each', 'one', 'strays', 'further', 'and', 'further', 'from', 'the', 'books', 'this', 'is', 'the', 'worst', 'one', 'yet', 'my', 'problem', 'is', 'that', 'it', 'does', 'not', 'follow', 'the', 'book', 'it', 'is', 'titled', 'after', 'in', 'any', 'way', 'the', 'directors', 'and', 'producers', 'should', 'have', 'named', 'it', 'any', 'thing', 'other', 'than', 'loves', 'abiding', 'joy', 'the', 'only', 'thing', 'about', 'this', 'movie', 'that', 'remotely', 'resembles', 'the', 'book', 'are', 'the', 'names', 'of', 'some', 'of', 'the', 'characters', 'willie', 'missie', 'henry', 'clark', 'scottie', 'and', 'cookie', 'the', 'namesagesgenders', 'of', 'the', 'children', 'are', 'wrong', 'the', 'entire', 'story', 'line', 'is', 'no', 'where', 'in', 'the', 'bookbr', 'br', 'i', 'find', 'it', 'a', 'great', 'disservice', 'to', 'janette', 'oke', 'her', 'books', 'and', 'her', 'fans', 'to', 'produce', 'a', 'movie', 'under', 'her', 'title', 'that', 'is', 'not', 'correct', 'in', 'any', 'way', 'the', 'music', 'is', 'too', 'loud', 'the', 'actors', 'are', 'not', 'convincing', '', 'they', 'lack', 'emotionsbr', 'br', 'if', 'you', 'want', 'a', 'good', 'family', 'movie', 'this', 'might', 'do', 'it', 'is', 'clean', 'dont', 'watch', 'it', 'though', 'if', 'you', 'are', 'hoping', 'for', 'a', 'condensed', 'version', 'of', 'the', 'book', 'i', 'hope', 'that', 'this', 'will', 'be', 'the', 'last', 'movie', 'from', 'this', 'series', 'but', 'i', 'doubt', 'it', 'if', 'there', 'are', 'more', 'movies', 'made', 'i', 'wish', 'michael', 'landon', 'jr', 'and', 'others', 'would', 'stick', 'closer', 'to', 'the', 'original', 'plot', 'and', 'story', 'lines', 'the', 'books', 'are', 'excellent', 'and', 'if', 'closely', 'followed', 'would', 'make', 'excellent', 'movies', '<END>'], ['<START>', 'i', 'very', 'much', 'looked', 'forward', 'to', 'this', 'movie', 'its', 'a', 'good', 'family', 'movie', 'however', 'if', 'michael', 'landon', 'jrs', 'editing', 'team', 'did', 'a', 'better', 'job', 'of', 'editing', 'the', 'movie', 'would', 'be', 'much', 'better', 'too', 'many', 'scenes', 'out', 'of', 'context', 'i', 'do', 'hope', 'there', 'is', 'another', 'movie', 'from', 'the', 'series', 'theyre', 'all', 'very', 'good', 'but', 'if', 'another', 'one', 'is', 'made', 'i', 'beg', 'them', 'to', 'take', 'better', 'care', 'at', 'editing', 'this', 'story', 'was', 'all', 'over', 'the', 'place', 'and', 'didnt', 'seem', 'to', 'have', 'a', 'center', 'which', 'is', 'unfortunate', 'because', 'the', 'other', 'movies', 'of', 'the', 'series', 'were', 'great', 'i', 'enjoy', 'the', 'story', 'of', 'willie', 'and', 'missy', 'theyre', 'both', 'great', 'role', 'models', 'plus', 'the', 'romantic', 'side', 'of', 'the', 'viewers', 'always', 'enjoy', 'a', 'good', 'love', 'story', '<END>'], ['<START>', 'i', 'have', 'read', 'all', 'of', 'the', 'love', 'come', 'softly', 'books', 'knowing', 'full', 'well', 'that', 'movies', 'can', 'not', 'use', 'all', 'aspects', 'of', 'the', 'bookbut', 'generally', 'they', 'at', 'least', 'have', 'the', 'main', 'point', 'of', 'the', 'book', 'i', 'was', 'highly', 'disappointed', 'in', 'this', 'movie', 'the', 'only', 'thing', 'that', 'they', 'have', 'in', 'this', 'movie', 'that', 'is', 'in', 'the', 'book', 'is', 'that', 'missys', 'father', 'comes', 'to', 'visitalthough', 'in', 'the', 'book', 'both', 'parents', 'come', 'that', 'is', 'all', 'the', 'story', 'line', 'was', 'so', 'twisted', 'and', 'far', 'fetch', 'and', 'yes', 'sad', 'from', 'the', 'book', 'that', 'i', 'just', 'couldnt', 'enjoy', 'it', 'even', 'if', 'i', 'didnt', 'read', 'the', 'book', 'it', 'was', 'too', 'sad', 'i', 'do', 'know', 'that', 'pioneer', 'life', 'was', 'roughbut', 'the', 'whole', 'movie', 'was', 'a', 'downer', 'the', 'rating', 'is', 'for', 'having', 'the', 'same', 'family', 'orientation', 'of', 'the', 'film', 'that', 'makes', 'them', 'great', '<END>'], ['<START>', 'as', 'a', 'southern', 'baptist', 'it', 'pains', 'me', 'that', 'i', 'must', 'give', 'a', 'below', 'average', 'rating', 'to', 'an', 'overtly', 'christian', 'movie', 'there', 'certainly', 'arent', 'so', 'many', 'that', 'i', 'want', 'to', 'discourage', 'filmmakers', 'from', 'a', 'genre', 'thats', 'woefully', 'underexploited', 'still', 'i', 'must', 'honestly', 'say', 'that', 'loves', 'abiding', 'joy', 'is', 'a', 'typically', 'low', 'budget', 'low', 'key', 'selfconsciously', 'christian', 'film', 'the', 'plot', 'is', 'predictable', 'the', 'acting', 'mediocre', 'im', 'being', 'kind', 'and', 'the', 'editing', 'atrocious', 'as', 'a', 'tv', 'movie', 'it', 'might', 'have', 'been', 'slightly', 'above', 'average', 'but', 'as', 'a', 'feature', 'film', 'it', 'leaves', 'much', 'to', 'be', 'desired', 'keep', 'trying', 'guys', 'youve', 'got', 'to', 'have', 'a', 'movie', 'about', 'about', 'real', 'christians', 'inside', 'you', 'somewhere', 'might', 'i', 'suggest', 'you', 'turn', 'to', 'g', 'k', 'chesterton', 'or', 'c', 's', 'lewis', 'for', 'some', 'inspiration', '<END>'], ['<START>', 'warning', 'this', 'review', 'contains', 'spoilers', 'do', 'not', 'read', 'if', 'you', 'dont', 'want', 'some', 'points', 'revealed', 'to', 'you', 'before', 'you', 'watch', 'the', 'filmbr', 'br', 'with', 'a', 'cast', 'like', 'this', 'you', 'wonder', 'whether', 'or', 'not', 'the', 'actors', 'and', 'actresses', 'knew', 'exactly', 'what', 'they', 'were', 'getting', 'into', 'did', 'they', 'see', 'the', 'script', 'and', 'say', 'hey', 'close', 'encounters', 'of', 'the', 'third', 'kind', 'was', 'such', 'a', 'hit', 'that', 'this', 'one', 'cant', 'fail', 'unfortunately', 'it', 'does', 'did', 'they', 'even', 'think', 'to', 'check', 'on', 'the', 'directors', 'credentials', 'i', 'mean', 'would', 'you', 'do', 'a', 'movie', 'with', 'the', 'director', 'of', 'a', 'movie', 'called', 'satans', 'cheerleaders', 'greydon', 'clark', 'who', 'would', 'later', 'go', 'on', 'to', 'direct', 'the', 'infamous', 'final', 'justice', 'made', 'this', 'it', 'makes', 'you', 'wonder', 'how', 'the', 'people', 'of', 'mystery', 'science', 'theater', '3000', 'could', 'hammer', 'final', 'justice', 'and', 'completely', 'miss', 'out', 'on', 'the', 'returnbr', 'br', 'the', 'film', 'is', 'set', 'in', 'a', 'small', 'town', 'in', 'new', 'mexico', 'a', 'little', 'boy', 'and', 'girl', 'are', 'in', 'the', 'street', 'unsupervised', 'one', 'night', 'when', 'a', 'powerful', 'flashlight', 'beamera', 'spaceship', 'appears', 'and', 'hovers', 'over', 'them', 'in', 'probably', 'the', 'worst', 'special', 'effect', 'sequence', 'of', 'the', 'film', 'the', 'ship', 'spews', 'some', 'kind', 'of', 'red', 'ink', 'on', 'them', 'it', 'looked', 'like', 'clark', 'had', 'held', 'a', 'beaker', 'of', 'water', 'in', 'from', 'of', 'the', 'camera', 'lens', 'and', 'dipped', 'his', 'leaky', 'pen', 'in', 'it', 'so', 'right', 'away', 'you', 'are', 'treated', 'with', 'cheese', 'anyhow', 'the', 'ship', 'leaves', 'and', 'the', 'adults', 'dont', 'believe', 'the', 'children', 'elsewhere', 'we', 'see', 'vincent', 'schiavelli', 'whom', 'i', 'find', 'to', 'be', 'a', 'terrific', 'actor', 'watch', 'his', 'scenes', 'in', 'ghost', 'for', 'proof', 'as', 'they', 'are', 'outstanding', 'who', 'is', 'playing', 'a', 'prospector', 'or', 'as', 'i', 'called', 'him', 'the', 'miner', '1949er', 'he', 'steps', 'out', 'of', 'the', 'cave', 'he', 'is', 'in', 'and', 'he', 'and', 'his', 'dog', 'are', 'inked', 'by', 'the', 'ship', 'twentyfive', 'years', 'go', 'by', 'and', 'the', 'girl', 'has', 'grown', 'up', 'to', 'be', 'cybill', 'shepherd', 'who', 'works', 'with', 'her', 'father', 'raymond', 'burr', 'in', 'studying', 'unusual', 'weather', 'phenomena', 'or', 'something', 'like', 'that', 'shepherd', 'spots', 'some', 'strange', 'phenomena', 'in', 'satellite', 'pictures', 'over', 'that', 'little', 'new', 'mexico', 'town', 'and', 'she', 'travels', 'there', 'to', 'research', 'it', 'once', 'she', 'gets', 'there', 'the', 'local', 'ranchers', 'harass', 'her', 'and', 'blame', 'her', 'for', 'the', 'recent', 'slew', 'of', 'cattle', 'mutilations', 'that', 'have', 'been', 'going', 'on', 'and', 'deputy', 'janmichael', 'vincent', 'comes', 'to', 'her', 'rescue', 'from', 'this', 'point', 'on', 'the', 'film', 'really', 'drags', 'as', 'the', 'two', 'quickly', 'fall', 'for', 'each', 'other', 'especially', 'after', 'vincent', 'wards', 'off', 'the', 'locals', 'and', 'informs', 'shepherd', 'that', 'he', 'was', 'the', 'little', 'boy', 'that', 'saw', 'the', 'ship', 'with', 'her', 'twentyfive', 'years', 'earlier', 'while', 'this', 'boring', 'mess', 'is', 'happening', 'vincent', 'schiavelli', 'with', 'his', 'killer', 'dog', 'at', 'his', 'side', 'is', 'walking', 'around', 'killing', 'the', 'cattle', 'and', 'any', 'people', 'he', 'runs', 'into', 'with', 'an', 'unusual', 'item', 'you', 'know', 'those', 'glowing', 'plastic', 'sticks', 'stores', 'sell', 'for', 'trickortreaters', 'at', 'halloween', 'the', 'kind', 'that', 'you', 'shake', 'to', 'make', 'them', 'glow', 'schiavelli', 'uses', 'what', 'looks', 'like', 'one', 'of', 'those', 'glow', 'sticks', 'to', 'burn', 'incisions', 'in', 'people', 'its', 'the', 'secondworst', 'effect', 'in', 'the', 'movie', 'every', 'time', 'schiavelli', 'is', 'on', 'screen', 'with', 'the', 'glow', 'stick', 'the', 'scenes', 'atmosphere', 'suddenly', 'turns', 'dark', 'like', 'the', 'filmmakers', 'thought', 'the', 'glow', 'stick', 'needed', 'that', 'enhancement', 'it', 'ends', 'up', 'making', 'the', 'movie', 'look', 'even', 'cheaper', 'than', 'it', 'isbr', 'br', 'and', 'what', 'does', 'all', 'this', 'lead', 'up', 'to', 'its', 'hard', 'to', 'tell', 'when', 'the', 'final', 'confusing', 'scene', 'arrives', 'see', 'burr', 'and', 'his', 'team', 'of', 'scientists', 'try', 'to', 'explain', 'the', 'satellite', 'images', 'that', 'shepherd', 'found', 'as', 'some', 'kind', 'of', 'calling', 'card', 'but', 'none', 'of', 'it', 'makes', 'sense', 'why', 'do', 'shepherd', 'and', 'vincent', 'age', 'and', 'schiavelli', 'does', 'not', 'schiavelli', 'explains', 'why', 'he', 'is', 'killing', 'cattle', 'and', 'people', 'and', 'why', 'he', 'wants', 'shepherd', 'dead', 'but', 'even', 'that', 'doesnt', 'make', 'much', 'sense', 'when', 'you', 'really', 'think', 'about', 'it', 'i', 'mean', 'why', 'doesnt', 'he', 'kill', 'janmichael', 'vincent', 'after', 'all', 'he', 'had', 'twentyfive', 'years', 'to', 'do', 'it', 'and', 'the', 'aliens', 'wont', 'need', 'him', 'if', 'shepherd', 'is', 'dead', 'anyhow', 'so', 'why', 'try', 'to', 'kill', 'her', 'speaking', 'of', 'the', 'aliens', 'it', 'is', 'never', 'clear', 'what', 'they', 'really', 'wanted', 'out', 'of', 'shepherd', 'and', 'vincent', 'what', 'is', 'their', 'goal', 'why', 'do', 'they', 'wait', 'so', 'long', 'to', 'intervene', 'how', 'could', 'they', 'be', 'so', 'sure', 'shepherd', 'would', 'come', 'back', 'not', 'that', 'the', 'answer', 'to', 'any', 'of', 'these', 'and', 'other', 'questions', 'would', 'have', 'made', 'the', 'return', 'any', 'more', 'pleasant', 'you', 'would', 'still', 'have', 'bad', 'lines', 'really', 'bad', 'acting', 'particularly', 'by', 'shepherd', 'cheesy', 'effects', 'and', 'poor', 'direction', 'luckily', 'the', 'stars', 'escaped', 'from', 'this', 'movie', 'cybill', 'shepherd', 'soon', 'went', 'on', 'to', 'star', 'in', 'moonlighting', 'with', 'bruce', 'willis', 'janmichael', 'vincent', 'went', 'on', 'to', 'be', 'featured', 'in', 'dozens', 'of', 'bmovies', 'often', 'in', 'overthetop', 'parts', 'raymond', 'burr', 'made', 'a', 'pile', 'of', 'perry', 'mason', 'television', 'movies', 'right', 'up', 'until', 'his', 'death', 'vincent', 'schiavelli', 'went', 'on', 'to', 'be', 'a', 'great', 'character', 'actor', 'in', 'a', 'huge', 'number', 'of', 'films', 'martin', 'landau', 'who', 'played', 'a', 'kooky', 'law', 'enforcement', 'officer', 'quickly', 'made', 'the', 'terrific', 'alone', 'in', 'the', 'dark', 'and', 'the', 'awful', 'the', 'being', 'before', 'rolling', 'into', 'the', 'films', 'he', 'has', 'been', 'famous', 'for', 'recently', 'you', 'can', 'bet', 'none', 'of', 'these', 'stars', 'ever', 'want', 'their', 'careers', 'to', 'return', 'to', 'the', 'return', 'zantaras', 'score', '2', 'out', 'of', '10', '<END>'], ['<START>', 'as', 'a', 'kid', 'i', 'did', 'think', 'the', 'weapon', 'the', 'murderer', 'wielded', 'was', 'cool', 'however', 'i', 'was', 'a', 'kid', 'and', 'so', 'i', 'was', 'a', 'bit', 'dumb', 'even', 'as', 'a', 'dumb', 'kid', 'though', 'the', 'movies', 'plot', 'was', 'stupid', 'and', 'a', 'bit', 'boring', 'when', 'the', 'killer', 'was', 'not', 'using', 'his', 'light', 'knife', 'to', 'kill', 'people', 'what', 'amazes', 'me', 'is', 'that', 'the', 'movie', 'has', 'a', 'really', 'solid', 'cast', 'in', 'it', 'what', 'script', 'did', 'they', 'read', 'when', 'agreeing', 'to', 'be', 'in', 'this', 'movie', 'as', 'it', 'is', 'most', 'assuredly', 'boring', 'and', 'only', 'a', 'means', 'to', 'show', 'off', 'a', 'light', 'saber', 'on', 'a', 'very', 'small', 'scale', 'the', 'plot', 'at', 'times', 'is', 'incomprehensible', 'and', 'the', 'end', 'is', 'totally', 'chaotic', 'the', 'whole', 'film', 'seems', 'to', 'rotate', 'around', 'aliens', 'and', 'the', 'one', 'weapon', 'the', 'plot', 'has', 'two', 'kids', 'and', 'some', 'dude', 'having', 'an', 'alien', 'encounter', 'flash', 'years', 'later', 'and', 'there', 'seems', 'to', 'be', 'a', 'return', 'as', 'it', 'were', 'in', 'the', 'mix', 'dead', 'animals', 'and', 'such', 'to', 'be', 'explored', 'and', 'for', 'some', 'reason', 'the', 'one', 'dude', 'gets', 'the', 'weapon', 'of', 'the', 'aliens', 'and', 'proceeds', 'to', 'use', 'it', 'to', 'go', 'on', 'a', 'very', 'light', 'killing', 'spree', 'seriously', 'you', 'just', 'have', 'to', 'wonder', 'why', 'this', 'movie', 'was', 'made', 'if', 'you', 'are', 'going', 'to', 'have', 'a', 'killer', 'have', 'some', 'good', 'death', 'scenes', 'if', 'you', 'are', 'going', 'to', 'have', 'alien', 'encounters', 'show', 'more', 'than', 'a', 'weird', 'light', 'vortex', 'thing', 'and', 'if', 'you', 'are', 'going', 'to', 'have', 'light', 'sabers', 'then', 'call', 'yourself', 'star', 'wars', '<END>'], ['<START>', 'jill', 'dunne', 'played', 'by', 'mitzi', 'kapture', 'is', 'an', 'attractive', 'nice', 'woman', 'overwhelmed', 'by', 'a', 'smartmouthed', 'teenage', 'daughter', 'liv', 'martha', 'macisaac', 'and', 'a', 'petty', 'twotiming', 'husband', 'sean', 'rick', 'roberts', 'both', 'of', 'which', 'were', 'tediously', 'selfcentered', 'and', 'obnoxiousbr', 'br', 'this', 'was', 'advertised', 'as', 'a', 'troubled', 'family', 'stalked', 'by', 'a', 'crazed', 'killer', 'during', 'a', 'relentless', 'stormbr', 'br', 'the', 'storm', 'doesnt', 'even', 'happen', 'until', 'about', 'the', 'last', '5', 'minutes', 'of', 'the', 'film', 'and', 'then', 'it', 'isnt', 'anything', 'to', 'send', 'anybody', 'running', 'to', 'the', 'storm', 'cellarbr', 'br', 'the', 'stalking', 'likewise', 'doesnt', 'get', 'intense', 'until', 'almost', 'the', 'end', 'of', 'the', 'filmbr', 'br', 'most', 'of', 'the', 'film', 'we', 'spend', 'listening', 'to', 'jill', 'and', 'her', 'insufferable', 'daughter', 'liv', 'argue', 'until', 'i', 'just', 'wanted', 'to', 'back', 'slap', 'the', 'daughter', 'into', 'next', 'weekbr', 'br', 'jills', 'problem', 'with', 'liv', 'is', 'that', 'she', 'has', 'taken', 'up', 'with', 'zack', 'a', 'boy', 'of', 'questionable', 'character', 'and', 'they', 'are', 'constantly', 'making', 'outin', 'fact', 'jill', 'comes', 'home', 'to', 'find', 'the', 'two', 'of', 'them', 'on', 'livs', 'bedbr', 'br', 'the', 'rest', 'of', 'the', 'time', 'we', 'spend', 'listening', 'to', 'jills', 'husband', 'sean', 'either', 'whine', 'at', 'jill', 'or', 'criticize', 'herbr', 'br', 'sean', 'was', 'not', 'at', 'all', 'appealingsince', 'his', 'face', 'is', 'so', 'covered', 'in', 'freckles', 'you', 'could', 'play', 'connect', 'the', 'dotsbr', 'br', 'the', 'story', 'begins', 'with', 'jill', 'being', 'notified', 'of', 'an', 'outstanding', 'bill', 'on', 'their', 'credit', 'card', 'for', 'a', 'hotel', 'she', 'has', 'never', 'been', 'to', 'and', 'that', 'she', 'thought', 'sean', 'had', 'never', 'been', 'to', 'eitherbr', 'br', 'jill', 'goes', 'to', 'the', 'hotel', 'where', 'she', 'meets', 'the', 'owner', '', 'manager', 'richard', 'grant', 'nick', 'mancuso', 'a', 'very', 'nice', 'older', 'divorced', 'man', 'who', 'is', 'sympathetic', 'to', 'her', 'in', 'fact', 'when', 'he', 'spots', 'her', 'husband', 'there', 'again', 'he', 'phones', 'jill', 'and', 'tips', 'her', 'offbr', 'br', 'jill', 'returns', 'to', 'the', 'hotel', 'sees', 'sean', 'with', 'another', 'woman', 'she', 'is', 'upset', 'leaves', 'without', 'sean', 'seeing', 'her', 'and', 'does', 'absolutely', 'nothing', 'in', 'fact', 'she', 'doesnt', 'even', 'say', 'anything', 'to', 'sean', 'when', 'he', 'arrives', 'home', 'this', 'made', 'no', 'sense', 'to', 'mebr', 'br', 'jill', 'has', 'given', 'richard', 'her', 'business', 'card', 'and', 'so', 'he', 'calls', 'her', 'and', 'she', 'is', 'apparently', 'in', 'real', 'estate', 'she', 'shows', 'him', 'a', 'condo', 'afterwards', 'they', 'have', 'a', 'drink', 'and', 'things', 'get', 'cozy', 'between', 'thembr', 'br', 'richard', 'and', 'jill', 'are', 'getting', 'it', 'on', 'hot', 'and', 'heavy', 'in', 'fact', 'he', 'seems', 'a', 'bit', 'more', 'aggressive', 'than', 'necessary', 'when', 'jill', 'suddenly', 'decides', 'to', 'cut', 'outbr', 'br', 'jill', 'and', 'sean', 'have', 'a', 'confrontation', 'about', 'his', 'cheating', 'sean', 'whines', 'about', 'how', 'jill', 'has', 'been', 'letting', 'him', 'down', 'since', 'her', 'father', 'died', 'apparently', 'his', 'lack', 'of', 'any', 'morals', 'is', 'all', 'her', 'fault', 'eventually', 'jill', 'confesses', 'her', 'own', 'lack', 'of', 'morals', 'and', 'near', 'adultery', 'to', 'seanand', 'of', 'course', 'thats', 'all', 'her', 'fault', 'too', 'as', 'far', 'as', 'sean', 'is', 'concernedbr', 'br', 'the', 'little', 'family', 'decides', 'to', 'go', 'on', 'a', 'camping', 'tripwhich', 'means', 'more', 'whining', 'and', 'grousing', 'among', 'them', 'especially', 'from', 'the', 'spoiled', 'daughterbr', 'br', 'i', 'was', 'so', 'rooting', 'for', 'the', 'stalker', 'to', 'get', 'everybody', 'but', 'jillbr', 'br', '3', 'stars', '<END>'], ['<START>', 'this', 'movie', 'sucked', 'it', 'really', 'was', 'a', 'waste', 'of', 'my', 'life', 'the', 'acting', 'was', 'atrocious', 'the', 'plot', 'completely', 'implausible', 'long', 'long', 'story', 'short', 'these', 'people', 'get', 'terrorized', 'by', 'this', 'pathetic', 'crazed', 'killer', 'but', 'completely', 'fail', 'to', 'fight', 'back', 'in', 'any', 'manner', 'and', 'this', 'is', 'after', 'they', 'take', 'a', 'raft', 'on', 'a', 'camping', 'trip', 'with', 'no', 'gear', 'and', 'show', 'up', 'at', 'a', 'campsite', 'that', 'is', 'already', 'assembled', 'and', 'completely', 'stocked', 'with', 'food', 'and', 'clothes', 'and', 'the', 'daughters', 'headphones', 'additionally', 'after', 'their', 'boat', 'goes', 'missing', 'they', 'panic', 'that', 'theyre', 'stuck', 'in', 'the', 'woods', 'but', 'then', 'the', 'daughters', 'boyfriend', 'just', 'shows', 'up', 'and', 'they', 'apparently', 'never', 'consider', 'that', 'they', 'could', 'just', 'hike', 'out', 'of', 'the', 'woods', 'like', 'he', 'did', 'to', 'get', 'to', 'them', 'like', 'i', 'said', 'this', 'movie', 'sucks', 'a', 'complete', 'joke', 'dont', 'let', 'your', 'girlfriend', 'talk', 'you', 'into', 'watching', 'it', '<END>'], ['<START>', 'lifetime', 'did', 'it', 'again', 'can', 'we', 'say', 'stupid', 'i', 'couldnt', 'wait', 'for', 'it', 'to', 'end', 'the', 'plot', 'was', 'senseless', 'the', 'acting', 'was', 'terrible', 'especially', 'by', 'the', 'teenagers', 'the', 'story', 'has', 'been', 'played', 'a', 'thousand', 'times', 'are', 'we', 'just', 'desperate', 'to', 'give', 'actors', 'a', 'job', 'the', 'previews', 'were', 'attractive', 'and', 'i', 'was', 'really', 'looking', 'for', 'a', 'good', 'thrilleronce', 'in', 'awhile', 'lifetime', 'comes', 'up', 'with', 'a', 'good', 'movie', 'this', 'isnt', 'one', 'of', 'them', 'unless', 'one', 'has', 'nothing', 'else', 'to', 'do', 'i', 'would', 'avoid', 'this', 'one', 'at', 'all', 'cost', 'this', 'was', 'a', 'waste', 'of', 'two', 'hours', 'of', 'my', 'life', 'can', 'i', 'get', 'them', 'back', 'i', 'would', 'have', 'rather', 'scraped', 'my', 'face', 'against', 'a', 'brick', 'wall', 'for', 'two', 'hours', 'then', 'soaked', 'it', 'in', 'peroxide', 'that', 'would', 'have', 'been', 'more', 'entertaining', '<END>'], ['<START>', 'i', 'have', 'to', 'say', 'i', 'am', 'really', 'surprised', 'at', 'the', 'high', 'ratings', 'for', 'this', 'movie', 'i', 'found', 'it', 'to', 'be', 'absolutely', 'idiotic', 'the', 'mother', 'gets', 'visions', 'when', 'she', 'touches', 'certain', 'things', 'or', 'people', 'and', 'one', 'thing', 'she', 'touched', 'twice', 'made', 'her', 'vision', 'continue', 'just', 'seemed', 'so', 'ridiculous', 'deedee', 'pfieffers', 'performance', 'was', 'awful', 'i', 'thought', 'she', 'was', 'very', 'irritating', 'the', 'girl', 'who', 'played', 'lori', 'did', 'a', 'good', 'job', 'and', 'so', 'did', 'most', 'of', 'the', 'supporting', 'cast', 'for', 'what', 'they', 'had', 'to', 'work', 'withbr', 'br', 'i', 'usually', 'love', 'lmn', 'and', 'am', 'very', 'open', 'minded', 'when', 'it', 'comes', 'to', 'movies', 'but', 'this', 'movie', 'seemed', 'to', 'have', 'a', 'ridiculous', 'plot', 'and', 'over', 'the', 'top', 'acting', 'and', 'it', 'just', 'was', 'not', 'for', 'me', '<END>'], ['<START>', 'the', 'original', 'book', 'of', 'this', 'was', 'set', 'in', 'the', '1950s', 'but', 'that', 'wont', 'do', 'for', 'the', 'tv', 'series', 'because', 'most', 'people', 'watch', 'for', 'the', '1930s', 'style', 'ironically', 'the', 'tube', 'train', 'near', 'the', 'end', 'was', 'a', '1950s', 'train', 'painted', 'to', 'look', 'like', 'a', '1930s', 'train', 'so', 'the', 'underground', 'can', 'play', 'at', 'that', 'game', 'too', 'hanging', 'the', 'storyline', 'on', 'a', 'plot', 'about', 'the', 'jarrow', 'march', 'was', 'feeble', 'but', 'the', '50s', 'version', 'had', 'students', 'who', 'were', 'beginning', 'to', 'think', 'about', 'the', 'world', 'around', 'them', 'so', 'i', 'suppose', 'making', 'them', 'think', 'about', 'the', 'poverty', 'of', 'the', 'marchers', 'is', 'much', 'the', 'same', 'thing', 'all', 'the', 'stuff', 'about', 'japp', 'having', 'to', 'cater', 'for', 'himself', 'was', 'weak', 'too', 'but', 'they', 'had', 'to', 'put', 'something', 'in', 'to', 'fill', 'the', 'time', 'this', 'would', 'have', 'made', 'a', 'decent', 'half', 'hour', 'show', 'or', 'they', 'could', 'have', 'filmed', 'the', 'book', 'and', 'made', 'it', 'a', 'better', 'long', 'show', 'it', 'is', 'obvious', 'this', 'episode', 'is', 'a', 'victim', 'of', 'style', 'over', 'content', '<END>'], ['<START>', 'the', 'annoying', 'mouse', 'and', 'lullaby', 'really', 'got', 'to', 'me', 'and', 'really', 'had', 'nothing', 'to', 'do', 'with', 'the', 'storyits', 'something', 'i', 'would', 'have', 'done', 'my', '1st', 'year', 'in', 'film', 'school', 'very', 'sad', 'additionally', 'the', 'story', 'just', 'seemed', 'to', 'drag', 'on', 'for', 'no', 'apparent', 'reasonthere', 'were', 'too', 'many', 'things', 'just', 'thrown', 'in', 'there', 'that', 'had', 'nothing', 'to', 'do', 'with', 'the', 'story', 'which', 'makes', 'me', 'feel', 'that', 'the', 'creative', 'team', 'didnt', 'really', 'know', 'what', 'they', 'were', 'doing', 'or', 'just', 'that', 'it', 'should', 'have', 'been', 'shorterwhich', 'would', 'have', 'been', 'a', 'blessing', 'not', 'a', 'crime', 'as', 'i', 'have', 'just', 'watched', 'all', 'of', 'the', 'episodes', 'up', 'to', 'this', 'point', 'over', 'the', 'past', 'weekid', 'have', 'to', 'say', 'that', 'this', 'was', 'by', 'far', 'the', 'worst', 'and', 'i', 'just', 'wanted', 'to', 'warn', 'others', 'not', 'to', 'start', 'with', 'this', 'one', '<END>'], ['<START>', 'i', 'saw', 'this', 'film', 'opening', 'weekend', 'in', 'australia', 'anticipating', 'with', 'an', 'excellent', 'cast', 'of', 'ledger', 'edgerton', 'bloom', 'watts', 'and', 'rush', 'that', 'the', 'definitive', 'story', 'of', 'ned', 'kelly', 'would', 'unfold', 'before', 'me', 'unfortunately', 'despite', 'an', 'outstanding', 'performance', 'by', 'heath', 'ledger', 'in', 'the', 'lead', 'role', 'the', 'plot', 'was', 'paper', 'thinwhich', 'doesnt', 'inspire', 'me', 'to', 'read', 'our', 'sunshine', 'there', 'were', 'some', 'other', 'plus', 'points', 'the', 'support', 'acting', 'from', 'edgerton', 'in', 'particular', 'assured', 'direction', 'from', 'jordan', 'confirming', 'his', 'talent', 'on', 'show', 'in', 'buffalo', 'soldiers', 'as', 'well', 'and', 'production', 'design', 'that', 'gave', 'a', 'real', 'feel', 'of', 'harshness', 'to', 'the', 'australian', 'bush', 'much', 'as', 'the', 'irish', 'immigrants', 'of', 'the', 'early', '19th', 'century', 'must', 'have', 'seen', 'it', 'but', 'i', 'cant', 'help', 'feeling', 'that', 'another', 'opportunity', 'has', 'been', 'missed', 'to', 'tell', 'the', 'real', 'story', 'of', 'an', 'australian', 'folk', 'hero', 'or', 'was', 'hein', 'what', 'i', 'suspect', 'is', 'a', 'concession', 'to', 'hollywood', 'and', 'selling', 'the', 'picture', 'in', 'the', 'us', 'oh', 'well', 'at', 'least', 'jordan', 'and', 'the', 'producers', 'didnt', 'agree', 'to', 'lose', 'the', 'beards', 'just', 'to', 'please', 'universalbr', 'br', 'guess', 'i', 'will', 'just', 'have', 'to', 'content', 'myself', 'with', 'peter', 'careys', 'excellent', 'secret', 'history', 'of', 'the', 'kelly', 'gang', '410', '<END>'], ['<START>', 'i', 'saw', 'this', 'at', 'the', 'premiere', 'in', 'melbournebr', 'br', 'it', 'is', 'shallow', 'twodimensional', 'unaffecting', 'and', 'hard', 'to', 'believe', 'given', 'the', 'subject', 'matter', 'boring', 'the', 'actors', 'are', 'passable', 'but', 'they', 'didnt', 'have', 'much', 'to', 'work', 'with', 'given', 'the', 'very', 'plodding', 'and', 'unimpressive', 'script', 'for', 'those', 'who', 'might', 'have', 'worried', 'that', 'ned', 'kelly', 'would', 'be', 'overintellectualised', 'you', 'can', 'take', 'comfort', 'in', 'the', 'fact', 'that', 'this', 'telling', 'of', 'the', 'story', 'is', 'utterly', 'without', 'any', 'literary', 'depth', 'at', 'all', 'told', 'entirely', 'on', 'the', 'surface', 'and', 'full', 'of', 'central', 'casting', 'standards', 'however', 'it', 'doesnt', 'work', 'as', 'a', 'popcorn', 'film', 'either', 'its', 'pacing', 'is', 'too', 'offkilter', 'and', 'its', 'craft', 'is', 'too', 'lacking', 'to', 'satisfy', 'even', 'on', 'the', 'level', 'of', 'a', 'mundane', 'actionerbr', 'br', 'i', 'very', 'much', 'doubt', 'gregor', 'jordan', 'could', 'sit', 'back', 'and', 'say', 'to', 'himself', 'this', 'is', 'the', 'best', 'i', 'could', 'have', 'done', 'with', 'the', 'materialbr', 'br', 'ned', 'kelly', 'is', 'a', 'fascinating', 'figure', 'and', 'equally', 'so', 'is', 'the', 'national', 'response', 'to', 'him', 'possibly', 'folk', 'genius', 'possibly', 'class', 'warrior', 'possibly', 'psychopath', 'and', 'probably', 'all', 'these', 'things', 'he', 'has', 'dominated', 'australian', 'true', 'mythology', 'for', 'over', '120', 'years', 'once', 'again', 'his', 'story', 'has', 'failed', 'miserably', 'on', 'the', 'big', 'screenbr', 'br', 'such', 'is', 'life', '<END>'], ['<START>', 'ned', 'kelly', 'ledger', 'the', 'infamous', 'australian', 'outlaw', 'and', 'legend', 'sort', 'of', 'like', 'robin', 'hood', 'with', 'a', 'mix', 'of', 'billy', 'the', 'kid', 'australians', 'love', 'the', 'legend', 'of', 'how', 'he', 'stood', 'up', 'against', 'the', 'english', 'aristocratic', 'oppression', 'and', 'united', 'the', 'lower', 'classes', 'to', 'change', 'australia', 'forever', 'the', 'fact', 'that', 'the', 'lower', 'classes', 'of', 'the', 'time', 'were', 'around', '70', 'immigrant', 'criminals', 'seems', 'to', 'be', 'casually', 'skimmed', 'around', 'by', 'this', 'film', 'indeed', 'quite', 'a', 'few', 'so', 'called', 'facts', 'in', 'this', 'film', 'are', 'on', 'reflection', 'a', 'tad', 'dubiousbr', 'br', 'i', 'suppose', 'the', 'suspicions', 'should', 'have', 'been', 'aroused', 'when', 'in', 'the', 'opening', 'credits', 'it', 'was', 'claimed', 'that', 'this', 'film', 'is', 'based', 'upon', 'the', 'book', 'our', 'sunshine', 'if', 'ever', 'a', 'romanticized', 'version', 'of', 'truth', 'could', 'be', 'seen', 'in', 'a', 'name', 'for', 'a', 'book', 'there', 'it', 'was', 'this', 'wasnt', 'going', 'to', 'be', 'a', 'historical', 'epic', 'but', 'just', 'an', 'adaptation', 'of', 'one', 'of', 'many', 'dubious', 'legends', 'of', 'ned', 'kelly', 'albeit', 'a', 'harsh', 'and', 'sporadically', 'brutal', 'versionbr', 'br', 'unfortunately', 'ned', 'kelly', 'is', 'nothing', 'more', 'than', 'an', 'overblown', 'hallmark', 'channel', 'real', 'life', 'historical', 'drama', 'wannabe', 'the', 'story', 'plods', 'along', 'at', 'an', 'alarming', 'rate', 'alarming', 'because', 'never', 'has', 'a', 'film', 'plodded', 'so', 'slowly', 'the', 'feeling', 'of', 'numbness', 'after', 'the', 'two', 'hours', 'of', 'pure', 'drivel', 'brought', 'back', 'memories', 'of', 'costners', 'awful', 'wyatt', 'earp', 'all', 'those', 'years', 'ago', 'simply', 'put', 'nothing', 'happens', 'in', 'the', 'film', 'but', 'it', 'takes', 'a', 'long', 'time', 'getting', 'to', 'that', 'nothing', 'this', 'would', 'possibly', 'have', 'been', 'a', 'tad', 'more', 'bearable', 'if', 'the', 'performances', 'were', 'good', 'because', 'the', 'direction', 'sure', 'as', 'heck', 'wasnt', 'however', 'unless', 'you', 'are', 'looking', 'to', 'play', 'a', 'game', 'of', 'spot', 'the', 'worst', 'oirish', 'accent', 'then', 'youre', 'gonna', 'be', 'disappointed', 'between', 'that', 'the', 'game', 'of', 'who', 'has', 'the', 'stupidest', 'beard', 'spot', 'the', 'obvious', 'backstabber', 'clue', 'they', 'are', 'all', 'ginger', 'for', 'some', 'reason', 'and', 'nature', 'in', 'australiaincluding', 'lions', 'it', 'is', 'an', 'experience', 'similar', 'to', 'flicking', 'through', 'hallmark', 'the', 'history', 'channel', 'discovery', 'channel', 'and', 'neighbours', 'whilst', 'suffering', 'a', 'huge', 'hangover', 'yup', 'nature', 'pops', 'up', 'a', 'lot', 'as', 'to', 'fill', 'even', 'more', 'time', 'possibly', 'an', 'attempt', 'to', 'look', 'arty', 'the', 'film', 'keeps', 'showing', 'pointless', 'wildlife', 'shots', 'and', 'once', 'all', 'the', 'native', 'species', 'are', 'shown', 'heres', 'a', 'circus', 'to', 'allow', 'for', 'a', 'camel', 'and', 'a', 'lion', 'which', 'is', 'used', 'during', 'one', 'fight', 'to', 'try', 'to', 'make', 'us', 'actually', 'feel', 'more', 'sorry', 'for', 'the', 'lion', 'than', 'the', 'massacred', 'peoplebr', 'br', 'this', 'is', 'a', 'turgid', 'emotionless', 'piece', 'of', 'historical', 'fluff', 'which', 'should', 'have', 'gone', 'straight', 'to', 'tv', 'there', 'isnt', 'even', 'one', 'good', 'word', 'i', 'can', 'say', 'about', 'this', 'film', 'even', 'the', 'usually', 'fantastic', 'rush', 'seems', 'embarrassed', 'to', 'be', 'here', 'when', 'one', 'of', 'the', 'characters', 'comments', 'that', 'there', 'is', 'only', '2', 'bullets', 'left', 'for', 'him', 'and', 'his', 'pal', 'i', 'myself', 'was', 'wishing', 'i', 'had', 'a', 'gun', 'to', 'blow', 'any', 'memory', 'of', 'this', 'film', 'out', 'of', 'my', 'head', '<END>'], ['<START>', 'they', 'constructed', 'this', 'one', 'as', 'a', 'kind', 'of', 'fantasy', 'man', 'from', 'snowy', 'river', 'meets', 'butch', 'cassidy', 'and', 'the', 'sundance', 'kid', 'and', 'just', 'for', 'a', 'romantic', 'touch', 'ned', 'and', 'joe', 'get', 'to', 'play', 'away', 'with', 'high', 'class', 'talent', 'the', 'bored', 'young', 'wives', 'of', 'wealthy', 'older', 'men', 'ok', 'there', 'are', 'lots', 'of', 'myths', 'about', 'ned', 'kelly', 'but', 'there', 'are', 'also', 'a', 'lot', 'of', 'well', 'documented', 'facts', 'still', 'leaving', 'space', 'for', 'artistic', 'creativity', 'in', 'producing', 'a', 'good', 'historical', 'dramaticisation', 'i', 'mean', 'this', 'is', 'not', 'the', 'robin', 'hood', 'story', 'not', 'the', 'arthurian', 'legends', 'not', 'beowulf', 'not', 'someone', 'whose', 'life', 'is', 'so', 'shrouded', 'in', 'the', 'mists', 'of', 'many', 'many', 'centuries', 'past', 'that', 'any', 'recreation', 'of', 'their', 'life', 'and', 'times', 'is', '99', 'guesswork', 'its', 'only', 'a', 'couple', 'of', 'lifetimes', 'ago', 'my', 'own', 'grandparents', 'were', 'already', 'of', 'school', 'age', 'when', 'ned', 'was', 'hanged', 'br', 'br', 'so', 'its', 'silly', 'me', 'for', 'fancifully', 'imagining', 'this', 'movie', 'was', 'a', 'serious', 'attempt', 'to', 'tell', 'the', 'kelly', 'story', 'having', 'recently', 'read', 'peter', 'careys', 'excellent', 'novel', 'the', 'true', 'history', 'of', 'the', 'kelly', 'gang', 'i', 'had', 'eagerly', 'anticipated', 'that', 'this', 'would', 'be', 'in', 'similar', 'vein', 'but', 'no', 'the', 'fact', 'is', 'that', 'mick', 'jaggers', 'much', 'derided', '1970', 'kelly', 'was', 'probably', 'far', 'closer', 'to', 'reality', 'and', 'a', 'better', 'movie', 'overall', 'which', 'isnt', 'saying', 'a', 'whole', 'lot', 'for', 'itbr', 'br', 'glad', 'it', 'only', 'cost', 'me', 'two', 'bucks', 'to', 'hire', 'the', 'dvd', 'ill', 'give', 'it', '310', 'and', 'thats', 'only', 'because', 'some', 'of', 'the', 'nice', 'shots', 'of', 'the', 'australian', 'bush', 'make', 'me', 'feel', 'generous', '<END>'], ['<START>', 'this', 'has', 'to', 'be', 'the', 'worst', 'piece', 'of', 'garbage', 'ive', 'seen', 'in', 'a', 'whilebr', 'br', 'heath', 'ledger', 'is', 'a', 'heartthrob', 'he', 'looked', 'deformed', 'i', 'wish', 'id', 'known', 'that', 'he', 'and', 'naomi', 'watts', 'are', 'an', 'item', 'in', 'real', 'life', 'because', 'i', 'spent', '2', 'of', 'the', 'longest', 'hours', 'of', 'my', 'life', 'wondering', 'what', 'she', 'saw', 'in', 'him', 'br', 'br', 'orlando', 'bloom', 'is', 'a', 'heartthrob', 'with', 'the', 'scraggly', 'beard', 'and', 'deerintheheadlights', 'look', 'about', 'him', 'i', 'cant', 'say', 'i', 'agreebr', 'br', 'rachel', 'griffiths', 'was', 'her', 'usual', 'fabulous', 'self', 'but', 'geoffrey', 'rush', 'looked', 'as', 'if', 'he', 'couldnt', 'wait', 'to', 'get', 'off', 'the', 'set', 'br', 'br', 'im', 'supposed', 'to', 'feel', 'sorry', 'for', 'bankrobbers', 'and', 'murderers', 'this', 'is', 'a', 'far', 'cry', 'from', 'butch', 'cassidy', 'which', 'actually', 'was', 'an', 'entertaining', 'film', 'this', 'was', 'trite', 'clicheridden', 'and', 'boring', 'we', 'only', 'stayed', 'because', 'we', 'were', 'convinced', 'it', 'would', 'get', 'better', 'it', 'didntbr', 'br', 'the', 'last', '1015', 'minutes', 'or', 'so', 'were', 'unintentionally', 'hilarious', 'heath', 'and', 'his', 'gang', 'are', 'holed', 'up', 'in', 'a', 'frontier', 'hotel', 'and', 'women', 'and', 'children', 'are', 'dying', 'because', 'of', 'their', 'presence', 'thats', 'not', 'funny', 'but', 'it', 'was', 'funny', 'when', 'they', 'walked', 'out', 'of', 'the', 'hotel', 'with', 'the', 'armor', 'on', 'because', 'all', 'we', 'could', 'think', 'of', 'was', 'the', 'black', 'knight', 'from', 'monty', 'python', 'and', 'the', 'holy', 'grail', 'i', 'kept', 'waiting', 'for', 'them', 'to', 'say', 'ill', 'bite', 'yer', 'leg', 'off', 'we', 'were', 'howling', 'with', 'laughter', 'as', 'were', 'several', 'other', 'warped', 'members', 'of', 'the', 'audience', 'when', 'we', 'left', 'pretty', 'much', 'everyone', 'was', 'talking', 'about', 'what', 'a', 'waste', 'of', 'time', 'this', 'film', 'wasbr', 'br', 'i', 'may', 'not', 'have', 'paid', 'cash', 'to', 'see', 'this', 'disaster', 'sneak', 'preview', 'but', 'it', 'certainly', 'wasnt', 'free', 'it', 'cost', 'me', '2', 'hours', 'of', 'my', 'life', 'that', 'i', 'will', 'never', 'get', 'back', '<END>'], ['<START>', 'if', 'the', 'term', 'itself', 'were', 'not', 'geographically', 'and', 'semantically', 'meaningless', 'one', 'might', 'well', 'refer', 'to', 'ned', 'kelly', 'as', 'an', 'australian', 'western', 'for', 'the', 'people', 'down', 'under', 'ned', 'kelly', 'was', 'apparently', 'a', 'folk', 'hero', 'bandit', 'akin', 'to', 'robin', 'hood', 'jesse', 'james', 'bonnie', 'and', 'clyde', 'and', 'butch', 'cassidy', 'and', 'the', 'sundance', 'kid', 'the', 'descendant', 'of', 'irish', 'immigrants', 'kelly', 'became', 'a', 'fugitive', 'and', 'an', 'outlaw', 'after', 'he', 'was', 'falsely', 'accused', 'of', 'shooting', 'an', 'australian', 'law', 'officer', 'a', 'crime', 'for', 'which', 'his', 'equally', 'innocent', 'mother', 'was', 'put', 'into', 'prison', 'to', 'get', 'back', 'at', 'the', 'government', 'for', 'this', 'mistreatment', 'kelly', 'his', 'brother', 'dan', 'and', 'two', 'other', 'companions', 'became', 'notorious', 'bank', 'robbers', 'winning', 'over', 'the', 'hearts', 'of', 'many', 'people', 'in', 'the', 'countryside', 'while', 'striking', 'a', 'blow', 'for', 'justice', 'in', 'a', 'land', 'where', 'irish', 'immigrants', 'were', 'often', 'treated', 'with', 'disrespect', 'and', 'disdain', 'by', 'those', 'who', 'ran', 'the', 'countrybr', 'br', 'perhaps', 'because', 'weve', 'encountered', 'this', 'gentleman', 'bandit', 'scenario', 'so', 'many', 'times', 'in', 'the', 'past', 'ned', 'kelly', 'feels', 'awfully', 'familiar', 'and', 'unoriginal', 'as', 'it', 'pays', 'homage', 'to', 'any', 'number', 'of', 'the', 'genres', 'stereotypes', 'and', 'clichés', 'on', 'its', 'way', 'to', 'the', 'inevitable', 'showdown', 'ned', 'is', 'the', 'typical', 'heartofgold', 'lawbreaker', 'who', 'kills', 'only', 'when', 'he', 'is', 'forced', 'to', 'and', 'even', 'then', 'only', 'with', 'the', 'deepest', 'regret', 'he', 'also', 'has', 'the', 'pulse', 'of', 'the', 'common', 'folk', 'as', 'when', 'in', 'the', 'middle', 'of', 'a', 'bank', 'robbery', 'he', 'returns', 'a', 'valuable', 'watch', 'to', 'one', 'of', 'the', 'customers', 'after', 'one', 'of', 'his', 'gang', 'has', 'so', 'inconsiderately', 'pilfered', 'it', 'what', 'movie', 'on', 'this', 'particular', 'subject', 'hasnt', 'featured', 'a', 'scene', 'like', 'that', 'its', 'acts', 'of', 'selective', 'generosity', 'like', 'this', 'of', 'course', 'that', 'earn', 'him', 'the', 'love', 'and', 'respect', 'of', 'all', 'the', 'little', 'people', 'who', 'come', 'to', 'secretly', 'admire', 'anyone', 'who', 'can', 'get', 'away', 'with', 'sticking', 'it', 'to', 'the', 'powersthatbe', 'and', 'the', 'status', 'quo', 'geoffrey', 'rush', 'plays', 'the', 'typical', 'bedeviled', 'law', 'enforcer', 'who', 'feels', 'a', 'personal', 'stake', 'in', 'bringing', 'down', 'this', 'upstart', 'troublemaker', 'who', 'keeps', 'getting', 'away', 'with', 'tweaking', 'the', 'establishment', 'theres', 'even', 'the', 'inevitable', 'episode', 'in', 'which', 'one', 'of', 'the', 'ladies', 'being', 'held', 'up', 'goes', 'into', 'the', 'next', 'room', 'and', 'has', 'sex', 'with', 'one', 'of', 'the', 'robbers', 'so', 'turned', 'on', 'is', 'she', 'by', 'the', 'romantic', 'derringdo', 'of', 'the', 'criminal', 'lifestyle', 'and', 'the', 'film', 'is', 'riddled', 'with', 'one', 'hackneyed', 'scene', 'like', 'this', 'after', 'anotherbr', 'br', 'heath', 'ledger', 'fails', 'to', 'distinguish', 'himself', 'in', 'the', 'title', 'role', 'providing', 'little', 'in', 'the', 'way', 'of', 'substance', 'to', 'make', 'his', 'character', 'either', 'interesting', 'or', 'engaging', 'it', 'doesnt', 'help', 'that', 'he', 'has', 'been', 'forced', 'to', 'provide', 'a', 'droning', 'voiceover', 'narration', 'that', 'underlines', 'the', 'sanctimoniousness', 'and', 'pretentiousness', 'of', 'both', 'the', 'character', 'and', 'the', 'filmbr', 'br', 'ned', 'kelly', 'might', 'serve', 'a', 'function', 'of', 'sorts', 'as', 'a', 'lesson', 'in', 'australian', 'history', 'but', 'as', 'an', 'entertainment', 'its', 'just', 'the', 'same', 'old', 'story', 'told', 'with', 'different', 'accents', '<END>'], ['<START>', 'this', 'movie', 'was', 'so', 'unrelentingly', 'bad', 'i', 'could', 'hardly', 'believe', 'i', 'was', 'watching', 'it', 'the', 'directing', 'editing', 'production', 'and', 'script', 'all', 'seemed', 'as', 'though', 'they', 'had', 'been', 'done', 'by', 'junior', 'high', 'school', 'students', 'who', 'dont', 'know', 'all', 'that', 'much', 'about', 'movies', 'there', 'was', 'no', 'narrative', 'flow', 'that', 'made', 'any', 'sort', 'of', 'sense', 'big', 'emotional', 'moments', 'and', 'climaxes', 'like', 'one', 'early', 'on', 'between', 'heath', 'ledger', 'and', 'naomi', 'watts', 'and', 'character', 'relationships', 'like', 'one', 'hinted', 'at', 'at', 'the', 'very', 'beginning', 'come', 'completely', 'out', 'of', 'no', 'where', 'and', 'are', 'not', 'set', 'up', 'like', 'they', 'would', 'have', 'been', 'in', 'a', 'more', 'elegantly', 'and', 'effectively', 'made', 'film', 'the', 'characters', 'are', 'sadly', 'underdeveloped', 'making', 'it', 'difficult', 'for', 'us', 'to', 'have', 'any', 'sort', 'of', 'connection', 'with', 'them', 'the', 'acting', 'surprisingly', 'is', 'not', 'entirely', 'bad', 'but', 'the', 'terrible', 'writing', 'cancels', 'out', 'the', 'relatively', 'convincing', 'performances', 'the', 'film', 'plays', 'like', 'a', 'particularly', 'bad', 'tv', 'westernepic', 'and', 'sadly', 'diminishes', 'the', 'fascinating', 'true', 'story', 'that', 'it', 'attempts', 'to', 'tell', 'i', 'have', 'read', 'a', 'lot', 'of', 'reviews', 'that', 'defend', 'the', 'film', 'as', 'being', 'important', 'to', 'australians', 'because', 'of', 'the', 'subject', 'matter', 'thats', 'all', 'very', 'well', 'but', 'just', 'because', 'ned', 'kelly', 'is', 'an', 'important', 'australian', 'historical', 'icon', 'doesnt', 'make', 'the', 'movie', 'good', 'no', 'one', 'is', 'saying', 'that', 'the', 'subject', 'matter', 'isnt', 'good', 'just', 'the', 'quality', 'of', 'the', 'movie', 'itself', 'pearl', 'harbor', 'was', 'about', 'a', 'very', 'important', 'historical', 'event', 'to', 'americans', 'but', 'that', 'doesnt', 'mean', 'im', 'going', 'to', 'defend', 'the', 'movie', 'and', 'say', 'it', 'was', 'good', 'because', 'it', 'was', 'still', 'bad', 'a', 'failure', 'all', 'around', 'though', 'heath', 'and', 'orlando', 'are', 'lovely', 'to', 'look', 'at', '<END>'], ['<START>', 'this', 'movie', 'never', 'made', 'it', 'to', 'theaters', 'in', 'our', 'area', 'so', 'when', 'it', 'became', 'available', 'on', 'dvd', 'i', 'was', 'one', 'of', 'the', 'first', 'to', 'rent', 'it', 'for', 'once', 'i', 'should', 'listened', 'to', 'the', 'critics', 'and', 'passed', 'on', 'this', 'onebr', 'br', 'despite', 'the', 'excellent', 'line', 'up', 'of', 'actors', 'the', 'movie', 'was', 'very', 'disappointing', 'i', 'can', 'see', 'now', 'why', 'it', 'went', 'straight', 'to', 'video', 'br', 'br', 'i', 'had', 'thought', 'that', 'with', 'bloom', 'ledger', 'and', 'rush', 'it', 'could', 'have', 'some', 'value', 'all', 'have', 'done', 'wonderful', 'work', 'in', 'the', 'past', 'br', 'br', 'the', 'movie', 'was', 'slow', 'moving', 'and', 'never', 'pulled', 'me', 'in', 'i', 'failed', 'to', 'develop', 'much', 'empathy', 'for', 'the', 'characters', 'and', 'had', 'to', 'fight', 'the', 'urge', 'to', 'fastforward', 'just', 'to', 'get', 'to', 'the', 'end', 'br', 'br', 'i', 'do', 'not', 'recommend', 'this', 'film', 'even', 'if', 'you', 'are', 'thinking', 'of', 'renting', 'it', 'for', 'only', 'for', 'eye', 'candy', 'purposes', 'it', 'wont', 'satisfy', 'even', 'that', '<END>'], ['<START>', 'i', 'thought', 'this', 'was', 'a', 'very', 'clunky', 'uninvolving', 'version', 'of', 'a', 'famous', 'australian', 'story', 'heath', 'ledger', 'and', 'orlando', 'bloom', 'were', 'very', 'good', 'in', 'their', 'roles', 'and', 'gave', 'their', 'characters', 'some', 'personality', 'but', 'the', 'whole', 'thing', 'felt', 'forced', 'and', 'mechanicalbr', 'br', 'the', 'beginning', 'could', 'have', 'been', 'a', 'lot', 'more', 'involving', 'perhaps', 'starting', 'with', 'a', 'shootout', 'and', 'then', 'flashing', 'back', 'for', 'a', 'recap', 'of', 'how', 'they', 'got', 'there', 'or', 'that', 'sort', 'of', 'thing', 'and', 'i', 'felt', 'like', 'every', 'scene', 'was', 'routinely', 'predictable', 'and', 'signposted', 'like', 'a', 'very', 'bad', 'tv', 'soapbr', 'br', 'i', 'was', 'really', 'looking', 'forward', 'to', 'this', 'movie', 'and', 'hoping', 'for', 'something', 'a', 'lot', 'better', 'the', 'only', 'thing', 'i', 'can', 'say', 'in', 'its', 'favour', 'is', 'that', 'it', 'beats', 'the', 'mick', 'jagger', 'version', 'but', 'not', 'by', 'much', '<END>'], ['<START>', 'ned', 'akelly', 'is', 'such', 'an', 'important', 'story', 'to', 'australians', 'but', 'this', 'movie', 'is', 'awful', 'its', 'an', 'australian', 'story', 'yet', 'it', 'seems', 'like', 'it', 'was', 'set', 'in', 'america', 'also', 'ned', 'was', 'an', 'australian', 'yet', 'he', 'has', 'an', 'irish', 'accentit', 'is', 'the', 'worst', 'film', 'i', 'have', 'seen', 'in', 'a', 'long', 'time', '<END>'], ['<START>', 'from', 'the', 'very', 'beginning', 'the', 'political', 'theme', 'of', 'this', 'film', 'is', 'so', 'obvious', 'and', 'heavy', 'handed', 'that', 'the', 'outcome', 'is', 'entirely', 'predictable', 'any', 'good', 'textbook', 'on', 'writing', 'screenplays', 'will', 'advise', 'layering', 'of', 'characters', 'incorporating', 'character', 'arcs', 'and', 'three', 'act', 'structure', 'in', 'this', 'film', 'you', 'will', 'find', 'none', 'of', 'that', 'the', 'police', 'are', 'the', 'baddies', 'and', 'consequently', 'are', 'shown', 'as', 'shallow', 'incompetent', 'and', 'cowards', 'it', 'never', 'seems', 'to', 'occur', 'to', 'the', 'makers', 'of', 'this', 'film', 'that', 'police', 'might', 'be', 'honourable', 'citizens', 'who', 'see', 'joining', 'the', 'police', 'as', 'a', 'good', 'way', 'to', 'contribute', 'to', 'the', 'wellbeing', 'of', 'societybr', 'br', 'the', 'viewer', 'gets', 'no', 'opportunity', 'to', 'make', 'up', 'his', 'or', 'her', 'mind', 'on', 'whether', 'ned', 'kelly', 'is', 'a', 'good', 'guy', 'or', 'a', 'ruthless', 'villain', 'the', 'film', 'opens', 'with', 'him', 'being', 'arrested', 'for', 'stealing', 'a', 'horse', 'but', 'we', 'get', 'no', 'clue', 'as', 'to', 'his', 'guilt', 'or', 'innocence', 'we', 'see', 'him', 'walk', 'through', 'the', 'door', 'of', 'a', 'gaol', 'but', 'only', 'know', 'that', 'he', 'has', 'been', 'inside', 'for', 'three', 'years', 'when', 'we', 'hear', 'this', 'much', 'later', 'in', 'some', 'dialoguebr', 'br', 'this', 'film', 'contains', 'many', 'shots', 'of', 'ned', 'looking', 'at', 'the', 'camera', 'with', 'a', 'serious', 'expression', 'i', 'found', 'the', 'film', 'a', 'real', 'chore', 'to', 'watch', 'it', 'is', 'the', 'direction', 'for', 'modern', 'films', 'and', 'this', 'one', 'put', 'me', 'off', 'watching', 'any', 'more', '<END>'], ['<START>', 'i', 'guess', 'i', 'was', 'attracted', 'to', 'this', 'film', 'both', 'because', 'of', 'the', 'sound', 'of', 'the', 'story', 'and', 'the', 'leading', 'actor', 'so', 'i', 'gave', 'it', 'a', 'chance', 'from', 'director', 'gregor', 'jordan', 'buffalo', 'soldiers', 'basically', 'ned', 'kelly', 'heath', 'ledger', 'is', 'set', 'up', 'by', 'the', 'police', 'especially', 'superintendent', 'francis', 'hare', 'geoffrey', 'rush', 'he', 'is', 'forced', 'to', 'go', 'on', 'the', 'run', 'forming', 'a', 'gang', 'and', 'go', 'against', 'them', 'to', 'clear', 'his', 'own', 'and', 'his', 'familys', 'names', 'thats', 'really', 'all', 'i', 'can', 'say', 'about', 'the', 'story', 'as', 'i', 'wasnt', 'paying', 'the', 'fullest', 'attention', 'to', 'be', 'honest', 'also', 'starring', 'orlando', 'bloom', 'as', 'joseph', 'byrne', 'naomi', 'watts', 'as', 'julia', 'cook', 'laurence', 'kinlan', 'as', 'dan', 'kelly', 'philip', 'barantini', 'as', 'steve', 'hart', 'joel', 'edgerton', 'as', 'aaron', 'sherritt', 'kiri', 'paramore', 'as', 'constable', 'fitzpatrick', 'kerry', 'condon', 'as', 'kate', 'kelly', 'emily', 'browning', 'as', 'grace', 'kelly', 'and', 'rachel', 'griffiths', 'as', 'susan', 'scott', 'ledger', 'makes', 'a', 'pretty', 'good', 'performance', 'for', 'what', 'its', 'worth', 'and', 'the', 'film', 'does', 'have', 'its', 'eyecatching', 'moments', 'particularly', 'with', 'a', 'gun', 'battle', 'towards', 'the', 'end', 'but', 'i', 'cant', 'say', 'i', 'enjoyed', 'it', 'as', 'i', 'didnt', 'look', 'at', 'it', 'all', 'okay', '<END>'], ['<START>', 'i', 'dont', 'quite', 'get', 'the', 'rating', 'for', 'the', 'amati', 'girls', 'and', 'i', 'think', 'i', 'was', 'really', 'kind', 'giving', 'it', 'a', '4', 'out', 'of', '10', 'what', 'could', 'otherwise', 'have', 'been', 'a', 'wonderful', 'story', 'with', 'actually', 'a', 'set', 'of', 'more', 'or', 'less', 'decent', 'actors', 'became', 'a', 'total', 'farce', 'in', 'my', 'eyes', 'there', 'are', 'so', 'many', 'clichés', 'in', 'that', 'flick', 'the', 'womens', 'hair', 'is', 'just', 'awful', 'and', 'most', 'of', 'the', 'scenes', 'are', 'more', 'than', 'unrealistic', 'or', 'seem', 'fake', 'theres', 'no', 'real', 'passion', 'in', 'this', 'movie', 'but', 'a', 'bunch', 'of', 'actors', 'overacting', 'over', 'any', 'limits', 'that', 'it', 'hurts', 'its', 'not', 'funny', 'enough', 'to', 'be', 'a', 'comedy', 'its', 'too', 'fakesad', 'to', 'really', 'touch', 'so', 'in', 'my', 'eyes', 'its', 'just', 'not', 'good', 'watching', 'it', 'i', 'couldnt', 'believe', 'how', 'something', 'like', 'that', 'made', 'it', 'to', 'my', 'tv', 'set', 'in', 'my', 'living', 'room', 'in', 'switzerland', 'but', 'maybe', 'it', 'still', 'was', 'ok', 'and', 'it', 'just', 'got', 'lost', 'in', 'translation', 'who', 'knows', 'definitely', 'one', 'of', 'the', 'oddest', 'movies', 'ive', 'ever', 'seen', 'and', 'this', 'certainly', 'not', 'in', 'a', 'good', 'way', 'sorry', '<END>'], ['<START>', 'this', 'movie', 'was', 'awful', 'the', 'ending', 'was', 'absolutely', 'horrible', 'there', 'was', 'no', 'plot', 'to', 'the', 'movie', 'whatsoever', 'the', 'only', 'thing', 'that', 'was', 'decent', 'about', 'the', 'movie', 'was', 'the', 'acting', 'done', 'by', 'robert', 'duvall', 'and', 'james', 'earl', 'jones', 'their', 'performances', 'were', 'excellent', 'the', 'only', 'problem', 'was', 'that', 'the', 'movie', 'did', 'not', 'do', 'their', 'acting', 'performances', 'any', 'justice', 'if', 'the', 'script', 'would', 'have', 'come', 'close', 'to', 'capturing', 'a', 'halfway', 'decent', 'story', 'it', 'would', 'be', 'worth', 'watching', 'instead', 'robert', 'duvalls', 'and', 'james', 'earl', 'jones', 'performances', 'are', 'completely', 'wasted', 'on', 'a', 'god', 'awful', 'storylineor', 'lack', 'thereof', 'not', 'only', 'was', 'i', 'left', 'waiting', 'throughout', 'the', 'movie', 'for', 'something', 'to', 'happen', 'to', 'make', 'the', 'moviewell', 'an', 'actual', 'movienot', 'just', 'utterless', 'dialog', 'between', 'characters', 'for', 'what', 'ended', 'up', 'being', 'absolutely', 'no', 'reason', 'it', 'was', 'nothing', 'more', 'than', 'common', 'dialog', 'that', 'would', 'have', 'taken', 'place', 'back', 'in', 'that', 'period', 'of', 'time', 'there', 'was', 'nothing', 'special', 'about', 'any', 'of', 'the', 'characters', 'the', 'only', 'thing', 'special', 'was', 'how', 'robert', 'duvall', 'portrayed', 'a', 'rambling', 'senile', 'drunk', 'old', 'man', 'nothing', 'worthy', 'happens', 'during', 'the', 'entire', 'movie', 'including', 'the', 'end', 'when', 'the', 'movie', 'ended', 'i', 'sat', 'amazedamazed', 'that', 'i', 'sat', 'through', 'the', 'entire', 'movie', 'waiting', 'for', 'something', 'of', 'interest', 'to', 'happen', 'to', 'make', 'watching', 'the', 'movie', 'worth', 'while', 'it', 'never', 'happened', 'the', 'cast', 'of', 'characters', 'suddenly', 'started', 'rolling', 'making', 'it', 'apparent', 'that', 'the', 'movie', 'really', 'was', 'over', 'and', 'i', 'realized', 'that', 'i', 'had', 'just', 'wasted', '2', 'hours', 'of', 'my', 'life', 'watching', 'a', 'movie', 'with', 'absolutely', 'no', 'plot', 'and', 'no', 'meaning', 'it', 'wasnt', 'even', 'a', 'story', 'the', 'entire', 'movie', 'takes', 'place', 'in', 'a', 'days', 'worth', 'of', 'time', 'thats', 'it', 'it', 'was', 'one', 'day', 'in', 'the', 'life', 'and', 'death', 'of', 'some', 'southerners', 'on', 'a', 'plantation', 'how', 'much', 'of', 'a', 'story', 'can', 'take', 'place', 'in', 'a', 'single', 'day', 'other', 'than', 'the', 'movie', 'training', 'day', 'the', 'acting', 'performances', 'by', 'the', 'entire', 'cast', 'were', 'excellent', 'but', 'they', 'were', 'grossly', 'wasted', 'on', 'such', 'a', 'disappointment', 'of', 'a', 'movieif', 'you', 'can', 'even', 'call', 'it', 'a', 'movie', '<END>'], ['<START>', 'holy', 'crap', 'this', 'was', 'the', 'worst', 'film', 'i', 'have', 'seen', 'in', 'a', 'long', 'time', 'all', 'the', 'performances', 'are', 'fine', 'but', 'there', 'is', 'no', 'plot', 'really', 'no', 'plot', 'a', 'bunch', 'of', 'clowns', 'talk', 'about', 'this', 'and', 'that', 'and', 'thats', 'your', 'film', 'ug', 'robert', 'duvalls', 'character', 'is', 'senile', 'and', 'keeps', 'asking', 'the', 'same', 'people', 'the', 'same', 'qestions', 'over', 'and', 'over', 'this', 'earns', 'him', 'the', 'same', 'responses', 'over', 'and', 'over', 'i', 'am', 'pretty', 'sure', 'this', 'film', 'got', 'upto', 'a', 'six', 'because', 'people', 'think', 'they', 'should', 'like', 'it', 'good', 'performances', 'with', 'famous', 'and', 'well', 'regarded', 'actors', 'but', 'the', 'actual', 'complete', 'work', 'is', 'a', 'steamy', 'turd', 'well', 'maybe', 'thats', 'a', 'bit', 'deceptive', 'since', 'steam', 'rising', 'from', 'a', 'fresh', 'pile', 'sounds', 'a', 'little', 'like', 'something', 'happening', 'and', 'in', 'this', 'film', 'nothing', 'happens', 'sack', '<END>'], ['<START>', 'swing', 'is', 'an', 'important', 'film', 'because', 'its', 'one', 'of', 'the', 'remaining', 'blackproduced', 'and', 'acted', 'films', 'from', 'the', '1930s', 'many', 'of', 'these', 'films', 'have', 'simply', 'deteriorated', 'so', 'badly', 'that', 'they', 'are', 'unwatchable', 'but', 'this', 'one', 'is', 'in', 'fairly', 'good', 'shape', 'its', 'also', 'a', 'nice', 'chance', 'to', 'see', 'many', 'of', 'the', 'talented', 'black', 'performers', 'of', 'the', 'period', 'just', 'after', 'the', 'heyday', 'of', 'the', 'old', 'cotton', 'cluba', 'time', 'all', 'but', 'forgotten', 'todaybr', 'br', 'unfortunately', 'while', 'the', 'film', 'is', 'historically', 'important', 'and', 'has', 'some', 'lovely', 'performances', 'its', 'also', 'a', 'mess', 'the', 'main', 'plot', 'is', 'very', 'similar', 'to', 'the', 'hollywood', 'musicals', 'of', 'the', 'eraincluding', 'a', 'prima', 'donna', 'who', 'is', 'going', 'to', 'ruin', 'the', 'show', 'and', 'the', 'surprise', 'unknown', 'who', 'appears', 'from', 'no', 'where', 'to', 'save', 'the', 'day', 'however', 'the', 'writing', 'is', 'just', 'godawful', 'and', 'a', 'bit', 'trashy', 'at', 'timesand', 'projects', 'images', 'of', 'black', 'america', 'that', 'some', 'might', 'find', 'a', 'bit', 'demeaning', 'this', 'is', 'because', 'before', 'the', 'plot', 'really', 'gets', 'going', 'you', 'are', 'treated', 'to', 'a', 'noaccount', 'bum', 'who', 'lives', 'off', 'his', 'hard', 'working', 'wife', 'a', 'popular', 'stereotype', 'of', 'the', 'time', 'and', 'when', 'he', 'is', 'caught', 'with', 'a', 'hussy', 'who', 'by', 'the', 'way', 'totally', 'overplays', 'this', 'role', 'they', 'have', 'a', 'fight', 'which', 'looks', 'like', 'a', 'scene', 'from', 'wwe', 'smackdown', 'and', 'the', 'one', 'lady', 'wants', 'to', 'cut', 'the', 'other', 'lady', 'with', 'a', 'straight', 'razora', 'trashy', 'scene', 'indeed', 'later', 'in', 'the', 'film', 'when', 'the', 'prima', 'donna', 'is', 'behaving', 'abominably', 'her', 'husband', 'punches', 'her', 'in', 'the', 'face', 'and', 'everyone', 'applauds', 'him', 'it', 'seems', 'like', 'the', 'film', 'at', 'times', 'wants', 'to', 'appeal', 'to', 'the', 'lowest', 'common', 'denominator', 'in', 'the', 'audience', 'plus', 'they', 'cant', 'even', 'do', 'this', 'wellwith', 'some', 'of', 'the', 'worst', 'acting', 'ive', 'seen', 'in', 'a', 'very', 'long', 'timebr', 'br', 'still', 'if', 'you', 'can', 'look', 'past', 'a', 'lousy', 'production', 'in', 'just', 'about', 'every', 'way', 'with', 'trashy', 'characters', 'bad', 'acting', 'and', 'direction', 'and', 'poor', 'writing', 'this', 'one', 'might', 'be', 'worth', 'a', 'peek', 'so', 'you', 'can', 'see', 'excellent', 'singing', 'and', 'tap', 'dancingas', 'well', 'as', 'to', 'catch', 'a', 'glimpse', 'of', 'forgotten', 'black', 'culture', 'just', 'dont', 'say', 'i', 'didnt', 'warn', 'you', 'about', 'the', 'actingits', 'really', 'really', 'bad', '<END>'], ['<START>', 'theres', 'not', 'a', 'drop', 'of', 'sunshine', 'in', 'the', 'sunshine', 'boys', 'which', 'makes', 'the', 'title', 'of', 'this', 'alleged', 'comedy', 'neil', 'simons', 'sole', 'ironic', 'moment', 'simon', 'who', 'adapted', 'the', 'script', 'from', 'his', 'play', 'which', 'goes', 'uncredited', 'equates', 'old', 'age', 'with', 'irrational', 'behaviorand', 'worse', 'clumsy', 'galumphing', 'meanspirited', 'irrational', 'behavior', 'walter', 'matthau', 'is', 'merciless', 'on', 'us', 'playing', 'an', 'aged', 'vaudeville', 'performer', 'talked', 'into', 'reuniting', 'with', 'former', 'comedy', 'partner', 'george', 'burns', 'for', 'a', 'television', 'special', 'its', 'said', 'they', 'were', 'a', 'team', 'for', '43', 'years', 'which', 'begs', 'the', 'question', 'how', 'long', 'did', 'vaudeville', 'last', 'anyway', 'burns', 'who', 'won', 'a', 'supporting', 'oscar', 'has', 'the', 'misfortune', 'of', 'coming', 'to', 'the', 'film', 'some', 'thirty', 'minutes', 'in', 'after', 'which', 'time', 'matthau', 'has', 'already', 'blasted', 'the', 'material', 'to', 'hell', 'and', 'back', 'the', 'noisier', 'the', 'movie', 'gets', 'the', 'less', 'tolerable', 'and', 'watchable', 'it', 'is', 'director', 'herbert', 'ross', 'only', 'did', 'solid', 'work', 'when', 'he', 'wasnt', 'coupled', 'with', 'one', 'of', 'neil', 'simons', 'screenplays', 'here', 'ross', 'sets', 'up', 'gags', 'like', 'a', 'thudding', 'amateur', 'hammering', 'away', 'at', 'belligerent', 'routines', 'which', 'fail', 'to', 'pay', 'off', 'such', 'as', 'semiincoherent', 'matthau', 'showing', 'up', 'at', 'a', 'mechanics', 'garage', 'to', 'audition', 'for', 'a', 'tv', 'commercial', 'at', 'this', 'point', 'matthau', 'was', 'still', 'too', 'young', 'for', 'this', 'role', 'and', 'he', 'overcompensates', 'by', 'slouching', 'and', 'hollering', 'it', 'was', 'up', 'to', 'ross', 'and', 'simon', 'to', 'tone', 'down', 'the', 'character', 'to', 'nuance', 'his', 'temperament', 'to', 'give', 'the', 'sunshine', 'boys', 'some', 'sunniness', 'yet', 'walter', 'continues', 'to', 'project', 'as', 'if', 'wed', 'all', 'gone', 'deaf', 'the', 'picture', 'looks', 'terribly', 'drab', 'and', 'crawls', 'along', 'at', 'a', 'spiritless', 'pace', 'one', 'loses', 'hope', 'for', 'it', 'early', 'on', '12', 'from', '', '<END>'], ['<START>', 'i', 'like', 'goldie', 'hawn', 'and', 'wanted', 'another', 'one', 'of', 'her', 'films', 'so', 'when', 'i', 'saw', 'protocol', 'for', '550', 'at', 'walmart', 'i', 'purchased', 'it', 'although', 'mildly', 'amusing', 'the', 'film', 'never', 'really', 'hits', 'it', 'a', 'stride', 'some', 'scenes', 'such', 'as', 'a', 'party', 'scene', 'in', 'a', 'bar', 'just', 'goes', 'on', 'for', 'too', 'long', 'and', 'really', 'has', 'no', 'purposebr', 'br', 'then', 'of', 'course', 'there', 'is', 'the', 'preachy', 'scene', 'at', 'the', 'end', 'of', 'the', 'film', 'which', 'gives', 'the', 'whole', 'film', 'a', 'bad', 'taste', 'as', 'far', 'as', 'im', 'concerned', 'i', 'dont', 'think', 'this', 'scene', 'added', 'to', 'the', 'movie', 'at', 'all', 'i', 'dont', 'like', 'stupid', 'comedies', 'trying', 'to', 'teach', 'me', 'a', 'lesson', 'written', 'by', 'some', '60s', 'burn', 'out', 'especiallybr', 'br', 'in', 'the', 'end', 'although', 'im', 'glad', 'to', 'possess', 'another', 'hawn', 'movie', 'im', 'not', 'sure', 'it', 'was', 'really', 'worth', 'the', 'money', 'i', 'paid', 'for', 'it', '<END>'], ['<START>', 'protocol', 'is', 'an', 'implausible', 'movie', 'whose', 'only', 'saving', 'grace', 'is', 'that', 'it', 'stars', 'goldie', 'hawn', 'along', 'with', 'a', 'good', 'cast', 'of', 'supporting', 'actors', 'the', 'story', 'revolves', 'around', 'a', 'ditzy', 'cocktail', 'waitress', 'who', 'becomes', 'famous', 'after', 'inadvertently', 'saving', 'the', 'life', 'of', 'an', 'arab', 'dignitary', 'the', 'story', 'goes', 'downhill', 'halfway', 'through', 'the', 'movie', 'and', 'goldies', 'charm', 'just', 'doesnt', 'save', 'this', 'movie', 'unless', 'you', 'are', 'a', 'goldie', 'hawn', 'fan', 'dont', 'go', 'out', 'of', 'your', 'way', 'to', 'see', 'this', 'film', '<END>'], ['<START>', 'when', 'an', 'attempt', 'is', 'made', 'to', 'assassinate', 'the', 'emir', 'of', 'ohtar', 'an', 'arab', 'potentate', 'visiting', 'washington', 'dc', 'his', 'life', 'is', 'saved', 'by', 'a', 'cocktail', 'waitress', 'named', 'sunny', 'davis', 'sunny', 'becomes', 'a', 'national', 'heroine', 'and', 'media', 'celebrity', 'and', 'as', 'a', 'reward', 'is', 'offered', 'a', 'job', 'working', 'for', 'the', 'protocol', 'section', 'of', 'the', 'united', 'states', 'department', 'of', 'state', 'unknown', 'to', 'her', 'however', 'the', 'state', 'department', 'officials', 'who', 'offer', 'her', 'the', 'job', 'have', 'a', 'hidden', 'agendabr', 'br', 'a', 'map', 'we', 'see', 'shows', 'ohtar', 'lying', 'on', 'the', 'borders', 'of', 'saudi', 'arabia', 'and', 'south', 'yemen', 'in', 'an', 'area', 'of', 'barren', 'desert', 'known', 'as', 'the', 'rub', 'alkhali', 'or', 'empty', 'quarter', 'in', 'real', 'life', 'a', 'state', 'in', 'this', 'location', 'would', 'have', 'a', 'population', 'of', 'virtually', 'zero', 'and', 'virtually', 'zero', 'strategic', 'value', 'but', 'for', 'the', 'purposes', 'of', 'the', 'film', 'we', 'have', 'to', 'accept', 'that', 'ohtar', 'is', 'of', 'immense', 'strategic', 'importance', 'in', 'the', 'cold', 'war', 'and', 'that', 'the', 'american', 'government', 'who', 'are', 'keen', 'to', 'build', 'a', 'military', 'base', 'there', 'need', 'to', 'do', 'all', 'that', 'they', 'can', 'in', 'order', 'to', 'keep', 'on', 'the', 'good', 'side', 'of', 'its', 'ruler', 'it', 'transpires', 'that', 'the', 'emir', 'has', 'taken', 'a', 'fancy', 'to', 'the', 'attractive', 'young', 'woman', 'who', 'saved', 'him', 'and', 'he', 'has', 'reached', 'a', 'deal', 'with', 'the', 'state', 'department', 'they', 'can', 'have', 'their', 'base', 'provided', 'that', 'he', 'can', 'have', 'sunny', 'as', 'the', 'latest', 'addition', 'to', 'his', 'harem', 'sunnys', 'new', 'job', 'is', 'just', 'a', 'ruse', 'to', 'ensure', 'that', 'the', 'emir', 'has', 'further', 'opportunities', 'to', 'meet', 'herbr', 'br', 'a', 'plot', 'like', 'this', 'could', 'have', 'been', 'the', 'occasion', 'for', 'some', 'hilarious', 'satire', 'but', 'in', 'fact', 'the', 'films', 'satirical', 'content', 'is', 'rather', 'toned', 'down', 'possibly', 'in', '1984', 'the', 'american', 'public', 'were', 'not', 'in', 'the', 'mood', 'for', 'trenchant', 'satire', 'on', 'their', 'countrys', 'foreign', 'policy', 'this', 'was', 'after', 'all', 'the', 'year', 'in', 'which', 'ronald', 'reagan', 'carried', 'fortynine', 'out', 'of', 'fifty', 'states', 'in', 'the', 'presidential', 'election', 'and', 'his', 'hard', 'line', 'with', 'the', 'soviet', 'union', 'was', 'clearly', 'going', 'down', 'well', 'with', 'the', 'voters', 'if', 'the', 'film', 'had', 'been', 'made', 'a', 'couple', 'of', 'years', 'later', 'in', 'the', 'wake', 'of', 'the', 'irancontra', 'affair', 'its', 'tone', 'might', 'have', 'been', 'differentbr', 'br', 'the', 'film', 'is', 'not', 'so', 'much', 'a', 'satire', 'as', 'a', 'vehicle', 'for', 'goldie', 'hawn', 'to', 'show', 'off', 'her', 'brand', 'of', 'cuteness', 'and', 'charm', 'sunny', 'is', 'a', 'typical', 'goldie', 'character', 'pretty', 'sweetnatured', 'naive', 'and', 'not', 'too', 'bright', 'there', 'is', 'however', 'a', 'limit', 'to', 'how', 'far', 'you', 'can', 'go', 'with', 'cuteness', 'and', 'charm', 'alone', 'and', 'you', 'cannot', 'automatically', 'make', 'a', 'bad', 'film', 'a', 'good', 'one', 'just', 'by', 'making', 'the', 'leading', 'character', 'a', 'dumb', 'blonde', 'actually', 'that', 'sounds', 'more', 'like', 'a', 'recipe', 'for', 'making', 'a', 'good', 'film', 'a', 'bad', 'one', 'goldie', 'tries', 'her', 'best', 'to', 'save', 'this', 'one', 'but', 'never', 'succeeds', 'part', 'of', 'the', 'reason', 'is', 'the', 'inconsistent', 'way', 'in', 'which', 'her', 'character', 'is', 'portrayed', 'on', 'the', 'one', 'hand', 'sunny', 'is', 'a', 'sweet', 'innocent', 'country', 'girl', 'from', 'oregon', 'on', 'the', 'other', 'hand', 'she', 'is', 'a', '35yearold', 'woman', 'who', 'works', 'in', 'a', 'sleazy', 'bar', 'and', 'wears', 'a', 'revealing', 'costume', 'the', 'effect', 'is', 'rather', 'like', 'imagining', 'rebecca', 'of', 'sunnybrook', 'farm', 'grown', 'up', 'and', 'working', 'as', 'a', 'bunny', 'girlbr', 'br', 'the', 'more', 'important', 'reason', 'why', 'goldie', 'is', 'unable', 'to', 'rescue', 'this', 'film', 'is', 'even', 'the', 'best', 'comedian', 'or', 'comedienne', 'is', 'no', 'better', 'than', 'hisher', 'material', 'and', 'protocol', 'is', 'simply', 'unfunny', 'whatever', 'humour', 'exists', 'is', 'tired', 'and', 'strained', 'relying', 'on', 'offensive', 'stereotypes', 'about', 'arab', 'men', 'who', 'apparently', 'all', 'lust', 'after', 'western', 'women', 'particularly', 'if', 'they', 'are', 'blonde', 'and', 'blueeyed', 'there', 'was', 'a', 'lot', 'of', 'this', 'sort', 'of', 'thing', 'about', 'in', 'the', 'mideighties', 'as', 'this', 'was', 'the', 'period', 'which', 'also', 'saw', 'the', 'awful', 'ben', 'kingsley', 'nastassia', 'kinski', 'film', 'harem', 'about', 'a', 'lascivious', 'middle', 'eastern', 'ruler', 'who', 'kidnaps', 'a', 'young', 'american', 'woman', 'and', 'the', 'miniseries', 'of', 'the', 'same', 'name', 'which', 'told', 'a', 'virtually', 'identical', 'story', 'with', 'a', 'period', 'setting', 'the', 'filmmakers', 'seem', 'to', 'have', 'realised', 'that', 'their', 'film', 'would', 'not', 'work', 'as', 'a', 'pure', 'comedy', 'because', 'towards', 'the', 'end', 'it', 'turns', 'into', 'a', 'sort', 'of', 'latterday', 'mr', 'smith', 'goes', 'to', 'washington', 'sunny', 'turns', 'from', 'a', 'blonde', 'bimbo', 'into', 'a', 'fount', 'of', 'political', 'wisdom', 'and', 'starts', 'uttering', 'all', 'sorts', 'of', 'platitudes', 'about', 'democracy', 'and', 'the', 'constitution', 'and', 'the', 'citizens', 'duty', 'to', 'vote', 'and', 'we', 'the', 'people', 'and', 'how', 'the', 'price', 'of', 'liberty', 'is', 'eternal', 'vigilance', 'blah', 'blah', 'blah', 'but', 'in', 'truth', 'the', 'film', 'is', 'no', 'more', 'successful', 'as', 'a', 'political', 'parable', 'than', 'it', 'is', 'as', 'a', 'comedybr', 'br', 'goldie', 'hawn', 'has', 'made', 'a', 'number', 'of', 'good', 'comedies', 'such', 'as', 'cactus', 'flower', 'overboard', 'and', 'housesitter', 'but', 'protocol', 'is', 'not', 'one', 'of', 'them', 'i', 'have', 'not', 'seen', 'all', 'of', 'her', 'films', 'but', 'of', 'those', 'i', 'have', 'seen', 'this', 'dire', 'comedy', 'is', 'by', 'far', 'the', 'worst', '310', '<END>'], ['<START>', 'what', 'does', 'the', '', 'executive', 'producer', '', 'do', 'in', 'a', 'movie', '', 'if', 'i', 'remember', 'correctly', 'its', 'the', 'person', 'who', 'raised', 'the', 'financial', 'backing', 'to', 'make', 'the', 'movie', '', 'you', 'might', 'notice', 'in', 'a', 'great', 'number', 'of', 'movies', 'starring', 'sean', 'connery', 'that', 'he', 'is', 'also', 'the', 'executive', 'producer', 'which', 'meant', 'connery', 'himself', 'raised', 'the', 'money', 'since', 'he', 'is', 'a', 'major', 'player', '', 'unfortunately', 'it', 'should', 'also', 'be', 'pointed', 'out', 'that', 'a', 'great', 'number', 'of', 'movies', '', 'starring', 'sean', 'connery', 'were', 'solely', 'made', 'because', 'he', 'managed', 'to', 'raise', 'the', 'money', 'since', 'hes', 'a', 'major', 'hollywood', 'player', '', 'its', 'usually', 'an', 'indication', 'that', 'when', 'the', 'credits', 'read', 'that', 'the', 'executive', 'producer', 'and', 'the', 'star', 'of', 'the', 'movie', 'are', 'one', 'and', 'the', 'same', 'the', 'movie', 'itself', 'is', 'nothing', 'more', 'than', 'a', 'star', 'vehicle', 'with', 'the', 'storyscreenplay', 'not', 'being', 'up', 'to', 'scratch', 'br', 'br', 'protocol', 'follows', 'the', 'saga', 'of', 'one', 'sunny', 'davis', 'a', 'kooky', 'bimboesque', 'cocktail', 'waitress', 'who', 'saves', 'a', 'visiting', 'dignitary', 'and', 'as', 'a', 'reward', 'gets', 'made', 'a', 'top', 'diplomat', '', 'likely', '', 'as', 'things', 'progress', 'ms', 'davis', '', 'who', 'has', 'problems', 'being', 'able', 'to', 'string', 'two', 'sentences', 'together', '', 'finds', 'herself', 'in', 'more', 'outlandish', 'and', 'less', 'likely', 'situations', '', 'when', 'i', 'say', 'that', 'protocol', 'stars', 'goldie', 'hawn', 'who', 'is', 'also', 'the', 'films', 'executive', 'producer', 'do', 'you', 'understand', 'what', 'im', 'saying', 'about', 'the', 'storyscreenplay', 'not', 'being', 'up', 'to', 'scratch', '', 'exactly', '<END>'], ['<START>', 'outlandish', 'premise', 'that', 'rates', 'low', 'on', 'plausibility', 'and', 'unfortunately', 'also', 'struggles', 'feebly', 'to', 'raise', 'laughs', 'or', 'interest', 'only', 'hawns', 'wellknown', 'charm', 'allows', 'it', 'to', 'skate', 'by', 'on', 'very', 'thin', 'ice', 'goldies', 'gotta', 'be', 'a', 'contender', 'for', 'an', 'actress', 'whos', 'done', 'so', 'much', 'in', 'her', 'career', 'with', 'very', 'little', 'quality', 'material', 'at', 'her', 'disposalbr', 'br', '', '<END>'], ['<START>', 'there', 'are', 'only', 'two', 'movies', 'i', 'would', 'give', 'a', '110', 'to', 'this', 'stinker', 'and', 'the', 'man', 'who', 'fell', 'to', 'earth', 'i', 'remember', 'seeing', 'protocol', 'at', 'a', 'theater', 'in', 'the', 'early', '80s', 'when', 'i', 'was', 'in', 'high', 'school', 'the', 'script', 'is', 'insulting', 'to', 'anyone', 'including', 'a', 'high', 'school', 'students', 'intelligence', 'it', 'completely', 'lost', 'me', 'with', 'the', 'hillarious', 'gag', 'of', 'someone', 'getting', 'shot', 'in', 'the', 'butt', 'goldie', 'hawn', 'is', 'supposed', 'to', 'be', 'charming', 'but', 'comes', 'across', 'as', 'vapid', 'and', 'moronic', 'then', 'there', 'are', 'offensive', 'stereotypes', 'about', 'arabs', 'followed', 'by', 'goldie', 'winning', 'over', 'everyone', 'by', 'spouting', 'populist', 'dribble', 'the', 'acting', 'was', 'terrible', 'including', 'goldie', 'hawns', 'i', 'could', 'not', 'stand', 'to', 'see', 'another', 'movie', 'she', 'was', 'in', 'until', 'imo', 'she', 'redeemed', 'herself', 'in', 'everyone', 'says', 'i', 'love', 'you', 'this', 'is', 'the', 'kind', 'of', 'movie', 'you', 'make', 'if', 'you', 'want', 'to', 'put', 'no', 'effort', 'into', 'screenplay', 'writing', 'the', 'worst', '<END>'], ['<START>', 'the', 'only', 'good', 'thing', 'about', 'this', 'movie', 'was', 'the', 'shot', 'of', 'goldie', 'hawn', 'standing', 'in', 'her', 'little', 'french', 'cut', 'bikini', 'panties', 'and', 'struggling', 'to', 'keep', 'a', 'dozen', 'other', 'depraved', 'women', 'from', 'removing', 'her', 'skimpy', 'little', 'cotton', 'top', 'while', 'she', 'giggled', 'and', 'cooed', 'ooooof', 'her', 'loins', 'rival', 'those', 'of', 'nina', 'hartley', 'this', 'movie', 'came', 'out', 'when', 'i', 'was', 'fourteen', 'and', 'that', 'shot', 'nearly', 'killed', 'me', 'id', 'forgotten', 'about', 'it', 'all', 'tucked', 'away', 'in', 'the', 'naughty', 'roladex', 'of', 'my', 'mind', 'until', 'seeing', 'it', 'the', 'other', 'day', 'on', 'tv', 'where', 'they', 'actually', 'blurred', 'her', 'midsection', 'in', 'that', 'scene', 'good', 'grief', 'reminding', 'me', 'what', 'a', 'smokin', 'hottie', 'of', 'a', 'woman', 'goldie', 'hawn', 'was', 'in', 'the', '80s', 'kurt', 'russell', 'must', 'have', 'had', 'a', 'fun', 'life', '<END>'], ['<START>', 'im', 'studying', 'catalan', 'and', 'was', 'delighted', 'to', 'find', 'el', 'mar', 'a', 'movie', 'with', 'mostly', 'catalan', 'dialogue', 'at', 'my', 'arthouse', 'video', 'storebr', 'br', 'hmmm', 'not', 'so', 'delighted', 'to', 'have', 'seen', 'itbr', 'br', 'yes', 'as', 'other', 'reviewers', 'have', 'said', 'its', 'wellmade', 'and', 'beautifully', 'photographed', 'although', 'the', 'opening', 'sequence', 'of', 'the', 'children', 'is', 'shockingly', 'violent', 'its', 'wellacted', 'and', 'convincing', 'for', 'the', 'most', 'part', 'that', 'is', 'would', 'the', 'mallorquins', 'strip', 'a', 'corpse', 'in', 'preparation', 'for', 'burial', 'right', 'in', 'the', 'middle', 'of', 'the', 'town', 'square', 'in', 'full', 'view', 'of', 'the', 'dead', 'mans', '10yearold', 'boy', 'oh', 'well', 'minor', 'detail', 'up', 'to', 'this', 'point', 'it', 'had', 'something', 'of', 'the', 'feel', 'of', 'a', 'nonmagical', 'pans', 'labyrinth', 'also', 'set', 'in', 'the', 'spanish', 'civil', 'warbr', 'br', 'fastforward', 'and', 'the', 'three', 'children', 'who', 'survived', 'the', 'opening', 'incident', 'have', 'come', 'of', 'age', 'francisca', 'is', 'a', 'nun', 'working', 'at', 'a', 'tuberculosis', 'sanatorium', 'and', 'the', 'two', 'boys', 'manuel', 'and', 'ramallo', 'both', 'are', 'patients', 'i', 'know', 'but', 'hey', 'coincidences', 'happenbr', 'br', 'the', 'problem', 'as', 'with', 'so', 'many', 'spanish', 'movies', 'apologies', 'to', 'almodovar', 'fans', 'is', 'that', 'with', 'one', 'exception', 'francisca', 'the', 'characters', 'are', 'just', 'so', 'dang', 'weird', 'their', 'motivations', 'personalities', 'and', 'dialogue', 'are', 'often', 'simply', 'incoherentbr', 'br', 'whats', 'more', 'it', 'descends', 'into', 'some', 'horrific', 'wretched', 'excess', 'be', 'prepared', 'for', 'lots', 'of', 'pain', 'and', 'lots', 'of', 'blood', 'the', 'reviewer', 'who', 'called', 'it', 'a', 'potboiler', 'is', 'quite', 'on', 'track', 'if', 'it', 'had', 'been', 'made', '40', 'years', 'ago', 'the', 'poster', 'wouldve', 'said', 'see', 'forbidden', 'love', 'rape', 'murder', 'mutilation', 'fanaticism', 'animal', 'cruelty', 'betrayal', 'br', 'br', 'the', 'opening', 'sequence', 'is', 'not', 'nearly', 'enough', 'to', 'make', 'the', 'personalities', 'and', 'relationships', 'of', 'the', 'characters', 'believable', 'to', 'work', 'this', 'should', 'have', 'had', 'multiple', 'flashbacks', 'to', 'flesh', 'out', 'the', 'characters', 'as', 'it', 'is', 'it', 'seems', 'a', 'bizarre', 'and', 'depressing', 'cross', 'between', 'brother', 'sun', 'sister', 'moon', 'and', 'pulp', 'fiction', 'if', 'that', 'sounds', 'like', 'something', 'youve', 'got', 'to', 'see', 'by', 'all', 'means', 'enjoy', 'i', 'think', 'i', 'go', 'with', 'something', 'that', 'doesnt', 'make', 'me', 'feel', 'i', 'need', 'to', 'take', 'a', 'shower', 'to', 'wash', 'off', 'the', 'gore', 'and', 'gloombr', 'br', 'as', 'for', 'the', 'catalan', 'its', 'the', 'mallorqui', 'dialect', 'fairly', 'different', 'than', 'the', 'barcelona', 'dialect', 'though', 'i', 'was', 'surprised', 'by', 'the', 'comment', 'that', 'said', 'that', 'even', 'barcelonans', 'apparently', 'needed', 'catalan', 'subtitles', 'to', 'understand', 'it', '<END>'], ['<START>', 'i', 'was', 'excited', 'to', 'view', 'a', 'cataluñas', 'film', 'in', 'the', 'berlins', 'competition', 'but', 'after', 'the', 'presentation', 'i', 'was', 'total', 'disappointed', 'and', 'furious', 'too', 'much', 'blood', 'too', 'much', 'time', 'too', 'much', 'themes', 'for', 'nothing', 'the', 'spanish', 'civil', 'war', 'like', 'every', 'war', 'was', 'horrible', 'the', 'revenge', 'a', 'very', 'human', 'behavior', 'not', 'pretty', 'at', 'all', 'is', 'shown', 'in', 'uncountable', 'films', 'and', 'plays', 'as', 'well', 'as', 'the', 'relations', 'between', 'homosexuals', 'and', 'the', 'scepticism', 'in', 'spain', 'about', 'catholicism', '', 'but', 'what', 'mr', 'villaronga', 'try', 'is', 'a', 'pseudo', 'tragedy', 'that', 'can', 'belongs', 'to', 'the', 'worst', 'of', 'the', 'films', 'history', 'it', 'is', 'really', 'a', 'pity', 'to', 'see', 'angela', 'molina', 'in', 'this', 'movie', 'i', 'advise', 'nobody', 'under', 'no', 'circumstances', 'to', 'go', 'to', 'see', 'this', 'film', '<END>'], ['<START>', 'this', 'film', 'was', 'a', 'major', 'letdown', 'the', 'level', 'of', 'relentless', 'cruelty', 'and', 'violence', 'in', 'this', 'film', 'was', 'very', 'disturbing', 'some', 'scenes', 'were', 'truly', 'unnecessarily', 'ugly', 'and', 'meanspirited', 'the', 'main', 'characters', 'were', 'impossible', 'to', 'identify', 'with', 'or', 'even', 'sympathize', 'with', 'the', 'lead', 'protagonists', 'character', 'was', 'as', 'slimy', 'as', 'they', 'come', 'the', 'sickroomhothouse', 'atmosphere', 'lent', 'itself', 'to', 'overthetop', 'theatrics', 'little', 'or', 'nothing', 'could', 'be', 'learned', 'about', 'the', 'spanish', 'civil', 'war', 'from', 'this', 'film', 'fortunately', 'ive', 'been', 'to', 'spain', 'and', 'realize', 'this', 'is', 'not', 'realistic', 'in', 'addition', 'the', 'use', 'of', 'samesex', 'attraction', 'as', 'a', 'lurid', 'horror', 'was', 'also', 'very', 'offensive', 'and', 'poorly', 'handled', 'while', 'the', 'dvd', 'is', 'being', 'packaged', 'and', 'advertised', 'to', 'attract', 'gay', 'viewers', 'the', 'actors', 'seemed', 'uncomfortable', 'in', 'their', 'rolesas', 'if', 'they', 'were', 'trying', 'to', 'distance', 'themselves', 'from', 'this', 'messi', 'guess', 'if', 'you', 'like', 'watching', 'children', 'and', 'pets', 'being', 'brutally', 'killedthis', 'film', 'might', 'especially', 'appeal', 'to', 'you', '<END>'], ['<START>', 'three', 'part', 'horror', 'film', 'with', 'some', 'guy', 'in', 'a', 'boarded', 'up', 'house', 'imploring', 'the', 'viewer', 'not', 'to', 'go', 'out', 'there', 'and', 'unfortunately', 'gives', 'us', 'three', 'tales', 'to', 'prove', 'whybr', 'br', 'the', 'first', 'story', 'involves', 'a', 'young', 'couple', 'in', 'a', 'car', 'accident', 'who', 'meet', 'up', 'with', 'two', 'psychos', 'it', 'leads', 'up', 'to', 'two', 'totally', 'predictable', 'twists', 'still', 'its', 'quick', 'about', '15', 'minutes', 'violent', 'wellacted', 'and', 'welldone', 'predictable', 'but', 'enjoyablebr', 'br', 'the', 'second', 'involves', 'a', 'man', 'on', 'the', 'run', 'after', 'stealing', 'a', 'large', 'amount', 'of', 'money', 'his', 'car', 'breaks', 'down', 'hes', 'attacked', 'by', 'a', 'dog', 'and', 'stumbles', 'into', 'a', 'nearby', 'clinic', 'very', 'obvious', 'badly', 'done', 'and', 'extremely', 'slow', 'even', 'at', '30', 'minutes', 'this', 'is', 'too', 'long', 'good', 'acting', 'thoughbr', 'br', 'the', 'third', 'is', 'just', 'barely', 'a', 'horror', 'story', 'it', 'involves', 'a', 'beautiful', 'lonely', 'woman', 'looking', 'for', 'mr', 'right', 'it', 'has', 'beautiful', 'set', 'designs', 'a', 'nice', 'erotic', 'feel', 'and', 'a', 'nice', 'sex', 'scene', 'but', 'again', 'predictable', 'and', 'not', 'even', 'remotely', 'scarybr', 'br', 'it', 'ends', 'very', 'stupidlybr', 'br', 'all', 'in', 'all', 'the', 'first', 'one', 'is', 'worth', 'watching', 'but', 'thats', 'it', 'tune', 'in', 'for', 'that', 'one', 'then', 'turn', 'it', 'off', '<END>'], ['<START>', 'a', 'very', 'cheesy', 'and', 'dull', 'road', 'movie', 'with', 'the', 'intention', 'to', 'be', 'hip', 'and', 'modern', 'shown', 'in', 'the', 'editing', 'style', 'and', 'some', 'weird', 'camera', 'angles', 'resulting', 'only', 'in', 'sleepiness', 'br', 'br', 'the', 'cast', 'is', 'wasted', 'the', 'writing', 'is', 'stupid', 'and', 'pretentious', 'the', 'only', 'thing', 'worthwhile', 'is', 'the', 'topnotch', 'lalo', 'schifrins', 'soundtrack', 'really', 'cool', 'and', 'also', 'the', 'opening', 'sequence', 'very', 'original', 'and', 'interesting', 'br', 'br', 'run', 'if', 'you', 'can', 'the', 'bad', 'opinions', 'and', 'comments', 'about', 'this', 'flick', 'are', 'totally', 'deserved', 'it', 'is', 'really', 'pure', 'garbage', 'of', 'course', 'that', 'this', 'has', 'its', 'charm', 'of', 'watching', 'a', 'movie', 'which', 'everybody', 'would', 'not', 'drop', 'the', 'beer', 'glass', 'on', 'if', 'it', 'were', 'on', 'fire', 'but', 'save', 'it', 'for', 'a', 'stormy', 'day', 'where', 'you', 'have', 'absolutely', 'nothing', 'else', 'to', 'do', '<END>'], ['<START>', 'there', 'are', 'some', 'nice', 'shots', 'in', 'this', 'film', 'it', 'catches', 'some', 'of', 'the', 'landscapes', 'with', 'such', 'a', 'beautiful', 'light', 'in', 'fact', 'the', 'cinematography', 'is', 'probably', 'its', 'best', 'assetbr', 'br', 'but', 'its', 'basically', 'more', 'of', 'a', 'made', 'for', 'tv', 'movie', 'and', 'although', 'it', 'has', 'a', 'lot', 'of', 'twists', 'and', 'turns', 'in', 'the', 'plot', 'which', 'keeps', 'it', 'quite', 'interesting', 'viewing', 'there', 'are', 'no', 'subtitles', 'and', 'key', 'plot', 'developments', 'are', 'unveiled', 'in', 'spanish', 'so', 'non', 'spanish', 'speakers', 'will', 'be', 'left', 'a', 'little', 'lostbr', 'br', 'i', 'had', 'it', 'as', 'a', 'xmas', 'gift', 'as', 'its', 'a', 'family', 'trait', 'to', 'work', 'through', 'the', 'films', 'of', 'a', 'actor', 'we', 'find', 'talented', 'and', 'matthew', 'mconaughey', 'was', 'just', 'awesome', 'in', 'a', 'time', 'to', 'kill', '', 'and', 'the', 'the', 'newton', 'boys', '', 'so', 'i', 'expressed', 'i', 'wanted', 'to', 'see', 'more', 'of', 'his', 'workbr', 'br', 'however', 'although', 'it', 'says', 'on', 'the', 'dvd', 'box', 'it', 'is', 'a', 'matthew', 'mconaughey', 'film', 'and', 'uses', 'this', 'as', 'a', 'marketing', 'ploy', 'he', 'has', 'a', 'few', 'lines', 'and', 'is', 'on', 'screen', 'for', 'not', 'very', 'minutes', 'at', 'the', 'end', 'of', 'the', 'film', 'he', 'is', 'basically', 'an', 'extra', 'and', 'he', 'doesnt', 'exactly', 'light', 'up', 'the', 'screen', 'while', 'he', 'is', 'on', 'so', 'die', 'hard', 'fans', 'really', 'not', 'worth', 'it', 'from', 'that', 'point', 'of', 'viewbr', 'br', 'the', 'films', 'star', 'though', 'patrick', 'mcgaw', 'is', 'great', 'though', 'and', 'very', 'easy', 'on', 'the', 'eye', 'and', 'his', 'character', 'is', 'just', 'so', 'nice', 'and', 'kind', 'and', 'caring', 'a', 'true', 'saint', 'of', 'a', 'guy', 'hed', 'be', 'well', 'written', 'into', 'a', 'rom', 'combr', 'br', 'so', 'for', 'true', 'mcconaughey', 'acting', 'brilliance', 'of', 'the', 'ones', 'ive', 'seen', 'id', 'recommend', 'a', 'time', 'to', 'kill', '', 'the', 'newton', 'boys', '', 'frailty', 'how', 'to', 'lose', 'a', 'guy', 'in', '10', 'days', 'edtv', 'and', 'amistad', 'and', 'avoid', 'too', 'larger', 'than', 'life', 'and', 'angels', 'in', 'the', 'outfield', 'unless', 'you', 'feel', 'like', 'a', 'kids', 'film', 'or', 'have', 'kids', 'around', 'as', 'neither', 'of', 'these', 'are', 'indicative', 'of', 'his', 'talent', 'but', 'are', 'quite', 'amusing', 'films', 'for', 'children', 'again', 'mm', 'is', 'really', 'nothing', 'more', 'that', 'a', 'supporting', 'artist', 'with', 'just', 'a', 'few', 'if', 'any', 'linesbr', 'br', 'as', 'for', 'scorpion', 'springits', 'not', 'a', 'bad', 'film', 'but', 'it', 'also', 'isnt', 'screen', 'stealing', 'either', '<END>'], ['<START>', 'when', 'a', 'man', 'who', 'doesnt', 'have', 'alzheimers', 'cant', 'remember', 'how', 'many', 'films', 'hes', 'made', 'he', 'probably', 'is', 'the', 'worlds', 'most', 'prolific', 'director', 'after', 'all', 'that', 'man', 'is', 'jesus', 'franco', 'the', 'king', 'of', 'socalled', 'eurotrash', 'his', '1980', 'flick', 'devil', 'hunter', 'is', 'as', 'rushed', 'opaque', 'stupid', 'lazy', 'and', 'exploitative', 'in', 'the', 'truest', 'sense', 'of', 'the', 'word', 'the', 'films', 'title', 'is', 'misleading', 'for', 'starters', 'as', 'any', 'other', 'franco', 'film', 'ive', 'seen', 'that', 'makes', 'it', 'sound', 'pretty', 'awful', 'and', 'it', 'is', 'yet', 'franco', 'does', 'have', 'some', 'kind', 'of', 'inimitable', 'sensibility', 'a', 'generous', 'way', 'with', 'the', 'baldly', 'outrageous', 'with', 'nudity', 'and', 'sleaze', 'and', 'violence', 'and', 'even', 'with', 'his', 'stupid', 'cheap', 'editing', 'which', 'tries', 'to', 'pave', 'over', 'the', 'extreme', 'haste', 'with', 'which', 'all', 'his', 'films', 'were', 'made', 'the', 'mix', 'of', 'all', 'these', 'elements', 'causes', 'you', 'to', 'ride', 'his', 'films', 'out', 'even', 'while', 'youre', 'mostly', 'waiting', 'for', 'them', 'to', 'end', 'because', 'theyre', 'so', 'very', 'tediousbr', 'br', 'devil', 'hunter', 'is', 'nigh', 'on', 'incomprehensible', 'for', 'the', 'first', 'half', 'an', 'hour', 'the', 'kidnap', 'by', 'strangers', 'of', 'a', 'white', 'woman', 'who', 'seems', 'to', 'be', 'a', 'model', 'or', 'film', 'star', 'is', 'intercut', 'with', 'a', 'bunch', 'of', 'native', 'action', 'in', 'south', 'america', 'theres', 'lots', 'of', 'naked', 'writhing', 'dancing', 'and', 'endless', 'repeated', 'zoomins', 'on', 'an', 'ugly', 'totem', 'pole', 'you', 'need', 'to', 'get', 'used', 'to', 'the', 'repetitive', 'zoomins', 'and', 'the', 'technique', 'of', 'cutting', 'back', 'to', 'the', 'same', 'shot', 'about', 'three', 'times', 'in', 'a', 'row', 'right', 'away', 'as', 'these', 'are', 'francos', 'main', 'methods', 'of', 'extending', 'a', 'film', 'out', 'to', 'feature', 'lengthbr', 'br', 'the', 'monster', 'who', 'looks', 'like', 'the', 'totem', 'pole', 'is', 'actually', 'kind', 'of', 'scary', 'he', 'has', 'raw', 'bug', 'eyes', 'and', 'his', 'presence', 'is', 'always', 'signalled', 'on', 'the', 'soundtrack', 'by', 'cacophonous', 'groaning', 'apparently', 'recorded', 'in', 'an', 'echo', 'chamber', 'early', 'in', 'the', 'piece', 'he', 'chews', 'on', 'a', 'native', 'lady', 'strapped', 'to', 'a', 'tree', 'and', 'its', 'hard', 'to', 'know', 'what', 'really', 'happens', 'here', 'but', 'i', 'think', 'he', 'ate', 'her', 'stomach', 'or', 'her', 'genitals', 'sweet', 'jesusbr', 'br', 'anyway', 'the', 'adventure', 'begins', 'properly', 'when', 'a', 'studly', 'guy', 'and', 'his', 'freaked', 'out', 'vietnam', 'vet', 'pal', 'are', 'sent', 'to', 'the', 'island', 'to', 'recover', 'the', 'white', 'girl', 'from', 'the', 'kidnappers', 'the', 'flakey', 'guy', 'has', 'an', 'accent', 'which', 'as', 'dubbed', 'is', 'half', 'brooklynamerican', 'half', 'englishliverpudlian', 'and', 'all', 'retarded', 'all', 'of', 'the', 'dialogue', 'and', 'dubbing', 'is', 'ridiculous', 'and', 'laughable', 'making', 'for', 'another', 'layer', 'of', 'the', 'film', 'which', 'can', 'somehow', 'hold', 'your', 'interestbr', 'br', 'not', 'too', 'much', 'really', 'happens', 'from', 'here', 'on', 'in', 'and', 'it', 'happens', 'pretty', 'sluggishly', 'studded', 'with', 'the', 'odd', 'bit', 'of', 'outrage', 'like', 'a', 'rape', 'the', 'nebulous', 'action', 'is', 'fleshed', 'out', 'haha', 'by', 'acres', 'of', '360', 'degree', 'nudity', 'from', 'the', 'natives', 'and', 'the', 'two', 'female', 'leads', 'and', 'even', 'from', 'the', 'monster', 'himself', 'that', 'he', 'walks', 'around', 'with', 'his', 'penis', 'exposed', 'makes', 'wrestling', 'him', 'an', 'unappetising', 'prospect', 'for', 'the', 'tough', 'guy', 'hero', 'but', 'its', 'gotta', 'be', 'done', 'at', 'some', 'point', 'and', 'its', 'nice', 'to', 'note', 'that', 'the', 'director', 'will', 'show', 'anyones', 'genitals', 'on', 'camerabr', 'br', 'the', 'best', 'feature', 'of', 'devil', 'hunter', 'is', 'the', 'location', 'filming', 'franco', 'can', 'be', 'extremely', 'cheap', 'with', 'the', 'structural', 'and', 'story', 'aspects', 'of', 'filmmaking', 'but', 'he', 'doesnt', 'muck', 'around', 'with', 'sets', 'you', 'get', 'real', 'islands', 'jungles', 'helicopters', 'and', 'mountains', 'all', 'in', 'widescreen', 'this', 'is', 'something', 'that', 'is', 'really', 'cool', 'to', 'experience', 'in', 'these', 'days', 'of', 'crappy', 'cgi', 'sets', 'and', 'backdrops', 'ad', 'nauseambr', 'br', 'ultimately', 'issues', 'of', 'recommendation', 'where', 'this', 'film', 'is', 'concerned', 'seem', 'moot', 'if', 'youre', 'trying', 'to', 'see', 'all', 'the', 'video', 'nasties', 'you', 'will', 'have', 'to', 'watch', 'this', 'at', 'some', 'point', 'and', 'youll', 'be', 'made', 'as', 'restless', 'as', 'i', 'was', 'if', 'you', 'like', 'franco', 'youll', 'watch', 'this', 'anyway', 'if', 'you', 'fall', 'into', 'neither', 'of', 'the', 'above', 'categories', 'the', 'odds', 'are', 'youll', 'never', 'come', 'across', 'this', 'film', 'copies', 'of', 'it', 'arent', 'just', 'lying', 'around', 'and', 'i', 'could', 'hardly', 'recommend', 'the', 'seeking', 'out', 'of', 'it', 'its', 'franco', 'lazy', 'crazy', 'franco', '<END>'], ['<START>', 'i', 'have', 'been', 'looking', 'for', 'this', 'film', 'for', 'ages', 'because', 'it', 'is', 'quite', 'rare', 'to', 'find', 'as', 'it', 'was', 'one', 'of', 'the', 'video', 'nasties', 'i', 'finally', 'found', 'it', 'on', 'dvd', 'at', 'the', 'end', 'of', 'last', 'year', 'it', 'is', 'a', 'very', 'low', 'budget', 'movie', 'the', 'story', 'is', 'set', 'around', 'amazon', 'jungle', 'tribes', 'that', 'are', 'living', 'in', 'fear', 'of', 'the', 'devil', 'laura', 'crawford', 'is', 'a', 'model', 'who', 'is', 'kidnapped', 'by', 'a', 'gang', 'of', 'thugs', 'while', 'she', 'is', 'working', 'in', 'south', 'america', 'they', 'take', 'her', 'into', 'the', 'jungle', 'laura', 'is', 'guarded', 'by', 'some', 'ridiculous', 'native', 'who', 'calls', 'himself', 'the', 'devil', 'she', 'has', 'to', 'go', 'though', 'all', 'unpleasant', 'things', 'until', 'they', 'are', 'happy', 'maidens', 'are', 'chained', 'up', 'the', 'devil', 'demonstrates', 'eating', 'flesh', 'in', 'a', 'horrible', 'manner', 'peter', 'weston', 'is', 'the', 'devil', 'hunter', 'who', 'goes', 'into', 'the', 'jungle', 'to', 'try', 'and', 'rescue', 'her', '<END>'], ['<START>', 'as', 'the', 'number', 'of', 'video', 'nasties', 'ive', 'yet', 'to', 'see', 'dwindles', 'this', 'little', 'pile', 'of', 'garbage', 'popped', 'up', 'on', 'my', 'to', 'rent', 'list', 'when', 'i', 'saw', 'it', 'was', 'availablebr', 'br', 'the', 'premise', 'involves', 'a', 'fashion', 'model', 'or', 'something', 'being', 'kidnapped', 'and', 'taken', 'into', 'the', 'jungle', 'to', 'be', 'held', 'for', 'ransom', 'by', 'a', 'motley', 'crew', 'of', 'idiots', 'some', 'other', 'goof', 'gets', 'hired', 'to', 'bring', 'her', 'back', 'and', 'is', 'given', 'a', 'sack', 'of', 'money', 'to', 'use', 'as', 'a', 'bargaining', 'chip', 'though', 'if', 'he', 'returns', 'with', 'the', 'girl', 'and', 'all', 'the', 'money', 'he', 'gets', 'a', 'significant', 'cut', 'hes', 'brought', 'a', 'helicopter', 'and', 'pilot', 'with', 'him', 'and', 'wow', 'that', 'pilot', 'is', 'one', 'of', 'the', 'worst', 'actors', 'ever', 'granted', 'they', 'are', 'all', 'totally', 'terrible', 'and', 'the', 'dubbing', 'will', 'make', 'you', 'cry', 'blood', 'after', 'stealing', 'away', 'into', 'the', 'jungle', 'we', 'learn', 'that', 'nearby', 'is', 'a', 'cannibal', 'cult', 'whose', 'flesheating', 'earthbound', 'god', 'wanders', 'the', 'woods', 'like', 'a', 'human', 'king', 'kong', 'looking', 'for', 'tribeswomen', 'to', 'ravage', 'and', 'devour', 'now', 'this', 'fellow', 'is', 'just', 'a', 'naked', 'guy', 'with', 'some', 'of', 'the', 'worst', 'makeup', 'ever', 'pingpong', 'balls', 'for', 'eyes', 'and', 'thats', 'pretty', 'much', 'it', 'his', 'growls', 'and', 'groans', 'are', 'an', 'everpresent', 'feature', 'on', 'the', 'soundtrack', 'and', 'i', 'found', 'myself', 'muting', 'much', 'of', 'those', 'scenesbr', 'br', 'oh', 'did', 'i', 'forget', 'to', 'mention', 'the', 'almost', 'constant', 'nudity', 'this', 'is', 'probably', 'the', 'main', 'reason', 'this', 'film', 'was', 'banned', 'though', 'there', 'is', 'one', 'specific', 'scene', 'about', 'one', 'second', 'long', 'where', 'the', 'god', 'attacks', 'a', 'girl', 'and', 'pulls', 'her', 'guts', 'out', 'but', 'its', 'not', 'a', 'redeeming', 'factor', 'for', 'gore', 'fans', 'also', 'jess', 'franco', 'goes', 'beyond', 'the', 'usual', 't', 'and', 'a', 'and', 'shows', 'lengthy', 'closeups', 'of', 'female', 'genitals', 'and', 'sadly', 'male', 'as', 'well', 'so', 'if', 'you', 'want', 'fair', 'in', 'terms', 'of', 'exploitation', 'you', 'got', 'itbr', 'br', 'i', 'cant', 'recommend', 'this', 'trash', 'to', 'anyone', 'its', 'not', 'even', 'the', 'good', 'bad', 'movie', 'its', 'just', 'atrociously', 'padded', 'trash', 'that', 'only', 'a', 'video', 'nasty', 'fan', 'will', 'probably', 'view', 'and', 'even', 'then', 'if', 'you', 'are', 'making', 'your', 'way', 'through', 'the', 'list', 'leave', 'this', 'for', 'the', 'very', 'last', 'if', 'you', 'watch', 'it', 'first', 'you', 'may', 'get', 'the', 'notion', 'that', 'this', 'is', 'the', 'norm', 'for', 'the', 'list', 'which', 'is', 'certainly', 'not', 'true', '<END>'], ['<START>', 'not', 'sure', 'if', 'im', 'referring', 'to', 'those', 'who', 'labeled', 'this', 'a', 'video', 'nasty', 'or', 'to', 'the', 'directordevil', 'hunter', 'sure', 'is', 'one', 'bizarre', 'horror', 'moviebr', 'br', 'the', 'plot', 'is', 'a', 'loosey', 'goosey', 'combo', 'of', 'superior', 'films', 'like', 'cannibal', 'ferox', 'and', 'cut', 'and', 'run', 'chick', 'gets', 'kidnapped', 'in', 'the', 'jungle', 'by', 'a', 'tribe', 'of', 'savages', 'the', 'jungle', 'looks', 'more', 'like', 'a', 'park', 'somewhere', 'in', 'mexico', 'the', 'tribe', 'is', 'like', 'a', 'group', 'of', 'hippies', 'who', 'walk', 'around', 'in', 'party', 'citystyle', 'halloween', 'costume', 'renditions', 'of', 'tribal', 'garb', 'and', 'the', 'savages', 'range', 'in', 'race', 'from', 'white', 'to', 'asian', 'to', 'black', 'to', 'hispanic', 'i', 'suppose', 'franco', 'just', 'grabbed', 'anyone', 'who', 'looked', 'even', 'slightly', 'ethnic', 'for', 'this', 'rompbr', 'br', 'to', 'make', 'matters', 'worse', 'this', 'film', 'has', 'ultraminimal', 'gore', 'no', 'real', 'scares', 'and', 'a', 'lot', 'of', 'unnecessary', 'penis', 'not', 'fun', 'i', 'can', 'find', 'something', 'to', 'like', 'in', 'just', 'about', 'any', 'sleazy', 'italian', 'or', 'eurotrash', 'film', 'this', 'one', 'just', 'fell', 'way', 'shortbr', 'br', '2', 'out', 'of', '10', 'kids', '<END>'], ['<START>', 'this', 'video', 'nasty', 'was', 'initially', 'banned', 'in', 'britain', 'and', 'allowed', 'in', 'last', 'november', 'without', 'cutsbr', 'br', 'it', 'features', 'the', 'playboy', 'playmate', 'of', 'the', 'month', 'october', '1979', 'ursula', 'buchfellner', 'the', 'opening', 'cuts', 'back', 'and', 'forth', 'between', 'buchfellner', 'and', 'foggy', 'jungle', 'pictures', 'i', 'am', 'not', 'sure', 'what', 'the', 'purpose', 'of', 'that', 'was', 'it', 'would', 'have', 'been', 'much', 'better', 'to', 'focus', 'on', 'the', 'bathtub', 'scenebr', 'br', 'laura', 'buchfellner', 'is', 'kidnapped', 'and', 'held', 'in', 'the', 'jungle', 'for', 'ransom', 'peter', 'al', 'cliver', '', 'the', 'beyond', 'zombie', 'is', 'sent', 'to', 'find', 'her', 'and', 'the', 'ransom', 'of', 'course', 'one', 'of', 'the', 'kidnappers', 'antonio', 'de', 'cabo', 'manages', 'to', 'pass', 'the', 'time', 'productively', 'while', 'another', 'werner', 'pochath', 'whines', 'incessantlybr', 'br', 'the', 'ransom', 'exchange', 'goes', 'to', 'hell', 'and', 'laura', 'runs', 'into', 'the', 'jungle', 'will', 'peter', 'save', 'her', 'before', 'the', 'cannibals', 'have', 'a', 'meal', 'oh', 'yes', 'there', 'are', 'cannibals', 'in', 'this', 'jungle', 'why', 'do', 'you', 'think', 'it', 'was', 'a', 'video', 'nasty', 'muriel', 'montossé', 'is', 'found', 'by', 'peter', 'and', 'his', 'partner', 'antonio', 'mayans', '', 'angel', 'of', 'death', 'on', 'the', 'kidnappers', 'boat', 'montossé', 'is', 'very', 'comfortably', 'undressed', 'peter', 'leaves', 'them', 'and', 'goes', 'off', 'alone', 'to', 'find', 'laura', 'who', 'has', 'been', 'captured', 'by', 'now', 'they', 'pass', 'the', 'time', 'having', 'sex', 'and', 'dont', 'see', 'the', 'danger', 'approaching', 'guts', 'anyone', 'great', 'fight', 'between', 'peter', 'and', 'the', 'naked', 'devil', 'burt', 'altmanbr', 'br', 'blood', 'decapitation', 'guts', 'lots', 'of', 'full', 'frontal', 'some', 'great', 'writhing', 'by', 'the', 'cannibal', 'priestess', 'aline', 'mess', 'and', 'the', 'line', 'they', 'tore', 'her', 'heart', 'out', 'which', 'is', 'hilarious', 'if', 'you', 'see', 'the', 'film', '<END>'], ['<START>', 'of', 'the', 'three', 'titles', 'from', 'jess', 'franco', 'to', 'find', 'their', 'way', 'onto', 'the', 'official', 'dpp', 'video', 'nasty', 'list', 'devil', 'hunter', 'bloody', 'moon', 'and', 'women', 'behind', 'bars', 'this', 'is', 'perhaps', 'the', 'least', 'deserving', 'of', 'notoriety', 'being', 'a', 'dreadfully', 'dull', 'jungle', 'clunker', 'enlivened', 'only', 'very', 'slightly', 'by', 'a', 'little', 'inept', 'gore', 'a', 'gratuitous', 'rape', 'scene', 'and', 'loads', 'of', 'nuditybr', 'br', 'gorgeous', 'blonde', 'ursula', 'buchfellner', 'plays', 'movie', 'star', 'laura', 'crawford', 'who', 'is', 'abducted', 'by', 'a', 'gang', 'of', 'ruthless', 'kidnappers', 'and', 'taken', 'to', 'a', 'remote', 'tropical', 'island', 'inhabited', 'by', 'a', 'savage', 'tribe', 'who', 'worship', 'the', 'devil', 'god', 'that', 'lurks', 'in', 'the', 'jungle', 'a', 'big', 'naked', 'bulgingeyed', 'native', 'who', 'likes', 'to', 'eat', 'the', 'hearts', 'of', 'nubile', 'female', 'sacrificesbr', 'br', 'employed', 'by', 'lauras', 'agent', 'to', 'deliver', 'a', '6million', 'ransom', 'brave', 'mercenary', 'peter', 'weston', 'al', 'cliver', 'and', 'his', 'vietnam', 'vet', 'pilot', 'pal', 'travel', 'to', 'the', 'island', 'but', 'encounter', 'trouble', 'when', 'the', 'bad', 'guys', 'attempt', 'a', 'doublecross', 'during', 'the', 'confusion', 'laura', 'escapes', 'into', 'the', 'jungle', 'but', 'runs', 'straight', 'into', 'the', 'arms', 'of', 'the', 'islands', 'natives', 'who', 'offer', 'her', 'up', 'to', 'their', 'godbr', 'br', 'franco', 'directs', 'in', 'his', 'usual', 'torpid', 'style', 'and', 'loads', 'this', 'laughable', 'effort', 'with', 'his', 'usual', 'dreadful', 'trademarks', 'crap', 'gore', 'murky', 'cinematography', 'rapid', 'zooms', 'numerous', 'crotch', 'shots', 'out', 'of', 'focus', 'imagery', 'awful', 'sound', 'effects', 'and', 'hamfisted', 'editing', 'the', 'result', 'is', 'a', 'dire', 'mess', 'that', 'is', 'a', 'real', 'struggle', 'to', 'sit', 'through', 'from', 'start', 'to', 'finish', 'it', 'took', 'me', 'a', 'couple', 'of', 'sittings', 'to', 'finish', 'the', 'thing', 'and', 'even', 'the', 'sight', 'of', 'the', 'luscious', 'buchfellner', 'in', 'all', 'of', 'her', 'natural', 'glory', 'aint', 'enough', 'to', 'make', 'me', 'revisit', 'this', 'film', 'in', 'a', 'hurry', '<END>'], ['<START>', 'how', 'can', 'you', 'tell', 'that', 'a', 'horror', 'movie', 'is', 'terrible', 'when', 'you', 'cant', 'stop', 'laughing', 'about', 'it', 'of', 'course', 'the', 'plot', 'has', 'been', 'well', 'covered', 'by', 'other', 'reviewers', 'so', 'ill', 'just', 'add', 'a', 'few', 'things', 'on', 'the', 'hilarity', 'of', 'it', 'allbr', 'br', 'some', 'reviews', 'have', 'placed', 'the', 'location', 'in', 'south', 'america', 'others', 'in', 'africa', 'i', 'thought', 'it', 'was', 'in', 'some', 'random', 'island', 'in', 'the', 'pacific', 'where', 'exactly', 'does', 'this', 'take', 'place', 'seems', 'to', 'be', 'a', 'mystery', 'the', 'cannibal', 'tribe', 'is', 'conformed', 'by', 'a', 'couple', 'of', 'black', 'women', 'some', 'black', 'men', 'and', 'a', 'man', 'who', 'looks', 'like', 'a', 'young', 'frank', 'zappa', 'banging', 'the', 'drums', 'the', 'devil', 'god', 'is', 'a', 'large', 'black', 'man', 'with', 'a', 'terrible', 'case', 'of', 'pink', 'eyesbr', 'br', 'one', 'of', 'the', 'freakiest', 'moments', 'in', 'the', 'film', 'is', 'when', 'pablito', 'find', 'his', 'partner', 'hanging', 'from', 'a', 'tree', 'covered', 'in', 'what', 'seems', 'to', 'be', 'an', 'orange', 'substance', 'that', 'i', 'assume', 'is', 'blood', 'starts', 'screaming', 'for', 'minutes', 'on', 'and', 'on', 'thats', 'actually', 'funny', 'and', 'then', 'the', 'head', 'of', 'his', 'partner', 'falls', 'in', 'the', 'ground', 'and', 'pablito', 'kicks', 'it', 'a', 'bit', 'for', 'what', 'i', 'assume', 'is', 'shits', 'n', 'giggles', 'and', 'the', 'eyes', 'actually', 'movebr', 'br', 'but', 'of', 'course', 'then', 'the', 'freak', 'is', 'gone', 'when', 'you', 'realize', 'the', 'eyes', 'moved', 'because', 'the', 'movie', 'is', 'just', 'badbr', 'br', 'i', 'hadnt', 'laughed', 'like', 'this', 'in', 'a', 'loooong', 'while', 'and', 'i', 'definitely', 'recommend', 'this', 'film', 'for', 'a', 'sunday', 'afternoon', 'with', 'your', 'friends', 'and', 'you', 'have', 'nothing', 'to', 'do', 'grab', 'a', 'case', 'of', 'beers', 'and', 'start', 'watching', 'this', 'film', 'youll', 'love', 'it', 'if', 'you', 'are', 'looking', 'for', 'a', 'real', 'horror', 'or', 'gore', 'movie', 'though', 'dont', 'bother', '<END>'], ['<START>', 'a', 'model', 'named', 'laura', 'is', 'working', 'in', 'south', 'america', 'when', 'she', 'is', 'kidnapped', 'from', 'her', 'hotel', 'room', 'by', 'a', 'gang', 'and', 'taken', 'into', 'the', 'jungle', 'they', 'demand', 'a', 'huge', 'ransom', 'for', 'her', 'release', 'peter', 'is', 'hired', 'to', 'get', 'her', 'home', 'safe', 'and', 'there', 'is', 'a', 'bonus', 'in', 'it', 'for', 'him', 'if', 'he', 'can', 'bring', 'back', 'the', 'money', 'as', 'well', 'as', 'the', 'girl', 'peter', 'is', 'taken', 'to', 'the', 'jungle', 'by', 'helicopter', 'with', 'friend', 'jack', 'they', 'try', 'to', 'give', 'the', 'kidnappers', 'fake', 'money', 'in', 'return', 'for', 'laura', 'but', 'the', 'plan', 'goes', 'horribly', 'wrong', 'and', 'they', 'have', 'to', 'bail', 'out', 'in', 'the', 'helicopter', 'the', 'helicopter', 'is', 'shot', 'and', 'they', 'also', 'have', 'to', 'bail', 'from', 'that', 'not', 'going', 'well', 'so', 'far', 'also', 'roaming', 'the', 'jungles', 'is', 'a', 'devil', 'of', 'sorts', 'in', 'reality', 'its', 'just', 'a', 'naked', 'black', 'guy', 'with', 'weirdly', 'big', 'eyes', 'and', 'a', 'breathing', 'problem', 'he', 'starts', 'to', 'kill', 'a', 'few', 'of', 'the', 'kidnappers', 'and', 'laura', 'escapes', 'only', 'to', 'be', 'captured', 'by', 'some', 'primitives', 'the', 'rest', 'of', 'the', 'film', 'is', 'a', 'bit', 'of', 'a', 'blur', 'reallybr', 'br', 'now', 'im', 'not', 'a', 'massive', 'jess', 'franco', 'fan', 'in', 'fact', 'to', 'date', 'this', 'is', 'only', 'the', 'second', 'film', 'of', 'his', 'i', 'have', 'seen', 'but', 'even', 'i', 'can', 'tell', 'that', 'this', 'really', 'isnt', 'one', 'of', 'his', 'best', 'efforts', 'the', 'films', 'drags', 'along', 'at', 'a', 'pretty', 'slow', 'pace', 'without', 'much', 'at', 'all', 'happening', 'the', 'whole', 'thing', 'could', 'have', 'been', 'edited', 'down', 'quite', 'easily', 'into', 'a', '25', 'minute', 'tv', 'show', 'there', 'are', 'plenty', 'of', 'overly', 'long', 'shots', 'of', 'people', 'walking', 'through', 'the', 'jungle', 'that', 'could', 'have', 'just', 'been', 'lifted', 'straight', 'outbr', 'br', 'devil', 'hunter', 'is', 'poorly', 'lit', 'infact', 'i', 'dont', 'think', 'it', 'was', 'lit', 'at', 'all', 'badly', 'dubbed', 'poorly', 'acted', 'and', 'slow', 'yet', 'for', 'some', 'reason', 'it', 'didnt', 'bore', 'me', 'i', 'think', 'the', 'main', 'reason', 'for', 'this', 'was', 'some', 'of', 'the', 'hilariously', 'bad', 'scenes', 'in', 'it', 'for', 'example', 'a', 'scene', 'where', 'laura', 'is', 'walking', 'in', 'the', 'street', 'was', 'obviously', 'shot', 'in', 'a', 'real', 'street', 'as', 'crowds', 'of', 'people', 'stop', 'to', 'stare', 'straight', 'at', 'the', 'camera', 'as', 'its', 'shooting', 'another', 'funny', 'scene', 'has', 'one', 'of', 'the', 'gang', 'who', 'has', 'been', 'killed', 'hung', 'in', 'a', 'tree', 'dripping', 'blood', 'as', 'one', 'of', 'his', 'friends', 'stands', 'directly', 'under', 'him', 'screaming', 'for', 'what', 'seems', 'like', 'minutes', 'then', 'for', 'no', 'reason', 'at', 'all', 'the', 'man', 'in', 'the', 'trees', 'head', 'just', 'falls', 'of', 'and', 'hits', 'the', 'guy', 'under', 'him', 'it', 'has', 'to', 'be', 'seen', 'to', 'be', 'believed', 'then', 'of', 'course', 'there', 'is', 'the', 'actual', 'devil', 'it', 'is', 'just', 'some', 'naked', 'black', 'guy', 'who', 'despite', 'the', 'fact', 'he', 'has', 'massive', 'eyes', 'he', 'has', 'very', 'blurry', 'visionbr', 'br', 'the', 'film', 'was', 'hooked', 'up', 'in', 'part', 'of', 'the', 'video', 'nasty', 'scare', 'in', 'the', '80s', 'here', 'in', 'the', 'uk', 'and', 'was', 'banned', 'now', 'why', 'it', 'was', 'i', 'have', 'no', 'idea', 'there', 'is', 'very', 'little', 'gore', 'at', 'all', 'and', 'its', 'hardly', 'a', 'shocking', 'film', 'minus', 'the', 'nudity', 'i', 'would', 'have', 'said', 'that', 'it', 'could', 'get', 'away', 'with', 'a', 'pg', 'almost', 'the', 'only', 'thing', 'i', 'can', 'think', 'of', 'is', 'that', 'it', 'was', 'never', 'actually', 'watched', 'and', 'was', 'added', 'to', 'the', 'original', 'list', 'because', 'of', 'word', 'of', 'mouthbr', 'br', 'there', 'is', 'not', 'much', 'reason', 'to', 'watch', 'this', 'film', 'really', 'unless', 'you', 'are', 'a', 'massive', 'jess', 'franco', 'fan', 'there', 'is', 'plenty', 'of', 'nudity', 'to', 'keep', 'you', 'from', 'falling', 'asleep', 'and', 'also', 'some', 'scenes', 'that', 'are', 'so', 'bad', 'you', 'can', 'have', 'a', 'good', 'laugh', 'at', 'them', 'but', 'other', 'wise', 'i', 'would', 'say', 'just', 'pay', 'for', 'a', 'ticket', 'to', 'south', 'america', 'and', 'get', 'lost', 'in', 'a', 'jungle', 'it', 'would', 'probably', 'be', 'more', 'funbr', 'br', '310', '<END>'], ['<START>', 'an', 'actress', 'making', 'a', 'movie', 'in', 'africa', 'is', 'kidnapped', 'and', 'taken', 'into', 'the', 'jungle', 'where', 'she', 'is', 'held', 'for', 'ransom', 'the', 'producer', 'hires', 'some', 'one', 'to', 'go', 'and', 'bring', 'her', 'back', 'complicating', 'everything', 'are', 'the', 'cannibals', 'in', 'the', 'jungle', 'who', 'worship', 'a', 'really', 'ugly', 'looking', 'god', 'who', 'likes', 'to', 'eat', 'naked', 'womenbr', 'br', 'this', 'is', 'a', 'gory', 'sleazy', 'movie', 'there', 'is', 'copious', 'amounts', 'of', 'nudity', 'and', 'violence', 'not', 'to', 'mention', 'violence', 'against', 'nude', 'people', 'its', 'an', 'exploitation', 'film', 'designed', 'to', 'appeal', 'to', 'the', 'deepest', 'darkest', 'parts', 'of', 'our', 'being', 'and', 'if', 'the', 'movie', 'wasnt', 'so', 'boring', 'this', 'film', 'would', 'be', 'a', 'classic', 'lets', 'face', 'it', 'despite', 'the', 'gore', 'the', 'nasty', 'sex', 'and', 'abuseand', 'the', 'ugly', 'monster', 'this', 'movie', 'is', 'a', 'snoozer', 'the', 'pacing', 'is', 'all', 'off', 'kilter', 'and', 'it', 'puts', 'you', 'out', 'there', 'are', 'multiple', 'plot', 'lines', 'that', 'all', 'seem', 'to', 'be', 'happening', 'separately', 'from', 'each', 'other', 'even', 'though', 'its', 'ultimately', 'all', 'one', 'story', 'worst', 'of', 'all', 'almost', 'no', 'one', 'says', 'anything', 'most', 'of', 'the', 'minimal', 'dialog', 'concerns', 'the', 'cruelty', 'or', 'one', 'characters', 'protestations', 'that', 'ill', 'do', 'what', 'i', 'want', 'its', 'such', 'a', 'quiet', 'and', 'dull', 'movie', 'that', 'if', 'it', 'werent', 'for', 'the', 'frequent', 'screams', 'of', 'the', 'victims', 'id', 'recommend', 'this', 'as', 'a', 'sleep', 'aidebr', 'br', 'this', 'is', 'a', 'movie', 'to', 'avoid', 'unless', 'you', 'need', 'sleep', 'or', 'unless', 'you', 'need', 'to', 'see', 'every', 'eurocannibal', 'moviebr', 'br', 'an', 'aside', 'videoasia', 'just', 'released', 'this', 'as', 'part', 'of', 'their', 'terror', 'tales', 'series', 'their', 'print', 'is', 'oddly', 'letterboxed', 'which', 'looks', 'to', 'be', 'the', 'result', 'of', 'taking', 'their', 'print', 'from', 'a', 'japanese', 'source', 'there', 'is', 'fogging', 'that', 'was', 'cropped', 'to', 'remove', 'the', 'subtitles', 'their', 'print', 'also', 'has', 'no', 'opening', 'titles', '<END>'], ['<START>', 'or', 'anyone', 'who', 'was', 'praying', 'for', 'the', 'sight', 'of', 'al', 'cliver', 'wrestling', 'a', 'naked', '7ft', 'tall', 'black', 'guy', 'into', 'a', 'full', 'nelson', 'your', 'film', 'has', 'arrived', 'film', 'starlet', 'laura', 'crawford', 'ursula', 'buchfellner', 'is', 'kidnapped', 'by', 'a', 'group', 'who', 'demand', 'the', 'ransom', 'of', '6', 'million', 'to', 'be', 'delivered', 'to', 'their', 'island', 'hideaway', 'what', 'they', 'dont', 'count', 'on', 'is', 'rugged', 'vietnam', 'vet', 'peter', 'weston', 'cliver', 'being', 'hired', 'by', 'a', 'film', 'producer', 'to', 'save', 'the', 'girl', 'and', 'what', 'they', 'really', 'didnt', 'count', 'on', 'was', 'a', 'local', 'tribe', 'that', 'likes', 'to', 'offer', 'up', 'young', 'women', 'to', 'their', 'monster', 'cannibal', 'god', 'with', 'bloodshot', 'bug', 'eyesbr', 'br', 'pretty', 'much', 'the', 'same', 'filming', 'set', 'up', 'as', 'cannibals', 'this', 'one', 'fares', 'a', 'bit', 'better', 'when', 'it', 'comes', 'to', 'entertainment', 'value', 'thanks', 'mostly', 'a', 'hilarious', 'dub', 'track', 'and', 'the', 'impossibly', 'goofy', 'monster', 'with', 'the', 'bulging', 'eyes', 'franco', 'confirms', 'they', 'were', 'split', 'ping', 'pong', 'balls', 'on', 'the', 'discs', 'interview', 'franco', 'gets', 'a', 'strong', 'eurocult', 'supporting', 'cast', 'including', 'gisela', 'hahn', 'contamination', 'and', 'werner', 'pochath', 'whose', 'death', 'is', 'one', 'of', 'the', 'most', 'headscratching', 'things', 'i', 'ever', 'seen', 'as', 'a', 'guy', 'who', 'is', 'totally', 'not', 'him', 'is', 'shown', '', 'in', 'close', 'up', '', 'trying', 'to', 'be', 'him', 'the', 'film', 'features', 'tons', 'of', 'nudity', 'and', 'the', 'gore', 'tempra', 'paint', 'variety', 'is', 'there', 'the', 'highlight', 'for', 'me', 'was', 'the', 'worlds', 'slowly', 'fistfight', 'between', 'cliver', 'and', 'antonio', 'de', 'cabo', 'in', 'the', 'splashing', 'waves', 'sadly', 'ol', 'jess', 'pads', 'this', 'one', 'out', 'to', 'an', 'astonishing', 'and', 'at', 'times', 'agonizing', '1', 'hour', 'and', '40', 'minutes', 'when', 'it', 'should', 'have', 'run', '80', 'minutes', 'tops', 'br', 'br', 'for', 'the', 'most', 'part', 'the', 'severin', 'dvd', 'looks', 'pretty', 'nice', 'but', 'there', 'are', 'some', 'odd', 'ghosting', 'images', 'going', 'on', 'during', 'some', 'of', 'the', 'darker', 'scenes', 'also', 'one', 'long', 'section', 'of', 'dialog', 'is', 'in', 'spanish', 'with', 'no', 'subs', 'they', 'are', 'an', 'option', 'but', 'only', 'when', 'you', 'listen', 'to', 'the', 'french', 'track', 'franco', 'gives', 'a', 'nice', '16', 'minute', 'interview', 'about', 'the', 'film', 'and', 'has', 'much', 'more', 'pleasant', 'things', 'to', 'say', 'about', 'buchfellner', 'than', 'his', 'cannibals', 'star', 'sabrina', 'siani', '<END>'], ['<START>', 'devil', 'hunter', 'gained', 'notoriety', 'for', 'the', 'fact', 'that', 'its', 'on', 'the', 'dpp', 'video', 'nasty', 'list', 'but', 'it', 'really', 'neednt', 'have', 'been', 'many', 'films', 'on', 'the', 'list', 'where', 'there', 'for', 'god', 'and', 'dpp', 'only', 'known', 'reasons', 'and', 'while', 'this', 'isnt', 'the', 'tamest', 'of', 'the', 'bunch', 'there', 'isnt', 'a', 'lot', 'here', 'that', 'warrants', 'banningwhich', 'is', 'a', 'shame', 'because', 'i', 'never', 'would', 'have', 'sat', 'through', 'it', 'where', 'it', 'not', 'for', 'the', 'fact', 'that', 'its', 'on', 'the', 'shopping', 'list', 'the', 'plot', 'actually', 'gives', 'the', 'film', 'a', 'decent', 'base', '', 'or', 'at', 'least', 'more', 'of', 'a', 'decent', 'base', 'than', 'most', 'cannibal', 'films', '', 'and', 'it', 'follows', 'an', 'actress', 'who', 'is', 'kidnapped', 'and', 'dragged', 'off', 'into', 'the', 'amazon', 'jungle', 'a', 'hunter', 'is', 'then', 'hired', 'to', 'find', 'her', 'but', 'along', 'the', 'way', 'he', 'has', 'to', 'brave', 'the', 'natives', 'lead', 'by', 'a', 'man', 'who', 'calls', 'himself', 'the', 'devil', 'hence', 'the', 'title', 'the', 'film', 'basically', 'just', 'plods', 'along', 'for', 'eighty', 'five', 'minutes', 'and', 'there', 'really', 'arent', 'many', 'scenes', 'of', 'interest', 'its', 'a', 'real', 'shame', 'that', 'jess', 'franco', 'ended', 'up', 'making', 'films', 'like', 'this', 'because', 'the', 'man', 'clearly', 'has', 'talent', 'as', 'seen', 'by', 'films', 'such', 'as', 'the', 'diabolical', 'dr', 'z', 'venus', 'in', 'furs', 'faceless', 'and', 'she', 'kills', 'in', 'ecstasy', 'but', 'unfortunately', 'his', 'good', 'films', 'are', 'just', 'gems', 'amongst', 'heaps', 'of', 'crap', 'and', 'devil', 'hunter', 'is', 'very', 'much', 'a', 'part', 'of', 'the', 'crap', 'i', 'saw', 'this', 'film', 'purely', 'because', 'i', 'want', 'to', 'be', 'able', 'to', 'say', 'ive', 'seen', 'everything', 'on', 'the', 'dpps', 'list', 'just', 'two', 'more', 'to', 'go', 'and', 'im', 'guessing', 'thats', 'why', 'most', 'other', 'people', 'who', 'have', 'seen', 'it', 'saw', 'it', 'but', 'if', 'youre', 'not', 'on', 'the', 'lookout', 'for', 'nasties', 'there', 'really', 'is', 'no', 'reason', 'to', 'bother', 'with', 'this', 'one', '<END>'], ['<START>', 'this', 'film', 'seemed', 'way', 'too', 'long', 'even', 'at', 'only', '75', 'minutes', 'the', 'problem', 'with', 'jungle', 'horror', 'films', 'is', 'that', 'there', 'is', 'always', 'way', 'too', 'much', 'footage', 'of', 'people', 'walking', 'through', 'the', 'jungle', 'up', 'a', 'rocky', 'cliff', 'near', 'a', 'river', 'or', 'lake', 'to', 'pad', 'out', 'the', 'running', 'time', 'the', 'film', 'is', 'worth', 'seeing', 'for', 'the', 'laughable', 'and', 'naked', 'native', 'zombie', 'with', 'big', 'bulging', 'bloody', 'eyes', 'which', 'is', 'always', 'accompanied', 'on', 'the', 'soundtrack', 'with', 'heavy', 'breathing', 'and', 'lots', 'of', 'reverb', 'eurotrash', 'fans', 'will', 'be', 'plenty', 'entertained', 'by', 'the', 'bad', 'english', 'dubbing', 'gratuitous', 'female', 'flesh', 'and', 'very', 'silly', 'makeup', 'jobs', 'on', 'the', 'monster', 'and', 'native', 'extras', 'for', 'a', 'zombiecannibal', 'flick', 'this', 'was', 'pretty', 'light', 'on', 'the', 'gore', 'but', 'then', 'i', 'probably', 'didnt', 'see', 'an', 'uncut', 'version', '<END>'], ['<START>', 'sexo', 'cannibal', 'or', 'devil', 'hunter', 'as', 'its', 'more', 'commonly', 'known', 'amongst', 'english', 'speaking', 'audiences', 'starts', 'with', 'actress', '', 'model', 'laura', 'crawford', 'ursula', 'buchfellner', 'as', 'ursula', 'fellner', 'checking', 'out', 'locations', 'for', 'her', 'new', 'film', 'along', 'with', 'her', 'assistant', 'jane', 'gisela', 'hahn', 'after', 'a', 'long', 'days', 'work', 'laura', 'is', 'relaxing', 'in', 'the', 'bath', 'of', 'her', 'room', 'when', 'two', 'very', 'dubious', 'characters', 'named', 'chris', 'werner', 'pochath', '', 'thomas', 'antonio', 'mayans', 'burst', 'in', '', 'kidnap', 'her', 'having', 'been', 'helped', 'by', 'the', 'treacherous', 'jane', 'lauras', 'agent', 'gets', 'on', 'the', 'blower', 'to', 'rentahero', 'peter', 'weston', 'al', 'cliver', 'who', 'is', 'informed', 'of', 'the', 'situation', 'the', 'kidnappers', 'have', 'laura', 'on', 'an', 'isolated', 'island', '', 'are', 'demanding', 'a', '6', 'million', 'ransom', 'peter', 'is', 'told', 'that', 'he', 'will', 'be', 'paid', '200000', 'to', 'get', 'her', 'back', 'safely', '', 'a', 'further', '10', 'of', 'the', '6', 'million', 'if', 'he', 'brings', 'that', 'back', 'as', 'well', 'faster', 'than', 'a', 'rat', 'up', 'a', 'drain', 'pipe', 'peter', '', 'his', 'vietnam', 'vet', 'buddy', 'helicopter', 'pilot', 'jack', 'are', 'on', 'the', 'island', '', 'deciding', 'on', 'how', 'to', 'save', 'laura', 'so', 'the', 'kidnappers', 'have', 'laura', '', 'peter', 'has', 'the', '6', 'million', 'but', 'neither', 'want', 'to', 'hand', 'them', 'over', 'that', 'much', 'just', 'to', 'complicate', 'things', 'further', 'this', 'particular', 'isolated', 'island', 'is', 'home', 'to', 'a', 'primitive', 'tribe', 'hell', 'in', 'all', 'the', 'generations', 'theyve', 'lived', 'there', 'theyve', 'only', 'managed', 'to', 'build', 'one', 'straw', 'hut', 'now', 'thats', 'primitive', 'who', 'worship', 'some', 'cannibal', 'monster', 'dude', 'burt', 'altman', 'with', 'bulging', 'eyes', 'as', 'a', 'god', 'with', 'human', 'sacrifices', '', 'this', 'cannibal', 'has', 'a', 'liking', 'for', 'young', 'white', 'female', 'flesh', '', 'intestinesbr', 'br', 'this', 'spanish', 'french', '', 'german', 'coproduction', 'was', 'cowritten', '', 'directed', 'by', 'the', 'prolific', 'jesus', 'franco', 'who', 'also', 'gets', 'the', 'credit', 'for', 'the', 'music', 'as', 'well', 'sexo', 'cannibal', 'has', 'gained', 'a', 'certain', 'amount', 'of', 'notoriety', 'here', 'in', 'the', 'uk', 'as', 'it', 'was', 'placed', 'on', 'the', 'video', 'nasties', 'list', 'in', 'the', 'early', '80s', 'under', 'its', 'alternate', 'devil', 'hunter', 'title', '', 'therefore', 'officially', 'classed', 'as', 'obscene', '', 'banned', 'having', 'said', 'that', 'i', 'have', 'no', 'idea', 'why', 'as', 'it', 'is', 'one', 'bad', 'film', '', 'even', 'franco', 'who', 'isnt', 'afraid', 'to', 'be', 'associated', 'with', 'a', 'turkey', 'decides', 'he', 'wants', 'to', 'hide', 'under', 'the', 'pseudonym', 'of', 'clifford', 'brown', 'id', 'imagine', 'even', 'the', 'most', 'diehard', 'franco', 'fan', 'would', 'have', 'a', 'hard', 'time', 'defending', 'this', 'thing', 'the', 'script', 'by', 'franco', 'erm', 'sorry', 'i', 'mean', 'clifford', 'brown', '', 'julian', 'esteban', 'as', 'julius', 'valery', 'who', 'was', 'obviously', 'another', 'one', 'less', 'than', 'impressed', 'with', 'the', 'finished', 'product', '', 'wanted', 'his', 'named', 'removed', 'is', 'awful', 'its', 'as', 'simple', '', 'straight', 'forward', 'as', 'that', 'for', 'a', 'start', 'the', 'film', 'is', 'so', 'boring', 'its', 'untrue', 'the', 'kidnap', 'plot', 'is', 'one', 'of', 'the', 'dullest', 'ive', 'ever', 'seen', 'without', 'the', 'slightest', 'bit', 'of', 'tension', 'or', 'excitement', 'involved', '', 'the', 'horror', 'side', 'of', 'things', 'dont', 'improve', 'as', 'we', 'get', 'a', 'big', 'black', 'guy', 'with', 'stupid', 'looking', 'oversized', 'bloodshot', 'eyes', 'plus', 'two', 'tame', 'cannibal', 'scenes', 'as', 'a', 'horror', 'film', 'sexo', 'cannibal', 'fails', '', 'as', 'an', 'action', 'adventure', 'it', 'has', 'no', 'more', 'success', 'this', 'is', 'one', 'to', 'avoidbr', 'br', 'director', 'franco', 'shows', 'his', 'usual', 'incompetence', 'throughout', 'a', 'decapitated', 'head', 'is', 'achieved', 'by', 'an', 'actor', 'lying', 'on', 'the', 'ground', 'with', 'large', 'leaves', 'placed', 'around', 'the', 'bottom', 'of', 'his', 'neck', 'to', 'try', '', 'give', 'the', 'impression', 'its', 'not', 'attached', 'to', 'anything', 'the', 'cannibal', 'scenes', 'are', 'poor', 'the', 'action', 'is', 'lame', '', 'it', 'has', 'endless', 'scenes', 'of', 'people', 'randomly', 'walking', 'around', 'the', 'jungle', 'getting', 'from', 'a', 'to', 'b', '', 'not', 'really', 'doing', 'anything', 'when', 'they', 'get', 'there', 'either', 'it', 'becomes', 'incredibly', 'dull', '', 'tedious', 'to', 'watch', 'after', 'about', '10', 'minutes', '', 'dont', 'forget', 'this', 'thing', 'goes', 'on', 'for', '94', 'minutes', 'in', 'its', 'uncut', 'state', 'i', 'also', 'must', 'mention', 'the', 'hilarious', 'scene', 'when', 'al', 'cliver', 'is', 'supposed', 'to', 'be', 'climbing', 'a', 'cliff', 'this', 'is', 'achieved', 'by', 'franco', 'turning', 'his', 'camera', 'on', 'its', 'side', '', 'having', 'cliver', 'crawl', 'along', 'the', 'floor', 'just', 'look', 'at', 'the', 'way', 'his', 'coat', 'hangs', '', 'the', 'way', 'he', 'never', 'grabs', 'onto', 'to', 'anything', 'as', 'he', 'just', 'pulls', 'himself', 'along', 'the', 'gore', 'isnt', 'that', 'great', '', 'as', 'far', 'as', 'euro', 'cannibal', 'films', 'go', 'this', 'is', 'very', 'tame', 'there', 'are', 'some', 'gross', 'close', 'ups', 'of', 'the', 'cannibals', 'mouth', 'as', 'it', 'chews', 'bits', 'of', 'meat', 'a', 'man', 'is', 'impaled', 'on', 'spikes', 'theres', 'some', 'blood', '', 'a', 'handful', 'of', 'intestines', 'theres', 'a', 'fair', 'bit', 'of', 'nudity', 'in', 'sexo', 'cannibal', '', 'an', 'unpleasant', 'rape', 'scenebr', 'br', 'sexo', 'cannibal', 'must', 'have', 'had', 'a', 'low', 'budget', '', 'i', 'mean', 'low', 'this', 'is', 'a', 'shoddy', 'poorly', 'made', 'film', 'with', 'awful', 'special', 'effects', '', 'rock', 'bottom', 'production', 'values', 'the', 'only', 'decent', 'thing', 'about', 'it', 'is', 'the', 'jungle', 'setting', 'which', 'at', 'least', 'looks', 'authentic', 'the', 'music', 'sucks', '', 'sound', 'effects', 'become', 'annoying', 'as', 'there', 'is', 'lots', 'of', 'heavy', 'breathing', 'whenever', 'the', 'cannibal', 'is', 'on', 'screen', 'the', 'acting', 'sucks', 'the', 'whole', 'thing', 'was', 'obviously', 'dubbed', 'anyway', 'but', 'no', 'one', 'in', 'this', 'thing', 'can', 'actbr', 'br', 'sexo', 'cannibal', 'is', 'a', 'terrible', 'film', 'that', 'commits', 'the', 'fatal', 'mistake', 'of', 'being', 'as', 'boring', 'as', 'hell', 'the', 'only', 'good', 'things', 'i', 'can', 'say', 'is', 'that', 'it', 'has', 'a', 'certain', 'sleazy', 'atmosphere', 'to', 'it', '', 'those', 'close', 'ups', 'of', 'the', 'cannibal', 'chewing', 'meat', 'are', 'pretty', 'gross', 'anyone', 'looking', 'for', 'a', 'decent', 'cinematic', 'experience', 'should', 'give', 'sexo', 'cannibal', 'as', 'wide', 'a', 'berth', 'as', 'possible', 'one', 'to', 'avoid', '<END>'], ['<START>', 'not', 'only', 'is', 'it', 'a', 'disgustingly', 'made', 'lowbudget', 'badacted', 'movie', 'but', 'the', 'plot', 'itself', 'is', 'just', 'stupidbr', 'br', 'a', 'mystic', 'man', 'that', 'eats', 'women', 'and', 'by', 'the', 'looks', 'not', 'virgin', 'onesbr', 'br', 'ridiculous', 'if', 'youve', 'got', 'nothing', 'better', 'to', 'do', 'like', 'sleeping', 'you', 'should', 'watch', 'this', 'yeah', 'right', '<END>'], ['<START>', 'this', 'is', 'the', 'worst', 'thing', 'the', 'tmnt', 'franchise', 'has', 'ever', 'spawned', 'i', 'was', 'a', 'kid', 'when', 'this', 'came', 'out', 'and', 'i', 'still', 'thought', 'it', 'was', 'deuce', 'even', 'though', 'i', 'liked', 'the', 'original', 'cartoonbr', 'br', 'theres', 'this', 'one', 'scene', 'i', 'remember', 'when', 'the', 'mafia', 'ape', 'guy', 'explains', 'to', 'his', 'minions', 'what', 'rhetorical', 'questions', 'are', 'its', 'atrocious', 'many', 'fans', 'hate', 'on', 'the', 'series', 'for', 'including', 'a', 'female', 'turtle', 'but', 'that', 'didnt', 'bother', 'me', 'so', 'much', 'so', 'that', 'i', 'didnt', 'even', 'remember', 'her', 'until', 'i', 'read', 'about', 'the', 'show', 'recently', 'all', 'in', 'all', 'its', 'miserably', 'forgettablebr', 'br', 'the', 'only', 'okay', 'thing', 'was', 'the', 'theme', 'song', 'guilty', 'pleasure', 'they', 'call', 'it', 'nananana', 'ninja', '<END>'], ['<START>', 'sometime', 'in', '1998', 'saban', 'had', 'acquired', 'the', 'rights', 'to', 'produce', 'a', 'brandnew', 'ninja', 'turtles', 'liveaction', 'series', 'naturally', 'being', 'a', 'fan', 'of', 'the', 'tmnt', 'back', 'in', 'the', 'day', 'this', 'obviously', 'peaked', 'my', 'interest', 'so', 'when', 'i', 'started', 'watching', 'the', 'show', 'to', 'say', 'i', 'was', 'disappointed', 'by', 'the', 'end', 'result', 'is', 'an', 'understatement', 'some', 'time', 'later', 'more', 'like', 'recently', 'i', 'got', 'a', 'chance', 'to', 'revisit', 'the', 'seriesbr', 'br', 'first', 'off', 'lets', 'talk', 'about', 'some', 'of', 'the', 'positives', 'they', 'managed', 'to', 'recreate', 'the', 'turtles', 'lair', 'as', 'it', 'was', 'last', 'seen', 'in', 'the', 'movies', 'fairly', 'well', 'given', 'the', 'limited', 'budget', 'they', 'threw', 'in', 'with', 'this', 'there', 'tends', 'to', 'be', 'this', 'darker', 'atmosphere', 'overall', 'in', 'terms', 'of', 'the', 'sets', 'and', 'whatnot', 'and', 'the', 'turtle', 'suits', 'while', 'not', 'the', 'greatest', 'piece', 'of', 'puppetry', 'and', 'whatnot', 'were', 'functional', 'and', 'seemed', 'pretty', 'sturdy', 'for', 'most', 'of', 'the', 'action', 'stuff', 'that', 'would', 'follow', 'in', 'the', 'seriesbr', 'br', 'people', 'tend', 'to', 'complain', 'about', 'getting', 'rid', 'of', 'shredder', 'quickly', 'and', 'replacing', 'him', 'with', 'these', 'original', 'villains', 'who', 'could', 'have', 'easily', 'been', 'used', 'in', 'a', 'power', 'rangers', 'show', 'but', 'you', 'can', 'only', 'have', 'shredder', 'get', 'beat', 'so', 'many', 'times', 'before', 'it', 'gets', 'boring', 'and', 'undermines', 'his', 'worth', 'as', 'a', 'villain', 'and', 'besides', 'most', 'fans', 'dont', 'realize', 'or', 'dont', 'remember', 'or', 'just', 'plain', 'ignore', 'the', 'fact', 'that', 'in', 'the', 'original', 'comic', 'the', 'shredder', 'was', 'offed', 'in', 'the', 'very', 'first', 'issue', 'never', 'mind', 'the', 'countless', 'resurrections', 'that', 'would', 'follow', 'so', 'on', 'a', 'personal', 'standpoint', 'i', 'was', 'sort', 'of', 'glad', 'they', 'got', 'rid', 'of', 'shredder', 'because', 'then', 'the', 'anticipation', 'would', 'build', 'to', 'the', 'point', 'where', 'they', 'would', 'eventually', 'bring', 'him', 'back', 'in', 'a', 'later', 'episode', 'i', 'find', 'that', 'shredder', 'in', 'small', 'quantities', 'work', 'best', 'because', 'then', 'his', 'encounters', 'with', 'the', 'turtles', 'are', 'all', 'the', 'more', 'memorablebr', 'br', 'unfortunately', 'they', 'end', 'up', 'replacing', 'him', 'with', 'these', 'original', 'villains', 'who', 'as', 'stated', 'seemed', 'more', 'fit', 'for', 'a', 'power', 'rangers', 'show', 'than', 'a', 'ninja', 'turtles', 'show', 'and', 'with', 'these', 'new', 'magicwielding', 'generics', 'comes', 'a', 'new', 'female', 'magicwielding', 'turtle', 'the', 'infamous', 'venus', 'de', 'milo', 'ill', 'be', 'honest', 'i', 'never', 'got', 'comfortable', 'with', 'her', 'im', 'not', 'against', 'the', 'idea', 'of', 'a', 'female', 'turtle', 'im', 'just', 'against', 'the', 'idea', 'of', 'one', 'who', 'uses', 'magic', 'and', 'thus', 'sticks', 'out', 'like', 'a', 'sore', 'sight', 'among', 'a', 'clan', 'of', 'ninja', 'turtles', 'who', 'seem', 'somewhat', 'out', 'of', 'their', 'domain', 'i', 'almost', 'get', 'the', 'impression', 'that', 'this', 'could', 'have', 'easily', 'been', 'the', 'venus', 'de', 'milo', 'show', 'dealing', 'with', 'her', 'makebelieve', 'enemies', 'and', 'the', 'tmnt', 'are', 'just', 'there', 'to', 'provide', 'the', 'star', 'power', 'or', 'whatever', 'was', 'left', 'considering', 'the', 'timeframe', 'this', 'was', 'released', 'fortunately', 'they', 'all', 'share', 'the', 'spotlight', 'togetherbr', 'br', 'next', 'mutation', 'was', 'canned', 'after', 'a', 'season', 'on', 'the', 'air', 'and', 'the', 'creators', 'were', 'more', 'than', 'happy', 'to', 'ignore', 'it', 'given', 'time', 'and', 'maybe', 'another', 'season', 'i', 'really', 'believe', 'this', 'live', 'iteration', 'of', 'the', 'tmnt', 'could', 'have', 'been', 'something', 'and', 'might', 'have', 'gotten', 'a', 'chance', 'at', 'greatness', 'but', 'while', 'the', 'idea', 'was', 'sound', 'the', 'execution', 'was', 'flawed', 'although', 'there', 'are', 'a', 'couple', 'good', 'episodes', 'in', 'this', 'series', 'as', 'it', 'stands', 'next', 'mutation', 'is', 'one', 'of', 'those', 'oddities', 'in', 'turtledom', 'that', 'is', 'best', 'left', 'buried', 'and', 'forgotten', '<END>'], ['<START>', 'this', 'is', 'the', 'biggest', 'insult', 'to', 'tmnt', 'ever', 'fortunantely', 'officially', 'venus', 'does', 'not', 'exist', 'in', 'canon', 'tmnt', 'there', 'will', 'never', 'be', 'a', 'female', 'turtle', 'this', 'took', 'away', 'from', 'the', 'tragic', 'tale', 'of', '4', 'male', 'unique', 'mutants', 'who', 'will', 'never', 'have', 'a', 'family', 'of', 'their', 'own', 'once', 'gone', 'no', 'more', 'the', 'biggest', 'mistake', 'was', 'crossing', 'over', 'power', 'rangers', 'to', 'tmnt', 'with', 'a', 'horrible', 'episode', 'the', 'turtles', 'voices', 'were', 'wrong', 'and', 'they', 'all', 'acted', 'out', 'of', 'character', 'they', 'could', 'have', 'done', 'such', 'a', 'better', 'job', 'better', 'designs', 'and', 'animatronics', 'and', 'no', 'venus', 'br', 'br', 'dont', 'bother', 'with', 'this', 'peopleits', 'cringe', 'worthy', 'material', 'the', 'lip', 'flap', 'was', 'slow', 'and', 'unnatural', 'looking', 'they', 'totally', 'disrespected', 'shredder', 'the', 'main', 'baddie', 'some', 'dragonlord', 'dude', 'was', 'corny', 'the', 'turtles', 'looked', 'corny', 'with', 'things', 'hanging', 'off', 'their', 'bodies', 'whats', 'with', 'the', 'thing', 'around', 'raphs', 'thigh', 'the', 'silly', 'looking', 'sculpted', 'plastrons', 'br', 'br', 'if', 'they', 'looked', 'normal', 'acted', 'in', 'character', 'and', 'got', 'rid', 'of', 'venus', 'got', 'rid', 'of', 'the', 'stupid', 'kiddie', 'cartoon', 'soundsand', 'better', 'writing', 'it', 'could', 'have', 'been', 'good', '<END>'], ['<START>', 'i', 'did', 'not', 'like', 'the', 'idea', 'of', 'the', 'female', 'turtle', 'at', 'all', 'since', '1987', 'we', 'knew', 'the', 'tmnt', 'to', 'be', 'four', 'brothers', 'with', 'their', 'teacher', 'splinter', 'and', 'their', 'enemies', 'and', 'each', 'one', 'of', 'the', 'four', 'brothers', 'are', 'named', 'after', 'the', 'great', 'artists', 'name', 'like', 'leonardo', '', 'michelangleo', 'raphel', 'and', 'donatello', 'so', 'venus', 'here', 'doesnt', 'have', 'any', 'meaning', 'or', 'playing', 'any', 'important', 'part', 'and', 'i', 'believe', 'that', 'the', 'old', 'tmnt', 'series', 'was', 'much', 'more', 'better', 'than', 'that', 'new', 'one', 'which', 'contains', 'venus', 'as', 'a', 'female', 'turtle', 'will', 'not', 'add', 'any', 'action', 'to', 'the', 'story', 'we', 'like', 'the', 'story', 'of', 'the', 'tmnt', 'we', 'knew', 'in', '1987', 'to', 'have', 'new', 'enemies', 'in', 'every', 'part', 'is', 'a', 'good', 'point', 'to', 'have', 'some', 'action', 'but', 'to', 'have', 'a', 'female', 'turtle', 'is', 'a', 'very', 'weak', 'point', 'to', 'have', 'some', 'action', 'we', 'wish', 'to', 'see', 'more', 'new', 'of', 'tmnt', 'series', 'but', 'just', 'as', 'the', 'same', 'characters', 'we', 'knew', 'in', '1987', 'without', 'that', 'female', 'turtle', '<END>'], ['<START>', 'i', 'cannot', 'stay', 'indifferent', 'to', 'lars', 'van', 'triers', 'films', 'i', 'consider', 'breaking', 'the', 'waves', 'nothing', 'less', 'than', 'a', 'masterpiece', 'i', 'loved', 'dancer', 'in', 'the', 'night', 'i', 'admired', 'the', 'idea', 'in', 'dogville', 'but', 'the', 'overall', 'exercise', 'looked', 'to', 'me', 'too', 'dry', 'and', 'too', 'theatrical', 'less', 'cinema', 'europa', 'which', 'i', 'see', 'only', 'now', 'was', 'a', 'famous', 'film', 'at', 'its', 'time', 'succeeded', 'in', 'the', 'us', 'the', 'relative', 'success', 'of', 'an', 'european', 'film', 'and', 'got', 'the', 'oscar', 'for', 'the', 'best', 'foreign', 'language', 'movie', 'but', 'did', 'not', 'survive', 'well', 'the', 'time', 'in', 'my', 'opinion', 'it', 'is', 'also', 'a', 'too', 'much', 'explicit', 'and', 'extrovert', 'exercise', 'in', 'cinema', 'art', 'to', 'my', 'tastebr', 'br', 'the', 'story', 'has', 'a', 'level', 'of', 'ambiguity', 'that', 'cannot', 'escape', 'the', 'viewer', 'treating', 'the', 'period', 'that', 'immediately', 'followed', 'the', 'second', 'world', 'war', 'not', 'in', 'the', 'black', 'and', 'white', 'colors', 'of', 'victors', 'and', 'vanquished', 'of', 'executioners', 'and', 'victims', 'but', 'as', 'rather', 'ambiguous', 'times', 'when', 'people', 'of', 'both', 'sides', 'were', 'fighting', 'for', 'survival', 'in', 'the', 'aftermath', 'of', 'a', 'catastrophic', 'event', 'that', 'change', 'the', 'lives', 'of', 'nations', 'and', 'individuals', 'forever', 'is', 'still', 'a', 'source', 'of', 'disputes', 'even', 'today', 'more', 'such', 'was', 'novel', 'and', 'courageous', 'two', 'decades', 'ago', 'yet', 'it', 'is', 'the', 'means', 'of', 'expression', 'that', 'really', 'do', 'not', 'appear', 'fit', 'to', 'the', 'taskbr', 'br', 'the', 'film', 'seems', 'to', 'include', 'a', 'lot', 'of', 'quotes', 'descending', 'directly', 'from', 'the', 'films', 'of', 'hitchcock', 'especially', 'his', 'early', 'films', 'set', 'in', 'the', 'prewar', 'europe', 'with', 'brave', 'british', 'spies', 'fighting', 'evil', 'german', 'spies', 'on', 'trains', 'crossing', 'at', 'high', 'speed', 'the', 'continent', 'at', 'dark', 'the', 'trains', 'were', 'a', 'symbol', 'of', 'the', 'world', 'and', 'its', 'conflicts', 'with', 'all', 'their', 'intensity', 'and', 'dramatism', 'here', 'the', 'train', 'also', 'becomes', 'the', 'symbol', 'of', 'the', 'first', 'sparkles', 'of', 'the', 'rebirth', 'of', 'germany', 'after', 'war', 'of', 'its', 'might', 'of', 'its', 'obsession', 'with', 'order', 'and', 'regulation', 'of', 'punctuality', 'and', 'civility', 'the', 'characters', 'that', 'populate', 'the', 'train', 'are', 'far', 'from', 'being', 'the', 'classical', 'spy', 'stories', 'good', 'or', 'bad', 'guys', 'the', 'principal', 'character', 'a', 'young', 'american', 'of', 'german', 'origin', 'coming', 'to', 'postwar', 'europe', 'willing', 'to', 'be', 'part', 'of', 'a', 'process', 'of', 'help', 'and', 'reconciliation', 'finds', 'himself', 'in', 'an', 'ambiguous', 'world', 'of', 'destruction', 'and', 'corruption', 'with', 'liberators', 'looking', 'more', 'like', 'oppressive', 'occupiers', 'with', 'the', 'vanquished', 'not', 'resigned', 'to', 'their', 'fate', 'but', 'rather', 'willing', 'to', 'continue', 'on', 'the', 'path', 'of', 'selfdestruction', 'with', 'love', 'doubtfully', 'mixed', 'with', 'treasonbr', 'br', 'it', 'is', 'yet', 'this', 'classical', 'film', 'treatment', 'that', 'betrays', 'the', 'director', 'in', 'this', 'case', 'the', 'actions', 'of', 'the', 'characters', 'especially', 'of', 'leopold', 'kessler', 'played', 'by', 'jeanmarc', 'barr', 'seem', 'confused', 'and', 'lack', 'credibility', 'the', 'overall', 'cinematography', 'seems', 'to', 'be', 'not', 'hitchcocklike', 'but', 'rather', 'from', 'a', 'bad', 'imitation', 'of', 'hitchcock', 'in', 'the', 'late', '30s', 'the', 'usage', 'of', 'color', 'over', 'the', 'blackandwhite', 'film', 'used', 'in', 'the', 'majority', 'of', 'the', 'time', 'in', 'moments', 'of', 'emotional', 'intensity', 'is', 'also', 'too', 'demonstrative', 'it', 'is', 'not', 'that', 'van', 'trier', 'does', 'not', 'master', 'his', 'artistic', 'means', 'but', 'he', 'is', 'too', 'demonstrative', 'he', 'seems', 'to', 'try', 'too', 'hard', 'to', 'show', 'what', 'a', 'great', 'filmmaker', 'he', 'is', 'he', 'really', 'is', 'great', 'as', 'he', 'will', 'show', 'in', 'some', 'of', 'his', 'later', 'films', 'but', 'it', 'will', 'be', 'left', 'to', 'the', 'viewers', 'to', 'decide', 'this', 'alone', '<END>'], ['<START>', 'this', 'film', 'is', 'terrible', 'you', 'dont', 'really', 'need', 'to', 'read', 'this', 'review', 'further', 'if', 'you', 'are', 'planning', 'on', 'watching', 'it', 'suffice', 'to', 'say', '', 'dont', 'unless', 'you', 'are', 'studying', 'how', 'not', 'to', 'make', 'a', 'good', 'moviebr', 'br', 'the', 'acting', 'is', 'horrendous', 'serious', 'amateur', 'hour', 'throughout', 'the', 'movie', 'i', 'thought', 'that', 'it', 'was', 'interesting', 'that', 'they', 'found', 'someone', 'who', 'speaks', 'and', 'looks', 'like', 'michael', 'madsen', 'only', 'to', 'find', 'out', 'that', 'it', 'is', 'actually', 'him', 'a', 'new', 'low', 'even', 'for', 'himbr', 'br', 'the', 'plot', 'is', 'terrible', 'people', 'who', 'claim', 'that', 'it', 'is', 'original', 'or', 'good', 'have', 'probably', 'never', 'seen', 'a', 'decent', 'movie', 'before', 'even', 'by', 'the', 'standard', 'of', 'hollywood', 'action', 'flicks', 'this', 'is', 'a', 'terrible', 'moviebr', 'br', 'dont', 'watch', 'it', 'go', 'for', 'a', 'jog', 'instead', '', 'at', 'least', 'you', 'wont', 'feel', 'like', 'killing', 'yourself', '<END>'], ['<START>', 'terrible', 'movie', 'nuff', 'saidbr', 'br', 'these', 'lines', 'are', 'just', 'filler', 'the', 'movie', 'was', 'bad', 'why', 'i', 'have', 'to', 'expand', 'on', 'that', 'i', 'dont', 'know', 'this', 'is', 'already', 'a', 'waste', 'of', 'my', 'time', 'i', 'just', 'wanted', 'to', 'warn', 'others', 'avoid', 'this', 'movie', 'the', 'acting', 'sucks', 'and', 'the', 'writing', 'is', 'just', 'moronic', 'bad', 'in', 'every', 'way', 'the', 'only', 'nice', 'thing', 'about', 'the', 'movie', 'are', 'deniz', 'akkayas', 'breasts', 'even', 'that', 'was', 'ruined', 'though', 'by', 'a', 'terrible', 'and', 'unneeded', 'rape', 'scene', 'the', 'movie', 'is', 'a', 'poorly', 'contrived', 'and', 'totally', 'unbelievable', 'piece', 'of', 'garbagebr', 'br', 'ok', 'now', 'i', 'am', 'just', 'going', 'to', 'rag', 'on', 'imdb', 'for', 'this', 'stupid', 'rule', 'of', '10', 'lines', 'of', 'text', 'minimum', 'first', 'i', 'waste', 'my', 'time', 'watching', 'this', 'offal', 'then', 'feeling', 'compelled', 'to', 'warn', 'others', 'i', 'create', 'an', 'account', 'with', 'imdb', 'only', 'to', 'discover', 'that', 'i', 'have', 'to', 'write', 'a', 'friggen', 'essay', 'on', 'the', 'film', 'just', 'to', 'express', 'how', 'bad', 'i', 'think', 'it', 'is', 'totally', 'unnecessary', '<END>'], ['<START>', 'assuming', 'this', 'wont', 'end', 'up', 'a', 'straighttovideo', 'release', 'i', 'would', 'have', 'to', 'say', 'void', 'this', 'title', 'at', 'all', 'costs', 'unless', 'youre', 'bored', 'of', 'good', 'wellexecuted', 'movies', 'that', 'is', 'i', 'saw', 'this', 'last', 'night', 'at', 'afi', 'dallas', 'and', 'i', 'left', 'with', '20', 'minutes', 'remaining', 'simply', 'because', 'i', 'didnt', 'care', 'anymore', 'about', 'the', 'plot', 'not', 'about', 'insulting', 'the', 'directorthat', 'is', 'awkward', 'when', 'you', 'can', 'spot', 'a', 'goof', 'only', '5', 'minutes', 'into', 'the', 'movie', 'a', 'shot', 'out', 'shattered', 'window', 'before', 'any', 'shots', 'are', 'firedand', 'then', 'the', 'window', 'breaks', 'with', 'the', 'first', 'shot', 'things', 'are', 'going', 'to', 'bad', 'lets', 'just', 'say', 'this', 'is', 'only', 'an', 'indicator', 'of', 'things', 'to', 'comeunfortunatelybr', 'br', 'ill', 'spare', 'you', 'all', 'the', 'details', 'but', 'this', 'is', 'subpar', 'in', 'every', 'manner', 'even', 'the', 'halfassed', 'acting', 'by', 'michael', 'madsen', 'is', 'disappointing', 'when', 'youre', 'expecting', 'halfassed', 'acting', 'from', 'him', 'and', 'the', 'rape', 'scenechrist', 'shut', 'up', 'and', 'take', 'it', 'should', 'never', 'be', 'used', 'in', 'a', 'rape', 'scene', 'everbr', 'br', '310', '<END>'], ['<START>', 'sometimes', 'a', 'movie', 'is', 'so', 'comprehensively', 'awful', 'it', 'has', 'a', 'destructive', 'effect', 'on', 'your', 'morale', 'you', 'begin', 'to', 'really', 'ask', 'yourself', 'what', 'does', 'it', 'mean', 'for', 'our', 'society', 'that', 'the', 'standard', 'is', 'so', 'terribly', 'low', 'can', 'they', 'honestly', 'expect', 'that', 'well', 'endure', 'this', 'many', 'clichés', 'and', 'still', 'be', 'entertainedbr', 'br', 'of', 'course', 'it', 'is', 'still', 'a', 'hollywood', 'mainstay', 'to', 'make', 'the', 'gun', 'the', 'major', 'character', 'plot', 'device', 'and', 'the', 'source', 'of', 'all', 'conflict', 'and', 'resolution', 'in', 'films', 'character', 'needs', 'a', 'gun', 'gets', 'a', 'gun', 'cant', 'do', 'that', 'because', 'he', 'has', 'a', 'gun', 'puts', 'his', 'gun', 'down', 'first', 'oh', 'my', 'god', 'what', 'are', 'we', 'going', 'to', 'do', 'he', 'has', 'a', 'gun', 'he', 'waves', 'it', 'around', 'acting', 'more', 'malicious', 'than', 'real', 'human', 'beings', 'ever', 'do', 'he', 'pushes', 'it', 'in', 'someones', 'face', 'for', '90', 'minutes', 'shouting', 'questions', 'the', 'hallmark', 'of', 'any', 'conclusion', 'will', 'be', 'the', 'comforting', 'sound', 'of', 'police', 'sirens', 'br', 'br', 'its', 'a', 'real', 'challenge', 'to', 'make', 'such', 'a', 'tired', 'hackneyed', 'formula', 'work', 'again', 'a', 'film', 'has', 'to', 'be', 'very', 'clever', 'and', 'well', 'executed', 'this', 'one', 'is', 'neither', 'it', 'has', 'no', 'life', 'and', 'no', 'personality', 'and', 'it', 'will', 'suck', 'these', 'components', 'from', 'you', 'it', 'will', 'make', 'you', 'feel', 'worse', 'about', 'living', 'in', 'the', 'time', 'and', 'space', 'that', 'you', 'do', 'really', 'who', 'needs', 'that', 'so', 'yes', 'ill', 'say', 'it', 'i', 'think', 'this', 'may', 'well', 'be', 'the', 'worst', 'film', 'i', 'have', 'ever', 'seen', 'anyone', 'who', 'was', 'involved', 'in', 'the', 'making', 'of', 'this', 'sub', 'mediocre', 'soul', 'killing', 'trash', 'should', 'be', 'publicly', 'embarrassed', 'for', 'the', 'disservice', 'theyve', 'done', 'to', 'us', 'all', '<END>'], ['<START>', 'i', 'have', 'to', 'congratulate', 'the', 'genius', 'who', 'approved', 'this', 'one', 'edward', 'furlong', 'youre', 'not', 'as', 'good', 'as', 'you', 'think', 'mate', 'you', 'cant', 'grab', 'on', 'every', 'piece', 'of', 'lowcost', 'amateur', 'crap', 'which', 'sole', 'intention', 'has', 'to', 'be', 'to', 'get', 'some', 'bucksbr', 'br', 'the', 'filming', 'is', 'bad', 'and', 'i', 'mean', 'bad', 'anyone', 'with', 'a', 'camera', 'would', 'get', 'the', 'same', 'result', 'or', 'betterbr', 'br', 'the', 'acting', 'lets', 'just', 'say', 'dont', 'go', 'to', 'the', 'supermarket', 'looking', 'for', 'actors', 'the', 'good', 'ones', 'usually', 'come', 'with', 'a', 'degree', 'or', 'at', 'least', 'have', 'some', 'damn', 'experience', 'the', 'director', 'mr', 'jon', 'keeyes', 'please', 'find', 'your', 'purpose', 'in', 'life', 'as', 'a', 'director', 'you', 'simply', 'suck', 'your', 'directing', 'is', 'poor', 'the', 'angles', 'are', 'all', 'messed', 'up', 'not', 'in', 'a', 'good', 'way', 'the', 'lines', 'seem', 'as', 'if', 'theyre', 'being', 'read', 'out', 'of', 'toilet', 'paper', 'and', 'the', 'damn', 'music', 'it', 'always', 'comes', 'up', 'when', 'it', 'shouldnt', 'and', 'goes', 'out', 'for', 'no', 'apparent', 'reason', 'and', 'dont', 'go', 'for', 'writer', 'either', 'by', 'the', 'way', 'making', 'movies', 'isnt', 'like', 'serving', 'on', 'a', 'coffeshop', 'it', 'requires', 'art', 'and', 'skill', 'things', 'i', 'really', 'doubt', 'youll', 'ever', 'havebr', 'br', 'instead', 'of', 'making', 'a', 'badass', 'shootout', 'movie', 'you', 'shouldve', 'shot', 'this', 'one', 'back', 'to', 'oblivion', 'and', 'wait', 'till', 'something', 'good', 'came', 'up', 'or', 'just', 'go', 'find', 'a', 'job', 'on', 'a', 'coffeshop', 'youll', 'have', 'less', 'stress', 'and', 'youll', 'save', 'movie', 'goers', 'some', 'money', 'and', 'a', 'bad', 'nightbr', 'br', 'vote', '110', 'my', 'first', 'one', '<END>'], ['<START>', 'i', 'rented', 'this', 'one', 'on', 'dvd', 'without', 'any', 'prior', 'knowledge', 'i', 'was', 'suspicious', 'seeing', 'michael', 'madsen', 'appearing', 'in', 'a', 'movie', 'i', 'have', 'never', 'heard', 'of', 'but', 'it', 'was', 'a', 'freebie', 'so', 'why', 'not', 'check', 'it', 'outbr', 'br', 'well', 'my', 'guess', 'is', 'that', 'mr', 'blonde', 'would', 'very', 'much', 'like', 'to', 'forget', 'hes', 'ever', 'taken', 'part', 'in', 'such', 'a', 'shame', 'of', 'a', 'filmbr', 'br', 'apparently', 'if', 'your', 'script', 'and', 'dialogs', 'are', 'terrible', 'even', 'good', 'actors', 'cannot', 'save', 'the', 'day', 'not', 'to', 'mention', 'the', 'amateur', 'actors', 'that', 'flood', 'this', 'film', 'too', 'many', 'nonnativeenglishspeakers', 'play', 'parts', 'of', 'nativeenglishspeakers', 'reading', 'out', 'lines', 'from', 'a', 'script', 'that', 'should', 'have', 'been', 'thrown', 'away', 'and', 'not', 'having', 'been', 'made', 'into', 'a', 'movie', 'its', 'unbelievable', 'how', 'unbelievable', 'all', 'the', 'lines', 'in', 'the', 'movie', 'sound', 'the', 'music', 'is', 'awful', 'and', 'totally', 'out', 'of', 'place', 'and', 'the', 'whole', 'thing', 'looks', 'and', 'sounds', 'like', 'a', 'poor', 'school', 'playbr', 'br', 'i', 'recommend', 'you', 'watch', 'it', 'just', 'so', 'you', 'would', 'appreciate', 'other', 'better', 'movies', 'this', 'is', 'why', 'i', 'gave', 'it', 'a', '3', 'instead', 'of', 'the', '1', 'it', 'deserves', '<END>'], ['<START>', 'i', 'saw', 'this', 'dvd', 'in', 'my', 'friends', 'house', 'and', 'thought', 'that', 'this', 'was', 'a', 'turkish', 'action', 'movie', 'with', 'some', 'hollywoodnot', 'very', 'bignames', 'in', 'it', 'interested', 'enough', 'i', 'decide', 'to', 'give', 'it', 'a', 'shot', 'later', 'it', 'was', 'a', 'tough', 'to', 'bear', 'experience', 'believe', 'me', 'then', 'after', 'finally', 'seeing', 'the', 'credits', 'roll', 'i', 'tought', 'we', 'turks', 'really', 'suck', 'at', 'hollywood', 'style', 'film', 'making', 'this', 'is', 'an', 'insult', 'to', 'the', 'heisthostage', 'movie', 'genre', 'but', 'then', 'wait', 'i', 'checked', 'some', 'names', 'and', 'no', 'they', 'were', 'not', 'turkish', 'names', 'and', 'no', 'this', 'was', 'not', 'a', 'turkish', 'movie', 'on', 'the', 'contrary', 'it', 'was', 'literally', 'shot', 'in', 'america', 'with', 'an', 'american', 'director', '', 'crew', 'that', 'made', 'me', 'thinkingagain', 'how', 'on', 'earth', 'can', 'you', 'persuade', 'names', 'like', 'micheal', 'madsen', 'edward', 'furlong', 'or', 'even', 'arnold', 'vosloo', 'to', 'take', 'part', 'in', 'such', 'a', 'project', 'with', 'money', 'probably', 'that', 'kept', 'me', 'thinking', 'further', 'how', 'can', 'you', 'raise', 'such', 'amount', 'of', 'money', 'to', 'offer', 'them', 'and', 'a', 'supposedly', 'international', 'cast', 'then', 'all', 'my', 'meditation', 'paid', 'off', 'and', 'i', 'came', 'to', 'find', 'the', 'answerby', 'hiring', 'the', 'cheapest', 'equipment', 'and', 'crew', 'that', 'you', 'can', 'find', 'and', 'if', 'you', 'still', 'have', 'to', 'difficulty', 'in', 'adjustin', 'your', 'budget', 'then', 'by', 'writing', 'and', 'directing', 'the', 'movie', 'you', 'are', 'trying', 'to', 'produceor', 'vice', 'versa', 'i', 'dont', 'have', 'any', 'information', 'on', 'that', 'so', 'bottom', 'line', 'this', 'is', 'not', 'a', 'bad', 'movie', 'as', 'everybody', 'are', 'so', 'anxious', 'to', 'present', 'as', 'it', 'makes', 'you', 'think', 'in', 'my', 'case', 'even', 'meditate', 'and', 'there', 'are', 'a', 'lot', 'of', 'movies', 'outthere', 'that', 'doesnt', 'give', 'even', 'that', 'affect', 'this', 'one', 'at', 'least', 'makes', 'you', 'think', 'it', 'makes', 'you', 'wonder', 'it', 'leaves', 'you', 'with', 'disbelief', 'and', 'then', 'it', 'makes', 'you', 'wonder', 'again', '<END>'], ['<START>', 'what', 'was', 'with', 'all', 'the', 'turkish', 'actors', 'no', 'offense', 'but', 'i', 'thought', 'it', 'was', 'all', 'for', 'nothing', 'for', 'all', 'these', 'actors', 'the', 'film', 'had', 'no', 'script', 'to', 'test', 'any', 'actors', 'acting', 'skill', 'or', 'ability', 'it', 'demanded', 'next', 'to', 'nothing', 'i', 'bought', 'this', 'film', 'to', 'see', 'michael', 'madsen', 'he', 'is', 'one', 'of', 'my', 'favorite', 'actors', 'but', 'this', 'film', 'was', 'another', 'failure', 'for', 'him', 'the', 'script', 'was', 'so', 'bad', 'their', 'was', 'just', 'nothing', 'to', 'sink', 'your', 'teeth', 'into', 'and', 'all', 'the', 'characters', 'were', 'two', 'dimensional', 'madsen', 'tried', 'to', 'act', 'like', 'a', 'hard', 'ass', 'but', 'the', 'script', 'and', 'direction', 'didnt', 'even', 'allow', 'him', 'to', 'do', 'enough', 'with', 'his', 'character', 'to', 'make', 'it', 'more', 'interesting', 'or', '3', 'dimensionalbr', 'br', 'even', 'the', 'sound', 'effects', 'of', 'the', 'gunfight', 'at', 'the', 'beginning', 'of', 'the', 'film', 'sounded', 'like', 'the', 'noise', 'of', 'paint', 'ball', 'guns', 'when', 'they', 'are', 'fired', 'in', 'a', 'skirmish', 'it', 'was', 'really', 'weird', 'and', 'they', 'didnt', 'sound', 'like', 'real', 'guns', 'a', 'video', 'game', 'had', 'better', 'sound', 'effects', 'than', 'this', 'film', 'there', 'was', 'also', 'a', 'really', 'annoying', 'bloke', 'at', 'the', 'beginning', 'of', 'the', 'film', 'who', 'was', 'a', 'member', 'of', 'the', 'robbery', 'gang', 'he', 'had', 'this', 'american', 'whining', 'voice', 'like', 'a', 'girl', 'shouting', 'lines', 'like', 'lets', 'get', 'the', 'fk', 'out', 'of', 'here', 'and', 'what', 'are', 'we', 'going', 'to', 'do', 'man', 'he', 'sounded', 'like', 'a', 'girl', 'as', 'a', 'positive', 'it', 'was', 'funny', 'to', 'watch', 'and', 'it', 'made', 'me', 'laugh', 'too', 'for', 'a', 'few', 'seconds', 'whoo', 'hoo', '', 'dumb', 'film', 'poor', 'madsen', 'he', 'will', 'bounce', 'back', '<END>'], ['<START>', 'this', 'movie', 'was', 'terrible', 'at', 'first', 'i', 'just', 'read', 'the', 'plot', 'summary', 'and', 'it', 'looked', 'ok', 'so', 'i', 'watched', 'it', 'the', 'acting', 'was', 'terrible', 'it', 'was', 'like', 'the', 'actor', 'were', 'almost', 'camera', 'shy', 'everything', 'seemed', 'fake', 'i', 'feel', 'bad', 'for', 'edward', 'furlong', 'terminator', '2', 'was', 'my', 'favorite', 'a', 'few', 'years', 'ago', 'ive', 'watched', 'it', 'at', 'least', '20', 'timesbr', 'br', 'the', 'plot', 'was', 'also', 'crap', 'the', 'writers', 'were', 'probably', 'sleep', 'deprived', 'when', 'they', 'came', 'up', 'with', 'the', 'linesbr', 'br', 'on', 'the', 'plus', 'side', 'its', 'the', 'good', 'kind', 'of', 'bad', 'movie', 'the', 'one', 'you', 'keep', 'watching', 'just', 'to', 'see', 'how', 'much', 'worst', 'could', 'it', 'will', 'get', 'so', 'that', 'later', 'you', 'can', 'tell', 'other', 'people', 'how', 'you', 'couldnt', 'believe', 'how', 'terrible', 'the', 'movie', 'wasbr', 'br', 'i', 'think', 'everybody', 'should', 'watch', 'this', 'so', 'that', 'then', 'we', 'could', 'appreciate', 'better', 'other', 'real', 'movies', '<END>'], ['<START>', 'i', 'am', 'a', 'big', 'fan', 'of', 'arnold', 'vosloo', 'finally', 'seeing', 'him', 'as', 'the', 'star', 'of', 'a', 'recent', 'movie', 'not', 'just', 'a', 'bit', 'part', 'made', 'me', 'happybr', 'br', 'unfortunately', 'i', 'took', 'film', 'appreciation', 'in', 'college', 'and', 'the', 'only', 'thing', 'i', 'can', 'say', 'that', 'i', 'didnt', 'like', 'was', 'that', 'the', 'film', 'was', 'made', 'in', 'an', 'abandoned', 'part', 'of', 'town', 'and', 'there', 'was', 'no', 'background', 'traffic', 'or', 'lookie', 'loosbr', 'br', 'i', 'have', 'to', 'say', 'that', 'the', 'acting', 'leaves', 'something', 'to', 'be', 'desired', 'but', 'arnold', 'is', 'an', 'excellent', 'actor', 'i', 'have', 'to', 'chalk', 'it', 'up', 'to', 'lousy', 'direction', 'and', 'the', 'supporting', 'cast', 'leaves', 'something', 'to', 'be', 'desiredbr', 'br', 'i', 'love', 'arnold', 'vosloo', 'and', 'he', 'made', 'the', 'film', 'viewable', 'otherwise', 'i', 'would', 'have', 'written', 'it', 'off', 'as', 'another', 'lousy', 'filmbr', 'br', 'i', 'found', 'the', 'rape', 'scene', 'brutal', 'and', 'unnecessary', 'but', 'the', 'actors', 'that', 'got', 'away', 'at', 'the', 'end', 'were', 'pretty', 'good', 'but', 'the', 'sound', 'effects', 'of', 'the', 'shootout', 'were', 'pretty', 'bad', 'there', 'are', 'some', 'glitches', 'in', 'the', 'film', 'continuity', 'but', 'they', 'are', 'overlookable', 'considering', 'the', 'lowcaliber', 'of', 'the', 'filmbr', 'br', 'all', 'in', 'all', 'i', 'enjoyed', 'the', 'film', 'because', 'arnold', 'vosloo', 'was', 'in', 'itbr', 'br', 'jackie', '<END>'], ['<START>', 'this', 'is', 'an', 'art', 'film', 'that', 'was', 'either', 'made', 'in', '1969', 'or', '1972', 'the', 'national', 'film', 'preservation', 'foundation', 'says', '1969', 'and', 'imdb', 'says', '1972', 'regardless', 'of', 'the', 'exact', 'date', 'the', 'film', 'definitely', 'appears', 'to', 'be', 'very', 'indicative', 'of', 'this', 'general', 'time', 'periodwith', 'some', 'camerawork', 'and', 'pop', 'art', 'stylings', 'that', 'are', 'pure', 'late', '60searly', '70sbr', 'br', 'the', 'film', 'consists', 'of', 'three', 'simple', 'images', 'that', 'are', 'distorted', 'using', 'different', 'weird', 'camera', 'tricks', 'these', 'distorted', 'images', 'are', 'accompanied', 'by', 'music', 'and', 'there', 'is', 'absolutely', 'no', 'dialog', 'or', 'plot', 'of', 'any', 'sort', 'this', 'was', 'obviously', 'intended', 'as', 'almost', 'like', 'a', 'form', 'of', 'performance', 'art', 'and', 'like', 'most', 'performance', 'art', 'its', 'interesting', 'at', 'first', 'but', 'quickly', 'becomes', 'tiresome', 'the', 'film', 'to', 'put', 'it', 'even', 'more', 'bluntly', 'is', 'a', 'total', 'bore', 'and', 'would', 'appeal', 'to', 'no', 'one', 'but', 'perhaps', 'those', 'who', 'made', 'the', 'film', 'their', 'family', 'and', 'friends', 'and', 'perhaps', 'a', 'few', 'people', 'just', 'too', 'hip', 'and', 'with', 'it', 'to', 'be', 'understood', 'by', 'us', 'mortals', '<END>'], ['<START>', 'nine', 'minutes', 'of', 'psychedelic', 'pulsating', 'often', 'symmetric', 'abstract', 'images', 'are', 'enough', 'to', 'drive', 'anyone', 'crazy', 'i', 'did', 'spot', 'a', 'fullframe', 'eye', 'at', 'the', 'start', 'and', 'later', 'some', 'birds', 'silhouetted', 'against', 'other', 'colors', 'it', 'was', 'just', 'not', 'my', 'cup', 'of', 'tea', 'its', 'about', '8½', 'minutes', 'too', 'long', '<END>'], ['<START>', 'there', 'are', 'lots', 'of', 'extremely', 'goodlooking', 'people', 'in', 'this', 'movie', 'thats', 'probably', 'the', 'best', 'thing', 'about', 'it', 'perhaps', 'that', 'even', 'makes', 'it', 'worth', 'watchingbr', 'br', 'loaded', 'tells', 'the', 'story', 'of', 'tristan', 'price', 'jesse', 'metcalfe', 'a', 'young', 'man', 'whos', 'about', 'to', 'make', 'his', 'mark', 'on', 'the', 'world', 'hes', 'the', 'son', 'of', 'a', 'welltodo', 'family', 'with', 'a', 'good', 'reputation', 'and', 'hes', 'on', 'his', 'way', 'to', 'law', 'school', 'but', 'like', 'so', 'many', 'such', 'settings', 'things', 'arent', 'quite', 'as', 'perfect', 'as', 'they', 'appear', 'the', 'expectations', 'in', 'this', 'family', 'far', 'outweigh', 'the', 'love', 'except', 'for', 'school', 'tristans', 'father', 'rarely', 'lets', 'him', 'leave', 'the', 'house', 'this', 'seems', 'to', 'be', 'the', 'result', 'of', 'some', 'past', 'traumatic', 'event', 'that', 'shook', 'the', 'family', 'which', 'is', 'partially', 'revealed', 'through', 'flashbacks', 'but', 'isnt', 'spelled', 'out', 'until', 'the', 'very', 'end', 'tristans', 'claustrophobic', 'environment', 'causes', 'him', 'to', 'let', 'loose', 'in', 'very', 'extreme', 'ways', 'at', 'the', 'first', 'possible', 'opportunity', 'when', 'his', 'friends', 'take', 'him', 'out', 'to', 'a', 'strip', 'club', 'to', 'celebrate', 'his', 'graduation', 'the', 'celebration', 'soon', 'follows', 'some', 'strippers', 'back', 'to', 'a', 'beach', 'house', 'party', 'and', 'from', 'there', 'tristan', 'befriends', 'sebastian', 'cole', 'corey', 'large', 'who', 'pulls', 'him', 'into', 'a', 'drug', 'dealing', 'underworldbr', 'br', 'while', 'technically', 'wellmade', 'this', 'movie', 'suffers', 'from', 'a', 'lackluster', 'script', 'and', 'a', 'storyline', 'that', 'isnt', 'very', 'engaging', 'also', 'counting', 'against', 'this', 'film', 'are', 'some', 'constant', 'camera', 'tricks', 'that', 'generally', 'seemed', 'annoying', 'and', 'outofplace', 'such', 'as', 'slowmotion', 'fastmotion', 'freezeframes', 'and', 'echos', 'these', 'are', 'the', 'types', 'of', 'effects', 'a', 'director', 'might', 'normally', 'utilize', 'to', 'show', 'a', 'characters', 'perspective', 'while', 'on', 'drugs', 'except', 'in', 'this', 'case', 'they', 'seem', 'to', 'have', 'been', 'sporadically', 'tossed', 'in', 'at', 'random', 'points', 'in', 'some', 'cheap', 'attempt', 'at', 'stylebr', 'br', 'despite', 'its', 'cast', 'of', 'relative', 'unknowns', 'performances', 'were', 'good', 'all', 'around', 'most', 'notably', 'with', 'respect', 'to', 'the', 'main', 'antagonist', 'corey', 'large', 'i', 'suspect', 'well', 'be', 'seeing', 'at', 'least', 'a', 'couple', 'of', 'these', 'people', 'in', 'bigger', 'and', 'better', 'projects', 'in', 'the', 'futurebr', 'br', 'of', 'course', 'when', 'mentioning', 'the', 'actors', 'i', 'must', 'mention', 'their', 'looks', 'rating', 'based', 'on', 'hotness', 'this', 'movies', 'scores', 'an', '11', 'the', 'women', 'in', 'this', 'movie', 'are', 'incrediblelooking', 'and', 'almost', 'distract', 'you', 'from', 'what', 'a', 'boring', 'movie', 'youre', 'watching', 'im', 'sure', 'the', 'male', 'characters', 'are', 'also', 'quite', 'attractive', 'but', 'youll', 'have', 'to', 'ask', 'someone', 'else', 'to', 'comment', 'on', 'thatbr', 'br', 'overall', 'i', 'cant', 'recommend', 'this', 'movie', 'not', 'for', 'buying', 'renting', 'or', 'even', 'seeing', 'for', 'free', 'its', 'unfortunately', 'just', 'not', 'worth', 'the', 'effort', 'it', 'takes', 'to', 'sit', 'through', '<END>'], ['<START>', 'this', 'is', 'it', 'this', 'is', 'the', 'one', 'this', 'is', 'the', 'worst', 'movie', 'ever', 'made', 'ever', 'it', 'beats', 'everything', 'i', 'have', 'never', 'seen', 'worse', 'retire', 'the', 'trophy', 'and', 'give', 'it', 'to', 'these', 'peopletheres', 'just', 'no', 'comparisonbr', 'br', 'even', 'three', 'days', 'after', 'watching', 'this', 'for', 'some', 'reason', 'i', 'still', 'dont', 'know', 'why', 'i', 'cannot', 'believe', 'how', 'insanely', 'horrific', 'this', 'movie', 'iswas', 'its', 'so', 'bad', 'so', 'far', 'from', 'anything', 'that', 'could', 'be', 'considered', 'a', 'movie', 'a', 'story', 'or', 'anything', 'that', 'should', 'have', 'ever', 'been', 'created', 'and', 'brought', 'into', 'our', 'existencebr', 'br', 'this', 'made', 'me', 'question', 'whether', 'or', 'not', 'humans', 'are', 'truly', 'put', 'on', 'this', 'earth', 'to', 'do', 'good', 'it', 'made', 'me', 'feel', 'disgusted', 'with', 'ourselves', 'and', 'our', 'progress', 'as', 'a', 'species', 'in', 'this', 'universe', 'this', 'type', 'of', 'movie', 'sincerely', 'hurts', 'us', 'as', 'a', 'society', 'we', 'should', 'be', 'ashamed', 'i', 'really', 'cannot', 'emphasize', 'that', 'our', 'global', 'responsibility', 'as', 'people', 'living', 'here', 'and', 'creating', 'art', 'is', 'that', 'we', 'need', 'to', 'prevent', 'the', 'creation', 'of', 'these', 'gross', 'distortions', 'of', 'our', 'reality', 'for', 'our', 'own', 'good', 'its', 'an', 'embarrassment', 'i', 'dont', 'know', 'how', 'on', 'earth', 'any', 'of', 'these', 'actors', 'writers', 'or', 'the', 'director', 'of', 'this', 'film', 'sleeps', 'at', 'night', 'knowing', 'that', 'they', 'had', 'a', 'role', 'in', 'making', 'loaded', 'i', 'dont', 'know', 'what', 'type', 'of', 'disgusting', 'monsters', 'enjoy', 'watching', 'these', 'types', 'of', 'moviesbr', 'br', 'that', 'being', 'said', 'i', 'love', 'a', 'good', 'bad', 'movie', 'i', 'love', 'shark', 'attack', '3', 'i', 'love', 'bad', 'taste', 'they', 'are', 'hilarious', 'i', 'tell', 'all', 'my', 'friends', 'to', 'see', 'them', 'because', 'they', 'are', 'badbr', 'br', 'but', 'thisthis', 'crosses', 'the', 'line', 'of', 'bad', 'into', 'a', 'whole', 'new', 'dimension', 'this', 'is', 'awkward', 'bad', 'this', 'is', 'the', 'bad', 'where', 'you', 'know', 'everything', 'that', 'is', 'going', 'to', 'happen', 'every', 'line', 'every', 'action', 'every', 'death', 'every', 'sequence', 'before', 'they', 'happen', 'and', 'not', 'just', 'like', 'a', 'second', 'or', 'two', 'before', 'i', 'mean', 'like', 'after', 'watching', 'the', 'first', '5', 'minutes', 'beforebr', 'br', 'every', 'cheesy', 'editing', 'effect', 'is', 'shamelessly', 'used', 'over', 'and', 'over', 'again', 'to', 'a', 'sickening', 'point', 'i', 'really', 'never', 'want', 'to', 'see', 'the', 'shaky', 'camera', 'drug', 'buzz', 'rush', 'effect', 'or', 'jump', 'cuts', 'or', 'swerve', 'cuts', 'or', 'any', 'fancy', 'cut', 'ever', 'again', 'ever', 'this', 'is', 'meticulously', 'boring', 'repetitive', 'and', 'just', 'tortures', 'the', 'audiencebr', 'br', 'butand', 'let', 'me', 'be', 'specific', 'here', 'the', 'most', 'disturbing', 'thing', 'about', 'this', 'movie', 'is', 'that', 'given', 'the', 'production', 'it', 'appears', 'that', 'a', 'somewhat', 'decent', 'amount', 'of', 'money', 'was', 'actually', 'put', 'into', 'this', 'excrement', 'i', 'personally', 'will', 'grab', 'the', 'shoulders', 'of', 'the', 'director', 'if', 'i', 'ever', 'see', 'him', 'and', 'shake', 'him', 'into', 'submission', 'demanding', 'that', 'he', 'run', 'home', 'and', 'swallow', 'twogallons', 'of', 'draino', 'or', 'i', 'will', 'do', 'it', 'for', 'himbr', 'br', 'if', 'we', 'ever', 'needed', 'a', 'new', 'form', 'of', 'inhumane', 'torture', 'for', 'our', 'war', 'prisoners', 'abroad', 'just', 'keep', 'showing', 'them', 'this', 'movie', 'in', 'a', 'padded', 'cell', 'over', 'and', 'over', 'again', 'trust', 'me', 'i', 'think', 'they', 'will', 'become', 'more', 'extravagant', 'with', 'suicide', 'methods', 'after', 'the', '72nd', 'time', 'of', 'sitting', 'through', 'thisbr', 'br', 'stop', 'these', 'movies', 'they', 'are', 'just', 'the', 'most', 'vile', 'of', 'all', 'facets', 'of', 'our', 'society', 'please', 'stop', 'now', '<END>'], ['<START>', 'there', 'are', 'times', 'when', 'finishing', 'a', 'film', 'one', 'wishes', 'to', 'have', 'a', 'refund', 'for', 'the', 'time', 'just', 'spent', 'this', 'was', 'one', 'of', 'those', 'times', 'i', 'almost', 'gave', 'up', 'with', 'only', '15', 'minutes', 'left', 'to', 'endure', 'and', 'i', 'wish', 'i', 'hadbr', 'br', 'the', 'pace', 'that', 'a', 'man', 'goes', 'from', 'a', 'straightlaced', 'controlled', 'life', 'to', 'one', 'of', 'complete', 'spinelessness', 'and', 'irresponsibility', 'could', 'never', 'be', 'this', 'rapidbr', 'br', 'from', 'a', 'graduation', 'celebration', 'to', 'the', 'predictable', 'ending', 'tristan', 'price', 'jesse', 'metcalfe', 'man', 'of', 'privilege', 'and', 'culture', 'allows', 'himself', 'to', 'be', 'seduced', 'by', 'a', 'woman', 'by', 'violence', 'and', 'by', 'mind', 'altering', 'substances', 'of', 'course', 'the', 'woman', 'part', 'is', 'understandable', 'when', 'observing', 'the', 'talents', 'of', 'the', 'beautiful', 'april', 'nathalie', 'kelley', 'but', 'the', 'in', 'for', 'a', 'penny', 'in', 'for', 'a', 'pound', 'aspect', 'of', 'the', 'drugs', 'violence', 'and', 'dedication', 'to', 'a', 'person', 'he', 'has', 'just', 'met', 'is', 'impossible', 'to', 'understandbr', 'br', 'frankly', 'besides', 'being', 'able', 'to', 'stare', 'at', 'nathalie', 'kelley', 'and', 'monica', 'keena', 'this', 'film', 'has', 'no', 'redeeming', 'qualities', 'save', 'your', 'money', 'save', 'your', 'time', 'do', 'anything', 'else', '<END>'], ['<START>', 'weak', 'plot', 'predictable', 'violence', 'only', 'semi', 'interesting', 'characters', 'like', 'the', 'writer', 'also', 'one', 'of', 'the', 'stars', 'was', 'fictionalizing', 'his', 'own', 'screw', 'ups', 'and', 'added', 'an', 'incredulous', 'fantasies', 'of', 'drugs', 'and', 'murder', 'to', 'make', 'it', 'hot', 'from', 'the', 'predictable', 'rap', 'and', 'house', 'soundtrack', 'to', 'the', 'family', 'conflicts', 'its', 'poorly', 'acted', 'stereotypical', 'and', 'ultimately', 'terribly', 'boring', 'even', 'the', 'title', 'has', 'been', 'done', 'before', '', 'imdb', 'lists', 'five', 'movies', 'with', 'the', 'same', 'name', 'released', 'in', '20072008', 'br', 'br', 'note', 'saw', 'it', 'on', 'showtime', 'which', 'listed', 'the', 'synopsis', 'for', 'one', 'of', 'the', 'other', 'movies', 'was', 'halfway', 'thru', 'before', 'i', 'realized', 'no', 'one', 'was', 'an', 'undercover', 'cop', 'even', 'tho', 'another', 'stereotype', 'would', 'have', 'made', 'it', 'interesting', 'if', 'it', 'happened', '<END>'], ['<START>', 'all', 'i', 'could', 'think', 'of', 'while', 'watching', 'this', 'movie', 'was', 'bgrade', 'slop', 'many', 'have', 'spoken', 'about', 'its', 'redeeming', 'quality', 'is', 'how', 'this', 'film', 'portrays', 'such', 'a', 'realistic', 'representation', 'of', 'the', 'effects', 'of', 'drugs', 'and', 'an', 'individual', 'and', 'their', 'subsequent', 'spiral', 'into', 'a', 'self', 'perpetuation', 'state', 'of', 'unfortunate', 'events', 'yet', 'really', 'the', 'techniques', 'used', 'as', 'many', 'have', 'already', 'mentioned', 'were', 'overused', 'and', 'thus', 'unconvincing', 'and', 'irrelevant', 'to', 'the', 'film', 'as', 'a', 'wholebr', 'br', 'as', 'far', 'as', 'the', 'plot', 'is', 'concerned', 'it', 'was', 'lacklustre', 'unimaginative', 'implausible', 'and', 'convoluted', 'you', 'can', 'read', 'most', 'other', 'reports', 'on', 'this', 'film', 'and', 'they', 'will', 'say', 'pretty', 'much', 'the', 'same', 'as', 'i', 'wouldbr', 'br', 'granted', 'some', 'of', 'the', 'actors', 'and', 'actresses', 'are', 'attractive', 'but', 'when', 'confronted', 'with', 'such', 'boring', 'action', 'looks', 'can', 'only', 'carry', 'a', 'film', 'so', 'far', 'the', 'action', 'is', 'poor', 'and', 'intermittent', 'a', 'few', 'punches', 'thrown', 'here', 'and', 'there', 'and', 'a', 'final', 'gunfight', 'towards', 'the', 'end', 'nothing', 'really', 'to', 'write', 'home', 'aboutbr', 'br', 'as', 'others', 'have', 'said', 'bad', 'movies', 'are', 'great', 'to', 'watch', 'for', 'the', 'very', 'reason', 'that', 'they', 'are', 'bad', 'you', 'revel', 'in', 'that', 'fact', 'this', 'film', 'however', 'is', 'a', 'void', 'its', 'nothingbr', 'br', 'furthermore', 'if', 'one', 'is', 'really', 'in', 'need', 'of', 'an', 'educational', 'movie', 'to', 'scare', 'people', 'away', 'from', 'drug', 'use', 'then', 'i', 'would', 'seriously', 'recommend', 'any', 'number', 'of', 'other', 'movies', 'out', 'there', 'that', 'board', 'such', 'issues', 'in', 'a', 'much', 'more', 'effective', 'way', 'requiem', 'for', 'a', 'dream', 'trainspotting', 'fear', 'and', 'loathing', 'in', 'las', 'vegas', 'and', 'candy', 'are', 'just', 'a', 'few', 'examples', 'though', 'one', 'should', 'also', 'check', 'out', 'some', 'more', 'lighthearted', 'films', 'on', 'the', 'same', 'subject', 'like', 'go', 'overall', 'both', 'serious', 'and', 'funny', 'and', 'halfbakedbr', 'br', 'on', 'a', 'final', 'note', 'the', 'one', 'possibly', 'redeeming', 'line', 'in', 'this', 'movie', 'delivered', 'by', 'vinnie', 'jones', 'was', 'stolen', 'from', 'lock', 'stock', 'and', 'two', 'smokling', 'barrels', 'to', 'think', 'that', 'a', 'bit', 'of', 'that', 'great', 'movie', 'has', 'been', 'tainted', 'by', 'loaded', 'is', 'vilebr', 'br', 'overall', 'i', 'strongly', 'suggest', 'that', 'you', 'save', 'you', 'money', 'and', 'your', 'time', 'by', 'not', 'seeing', 'this', 'movie', '<END>'], ['<START>', 'if', 'you', 'look', 'at', 'corey', 'larges', 'information', 'here', 'on', 'imdb', 'apparently', 'theres', 'a', 'movie', 'called', 'reload', 'in', 'production', 'as', 'of', 'june', '08', 'in', 'which', 'hes', 'playing', 'a', 'character', 'named', 'sebastian', 'colebr', 'br', 'first', 'of', 'all', 'how', 'does', 'such', 'a', 'crappy', 'movie', 'ever', 'earn', 'a', 'sequel', '', 'and', 'second', 'didnt', 'sebastian', 'get', 'killed', 'at', 'the', 'end', 'of', 'loadedbr', 'br', 'i', 'watched', 'this', 'in', 'the', 'wee', 'hours', 'of', 'the', 'morning', 'when', 'i', 'was', 'battling', 'insomnia', 'and', 'so', 'i', 'was', 'drifting', 'in', 'and', 'out', 'while', 'it', 'was', 'on', 'im', 'sure', 'i', 'missed', 'some', 'plot', 'points', 'but', 'overall', 'it', 'seemed', 'really', 'weak', 'larges', 'performance', 'was', 'for', 'me', 'one', 'of', 'the', 'stronger', 'parts', 'of', 'the', 'film', 'im', 'also', 'a', 'bit', 'surprised', 'at', 'all', 'the', 'people', 'commenting', 'on', 'the', 'beautiful', 'girls', 'since', 'i', 'thought', 'the', 'actress', 'playing', 'brooke', 'was', 'pretty', 'but', 'not', 'exceptional', '<END>'], ['<START>', 'this', 'film', 'had', 'a', 'lot', 'of', 'promise', 'and', 'the', 'plot', 'was', 'relatively', 'interesting', 'however', 'the', 'actors', 'director', 'and', 'editors', 'seriously', 'let', 'this', 'film', 'downbr', 'br', 'i', 'feel', 'bad', 'for', 'the', 'writers', 'it', 'could', 'have', 'been', 'good', 'the', 'acting', 'is', 'wooden', 'very', 'few', 'of', 'the', 'characters', 'are', 'believablebr', 'br', 'who', 'ever', 'edited', 'this', 'clearly', 'just', 'learnt', 'some', 'new', 'edit', 'techniques', 'and', 'wanted', 'to', 'splash', 'them', 'all', 'over', 'the', 'film', 'there', 'are', 'lots', 'of', 'quick', 'flashy', 'edits', 'in', 'almost', 'every', 'scene', 'which', 'are', 'clearly', 'meant', 'to', 'be', 'symbolic', 'but', 'just', 'end', 'up', 'as', 'annoyingbr', 'br', 'i', 'wanted', 'to', 'like', 'this', 'film', 'and', 'expected', 'there', 'to', 'be', 'a', 'decent', 'resolution', 'to', 'the', 'breakdown', 'of', 'equilibrium', 'but', 'alas', 'no', 'it', 'left', 'me', 'feeling', 'like', 'id', 'wasted', 'my', 'time', 'and', 'the', 'film', 'makers', 'had', 'wasted', 'their', 'money', '<END>'], ['<START>', 'this', 'is', 'one', 'of', 'the', 'dumbest', 'films', 'ive', 'ever', 'seen', 'it', 'rips', 'off', 'nearly', 'ever', 'type', 'of', 'thriller', 'and', 'manages', 'to', 'make', 'a', 'mess', 'of', 'them', 'allbr', 'br', 'theres', 'not', 'a', 'single', 'good', 'line', 'or', 'character', 'in', 'the', 'whole', 'mess', 'if', 'there', 'was', 'a', 'plot', 'it', 'was', 'an', 'afterthought', 'and', 'as', 'far', 'as', 'acting', 'goes', 'theres', 'nothing', 'good', 'to', 'say', 'so', 'ill', 'say', 'nothing', 'i', 'honestly', 'cant', 'understand', 'how', 'this', 'type', 'of', 'nonsense', 'gets', 'produced', 'and', 'actually', 'released', 'does', 'somebody', 'somewhere', 'not', 'at', 'some', 'stage', 'think', 'oh', 'my', 'god', 'this', 'really', 'is', 'a', 'load', 'of', 'shite', 'and', 'call', 'it', 'a', 'day', 'its', 'crap', 'like', 'this', 'that', 'has', 'people', 'downloading', 'illegally', 'the', 'trailer', 'looks', 'like', 'a', 'completely', 'different', 'film', 'at', 'least', 'if', 'you', 'have', 'download', 'it', 'you', 'havent', 'wasted', 'your', 'time', 'or', 'money', 'dont', 'waste', 'your', 'time', 'this', 'is', 'painful', '<END>'], ['<START>', '610', 'acting', 'not', 'great', 'but', 'some', 'good', 'actingbr', 'br', '410', 'director', 'makes', 'some', 'stupid', 'decisions', 'for', 'this', 'filmbr', 'br', '210', 'writer', 'story', 'makes', 'no', 'sense', 'at', 'all', 'and', 'has', 'huge', 'amount', 'of', 'flawsbr', 'br', '410', 'overall', 'score', 'for', 'this', 'moviebr', 'br', 'dont', 'waste', 'your', 'time', 'with', 'this', 'film', 'its', 'not', 'worth', 'it', 'i', 'gave', '4', 'for', 'this', 'movie', 'and', 'it', 'may', 'be', 'too', 'much', 'characters', 'are', 'so', 'over', 'exaggerated', 'than', 'they', 'can', 'ever', 'be', 'in', 'real', 'life', 'and', 'some', 'pretty', 'unexplainable', 'stuff', 'happens', 'storywise', 'not', 'in', 'good', 'way', 'because', 'of', 'the', 'style', 'this', 'film', 'has', 'been', 'filmed', 'you', 'get', 'bored', 'after', '30', 'minutes', 'too', 'many', 'special', 'effects', 'slow', 'motions', 'and', 'camera', 'shakes', 'and', 'fast', 'forwards', 'its', 'always', 'good', 'that', 'movie', 'uses', 'music', 'to', 'make', 'the', 'story', 'go', 'smooth', 'but', 'theres', 'too', 'many', 'tracks', 'in', 'this', 'one', 'in', 'the', 'first', 'hour', 'there', 'is', 'almost', '5050', 'dialogs', 'and', 'musics', '<END>'], ['<START>', 'this', 'is', 'really', 'a', 'new', 'low', 'in', 'entertainment', 'even', 'though', 'there', 'are', 'a', 'lot', 'worse', 'movies', 'outbr', 'br', 'in', 'the', 'gangster', '', 'drug', 'scene', 'genre', 'it', 'is', 'hard', 'to', 'have', 'a', 'convincing', 'storyline', 'this', 'movies', 'does', 'not', 'i', 'mean', 'sebastians', 'motives', 'for', 'example', 'couldnt', 'be', 'more', 'far', 'fetched', 'and', 'worn', 'out', 'cliché', 'then', 'you', 'would', 'also', 'need', 'a', 'setting', 'of', 'character', 'relationships', 'that', 'is', 'believable', 'this', 'movie', 'does', 'not', 'br', 'br', 'sure', 'tristan', 'is', 'drawn', 'away', 'from', 'his', 'family', 'but', 'why', 'was', 'that', 'again', 'whats', 'the', 'deal', 'with', 'his', 'father', 'again', 'that', 'he', 'has', 'to', 'ask', 'permission', 'to', 'go', 'out', 'at', 'his', 'age', 'interesting', 'picture', 'though', 'to', 'ask', 'about', 'the', 'lack', 'and', 'need', 'of', 'rebellious', 'behavior', 'of', 'kids', 'in', 'upper', 'class', 'family', 'but', 'this', 'movie', 'does', 'not', 'go', 'in', 'this', 'direction', 'even', 'though', 'there', 'would', 'be', 'the', 'potential', 'judging', 'by', 'the', 'random', 'backflashes', 'wasnt', 'he', 'already', 'down', 'and', 'out', 'why', 'does', 'he', 'do', 'it', 'again', 'br', 'br', 'so', 'there', 'are', 'some', 'interesting', 'questions', 'brought', 'up', 'here', 'for', 'a', 'solid', 'socially', 'critic', 'drama', 'but', 'then', 'again', 'this', 'movie', 'is', 'just', 'not', 'because', 'of', 'focusing', 'on', 'cool', 'production', 'techniques', 'and', 'special', 'effects', 'an', 'not', 'giving', 'the', 'characters', 'a', 'moment', 'to', 'reflect', 'and', 'most', 'of', 'all', 'forcing', 'the', 'story', 'along', 'the', 'path', 'where', 'they', 'want', 'it', 'to', 'be', 'and', 'not', 'paying', 'attention', 'to', 'let', 'the', 'story', 'breath', 'and', 'naturally', 'evolve', 'br', 'br', 'it', 'wants', 'to', 'be', 'a', 'drama', 'to', 'not', 'glorify', 'abuse', 'of', 'substances', 'and', 'violence', 'would', 'be', 'political', 'incorrect', 'these', 'days', 'wouldnt', 'it', 'but', 'on', 'the', 'other', 'hand', 'it', 'is', 'nothing', 'more', 'then', 'a', 'cheap', 'action', 'movie', 'like', 'there', 'are', 'so', 'so', 'many', 'out', 'there', 'with', 'an', 'average', 'set', 'of', 'actors', 'and', 'a', 'vinnie', 'jones', 'who', 'is', 'managing', 'to', 'not', 'totally', 'ruin', 'whats', 'left', 'of', 'his', 'reputation', 'by', 'doing', 'what', 'he', 'always', 'doesbr', 'br', 'so', 'all', 'in', 'all', 'i', '', 'just', '', 'cant', 'recommend', 'itbr', 'br', '1', 'for', 'vinnie', 'and', '2', 'for', 'the', 'editing', '<END>'], ['<START>', 'from', 'the', 'beginning', 'of', 'the', 'movie', 'it', 'gives', 'the', 'feeling', 'the', 'director', 'is', 'trying', 'to', 'portray', 'something', 'what', 'i', 'mean', 'to', 'say', 'that', 'instead', 'of', 'the', 'story', 'dictating', 'the', 'style', 'in', 'which', 'the', 'movie', 'should', 'be', 'made', 'he', 'has', 'gone', 'in', 'the', 'opposite', 'way', 'he', 'had', 'a', 'type', 'of', 'move', 'that', 'he', 'wanted', 'to', 'make', 'and', 'wrote', 'a', 'story', 'to', 'suite', 'it', 'and', 'he', 'has', 'failed', 'in', 'it', 'very', 'badly', 'i', 'guess', 'he', 'was', 'trying', 'to', 'make', 'a', 'stylish', 'movie', 'any', 'way', 'i', 'think', 'this', 'movie', 'is', 'a', 'total', 'waste', 'of', 'time', 'and', 'effort', 'in', 'the', 'credit', 'of', 'the', 'director', 'he', 'knows', 'the', 'media', 'that', 'he', 'is', 'working', 'with', 'what', 'i', 'am', 'trying', 'to', 'say', 'is', 'i', 'have', 'seen', 'worst', 'movies', 'than', 'this', 'here', 'at', 'least', 'the', 'director', 'knows', 'to', 'maintain', 'the', 'continuity', 'in', 'the', 'movie', 'and', 'the', 'actors', 'also', 'have', 'given', 'a', 'decent', 'performance', '<END>'], ['<START>', 'i', 'basically', 'skimmed', 'through', 'the', 'movie', 'but', 'just', 'enough', 'to', 'catch', 'watch', 'the', 'plot', 'was', 'about', 'to', 'tell', 'you', 'the', 'truth', 'it', 'was', 'kind', 'of', 'boring', 'to', 'me', 'and', 'at', 'some', 'spots', 'it', 'didnt', 'make', 'sense', 'the', 'only', 'reason', 'i', 'watched', 'this', 'movie', 'in', 'the', 'first', 'place', 'was', 'to', 'see', 'chace', 'crawford', 'he', 'is', 'so', 'hot', 'but', 'in', 'this', 'movie', 'his', 'hair', 'was', 'kind', 'of', 'weird', 'but', 'still', 'hotbr', 'br', 'however', 'despite', 'how', 'hot', 'chace', 'is', 'it', 'really', 'did', 'not', 'make', 'up', 'for', 'the', 'film', 'i', 'guess', 'the', 'plot', 'isnt', 'that', 'bad', 'but', 'what', 'really', 'threw', 'me', 'over', 'was', 'the', 'fact', 'that', 'they', 'cuss', 'in', 'like', 'every', 'sentence', 'is', 'it', 'that', 'hard', 'to', 'express', 'your', 'anger', 'without', 'saying', 'the', 'f', 'word', 'every', 'timethe', 'cussing', 'was', 'annoying', 'and', 'the', 'whole', 'flashy', 'camera', 'shaking', 'thing', 'gave', 'me', 'a', 'headachebr', 'br', 'all', 'in', 'all', 'although', 'the', 'plot', 'was', 'ok', 'i', 'found', 'the', 'film', 'to', 'be', 'a', 'bore', 'and', 'over', 'dramatic', 'thats', 'why', 'i', 'only', 'cut', 'to', 'scenes', 'with', 'chace', 'in', 'it', 'lol', 'anyways', 'not', 'worth', 'renting', 'unless', 'your', 'a', 'diehard', 'fan', 'of', 'a', 'specific', 'cast', 'member', 'like', 'i', 'was', 'oh', 'yeah', 'the', 'cast', 'was', 'hot', 'the', 'girls', 'were', 'hot', 'but', 'chace', 'is', 'the', 'best', '<END>'], ['<START>', 'this', 'fanciful', 'horror', 'flick', 'has', 'vincent', 'price', 'playing', 'a', 'mad', 'magician', 'that', 'realizes', 'his', 'vocational', 'talents', 'have', 'been', 'sold', 'to', 'another', 'he', 'devise', 'ways', 'of', 'avenging', 'all', 'those', 'that', 'have', 'wronged', 'him', 'his', 'master', 'scheme', 'seems', 'to', 'back', 'fire', 'on', 'himbr', 'br', 'price', 'is', 'a', 'little', 'below', 'par', 'compared', 'to', 'his', 'masterpieces', 'but', 'is', 'still', 'the', 'only', 'reason', 'to', 'watch', 'this', 'thriller', 'supporting', 'cast', 'includes', 'patrick', 'oneal', 'mary', 'murphy', 'eva', 'gabor', 'and', 'jay', 'novellobr', 'br', '', '<END>'], ['<START>', 'if', 'i', 'had', 'not', 'read', 'pat', 'barkers', 'union', 'street', 'before', 'seeing', 'this', 'film', 'i', 'would', 'have', 'liked', 'it', 'unfortuntately', 'this', 'is', 'not', 'the', 'case', 'it', 'is', 'actually', 'my', 'kind', 'of', 'film', 'it', 'is', 'well', 'made', 'and', 'in', 'no', 'way', 'do', 'i', 'want', 'to', 'say', 'otherwise', 'but', 'as', 'an', 'adaptation', 'it', 'fails', 'from', 'every', 'anglebr', 'br', 'the', 'harrowing', 'novel', 'about', 'the', 'reality', 'of', 'living', 'in', 'a', 'northern', 'england', 'workingclass', 'area', 'grabbed', 'hold', 'of', 'my', 'heartstrings', 'and', 'refused', 'to', 'let', 'go', 'for', 'weeks', 'after', 'i', 'had', 'finished', 'i', 'was', 'put', 'through', 'tears', 'repulsion', 'shock', 'anger', 'sympathy', 'and', 'misery', 'when', 'reading', 'about', 'the', 'women', 'of', 'union', 'street', 'excellent', 'a', 'novel', 'that', 'at', 'times', 'i', 'felt', 'i', 'could', 'not', 'read', 'any', 'more', 'of', 'but', 'i', 'novel', 'i', 'simply', 'couldnt', 'put', 'down', 'depressing', 'yes', 'but', 'utterly', 'grippingbr', 'br', 'the', 'film', 'oh', 'dear', 'hollywood', 'took', 'barkers', 'truth', 'and', 'reality', 'and', 'showered', 'a', 'layer', 'of', 'sweet', 'icing', 'sugar', 'over', 'the', 'top', 'of', 'it', 'a', 'beautiful', 'film', 'an', 'inspiring', 'soundtrack', 'excellent', 'performances', 'a', 'tale', 'of', 'hope', 'and', 'romanceyes', 'an', 'adaptation', 'of', 'union', 'streetnobr', 'br', 'the', 'women', 'of', 'union', 'street', 'and', 'their', 'stories', 'are', 'condensed', 'into', 'fondas', 'character', 'their', 'stories', 'are', 'touched', 'on', 'but', 'many', 'are', 'discarded', 'i', 'accept', 'that', 'some', 'of', 'barkers', 'tales', 'are', 'sensitive', 'issues', 'and', 'are', 'too', 'horrific', 'for', 'mass', 'viewing', 'and', 'that', 'a', 'film', 'with', 'around', '7', 'leading', 'protagonists', 'just', 'isnt', 'practical', 'but', 'the', 'content', 'is', 'not', 'my', 'main', 'issue', 'the', 'essence', 'and', 'the', 'real', 'gut', 'of', 'the', 'novel', 'is', 'lost', '', 'darkness', 'and', 'rain', 'broken', 'windows', 'covered', 'with', 'cardboard', 'and', 'the', 'graphically', 'described', 'stench', 'of', 'poverty', 'is', 'replaced', 'with', 'sunshine', 'pretty', 'houses', 'and', 'a', 'twinkling', 'williams', 'scorebr', 'br', 'if', 'you', 'enjoyed', 'the', 'film', 'for', 'its', 'positivity', 'and', 'hope', 'in', 'the', 'face', 'of', 'reality', 'i', 'advise', 'that', 'you', 'hesitate', 'to', 'read', 'the', 'book', 'without', 'first', 'preparing', 'yourself', 'for', 'something', 'more', 'like', 'schindlers', 'listbut', 'without', 'the', 'happy', 'ending', '<END>'], ['<START>', 'i', 'saw', 'the', 'capsule', 'comment', 'said', 'great', 'acting', 'in', 'my', 'opinion', 'these', 'are', 'two', 'great', 'actors', 'giving', 'horrible', 'performances', 'and', 'with', 'zero', 'chemistry', 'with', 'one', 'another', 'for', 'a', 'great', 'director', 'in', 'his', 'alltime', 'worst', 'effort', 'robert', 'de', 'niro', 'has', 'to', 'be', 'the', 'most', 'ingenious', 'and', 'insightful', 'illiterate', 'of', 'all', 'time', 'jane', 'fondas', 'performance', 'uncomfortably', 'drifts', 'all', 'over', 'the', 'map', 'as', 'she', 'clearly', 'has', 'no', 'handle', 'on', 'this', 'character', 'mostly', 'because', 'the', 'character', 'is', 'so', 'poorly', 'written', 'molasseslike', 'would', 'be', 'too', 'swift', 'an', 'adjective', 'for', 'this', 'films', 'excruciating', 'pacing', 'although', 'the', 'films', 'intent', 'is', 'to', 'be', 'an', 'uplifting', 'story', 'of', 'curing', 'illiteracy', 'watching', 'it', 'is', 'a', 'true', 'bummer', 'i', 'give', 'it', '1', 'out', 'of', '10', 'truly', 'one', 'of', 'the', 'worst', '20', 'movies', 'for', 'its', 'budget', 'level', 'that', 'i', 'have', 'ever', 'seen', '<END>'], ['<START>', 'robert', 'deniro', 'plays', 'the', 'most', 'unbelievably', 'intelligent', 'illiterate', 'of', 'all', 'time', 'this', 'movie', 'is', 'so', 'wasteful', 'of', 'talent', 'it', 'is', 'truly', 'disgusting', 'the', 'script', 'is', 'unbelievable', 'the', 'dialog', 'is', 'unbelievable', 'jane', 'fondas', 'character', 'is', 'a', 'caricature', 'of', 'herself', 'and', 'not', 'a', 'funny', 'one', 'the', 'movie', 'moves', 'at', 'a', 'snails', 'pace', 'is', 'photographed', 'in', 'an', 'illadvised', 'manner', 'and', 'is', 'insufferably', 'preachy', 'it', 'also', 'plugs', 'in', 'every', 'cliche', 'in', 'the', 'book', 'swoozie', 'kurtz', 'is', 'excellent', 'in', 'a', 'supporting', 'role', 'but', 'so', 'whatbr', 'br', 'equally', 'annoying', 'is', 'this', 'new', 'imdb', 'rule', 'of', 'requiring', 'ten', 'lines', 'for', 'every', 'review', 'when', 'a', 'movie', 'is', 'this', 'worthless', 'it', 'doesnt', 'require', 'ten', 'lines', 'of', 'text', 'to', 'let', 'other', 'readers', 'know', 'that', 'it', 'is', 'a', 'waste', 'of', 'time', 'and', 'tape', 'avoid', 'this', 'movie', '<END>'], ['<START>', 'story', 'of', 'a', 'man', 'who', 'has', 'unnatural', 'feelings', 'for', 'a', 'pig', 'starts', 'out', 'with', 'a', 'opening', 'scene', 'that', 'is', 'a', 'terrific', 'example', 'of', 'absurd', 'comedy', 'a', 'formal', 'orchestra', 'audience', 'is', 'turned', 'into', 'an', 'insane', 'violent', 'mob', 'by', 'the', 'crazy', 'chantings', 'of', 'its', 'singers', 'unfortunately', 'it', 'stays', 'absurd', 'the', 'whole', 'time', 'with', 'no', 'general', 'narrative', 'eventually', 'making', 'it', 'just', 'too', 'off', 'putting', 'even', 'those', 'from', 'the', 'era', 'should', 'be', 'turned', 'off', 'the', 'cryptic', 'dialogue', 'would', 'make', 'shakespeare', 'seem', 'easy', 'to', 'a', 'third', 'grader', 'on', 'a', 'technical', 'level', 'its', 'better', 'than', 'you', 'might', 'think', 'with', 'some', 'good', 'cinematography', 'by', 'future', 'great', 'vilmos', 'zsigmond', 'future', 'stars', 'sally', 'kirkland', 'and', 'frederic', 'forrest', 'can', 'be', 'seen', 'briefly', '<END>'], ['<START>', 'are', 'you', 'familiar', 'with', 'concept', 'of', 'childrens', 'artwork', 'while', 'it', 'is', 'not', 'the', 'greatest', 'picasso', 'any', 'threeyearold', 'has', 'ever', 'accomplished', 'with', 'their', 'fingers', 'you', 'encourage', 'them', 'to', 'do', 'more', 'if', 'painting', 'is', 'what', 'makes', 'them', 'happy', 'there', 'should', 'be', 'no', 'reason', 'a', 'parent', 'should', 'hold', 'that', 'back', 'on', 'a', 'child', 'typically', 'if', 'a', 'child', 'loves', 'to', 'paint', 'or', 'draw', 'you', 'will', 'immediately', 'see', 'the', 'groundwork', 'of', 'their', 'future', 'style', 'you', 'will', 'begin', 'to', 'see', 'their', 'true', 'form', 'in', 'these', 'very', 'primitive', 'doodles', 'well', 'this', 'concept', 'of', 'childrens', 'artwork', 'is', 'how', 'i', 'felt', 'about', 'fuquas', 'depressingly', 'cheap', 'and', 'uncreative', 'film', 'bait', 'while', 'on', 'all', 'accounts', 'it', 'was', 'a', 'horrid', 'film', 'it', 'was', 'impressive', 'to', 'see', 'fuquas', 'style', 'begin', 'emerging', 'through', 'even', 'the', 'messiest', 'of', 'moments', 'if', 'you', 'have', 'seen', 'either', 'training', 'day', 'or', 'king', 'arthur', 'you', 'will', 'be', 'impressed', 'with', 'the', 'birth', 'of', 'this', 'director', 'in', 'his', 'second', 'film', 'bait', 'while', 'foxx', 'gives', 'a', 'horrid', 'unchained', 'performance', 'there', 'are', 'certain', 'scenes', 'which', 'define', 'fuqua', 'and', 'demonstrate', 'his', 'brilliance', 'behind', 'the', 'camera', 'sadly', 'it', 'only', 'emerged', 'in', 'the', 'final', 'thirty', 'minutes', 'of', 'the', 'film', 'but', 'if', 'you', 'focus', 'just', 'on', 'those', 'scenes', 'you', 'will', 'see', 'why', 'fuquas', 'name', 'appears', 'on', 'so', 'many', 'best', 'of', 'film', 'listsbr', 'br', 'i', 'will', 'never', 'disagree', 'with', 'someone', 'that', 'fuquas', 'eye', 'behind', 'the', 'camera', 'is', 'refreshing', 'and', 'unique', 'his', 'ability', 'to', 'place', 'a', 'camera', 'in', 'the', 'strangest', 'of', 'places', 'to', 'convey', 'the', 'simplest', 'of', 'emotions', 'is', 'shocking', 'i', 'am', 'surprised', 'that', 'more', 'of', 'hollywood', 'hasnt', 'jumped', 'aboard', 'this', 'bandwagon', 'even', 'in', 'the', 'silly', 'feature', 'bait', 'you', 'are', 'witness', 'to', 'fuquas', 'greatness', 'two', 'scenes', 'that', 'come', 'directly', 'to', 'mind', 'are', 'the', 'explosion', 'scene', 'near', 'the', 'middle', 'of', 'the', 'film', 'and', 'the', 'horse', 'scene', 'close', 'to', 'the', 'end', 'in', 'both', 'of', 'these', 'scenes', 'i', 'saw', 'the', 'director', 'fuqua', 'at', 'work', 'alas', 'in', 'the', 'rest', 'of', 'this', 'film', 'all', 'i', 'saw', 'was', 'a', 'combination', 'of', 'nearly', 'every', 'action', 'film', 'created', 'the', 'likable', 'hero', 'down', 'on', 'his', 'luck', 'that', 'suddenly', 'finds', 'his', 'life', 'turned', 'around', 'by', 'some', 'unknown', 'force', 'is', 'a', 'classic', 'structure', 'that', 'just', 'needs', 'to', 'die', 'in', 'hollywood', 'we', 'have', 'seen', 'this', 'two', 'often', 'and', 'no', 'matter', 'who', 'you', 'are', 'unless', 'you', 'are', 'charlie', 'kaufmann', 'you', 'cannot', 'recreate', 'the', 'wheel', 'it', 'is', 'just', 'impossible', 'with', 'this', 'genre', 'and', 'it', 'is', 'proved', 'with', 'bait', 'i', 'was', 'annoyed', 'with', 'fuqua', 'for', 'just', 'sitting', 'back', 'and', 'allowing', 'this', 'to', 'happen', 'which', 'could', 'explain', 'why', 'it', 'took', 'me', 'three', 'viewings', 'to', 'finish', 'this', 'film', 'i', 'was', 'just', 'tired', 'of', 'the', 'structure', 'and', 'while', 'i', 'hoped', 'that', 'fuqua', 'would', 'redefine', 'it', 'he', 'did', 'notbr', 'br', 'then', 'there', 'was', 'the', 'acting', 'while', 'jamie', 'foxx', 'has', 'never', 'impressed', 'me', 'as', 'an', 'actor', 'i', 'was', 'willing', 'to', 'give', 'this', 'helmed', 'vehicle', 'a', 'try', 'i', 'wanted', 'to', 'see', 'if', 'he', 'could', 'pull', 'off', 'another', 'dramatic', 'role', 'similar', 'to', 'collateral', 'i', 'was', 'under', 'the', 'impression', 'that', 'perhaps', 'this', 'was', 'the', 'film', 'chosen', 'to', 'show', 'producers', 'that', 'foxx', 'could', 'handle', 'the', 'role', 'in', 'collateral', 'again', 'i', 'was', 'disappointed', 'foxx', 'was', 'annoying', 'not', 'in', 'the', 'sense', 'that', 'it', 'was', 'the', 'way', 'that', 'his', 'character', 'was', 'to', 'be', 'but', 'in', 'the', 'sense', 'that', 'it', 'felt', 'as', 'if', 'neither', 'fuqua', 'nor', 'foxx', 'took', 'the', 'time', 'to', 'fully', 'train', 'foxx', 'on', 'what', 'should', 'be', 'adlibed', 'and', 'what', 'should', 'be', 'used', 'to', 'further', 'the', 'plot', 'instead', 'we', 'are', 'downtrodden', 'with', 'scene', 'over', 'scene', 'of', 'foxx', 'just', 'trying', 'to', 'make', 'the', 'audience', 'laugh', 'adding', 'second', 'long', 'quips', 'and', 'culture', 'statements', 'just', 'to', 'keep', 'his', 'audience', 'understanding', 'that', 'he', 'was', 'a', 'comedian', 'first', 'an', 'actor', 'second', 'fuqua', 'should', 'have', 'stopped', 'this', 'immediately', 'foxxs', 'jokes', 'destroyed', 'his', 'character', 'which', 'in', 'turn', 'left', 'me', 'with', 'nothing', 'solid', 'to', 'grasp', 'ahold', 'of', 'instead', 'of', 'character', 'development', 'he', 'would', 'crack', 'a', 'joke', 'neither', 'style', 'worked', 'no', 'joke', 'was', 'funny', 'the', 'rest', 'of', 'the', 'cast', 'was', 'average', 'by', 'this', 'i', 'mean', 'i', 'have', 'seen', 'them', 'all', 'in', 'similar', 'roles', 'they', 'were', 'brining', 'nothing', 'new', 'to', 'the', 'table', 'nothing', 'solid', 'to', 'the', 'story', 'and', 'nothing', 'substantial', 'to', 'the', 'overall', 'themes', 'of', 'the', 'film', 'they', 'were', 'pawns', 'filling', 'in', 'dead', 'air', 'space', 'fuqua', 'had', 'no', 'control', 'over', 'this', 'mess', 'and', 'the', 'final', 'verdict', 'only', 'supports', 'that', 'accusationbr', 'br', 'overall', 'this', 'was', 'a', 'sad', 'film', 'with', 'no', 'creativity', 'in', 'sight', 'and', 'unmanaged', 'actors', 'just', 'trying', 'to', 'upstage', 'themselves', 'what', 'originally', 'started', 'as', 'a', 'decent', 'story', 'eventually', 'sunk', 'faster', 'into', 'the', 'cinematic', 'quicksand', 'foxx', 'was', 'annoying', 'without', 'character', 'lines', 'and', 'a', 'complete', 'bag', 'of', 'cheese', 'in', 'each', 'scene', 'i', 'saw', 'no', 'emotion', 'and', 'when', 'emotion', 'was', 'needed', 'to', 'convey', 'a', 'message', 'he', 'chose', 'to', 'take', 'his', 'shirt', 'off', 'rather', 'than', 'tackle', 'the', 'issues', 'are', 'my', 'words', 'harsh', 'i', 'dont', 'think', 'so', 'when', 'you', 'watch', 'any', 'movie', 'you', 'want', 'to', 'see', 'some', 'creativity', 'some', 'edible', 'characters', 'and', 'themes', 'that', 'seem', 'to', 'hit', 'close', 'to', 'home', 'bait', 'contained', 'none', 'of', 'these', 'while', 'i', 'will', 'give', 'fuqua', 'some', 'credit', 'for', 'two', 'of', 'the', 'scenes', 'in', 'this', 'film', 'the', 'remaining', 'five', 'hundred', 'were', 'disastrous', 'apparently', 'i', 'took', 'the', 'bait', 'when', 'renting', 'this', 'film', 'but', 'now', 'having', 'seen', 'it', 'hopefully', 'i', 'can', 'stop', 'others', 'from', 'taking', 'that', 'curious', 'nibblebr', 'br', 'grade', '', 'out', 'of', '', 'for', 'his', 'two', 'scenes', 'that', 'were', 'fun', 'to', 'watch', '<END>'], ['<START>', 'ah', 'bait', 'how', 'do', 'i', 'hate', 'thee', 'let', 'me', 'count', 'the', 'ways', '1', 'you', 'try', 'to', 'be', 'funny', 'but', 'are', 'corny', 'and', 'unenjoyable', 'every', 'joke', 'is', 'predictable', 'and', 'expected', 'and', 'when', 'it', 'comes', 'does', 'not', 'inspire', 'laughter', 'instead', 'i', 'want', 'to', 'hurl', '2', 'you', 'try', 'to', 'be', 'dramatic', 'but', 'are', 'unbelievable', 'the', 'woman', 'overacts', 'to', 'a', 'terrible', 'degree', 'and', 'the', 'bad', 'guy', 'looks', 'like', 'bill', 'gates', 'and', 'is', 'about', 'as', 'scary', 'aswell', 'bill', 'gates', 'just', 'try', 'to', 'imagine', 'bill', 'gates', 'trying', 'to', 'intimidate', 'somebody', 'with', 'a', 'gun', 'doesnt', 'work', 'does', 'it', 'a', 'lawyer', 'maybe', 'but', 'not', 'a', 'gun', 'doesnt', 'fit', 'as', 'for', 'jamie', 'foxx', 'well', 'just', 'watching', 'him', 'try', 'to', 'deliver', 'a', 'dramatic', 'and', 'heartfelt', 'dialogue', 'is', 'ludicrous', 'and', 'makes', 'me', 'want', 'to', 'hurl', '3', 'you', 'try', 'to', 'be', 'actionpacked', 'but', 'instead', 'are', 'dull', 'and', 'dragging', 'too', 'many', 'times', 'and', 'when', 'the', 'action', 'heats', 'up', 'the', 'tripod', 'for', 'the', 'camera', 'must', 'have', 'been', 'lost', 'for', 'the', 'scenes', 'wobble', 'more', 'than', 'those', 'in', 'the', 'blair', 'witch', 'project', 'and', 'i', 'find', 'myself', 'nauseated', 'and', 'once', 'again', 'i', 'want', 'to', 'hurl', '4', 'you', 'try', 'to', 'be', 'a', 'good', 'movie', 'but', 'you', 'failed', 'you', 'failed', 'you', 'failed', 'i', 'would', 'rather', 'walk', 'barefoot', 'across', 'the', 'sahara', 'with', 'a', 'pack', 'full', 'of', 'beef', 'jerky', 'and', 'no', 'water', 'no', 'sunscreen', 'and', 'only', 'meryl', 'streep', 'for', 'company', 'this', 'hell', 'would', 'be', 'lovelier', 'than', 'a', 'single', 'minute', 'more', 'spent', 'watching', 'everyone', 'in', 'bait', 'overact', 'their', 'way', 'through', 'an', 'idiotically', 'written', 'story', 'with', 'bill', 'gates', 'for', 'a', 'bad', 'guy', 'and', 'lets', 'not', 'even', 'talk', 'about', 'the', 'massive', 'bomb', 'that', 'goes', 'off', 'in', 'a', 'car', 'that', 'jamie', 'foxxs', 'character', 'has', 'just', 'driven', 'off', 'a', 'cliff', 'but', 'somehow', 'manages', 'to', 'escapejust', 'kill', 'me', 'now', 'or', 'do', 'the', 'right', 'thing', 'and', 'promise', 'me', 'that', 'somehow', 'ill', 'never', 'have', 'to', 'watch', 'a', 'movie', 'that', 'is', 'this', 'bad', 'ever', 'again', '<END>'], ['<START>', 'the', 'premise', 'of', 'the', 'movie', 'has', 'been', 'explained', 'and', 'if', 'youve', 'gotten', 'this', 'far', 'you', 'dont', 'me', 'to', 'pretend', 'that', 'im', 'a', 'movie', 'critic', 'with', 'that', 'being', 'said', 'my', 'own', 'opinion', 'of', 'the', 'movie', 'is', 'quite', 'low', 'im', 'a', 'fan', 'of', 'takashi', 'miike', 'but', 'this', 'goes', 'down', 'in', 'the', 'category', 'of', 'his', 'not', 'so', 'great', 'work', 'along', 'with', 'doa', '2', 'and', '3', 'and', 'some', 'others', 'manybr', 'br', 'the', 'movie', 'seems', 'to', 'get', 'a', 'free', 'pass', 'because', 'it', 'is', 'a', 'takashi', 'film', 'and', 'nothing', 'takashi', 'does', 'can', 'be', 'wrong', 'this', 'is', 'a', 'highschoolers', 'approach', 'to', 'cinema', 'for', 'the', 'rest', 'of', 'us', 'well', 'find', 'and', 'hour', 'and', 'a', 'half', 'of', 'a', 'kid', 'screaming', 'for', 'no', 'real', 'reason', 'completely', 'annoying', 'and', 'yes', 'this', 'does', 'take', 'away', 'from', 'the', 'film', 'the', 'pace', 'of', 'the', 'film', 'almost', 'reaching', 'levels', 'of', 'rigomortis', 'and', 'the', 'actingwellhmmm', 'br', 'br', 'if', 'one', 'is', 'a', 'takashi', 'fan', 'youll', 'see', 'it', 'regardless', 'to', 'peak', 'your', 'interests', 'it', 'lacks', 'any', 'originality', 'see', 'the', 'neverending', 'story', 'or', 'any', 'character', 'development', 'from', 'the', 'lead', 'character', 'in', 'the', 'face', 'of', 'conflict', 'other', 'then', 'a', 'quite', 'superficial', 'one', 'br', 'br', 'as', 'it', 'has', 'been', 'pointed', 'out', 'this', 'is', 'the', 'first', 'film', 'miike', 'has', 'been', 'credited', 'with', 'cowriting', 'but', 'that', 'doesnt', 'mean', 'much', 'as', 'non', 'of', 'what', 'wed', 'hope', 'would', 'be', 'miikes', 'personality', 'would', 'spill', 'over', 'into', 'the', 'screen', 'all', 'we', 'get', 'are', 'some', 'of', 'the', 'token', 'miike', 'shots', 'vis', 'the', 'director', 'of', 'photographybr', 'br', 'the', 'movie', 'had', 'the', 'potential', 'to', 'be', 'something', 'great', 'the', 'premise', 'is', 'not', 'a', 'difficult', 'one', 'to', 'run', 'wild', 'with', 'but', 'this', 'one', 'seemed', 'to', 'have', 'been', 'run', 'into', 'the', 'groundbr', 'br', 'my', 'suggestion', 'is', 'if', 'youre', 'just', 'getting', 'into', 'miike', 'is', 'go', 'with', 'some', 'of', 'the', 'standards', 'like', 'gozu', 'ichi', 'and', 'audition', 'then', 'movie', 'into', 'his', 'works', 'like', 'blues', 'harp', 'fudoh', 'rainy', 'dog', 'bird', 'people', 'of', 'china', '<END>'], ['<START>', 'uninspired', 'direction', 'leaves', 'a', 'decent', 'cast', 'stranded', 'in', 'a', 'handsome', 'but', 'bland', 'adaptation', 'in', 'which', 'dialogue', 'seems', 'recited', 'rather', 'than', 'heartfelt', 'and', 'cash', 'strapped', 'appearances', 'by', 'the', 'ghosts', 'fail', 'to', 'round', 'up', 'any', 'sense', 'of', 'awe', 'or', 'magic', 'edward', 'woodward', 'as', 'the', 'ghost', 'of', 'christmas', 'present', 'wobbles', 'around', 'on', 'stilts', 'and', 'seems', 'to', 'be', 'doing', 'an', 'impression', 'of', 'bernard', 'cribbins', 'as', 'scrooge', 'george', 'c', 'scott', 'is', 'too', 'wry', 'and', 'he', 'never', 'seems', 'to', 'truly', 'believe', 'in', 'it', 'which', 'robs', 'his', 'performance', 'of', 'its', 'effect', 'the', 'scenes', 'in', 'which', 'hes', 'shown', 'his', 'past', 'have', 'as', 'much', 'impact', 'as', 'if', 'he', 'was', 'halfheartedly', 'flicking', 'through', 'his', 'family', 'album', 'no', 'one', 'else', 'seems', 'to', 'be', 'putting', 'any', 'effort', 'in', 'except', 'frank', 'finlay', 'who', 'chronically', 'overacts', '<END>'], ['<START>', 'i', 'was', 'sooooo', 'excited', 'to', 'see', 'this', 'movie', 'after', 'finally', 'reading', 'the', 'book', 'this', 'week', 'my', '13', 'year', 'old', 'son', 'was', 'looking', 'forward', 'to', 'it', 'too', 'i', 'rented', 'it', 'and', 'snuggled', 'down', 'to', 'enjoy', 'a', 'classic', 'holiday', 'story', 'brought', 'to', 'life', 'on', 'screenbr', 'br', 'boy', 'was', 'i', 'disappointed', 'this', 'movie', 'veered', 'off', 'from', 'the', 'book', 'more', 'times', 'than', 'is', 'forgivable', 'george', 'c', 'scott', 'is', 'an', 'excellent', 'actor', 'but', 'in', 'this', 'it', 'seemed', 'that', 'he', 'was', 'fully', 'into', 'character', 'only', 'about', '20', 'of', 'the', 'time', 'the', 'rest', 'of', 'the', 'time', 'he', 'was', 'quite', 'flatbr', 'br', 'i', 'realize', 'that', 'this', 'was', 'made', 'in', '84', 'precg', 'effects', 'for', 'the', 'most', 'part', 'but', 'it', 'looked', 'to', 'be', 'very', 'bmovie', 'quality', 'especially', 'the', 'encounter', 'with', 'jacob', 'marleybr', 'br', 'the', 'biggest', 'disappointment', 'was', 'the', 'fact', 'that', 'they', 'left', 'out', 'one', 'of', 'the', 'most', 'moving', 'parts', 'of', 'the', 'story', 'when', 'the', 'spirit', 'of', 'christmas', 'present', 'takes', 'scrooge', 'on', 'the', 'whirlwind', 'tour', 'of', 'the', 'world', 'observing', 'people', 'in', 'the', 'bleakest', 'of', 'circumstances', 'still', 'having', 'the', 'light', 'and', 'love', 'of', 'christmastimebr', 'br', 'i', 'will', 'admit', 'that', 'mr', 'scott', 'did', 'a', 'good', 'job', 'with', 'the', 'reformed', 'scrooge', 'at', 'the', 'end', 'that', 'was', 'a', 'refreshing', 'portrayalbr', 'br', 'i', 'wish', 'that', 'bob', 'cratchit', 'had', 'been', 'portrayed', 'as', 'a', 'little', 'more', 'ragged', 'and', 'downtrodden', 'and', 'tiny', 'tim', 'oh', 'dont', 'even', 'get', 'me', 'started', 'on', 'bad', 'child', 'actors', '<END>'], ['<START>', 'having', 'seen', 'three', 'other', 'versions', 'of', 'the', 'same', 'film', 'i', 'am', 'afraid', 'for', 'me', 'this', 'is', 'by', 'far', 'the', 'weakest', 'primarily', 'due', 'to', 'scotts', 'rather', 'dull', 'and', 'leaden', 'performance', 'his', 'emotions', 'throughout', 'are', 'so', 'bland', 'it', 'makes', 'it', 'difficult', 'to', 'engage', 'in', 'the', 'film', 'alistair', 'sim', 'portrayed', 'the', 'role', 'infinitely', 'better', 'when', 'scrooge', 'was', 'at', 'his', 'meanest', 'you', 'dont', 'get', 'the', 'sense', 'scott', 'is', 'saying', 'the', 'dialogue', 'with', 'much', 'conviction', 'and', 'when', 'he', 'undergoes', 'his', 'metamorphosis', 'he', 'is', 'similarly', 'unconvincing', 'i', 'cannot', 'think', 'of', 'any', 'actors', 'in', 'this', 'film', 'who', 'match', 'those', 'from', 'the', 'alistair', 'sim', 'version', 'even', 'the', 'musical', 'version', 'and', 'frankly', 'the', 'muppets', 'take', 'on', 'this', 'are', 'better', 'executed', 'very', 'disappointing', '<END>'], ['<START>', 'saw', 'this', 'movie', 'in', 'my', 'english', 'class', 'this', 'afternoon', 'and', 'was', 'surprised', 'by', 'how', 'bad', 'this', 'version', 'was', 'dont', 'get', 'me', 'wrong', 'george', 'c', 'scott', 'was', 'terrific', 'as', 'scrooge', 'but', 'the', 'rest', 'of', 'the', 'cast', 'fails', 'so', 'very', 'badly', 'sometimes', 'i', 'couldnt', 'stop', 'laughing', 'at', 'the', 'stupid', 'acting', 'and', 'the', 'repeated', 'line', 'merry', 'christmas', 'to', 'everyone', 'other', 'times', 'i', 'almost', 'fell', 'asleepbr', 'br', 'the', 'movie', 'is', 'based', 'on', 'a', 'charles', 'dickens', 'short', 'story', 'about', 'a', 'rich', 'guy', 'who', 'dont', 'think', 'christmas', 'is', 'nothing', 'but', 'humbug', 'after', '30', 'minutes', 'the', 'rich', 'guy', 'is', 'visited', 'by', 'three', 'ghosts', 'who', 'persuade', 'him', 'to', 'celebrate', 'christmas', 'after', 'allbr', 'br', 'i', 'can', 'not', 'understand', 'how', 'this', 'movie', 'with', 'a', 'script', 'so', 'bad', 'it', 'must', 'have', 'been', 'written', 'in', 'five', 'minutes', 'can', 'be', 'so', 'wellrated', 'instead', 'of', 'this', 'piece', 'of', 'garbage', 'i', 'recommend', 'to', 'you', 'the', 'bill', 'murray', 'comedy', 'scrooged', 'that', 'at', 'least', 'was', 'funny', '<END>'], ['<START>', 'when', 'will', 'the', 'hurting', 'stop', 'i', 'never', 'want', 'to', 'see', 'another', 'version', 'of', 'a', 'christmas', 'carol', 'again', 'they', 'keep', 'on', 'making', 'movies', 'with', 'the', 'same', 'story', 'falling', 'over', 'each', 'other', 'in', 'trying', 'to', 'make', 'the', 'movie', 'better', 'then', 'the', 'rest', 'but', 'sadly', 'fail', 'to', 'do', 'so', 'as', 'this', 'is', 'not', 'a', 'good', 'story', 'moralistic', 'oldfashioned', 'conservative', 'happythinking', 'as', 'if', 'people', 'learn', 'the', 'numerous', 'different', 'versions', 'of', 'this', 'film', 'prove', 'that', 'we', 'dont', '<END>'], ['<START>', 'it', 'was', '930', 'pm', 'last', 'night', 'at', 'my', 'friends', 'camping', 'trailer', 'and', 'we', 'were', 'so', 'hyped', 'to', 'watch', 'south', 'park', 'a', 'new', 'episode', 'the', 'thing', 'is', 'in', 'my', 'country', 'south', 'park', 'airs', 'at', '1030', 'pm', 'and', 'we', 'decided', 'to', 'kill', 'time', 'by', 'watching', 'the', 'show', 'now', 'airing', 'father', 'of', 'the', 'pride', 'ill', 'start', 'by', 'saying', 'that', 'i', 'have', 'only', 'watched', 'to', 'episodes', 'the', 'first', 'time', 'i', 'watched', 'it', 'i', 'found', 'it', 'unfunny', 'and', 'crude', 'for', 'nothing', 'so', 'i', 'thought', 'holy', 'sht', 'i', 'have', 'a', 'football', 'game', 'early', 'tomorrow', 'so', 'i', 'have', 'to', 'stop', 'watching', 'stupid', 'cartoons', 'but', 'yesterday', 'i', 'tried', 'to', 'give', 'father', 'of', 'the', 'pride', 'a', 'second', 'chance', 'i', 'find', 'that', 'its', 'a', 'complete', 'ripoff', 'of', 'the', 'simpsons', 'only', 'replacing', 'yellow', 'human', 'characters', 'by', 'lions', 'insteadbr', 'br', 'the', 'second', 'thing', 'is', 'i', 'wonder', 'why', 'it', 'got', 'its', 'tv14', 'rating', 'i', 'find', 'the', 'simpsons', 'a', 'lot', 'more', 'vulgar', 'and', 'the', 'only', 'real', 'vulgarity', 'in', 'this', 'show', 'is', 'a', 'few', 'homosexual', 'unfunny', 'jokes', 'the', 'simpsons', 'is', 'also', 'a', 'lot', 'more', 'violent', 'halloween', 'specials', 'and', 'crude', 'i', 'also', 'heard', 'that', 'the', 'creator', 'of', 'the', 'series', 'has', 'also', 'directed', 'shrek', '2', 'well', 'ive', 'got', 'news', 'for', 'him', 'shrek', '2', 'was', 'way', 'better', 'and', 'i', 'think', 'he', 'stayed', 'too', 'much', 'in', 'the', 'family', 'thematic', 'however', 'i', 'must', 'admit', 'that', 'father', 'of', 'the', 'pride', 'did', 'make', 'me', 'smile', 'even', 'burst', 'out', 'laughing', 'once', 'three', 'or', 'four', 'timesbr', 'br', 'all', 'in', 'all', 'i', 'dont', 'mind', 'father', 'of', 'the', 'pride', 'i', 'dont', 'hate', 'it', 'but', 'i', 'dont', 'like', 'either', 'ive', 'seen', 'way', 'better', 'from', 'the', 'simpsonsbr', 'br', '3510', '<END>'], ['<START>', 'this', 'is', 'blatantly', 'a', 'futuristic', 'adaptation', 'of', 'jules', 'vernes', 'mysterious', 'island', 'the', 'sound', 'editing', 'is', 'pretty', 'bad', 'you', 'hear', 'the', 'dialogue', 'on', 'set', 'and', 'you', 'hear', 'the', 'voices', 'being', 'recorded', 'on', 'a', 'recording', 'booth', 'at', 'the', 'same', 'time', 'this', 'is', 'an', 'amateur', 'film', 'with', 'actors', 'from', 'boston', 'and', 'shot', 'around', 'new', 'hampshire', 'for', 'those', 'living', 'in', 'new', 'engalnd', 'and', 'who', 'is', 'reading', 'this', 'comment', 'will', 'be', 'wowed', 'with', 'a', 'capital', 'w', 'this', 'film', 'is', 'full', 'of', 'flaws', 'you', 'get', 'to', 'hear', 'the', 'directors', 'voice', 'giving', 'directions', 'and', 'giving', 'out', 'directions', 'to', 'the', 'actress', 'ok', 'now', 'stand', 'up', 'as', 'for', 'the', 'other', 'characters', 'there', 'is', 'this', 'guy', 'who', 'talks', 'with', 'his', 'mind', 'instead', 'of', 'his', 'voice', 'and', 'this', 'blue', 'alien', 'the', 'alien', 'guy', 'talks', 'with', 'a', 'deep', 'voice', 'when', 'he', 'is', 'yawning', 'or', 'grunting', 'when', 'he', 'is', 'fighting', 'you', 'hear', 'the', 'actors', 'voice', 'as', 'for', 'the', 'special', 'effects', 'man', 'this', 'was', 'brett', 'pipers', 'early', 'work', 'for', 'crying', 'out', 'loud', 'the', 'creatures', 'are', 'good', 'but', 'the', 'animation', 'is', 'jerky', 'really', 'jerky', 'sort', 'of', 'like', 'karl', 'zeman', 'animation', 'in', 'journey', 'to', 'beginning', 'of', 'time', '1955', 'the', 'special', 'effects', 'are', 'imaginative', 'thge', 'music', 'is', 'good', 'bottom', 'line', 'this', 'film', 'makes', 'equinox', 'or', 'planet', 'of', 'the', 'dinosaurs', 'look', 'like', 'a', 'ray', 'harryhausen', 'epic', 'did', 'you', 'know', 'mysterious', 'planet', 'was', 'a', 'home', 'movie', 'and', 'was', 'on', 'a', 'shoes', 'string', 'budget', 'a', 'must', 'watch', 'for', 'aspiring', 'film', 'makers', '<END>'], ['<START>', 'beyond', 'a', 'shadow', 'of', 'a', 'doubt', 'mysterious', 'planet', 'is', 'one', 'of', 'the', 'worst', 'movies', 'ever', 'made', 'yet', 'retains', 'an', 'affection', 'in', 'my', 'heart', 'because', 'the', 'poverty', 'of', 'its', 'special', 'effects', 'and', 'astoundingly', 'awful', 'sound', 'track', 'in', 'the', 'first', '15', 'minutes', 'and', 'to', 'be', 'honest', 'thats', 'all', 'you', 'need', 'to', 'see', 'combine', 'to', 'create', 'something', 'that', 'is', 'hilariously', 'sidesplittingbr', 'br', 'the', 'opening', 'scene', 'in', 'space', 'is', 'just', 'about', 'as', 'unfathomable', 'as', 'cinematography', 'gets', 'as', 'washingup', 'liquid', 'bottles', 'whiz', 'past', 'your', 'eyes', 'to', 'muffled', 'dialogue', 'before', 'youve', 'had', 'time', 'to', 'work', 'out', 'whether', 'its', 'you', 'whos', 'gone', 'mad', 'the', 'credits', 'roll', 'and', 'the', 'action', 'struggles', 'to', 'lifebr', 'br', 'and', 'aside', 'from', 'the', 'doubleheaded', 'plasticine', 'giant', 'snail', 'that', 'terrorises', 'our', 'heroes', 'you', 'also', 'get', 'the', 'added', 'double', 'bonus', 'of', 'having', 'both', 'the', 'original', 'actors', 'voices', 'and', 'the', 'dubbed', 'voices', 'at', 'the', 'same', 'time', 'pure', 'geniusbr', 'br', 'the', 'sad', 'thing', 'for', 'fans', 'of', 'this', 'kind', 'of', 'fare', 'is', 'that', 'ive', 'only', 'ever', 'seen', 'one', 'copy', 'so', 'the', 'chances', 'of', 'ever', 'seeing', 'it', 'yourself', 'is', 'highly', 'unlikely', 'perhaps', 'i', 'own', 'the', 'only', 'copy', 'in', 'existencebr', 'br', '', '<END>'], ['<START>', 'the', 'silent', 'onepanel', 'cartoon', 'henry', 'comes', 'to', 'fleischer', 'studios', 'billed', 'as', 'the', 'worlds', 'funniest', 'human', 'in', 'this', 'dull', 'little', 'cartoon', 'betty', 'long', 'past', 'her', 'prime', 'thanks', 'to', 'the', 'production', 'code', 'is', 'running', 'a', 'pet', 'shop', 'and', 'leaves', 'henry', 'in', 'charge', 'for', 'far', 'too', 'long', '', 'five', 'minutes', 'a', 'bore', '<END>'], ['<START>', 'william', 'russ', 'is', 'the', 'main', 'character', 'throughout', 'this', 'made', 'for', 'tv', 'movie', 'he', 'left', 'his', 'family', 'behind', 'to', 'only', 'reappear', 'and', 'begin', 'paying', 'off', 'his', 'debts', 'but', 'he', 'tries', 'to', 'keep', 'away', 'from', 'his', 'family', 'thats', 'where', 'peter', 'falk', 'colombo', 'comes', 'in', 'playing', 'several', 'different', 'roles', 'to', 'convince', 'him', 'to', 'come', 'homebr', 'br', 'the', 'story', 'is', 'average', 'and', 'they', 'actually', 'managed', 'to', 'get', 'a', 'former', 'star', 'peter', 'falk', 'and', 'use', 'him', 'to', 'a', 'fairly', 'nice', 'degree', 'but', 'william', 'russ', 'wasnt', 'truly', 'a', 'star', 'however', 'it', 'appears', 'his', 'acting', 'is', 'still', 'okbr', 'br', 'i', 'found', 'the', 'delivery', 'and', 'story', 'very', 'cheesy', 'in', 'how', 'everything', 'was', 'predictable', 'in', 'fact', 'the', 'last', '20', 'minutes', 'i', 'could', 'almost', 'dictate', 'word', 'for', 'word', 'before', 'it', 'happened', 'a', 'good', 'movie', 'should', 'never', 'be', 'like', 'thatbr', 'br', 'overall', 'it', 'was', 'a', 'subpar', 'movie', 'in', 'a', 'letter', 'grading', 'system', 'it', 'would', 'receive', 'a', 'd', '<END>'], ['<START>', 'from', 'a', 'poorly', 'contrived', 'plot', 'line', 'that', 'makes', 'almost', 'no', 'sense', 'to', 'bad', 'dialogue', 'and', 'disjointed', 'scenes', 'to', 'the', 'ultimate', 'downer', 'bad', 'acting', 'even', 'peter', 'falk', 'cant', 'find', 'his', 'way', 'finding', 'john', 'christmas', 'is', 'better', 'left', 'lost', 'ms', 'bertinellis', 'performance', 'is', 'without', 'depth', 'or', 'emotion', 'as', 'are', 'her', 'costars', 'william', 'russ', 'as', 'brother', 'hank', 'and', 'david', 'cubitt', 'as', 'love', 'interest', 'noah', 'jennifer', 'pisana', 'as', 'soccoro', 'the', 'daughter', 'of', 'single', 'dad', 'noah', 'is', 'almost', 'unbearable', 'to', 'watch', 'let', 'alone', 'listen', 'to', 'singing', 'but', 'who', 'can', 'blame', 'them', 'with', 'material', 'like', 'this', 'michael', 'j', 'murrays', 'script', 'is', 'juvenile', 'at', 'best', 'br', 'br', 'each', 'year', 'at', 'this', 'time', 'i', 'search', 'the', 'tv', 'guides', 'and', 'wait', 'anxiously', 'for', 'some', 'of', 'the', 'really', 'classic', 'christmas', 'and', 'inspirational', 'holiday', 'films', 'to', 'appear', 'on', 'the', 'small', 'screen', 'films', 'like', 'miracle', 'on', '34th', 'street', 'ernst', 'lubitschs', 'delightful', 'the', 'shop', 'around', 'the', 'corner', 'and', 'of', 'course', 'the', '1951', 'version', 'of', 'scrooge', 'theres', 'frank', 'capras', 'classics', 'its', 'a', 'wonderful', 'life', 'and', 'meet', 'john', 'doe', 'hey', 'forget', 'the', 'classics', 'what', 'about', 'home', 'alone', 'or', '', 'home', 'for', 'the', 'holidays', 'with', 'holly', 'hunter', 'and', 'a', 'great', 'performance', 'by', 'robert', 'downey', 'jr', 'br', 'br', 'my', 'present', 'to', 'you', 'is', 'by', 'way', 'of', 'advice', 'your', 'time', 'would', 'be', 'better', 'spent', 'searching', 'out', 'these', 'films', 'than', 'finding', 'finding', 'john', 'christmas', 'merry', 'christmas', '<END>'], ['<START>', 'in', 'director', 'sooraj', 'barjatyas', 'vivah20something', 'delhi', 'boy', 'shahid', 'kapur', 'finds', 'himself', 'smitten', 'by', 'the', 'demure', 'smalltown', 'girl', 'his', 'father', 'has', 'selected', 'for', 'him', 'to', 'marry', 'drawn', 'to', 'her', 'innocence', 'and', 'simplicity', 'shahid', 'agrees', 'to', 'the', 'marriage', 'barely', 'moments', 'after', 'hes', 'met', 'her', 'at', 'her', 'home', 'in', 'madhupur', 'and', 'the', 'young', 'lady', 'in', 'question', 'amrita', 'rao', 'seems', 'equally', 'floored', 'by', 'her', 'charming', 'suitor', 'the', 'marriage', 'is', 'fixed', 'for', 'six', 'months', 'later', 'and', 'the', 'couple', 'find', 'themselves', 'in', 'the', 'first', 'throes', 'of', 'young', 'budding', 'love', 'their', 'geographical', 'distance', 'notwithstanding', 'but', 'amrita', 'whos', 'been', 'raised', 'by', 'her', 'uncle', 'and', 'her', 'aunt', 'after', 'her', 'parents', 'death', 'is', 'struck', 'by', 'a', 'horrible', 'calamity', 'just', 'hours', 'before', 'the', 'marriage', 'and', 'then', 'its', 'up', 'to', 'shahid', 'to', 'play', 'the', 'honourable', 'lover', 'and', 'to', 'embrace', 'her', 'unconditionallymuch', 'in', 'the', 'same', 'vein', 'as', 'hum', 'aapke', 'hain', 'koun', 'and', 'hum', 'saath', 'saath', 'hain', 'barjatyas', 'new', 'film', 'vivah', 'too', 'is', 'on', 'one', 'level', 'a', 'family', 'drama', 'with', 'an', 'extremely', 'idealistic', 'premise', 'but', 'sadly', 'the', 'plot', 'of', 'this', 'new', 'film', 'comes', 'off', 'looking', 'way', 'too', 'outdated', 'even', 'more', 'farfetched', 'than', 'those', 'regressive', 'ekta', 'kapoor', 'soaps', 'and', 'the', 'problem', 'is', 'clear', '', 'you', 'just', 'cant', 'relate', 'to', 'such', 'squeakyclean', 'characters', 'who', 'dont', 'have', 'one', 'bad', 'bone', 'in', 'their', 'bodies', 'there', 'are', 'many', 'things', 'that', 'work', 'in', 'favour', 'of', 'and', 'against', 'hindi', 'films', 'and', 'timing', 'is', 'one', 'such', 'important', 'factor', 'twentyfive', 'years', 'ago', 'perhaps', 'the', 'plot', 'of', 'vivah', 'may', 'not', 'have', 'felt', 'like', 'such', 'a', 'stretch', 'but', 'today', 'it', 'just', 'seems', 'like', 'the', 'product', 'of', 'a', 'mind', 'stuck', 'in', 'a', 'time', 'warp', 'perhaps', 'the', 'films', 'only', 'saving', 'grace', 'is', 'the', 'fact', 'that', 'it', 'oozes', 'sincerity', 'from', 'start', 'to', 'finish', 'you', 'can', 'make', 'out', 'right', 'away', 'that', 'the', 'filmmakers', 'intention', 'is', 'not', 'to', 'deceive', 'judging', 'both', 'by', 'barjatyas', 'previous', 'films', 'and', 'by', 'closely', 'examining', 'this', 'new', 'one', 'you', 'can', 'safely', 'declare', 'that', 'barjatya', 'believes', 'in', 'a', 'perfect', 'world', 'he', 'believes', 'in', 'his', 'goodasgold', 'characters', 'he', 'believes', 'that', 'large', 'families', 'can', 'live', 'together', 'happily', 'under', 'the', 'same', 'roof', 'without', 'the', 'slightest', 'bumpsbut', 'alas', 'hes', 'unable', 'to', 'translate', 'his', 'vision', 'to', 'the', 'screen', 'its', 'difficult', 'to', 'overlook', 'how', 'onedimensional', 'his', 'protagonists', 'are', '', 'shahid', 'and', 'amrita', 'both', 'virtuous', 'and', 'virginal', '', 'i', 'mean', 'think', 'about', 'it', 'the', 'first', 'time', 'they', 'hold', 'hands', 'is', 'an', 'hour', 'and', 'twenty', 'minutes', 'into', 'the', 'film', 'barjatya', 'may', 'think', 'hes', 'returning', 'to', 'his', 'maine', 'pyar', 'kiya', 'roots', 'with', 'vivah', 'but', 'truth', 'is', 'that', 'the', 'reason', 'we', 'embraced', 'salman', 'and', 'bhagyashree', 'in', 'that', 'film', 'or', 'even', 'salman', 'and', 'madhuri', 'in', 'hum', 'aapke', 'hain', 'koun', 'is', 'because', 'they', 'had', 'such', 'fantastic', 'chemistry', 'because', 'although', 'they', 'were', 'created', 'out', 'of', 'the', 'same', 'mould', 'as', 'shahid', 'and', 'amrita', 'in', 'vivah', 'those', 'pairs', 'had', 'mischief', 'and', 'masti', 'shahid', 'and', 'amrita', 'are', 'just', 'insipid', 'and', 'boringfor', 'a', 'film', 'that', 'relies', 'so', 'heavily', 'on', 'music', 'to', 'narrate', 'its', 'story', 'the', 'filmmaker', 'chooses', 'a', 'string', 'of', '70sstyle', 'tunes', 'that', 'only', 'further', 'slacken', 'the', 'films', 'deadening', 'pace', 'but', 'if', 'i', 'had', 'to', 'choose', 'just', 'one', 'reason', 'to', 'explain', 'why', 'vivah', 'doesnt', 'work', 'for', 'me', 'its', 'because', 'im', 'not', 'sure', 'i', 'can', 'relate', 'to', 'any', 'of', 'the', 'characters', 'who', 'inhabit', 'barjatyas', 'story', 'to', 'some', 'perhaps', 'vivah', 'will', 'give', 'hope', 'that', 'a', 'perfect', 'world', 'like', 'this', 'is', 'actually', 'out', 'there', 'somewhere', 'but', 'im', 'a', 'little', 'cynical', 'i', 'guess', 'so', 'give', 'me', 'the', 'coquettish', 'madhuri', 'of', 'hum', 'aapke', 'hain', 'kaun', 'give', 'me', 'the', 'bratty', 'salman', 'of', 'maine', 'pyar', 'kiya', 'ill', 'even', 'take', 'that', 'mischievous', 'karisma', 'kapoor', 'of', 'hum', 'saath', 'saath', 'hain', 'but', 'save', 'me', 'from', 'these', 'dullards', 'you', 'know', 'some', 'marriages', 'arent', 'made', 'in', 'heaven', 'this', 'ones', 'vivah', '<END>'], ['<START>', 'i', 'never', 'like', 'to', 'comment', 'on', 'a', 'good', 'film', 'but', 'when', 'it', 'comes', 'to', 'a', 'bad', 'movie', 'i', 'gotta', 'come', 'really', 'hard', 'on', 'it', 'talking', 'about', 'vivah', 'this', 'guy', 'sooraj', 'badjatya', 'seems', 'to', 'have', 'completely', 'lost', 'it', 'after', 'success', 'of', 'hum', 'aapke', 'hain', 'kaun', 'he', 'thought', 'he', 'can', 'make', 'money', 'with', 'cheesy', 'wedding', 'videos', 'vivah', 'is', 'so', 'so', 'cheesy', 'that', 'badjatyas', 'have', 'left', 'johars', 'and', 'chopras', 'behindbr', 'br', 'there', 'was', 'not', 'a', 'single', 'moment', 'during', 'the', 'movie', 'where', 'i', 'can', 'say', 'oh', 'at', 'least', 'this', 'thing', 'is', 'good', 'aloknath', 'does', 'cliché', 'in', 'a', 'role', 'of', 'girls', 'father', 'shahid', 'kapoor', 'looks', 'fat', 'and', 'shahrukhed', 'amrita', 'rao', 'is', 'another', 'disaster', 'in', 'addition', 'to', 'ugly', 'looking', 'sets', 'bad', 'costumes', 'hackneyed', 'storyline', 'monstrous', 'stepmother', 'tryinghardtoact', 'actors', 'cacophonous', 'background', 'music', 'cheap', 'soundtracksbr', 'br', 'now', 'the', 'spoiler', 'im', 'warning', 'you', 'guys', 'that', 'as', 'happens', 'in', 'all', 'his', 'other', 'movies', 'after', 'a', 'calamitous', 'incidence', 'movie', 'ends', 'on', 'a', 'happy', 'note', '<END>'], ['<START>', 'i', 'wont', 'say', 'this', 'movie', 'was', 'bad', 'but', 'it', 'wasnt', 'good', 'either', 'i', 'expected', 'something', 'good', 'but', 'i', 'guess', 'hum', 'aapke', 'hain', 'kaun', 'was', 'much', 'better', 'than', 'this', 'this', 'was', 'completely', 'old', 'fashioned', 'at', 'every', 'stage', 'of', 'this', 'movie', 'i', 'hoped', 'for', 'some', 'twist', 'and', 'what', 'do', 'i', 'get', 'the', 'girl', 'gets', 'burned', 'and', 'wins', 'her', 'aunts', 'love', 'br', 'br', 'despite', 'of', 'being', 'engaged', 'they', 'have', 'to', 'take', 'permission', 'for', 'every', 'little', 'move', 'they', 'make', 'they', 'are', 'so', 'darn', 'shy', 'even', 'after', 'so', 'many', 'meetings', 'i', 'expected', 'the', 'aunt', 'to', 'be', 'much', 'more', 'brutal', 'than', 'that', 'all', 'she', 'did', 'was', 'crib', 'madly', 'br', 'br', 'hey', 'we', 'have', 'kids', 'too', 'but', 'we', 'dont', 'watch', 'them', 'and', 'have', 'tears', 'in', 'our', 'eyes', 'always', 'this', 'movie', 'is', 'a', 'dream', 'happy', 'family', 'one', 'cruel', 'woman', 'good', 'inlaws', 'and', 'a', 'man', 'who', 'loves', 'her', 'to', 'death', 'in', 'hahk', 'anupam', 'kher', 'was', 'the', 'poor', 'brides', 'father', 'and', 'now', 'its', 'vice', 'versa', 'and', 'i', 'somehow', 'knew', 'that', 'mohnish', 'behl', 'would', 'be', 'in', 'this', 'movie', 'anyway', 'i', 'believe', 'i', 'wasted', 'my', 'time', 'i', 'give', 'it', 'a', '210', '<END>'], ['<START>', 'a', 'cinderella', 'story', 'made', 'for', 'adults', 'who', 'live', 'in', 'dreamland', 'the', 'romance', 'is', 'very', 'unrealistic', 'fluttery', 'lovey', 'dovey', 'perfect', 'etc', 'the', 'cinderella', 'plot', 'till', 'the', 'very', 'end', 'and', 'shahid', 'kapoor', 'is', 'the', 'only', 'reason', 'for', 'my', 'stars', 'if', 'youre', 'looking', 'for', 'a', 'dreamy', 'romance', 'with', 'a', 'twist', 'this', 'is', 'definitely', 'youre', 'movie', 'but', 'for', 'the', 'rest', 'of', 'us', 'real', 'world', 'people', 'id', 'highly', 'recommend', 'saving', 'your', 'three', 'hour', 'watch', 'time', 'wake', 'up', 'peoplebr', 'br', 'four', 'out', 'of', 'the', 'five', 'people', 'that', 'saw', 'the', 'film', 'with', 'me', 'would', 'not', 'recommend', 'the', 'film', 'we', 'had', 'a', 'great', 'time', 'bashing', 'majority', 'of', 'the', 'unrealistic', 'scenes', 'maybe', 'im', 'missing', 'something', 'i', 'just', 'cant', 'believe', 'a', 'movie', 'like', 'this', 'can', 'beat', 'a', 'classic', 'like', 'hddcs', '<END>'], ['<START>', 'after', 'being', 'hugely', 'entertained', 'by', 'mr', 'brosnans', 'performance', 'as', 'a', 'cad', 'in', 'the', 'tailor', 'of', 'panama', 'which', 'i', 'rate', '1010', 'across', 'the', 'board', 'casting', 'acting', 'script', 'story', 'editing', 'pace', 'music', 'emotional', 'impact', 'etc', 'i', 'enthusiastically', 'anticipated', 'this', 'film', 'i', 'was', 'hugely', 'disappointed', 'it', 'is', 'a', 'script', 'reading', 'not', 'a', 'film', 'vulgar', 'for', 'the', 'sake', 'of', 'being', 'vulgar', 'bankrupt', 'in', 'every', 'way', 'that', 'the', 'tailor', 'of', 'panama', 'is', 'rich', 'and', 'satisfying', 'blame', 'it', 'on', 'the', 'screen', 'writing', 'and', 'directing', 'i', 'sat', 'in', 'the', 'theater', 'waiting', 'for', 'the', 'good', 'part', 'it', 'never', 'came', 'i', 'neither', 'laughed', 'nor', 'cried', 'although', 'one', 'line', 'of', 'dialog', 'did', 'make', 'me', 'smile', 'worth', '7', 'hardly', '<END>'], ['<START>', 'i', 'very', 'nearly', 'walked', 'out', 'but', 'id', 'paid', 'my', 'money', 'and', 'my', 'nearlyasdisgusted', 'friend', 'wanted', 'to', 'hold', 'out', 'after', 'the', 'endearing', 'wideeyed', 'innocence', 'of', 'a', 'new', 'hope', 'and', 'the', 'thrilling', 'sophistication', 'of', 'the', 'empire', 'strikes', 'back', 'i', 'remember', 'awaiting', 'return', 'of', 'the', 'jedi', 'with', 'almost', 'aching', 'anticipation', 'but', 'from', 'the', 'opening', 'scene', 'of', 'this', 'insultingly', 'commercial', 'sewage', 'i', 'was', 'bitterly', 'disappointed', 'and', 'enraged', 'at', 'lucas', 'he', 'should', 'have', 'been', 'ashamed', 'of', 'himself', 'but', 'this', 'abomination', 'undeniably', 'proves', 'that', 'he', 'doesnt', 'have', 'subatomic', 'particle', 'of', 'shame', 'in', 'his', 'cold', 'greedy', 'heart', 'episode', 'i', 'would', 'go', 'on', 'to', 'reinforce', 'this', 'fact', '', 'your', 'honor', 'i', 'call', 'jarjar', 'binks', 'but', 'please', 'issue', 'barf', 'bags', 'to', 'the', 'members', 'of', 'the', 'jury', 'firstbr', 'br', 'from', 'the', 'initial', 'raising', 'of', 'the', 'gate', 'at', 'jabbas', 'lair', 'this', 'film', 'was', 'nothing', 'more', 'than', 'a', 'twoplushour', 'commercial', 'for', 'as', 'many', 'licensable', 'profitmaking', 'action', 'figures', 'as', 'lucas', 'could', 'cram', 'into', 'it', '', 'the', 'piglike', 'guards', 'the', 'hokey', 'fleshpigtailed', 'flunky', 'that', 'vile', 'muppetpet', 'of', 'jabbas', 'the', 'new', 'and', 'recycled', 'cabaret', 'figures', 'the', 'monsters', 'etc', 'etc', 'ad', 'vomitum', 'then', 'there', 'were', 'the', 'detestably', 'cute', 'and', 'marketable', 'ewoks', 'pile', 'on', 'top', 'of', 'that', 'all', 'of', 'the', 'rebel', 'alliance', 'aliens', 'fifteen', 'seconds', 'each', 'onscreen', 'or', 'less', 'and', 'the', 'kiddies', 'just', 'gotta', 'have', 'one', 'for', 'their', 'collection', 'the', 'blatant', 'exploitative', 'financial', 'baiting', 'of', 'children', 'is', 'nauseatingbr', 'br', 'lucas', 'didnt', 'even', 'bother', 'to', 'come', 'up', 'with', 'a', 'new', 'plot', '', 'he', 'just', 'exhumed', 'the', 'death', 'star', 'from', 'a', 'new', 'hope', 'and', 'heaved', 'in', 'a', 'boatload', 'of', 'cheap', 'sentiment', 'what', 'an', 'appalling', 'slap', 'in', 'the', 'face', 'to', 'his', 'fans', 'i', 'cant', 'shake', 'the', 'notion', 'that', 'lucas', 'took', 'a', 'perverse', 'pleasure', 'in', 'inflicting', 'this', 'dreck', 'on', 'his', 'fans', 'ive', 'got', 'these', 'lemmings', 'hooked', 'so', 'bad', 'that', 'i', 'can', 'crank', 'out', 'the', 'worst', 'piece', 'of', 'stinking', 'putrid', 'garbage', 'that', 'i', 'could', 'dream', 'up', 'and', 'theyll', 'flock', 'to', 'the', 'theaters', 'to', 'scarf', 'it', 'up', 'plus', 'all', 'the', 'kiddies', 'will', 'whine', 'and', 'torture', 'their', 'parents', 'until', 'they', 'buy', 'the', 'brats', 'a', 'complete', 'collection', 'of', 'action', 'figures', 'of', 'every', 'single', 'incidental', 'undeveloped', 'cartoonish', 'caricature', 'that', 'i', 'stuffed', 'in', 'and', 'i', 'get', 'a', 'cut', 'from', 'every', 'single', 'one', 'itll', 'make', 'me', 'even', 'more', 'obscenely', 'richbr', 'br', 'there', 'may', 'have', 'been', 'a', 'paltry', 'partial', 'handful', 'of', 'redeeming', 'moments', 'in', 'this', 'miserable', 'ripoff', 'i', 'seem', 'to', 'recall', 'that', 'harrison', 'ford', 'managed', 'to', 'just', 'barely', 'keep', 'his', 'nose', 'above', 'the', 'surface', 'of', 'this', 'cesspool', 'but', 'whatever', 'tiny', 'few', 'bright', 'spots', 'there', 'may', 'be', 'are', 'massively', 'obliterated', 'by', 'the', 'offensive', 'commercialism', 'that', 'lucas', 'so', 'avariciously', 'embraced', 'in', 'this', 'total', 'absolute', 'sellout', 'to', 'profit', '<END>'], ['<START>', 'the', 'fine', 'cast', 'cannot', 'uplift', 'this', 'routine', 'tale', 'of', 'a', 'secretary', 'murdered', 'by', 'her', 'married', 'paramour', 'in', 'fact', 'there', 'are', 'more', 'questions', 'than', 'answers', 'in', 'this', 'onesided', 'tale', 'of', 'romance', 'and', 'murder', 'and', 'since', 'we', 'are', 'only', 'provided', 'with', 'the', 'prosecutions', 'side', 'none', 'of', 'these', 'questions', 'will', 'be', 'answered', 'this', 'is', 'the', 'type', 'of', 'fare', 'that', 'appeals', 'to', 'the', 'he', 'woman', 'man', 'hater', 'clubs', 'of', 'america', 'as', 'presented', 'it', 'is', 'the', 'tale', 'of', 'an', 'innocent', 'woman', 'who', 'just', 'happens', 'to', 'be', 'caught', 'up', 'in', 'a', 'romance', 'with', 'a', 'married', 'highprofile', 'attorney', 'is', 'it', 'possible', 'that', 'if', 'she', 'had', 'not', 'been', 'two', 'timing', 'her', 'boy', 'friend', 'and', 'having', 'an', 'affair', 'with', 'a', 'married', 'man', 'the', 'whole', 'nasty', 'murderous', 'sordid', 'incident', 'could', 'have', 'been', 'avoided', 'when', 'you', 'watch', 'this', 'dont', 'worry', 'about', 'going', 'to', 'the', 'fridge', 'you', 'wont', 'miss', 'anything', '<END>'], ['<START>', 'this', 'film', 'was', 'choppy', 'incoherent', 'and', 'contrived', 'it', 'was', 'also', 'an', 'extremely', 'meanspirited', 'portrayal', 'of', 'women', 'i', 'rented', 'it', 'because', 'it', 'was', 'listed', 'as', 'a', 'comedy', 'thats', 'a', 'stretch', 'and', 'because', 'the', 'cover', 'said', 'andie', 'mcdowell', 'was', 'acting', 'up', 'a', 'storm', 'in', 'it', 'she', 'wasnt', 'im', 'a', 'gal', 'i', 'watched', 'this', 'film', 'with', 'two', 'guys', 'and', 'we', 'spent', 'an', 'hour', 'afterwards', 'exclaiming', 'over', 'how', 'bad', 'it', 'wasbr', 'br', 'warning', 'plot', 'summary', 'below', 'rampant', 'spoilersbr', 'br', 'the', 'movie', 'starts', 'out', 'with', 'a', 'fairly', 'hackneyed', 'plot', 'about', 'an', 'older', 'woman', 'who', 'takes', 'up', 'with', 'a', 'younger', 'man', 'to', 'the', 'severe', 'disapproval', 'of', 'her', 'two', 'jealous', 'single', 'girlfriends', 'they', 'want', 'her', 'to', 'marry', 'a', 'boring', 'guy', 'their', 'own', 'age', 'who', 'is', 'kind', 'of', 'in', 'love', 'with', 'her', 'but', 'shes', 'so', 'happy', 'with', 'her', 'oversexed', 'puppy', 'that', 'youre', 'rooting', 'for', 'them', 'to', 'stick', 'it', 'out', 'and', 'sure', 'enough', 'she', 'decides', 'to', 'marry', 'the', 'guy', 'but', 'her', 'harpy', 'girlfriend', 'aided', 'by', 'the', 'wishywashy', 'one', 'sets', 'up', 'a', 'plot', 'to', 'trick', 'our', 'heroine', 'into', 'thinking', 'the', 'guy', 'is', 'cheating', 'on', 'her', 'it', 'works', 'she', 'has', 'a', 'fight', 'with', 'him', 'he', 'runs', 'out', 'of', 'the', 'house', 'and', 'is', 'crushed', 'by', 'a', 'truck', 'remember', 'the', 'movies', 'title', 'so', 'now', 'hes', 'dead', 'twothirds', 'of', 'the', 'way', 'through', 'the', 'film', 'and', 'although', 'our', 'heroine', 'is', 'a', 'school', 'headmistress', 'who', 'spends', 'her', 'time', 'watching', 'over', 'girls', 'she', 'apparently', 'forgot', 'to', 'use', 'birth', 'control', 'and', 'is', 'pregnantbr', 'br', 'shes', 'already', 'broken', 'off', 'relations', 'with', 'her', 'girlfriends', 'because', 'they', 'were', 'so', 'unsupportive', 'alone', 'and', 'pitiful', 'she', 'decides', 'to', 'marry', 'the', 'boring', 'guy', 'did', 'i', 'mention', 'that', 'the', 'boring', 'guy', 'who', 'kind', 'of', 'loves', 'her', 'is', 'a', 'minister', 'she', 'had', 'asked', 'him', 'to', 'marry', 'her', 'to', 'the', 'young', 'guy', 'nice', 'huh', 'but', 'now', 'she', 'tells', 'him', 'shell', 'marry', 'him', 'and', 'apparently', 'he', 'has', 'no', 'objections', 'to', 'being', 'dicked', 'around', 'in', 'this', 'fashion', 'but', 'her', 'girlfriends', 'rescue', 'her', 'at', 'the', 'altar', 'and', 'take', 'her', 'home', 'where', 'they', 'notquiteconfess', 'that', 'they', 'were', 'mostly', 'responsible', 'for', 'the', 'love', 'of', 'her', 'life', 'getting', 'smushed', 'she', 'has', 'the', 'kid', 'in', 'the', 'final', 'scene', 'they', 'leave', 'it', 'in', 'a', 'crib', 'inside', 'her', 'house', 'while', 'they', 'go', 'out', 'on', 'the', 'porch', 'to', 'drink', 'smoke', 'and', 'be', 'smug', 'i', 'kid', 'you', 'not', 'its', 'that', 'bad', 'i', 'left', 'out', 'the', 'part', 'about', 'the', 'cancer', 'redherring', 'and', 'the', 'harpys', 'ridiculous', 'lesbian', 'moment', '<END>']]\n",
            "Running Truncated SVD over 5880 words...\n",
            "Done.\n",
            "shape M_reduced: (5880, 2)\n",
            "word: movie, row_index: 3398\n",
            "word: book, row_index: 689\n",
            "word: mysterious, row_index: 3444\n",
            "word: story, row_index: 4930\n",
            "word: fascinating, row_index: 1916\n",
            "word: good, row_index: 2259\n",
            "word: interesting, row_index: 2742\n",
            "word: large, row_index: 2951\n",
            "word: massive, row_index: 3209\n",
            "word: huge, row_index: 2573\n"
          ]
        },
        {
          "output_type": "display_data",
          "data": {
            "text/plain": [
              "<Figure size 1000x500 with 1 Axes>"
            ],
            "image/png": "[encoded data removed]"
          },
          "metadata": {}
        }
      ],
      "source": [
        "# -----------------------------\n",
        "# Run This Cell to Produce Your Plot\n",
        "# ------------------------------\n",
        "imdb_corpus = read_corpus()\n",
        "M_co_occurrence, word2ind_co_occurrence = compute_co_occurrence_matrix(imdb_corpus)\n",
        "M_reduced_co_occurrence = reduce_to_k_dim(M_co_occurrence, k=2)\n",
        "\n",
        "# Rescale (normalize) the rows to make them each of unit-length\n",
        "M_lengths = np.linalg.norm(M_reduced_co_occurrence, axis=1)\n",
        "M_normalized = M_reduced_co_occurrence / M_lengths[:, np.newaxis] # broadcasting\n",
        "\n",
        "words = ['movie', 'book', 'mysterious', 'story', 'fascinating', 'good', 'interesting', 'large', 'massive', 'huge']\n",
        "\n",
        "plot_embeddings(M_normalized, word2ind_co_occurrence, words)"
      ]
    },
    {
      "cell_type": "markdown",
      "metadata": {
        "id": "RtOd40JTSSuE"
      },
      "source": [
        "**Verify that your figure matches \"question_1.5.png\" in the assignment zip. If not, use the figure in \"question_1.5.png\" to answer the next two questions.**"
      ]
    },
    {
      "cell_type": "markdown",
      "metadata": {
        "id": "ciXWGMvRSSuE"
      },
      "source": [
        "a. Find at least two groups of words that cluster together in 2-dimensional embedding space. Give an explanation for each cluster you observe."
      ]
    },
    {
      "cell_type": "markdown",
      "metadata": {
        "id": "fLU7o3HESSuF"
      },
      "source": [
        "#### <font color=\"red\">Write your answer here.</font>\n"
      ]
    },
    {
      "cell_type": "markdown",
      "metadata": {
        "id": "3H-tyA9RSSuF"
      },
      "source": [
        "b. What doesn't cluster together that you might think should have? Describe at least two examples."
      ]
    },
    {
      "cell_type": "markdown",
      "metadata": {
        "id": "3NG2j9J4SSuG"
      },
      "source": [
        "#### <font color=\"red\">Write your answer here.</font>"
      ]
    },
    {
      "cell_type": "markdown",
      "metadata": {
        "id": "_h0OzAaRSSuI"
      },
      "source": [
        "## Part 2: Prediction-Based Word Vectors (15 points)\n",
        "\n",
        "As discussed in class, more recently prediction-based word vectors have demonstrated better performance, such as word2vec and GloVe (which also utilizes the benefit of counts). Here, we shall explore the embeddings produced by GloVe. Please revisit the class notes and lecture slides for more details on the word2vec and GloVe algorithms. If you're feeling adventurous, challenge yourself and try reading [GloVe's original paper](https://nlp.stanford.edu/pubs/glove.pdf).\n",
        "\n",
        "Then run the following cells to load the GloVe vectors into memory. **Note**: If this is your first time to run these cells, i.e. download the embedding model, it will take a couple minutes to run. If you've run these cells before, rerunning them will load the model without redownloading it, which will take about 1 to 2 minutes."
      ]
    },
    {
      "cell_type": "code",
      "execution_count": 15,
      "metadata": {
        "colab": {
          "base_uri": "https://localhost:8080/"
        },
        "id": "l3kwvdksSSuI",
        "outputId": "88bc7928-29f6-47c3-e434-627d09c547ae"
      },
      "outputs": [
        {
          "output_type": "stream",
          "name": "stdout",
          "text": [
            "Loaded vocab size 400000\n"
          ]
        }
      ],
      "source": [
        "def load_embedding_model():\n",
        "    \"\"\" Load GloVe Vectors\n",
        "        Return:\n",
        "            wv_from_bin: All 400000 embeddings, each length 200\n",
        "    \"\"\"\n",
        "    import gensim.downloader as api\n",
        "    wv_from_bin = api.load(\"glove-wiki-gigaword-200\")\n",
        "    print(\"Loaded vocab size %i\" % len(list(wv_from_bin.index_to_key)))\n",
        "    return wv_from_bin\n",
        "wv_from_bin = load_embedding_model()"
      ]
    },
    {
      "cell_type": "markdown",
      "metadata": {
        "id": "egIeG1RTSSuK"
      },
      "source": [
        "#### Note: If you are receiving a \"reset by peer\" error, rerun the cell to restart the download."
      ]
    },
    {
      "cell_type": "markdown",
      "metadata": {
        "id": "rH9gWJWpSSuL"
      },
      "source": [
        "### Reducing dimensionality of Word Embeddings\n",
        "Let's directly compare the GloVe embeddings to those of the co-occurrence matrix. In order to avoid running out of memory, we will work with a sample of 40000 GloVe vectors instead.\n",
        "Run the following cells to:\n",
        "\n",
        "1. Put 40000 Glove vectors into a matrix M\n",
        "2. Run `reduce_to_k_dim` (your Truncated SVD function) to reduce the vectors from 200-dimensional to 2-dimensional."
      ]
    },
    {
      "cell_type": "code",
      "execution_count": 16,
      "metadata": {
        "id": "0PROUu_-SSuL"
      },
      "outputs": [],
      "source": [
        "def get_matrix_of_vectors(wv_from_bin, required_words):\n",
        "    \"\"\" Put the GloVe vectors into a matrix M.\n",
        "        Param:\n",
        "            wv_from_bin: KeyedVectors object; the 400000 GloVe vectors loaded from file\n",
        "        Return:\n",
        "            M: numpy matrix shape (num words, 200) containing the vectors\n",
        "            word2ind: dictionary mapping each word to its row number in M\n",
        "    \"\"\"\n",
        "    import random\n",
        "    words = list(wv_from_bin.index_to_key)\n",
        "    print(\"Shuffling words ...\")\n",
        "    random.seed(225)\n",
        "    random.shuffle(words)\n",
        "    print(\"Putting %i words into word2ind and matrix M...\" % len(words))\n",
        "    word2ind = {}\n",
        "    M = []\n",
        "    curInd = 0\n",
        "    for w in words:\n",
        "        try:\n",
        "            M.append(wv_from_bin.get_vector(w))\n",
        "            word2ind[w] = curInd\n",
        "            curInd += 1\n",
        "        except KeyError:\n",
        "            continue\n",
        "    for w in required_words:\n",
        "        if w in words:\n",
        "            continue\n",
        "        try:\n",
        "            M.append(wv_from_bin.get_vector(w))\n",
        "            word2ind[w] = curInd\n",
        "            curInd += 1\n",
        "        except KeyError:\n",
        "            continue\n",
        "    M = np.stack(M)\n",
        "    print(\"Done.\")\n",
        "    return M, word2ind"
      ]
    },
    {
      "cell_type": "code",
      "execution_count": 17,
      "metadata": {
        "colab": {
          "base_uri": "https://localhost:8080/"
        },
        "id": "cpgM0M-hSSuM",
        "outputId": "03892aaf-2661-475c-97b4-fd42eb4d402c"
      },
      "outputs": [
        {
          "output_type": "stream",
          "name": "stdout",
          "text": [
            "Shuffling words ...\n",
            "Putting 400000 words into word2ind and matrix M...\n",
            "Done.\n",
            "Running Truncated SVD over 400000 words...\n",
            "Done.\n"
          ]
        }
      ],
      "source": [
        "# -----------------------------------------------------------------\n",
        "# Run Cell to Reduce 200-Dimensional Word Embeddings to k Dimensions\n",
        "# Note: This should be quick to run\n",
        "# -----------------------------------------------------------------\n",
        "M, word2ind = get_matrix_of_vectors(wv_from_bin, words)\n",
        "M_reduced = reduce_to_k_dim(M, k=2)\n",
        "\n",
        "# Rescale (normalize) the rows to make them each of unit-length\n",
        "M_lengths = np.linalg.norm(M_reduced, axis=1)\n",
        "M_reduced_normalized = M_reduced / M_lengths[:, np.newaxis] # broadcasting"
      ]
    },
    {
      "cell_type": "markdown",
      "metadata": {
        "id": "8_46FYMJSSuN"
      },
      "source": [
        "**Note: If you are receiving out of memory issues on your local machine, try closing other applications to free more memory on your device. You may want to try restarting your machine so that you can free up extra memory. Then immediately run the jupyter notebook and see if you can load the word vectors properly. If you still have problems with loading the embeddings onto your local machine after this, please go to office hours or contact course staff.**"
      ]
    },
    {
      "cell_type": "markdown",
      "metadata": {
        "id": "zAFrU8ahSSuO"
      },
      "source": [
        "### Question 2.1: GloVe Plot Analysis [written] (3 points)\n",
        "\n",
        "Run the cell below to plot the 2D GloVe embeddings for `['movie', 'book', 'mysterious', 'story', 'fascinating', 'good', 'interesting', 'large', 'massive', 'huge']`."
      ]
    },
    {
      "cell_type": "code",
      "execution_count": 18,
      "metadata": {
        "colab": {
          "base_uri": "https://localhost:8080/",
          "height": 659
        },
        "id": "9kHRkjz6SSuO",
        "outputId": "b8360fca-b348-43cc-ea45-f568280cfc0c",
        "scrolled": true
      },
      "outputs": [
        {
          "output_type": "stream",
          "name": "stdout",
          "text": [
            "shape M_reduced: (400000, 2)\n",
            "word: movie, row_index: 119899\n",
            "word: book, row_index: 75241\n",
            "word: mysterious, row_index: 71482\n",
            "word: story, row_index: 356977\n",
            "word: fascinating, row_index: 213416\n",
            "word: good, row_index: 70756\n",
            "word: interesting, row_index: 273170\n",
            "word: large, row_index: 244983\n",
            "word: massive, row_index: 114114\n",
            "word: huge, row_index: 181840\n"
          ]
        },
        {
          "output_type": "display_data",
          "data": {
            "text/plain": [
              "<Figure size 1000x500 with 1 Axes>"
            ],
            "image/png": "[encoded data removed]"
          },
          "metadata": {}
        }
      ],
      "source": [
        "words = ['movie', 'book', 'mysterious', 'story', 'fascinating', 'good', 'interesting', 'large', 'massive', 'huge']\n",
        "\n",
        "plot_embeddings(M_reduced_normalized, word2ind, words)"
      ]
    },
    {
      "cell_type": "markdown",
      "metadata": {
        "id": "c6WZzkMZ1InQ"
      },
      "source": [
        "**Verify that your figure matches \"question_2.1.png\" in the assignment zip. If not, use the figure in \"question_2.1.png\" (and the figure in \"question_1.5.png\", if applicable) to answer the next two questions.**"
      ]
    },
    {
      "cell_type": "markdown",
      "metadata": {
        "id": "eOnrMZkzSSuP"
      },
      "source": [
        "a. What is one way the plot is different from the one generated earlier from the co-occurrence matrix? What is one way it's similar?"
      ]
    },
    {
      "cell_type": "markdown",
      "metadata": {
        "id": "5KC4PTQoSSuQ"
      },
      "source": [
        "#### <font color=\"red\">Write your answer here.</font>"
      ]
    },
    {
      "cell_type": "markdown",
      "metadata": {
        "id": "bNDY5puZSSuQ"
      },
      "source": [
        "b. Why might the GloVe plot (question_2.1.png) differ from the plot generated earlier from the co-occurrence matrix (question_1.5.png)?"
      ]
    },
    {
      "cell_type": "markdown",
      "metadata": {
        "id": "o-cWAvi8SSuR"
      },
      "source": [
        "#### <font color=\"red\">Write your answer here.</font>"
      ]
    },
    {
      "cell_type": "markdown",
      "metadata": {
        "id": "nA8oIbjjSSuS"
      },
      "source": [
        "### Cosine Similarity\n",
        "Now that we have word vectors, we need a way to quantify the similarity between individual words, according to these vectors. One such metric is cosine-similarity. We will be using this to find words that are \"close\" and \"far\" from one another.\n",
        "\n",
        "We can think of n-dimensional vectors as points in n-dimensional space. If we take this perspective [L1](http://mathworld.wolfram.com/L1-Norm.html) and [L2](http://mathworld.wolfram.com/L2-Norm.html) Distances help quantify the amount of space \"we must travel\" to get between these two points. Another approach is to examine the angle between two vectors. From trigonometry we know that:\n",
        "\n",
        "<img src=\"./imgs/inner_product.png\" width=20% style=\"float: center;\"></img>\n",
        "\n",
        "Instead of computing the actual angle, we can leave the similarity in terms of $similarity = cos(\\Theta)$. Formally the [Cosine Similarity](https://en.wikipedia.org/wiki/Cosine_similarity) $s$ between two vectors $p$ and $q$ is defined as:\n",
        "\n",
        "$$s = \\frac{p \\cdot q}{||p|| ||q||}, \\textrm{ where } s \\in [-1, 1] $$"
      ]
    },
    {
      "cell_type": "markdown",
      "metadata": {
        "id": "sFfCOLUsSSuS"
      },
      "source": [
        "### Question 2.2: Words with Multiple Meanings (1.5 points) [code + written]\n",
        "Polysemes and homonyms are words that have more than one meaning (see this [wiki page](https://en.wikipedia.org/wiki/Polysemy) to learn more about the difference between polysemes and homonyms ). Find a word with *at least two different meanings* such that the top-10 most similar words (according to cosine similarity) contain related words from *both* meanings. For example, \"leaves\" has both \"go_away\" and \"a_structure_of_a_plant\" meaning in the top 10, and \"scoop\" has both \"handed_waffle_cone\" and \"lowdown\". You will probably need to try several polysemous or homonymic words before you find one.\n",
        "\n",
        "Please state the word you discover and the multiple meanings that occur in the top 10. Why do you think many of the polysemous or homonymic words you tried didn't work (i.e. the top-10 most similar words only contain **one** of the meanings of the words)?\n",
        "\n",
        "**Note**: You should use the `wv_from_bin.most_similar(word)` function to get the top 10 most similar words. This function ranks all other words in the vocabulary with respect to their cosine similarity to the given word. For further assistance, please check the __[GenSim documentation](https://radimrehurek.com/gensim/models/keyedvectors.html#gensim.models.keyedvectors.FastTextKeyedVectors.most_similar)__."
      ]
    },
    {
      "cell_type": "code",
      "execution_count": 19,
      "metadata": {
        "colab": {
          "base_uri": "https://localhost:8080/"
        },
        "id": "ZAr09U-xSSuT",
        "outputId": "9c445f3e-f7eb-40b9-b95e-3a9a1d188a8f"
      },
      "outputs": [
        {
          "output_type": "stream",
          "name": "stdout",
          "text": [
            "[('ends', 0.6128067970275879), ('leaf', 0.6027014255523682), ('stems', 0.5998532176017761), ('takes', 0.5902854204177856), ('leaving', 0.5761634707450867), ('grows', 0.5663397312164307), ('flowers', 0.5600922107696533), ('turns', 0.5536050796508789), ('leave', 0.5496848821640015), ('goes', 0.5434925556182861)]\n",
            "10\n",
            "[('scoops', 0.6437130570411682), ('spoon', 0.5459856390953064), ('scooped', 0.5319253206253052), ('slice', 0.5201053023338318), ('innside', 0.5154464244842529), ('cream', 0.4963828921318054), ('scooping', 0.49233871698379517), ('buckets', 0.4825914204120636), ('fatman', 0.4815135896205902), ('scrape', 0.4774448275566101)]\n",
            "10\n"
          ]
        }
      ],
      "source": [
        "# ------------------\n",
        "# Write your implementation here.\n",
        "words=[\"leaves\", \"scoop\"]\n",
        "for word in words:\n",
        "    similar_word=wv_from_bin.most_similar(word)\n",
        "    print(similar_word)\n",
        "    print(len(similar_word))\n",
        "# ------------------"
      ]
    },
    {
      "cell_type": "markdown",
      "metadata": {
        "id": "VdQ018tjSSuT"
      },
      "source": [
        "#### <font color=\"red\">Write your answer here.</font>"
      ]
    },
    {
      "cell_type": "markdown",
      "metadata": {
        "id": "VfeW-eK9SSuU"
      },
      "source": [
        "### Question 2.3: Synonyms & Antonyms (2 points) [code + written]\n",
        "\n",
        "When considering Cosine Similarity, it's often more convenient to think of Cosine Distance, which is simply 1 - Cosine Similarity.\n",
        "\n",
        "Find three words $(w_1,w_2,w_3)$ where $w_1$ and $w_2$ are synonyms and $w_1$ and $w_3$ are antonyms, but Cosine Distance $(w_1,w_3) <$ Cosine Distance $(w_1,w_2)$.\n",
        "\n",
        "As an example, $w_1$=\"happy\" is closer to $w_3$=\"sad\" than to $w_2$=\"cheerful\". Please find a different example that satisfies the above. Once you have found your example, please give a possible explanation for why this counter-intuitive result may have happened.\n",
        "\n",
        "You should use the the `wv_from_bin.distance(w1, w2)` function here in order to compute the cosine distance between two words. Please see the __[GenSim documentation](https://radimrehurek.com/gensim/models/keyedvectors.html#gensim.models.keyedvectors.FastTextKeyedVectors.distance)__ for further assistance."
      ]
    },
    {
      "cell_type": "code",
      "execution_count": 20,
      "metadata": {
        "colab": {
          "base_uri": "https://localhost:8080/"
        },
        "id": "bwlpPjpHSSuV",
        "outputId": "92862be2-d123-4ed1-aec5-c86dfd9da4f2"
      },
      "outputs": [
        {
          "output_type": "stream",
          "name": "stdout",
          "text": [
            "cosine distance: syn: 0.5172466933727264, ant: 0.4040136933326721 True \n"
          ]
        }
      ],
      "source": [
        "# ------------------\n",
        "# Write your implementation here.\n",
        "words=[\"happy\",\"cheerful\",\"sad\"]\n",
        "\n",
        "cosine_distance_syn=wv_from_bin.distance(words[0],words[1])\n",
        "cosine_distance_ant=wv_from_bin.distance(words[0],words[2])\n",
        "print(f\"cosine distance: syn: {cosine_distance_syn}, ant: {cosine_distance_ant} {cosine_distance_ant<cosine_distance_syn} \")\n",
        "\n",
        "# ------------------"
      ]
    },
    {
      "cell_type": "markdown",
      "metadata": {
        "id": "PeIHjTFMSSuV"
      },
      "source": [
        "#### <font color=\"red\">Write your answer here.</font>"
      ]
    },
    {
      "cell_type": "markdown",
      "metadata": {
        "id": "ZxIDq26zSSuW"
      },
      "source": [
        "### Question 2.4: Analogies with Word Vectors [written] (1.5 points)\n",
        "Word vectors have been shown to *sometimes* exhibit the ability to solve analogies.\n",
        "\n",
        "As an example, for the analogy \"man : grandfather :: woman : x\" (read: man is to grandfather as woman is to x), what is x?\n",
        "\n",
        "In the cell below, we show you how to use word vectors to find x using the `most_similar` function from the __[GenSim documentation](https://radimrehurek.com/gensim/models/keyedvectors.html#gensim.models.keyedvectors.KeyedVectors.most_similar)__. The function finds words that are most similar to the words in the `positive` list and most dissimilar from the words in the `negative` list (while omitting the input words, which are often the most similar; see [this paper](https://www.aclweb.org/anthology/N18-2039.pdf)). The answer to the analogy will have the highest cosine similarity (largest returned numerical value)."
      ]
    },
    {
      "cell_type": "code",
      "execution_count": 21,
      "metadata": {
        "colab": {
          "base_uri": "https://localhost:8080/"
        },
        "id": "u0pC7H4VSSuY",
        "outputId": "8015c1a6-786d-44c2-ab2d-37bcc51dbf37"
      },
      "outputs": [
        {
          "output_type": "stream",
          "name": "stdout",
          "text": [
            "[('grandmother', 0.7608445286750793),\n",
            " ('granddaughter', 0.7200808525085449),\n",
            " ('daughter', 0.7168302536010742),\n",
            " ('mother', 0.7151536345481873),\n",
            " ('niece', 0.7005682587623596),\n",
            " ('father', 0.6659887433052063),\n",
            " ('aunt', 0.6623408794403076),\n",
            " ('grandson', 0.6618767976760864),\n",
            " ('grandparents', 0.644661009311676),\n",
            " ('wife', 0.6445354223251343)]\n"
          ]
        }
      ],
      "source": [
        "# Run this cell to answer the analogy -- man : grandfather :: woman : x\n",
        "pprint.pprint(wv_from_bin.most_similar(positive=['woman', 'grandfather'], negative=['man']))"
      ]
    },
    {
      "cell_type": "markdown",
      "metadata": {
        "id": "XVv8I9WwSSuZ"
      },
      "source": [
        "Let $m$, $g$, $w$, and $x$ denote the word vectors for `man`, `grandfather`, `woman`, and the answer, respectively. Using **only** vectors $m$, $g$, $w$, and the vector arithmetic operators $+$ and $-$ in your answer, what is the expression in which we are maximizing cosine similarity with $x$?\n",
        "\n",
        "Hint: Recall that word vectors are simply multi-dimensional vectors that represent a word. It might help to draw out a 2D example using arbitrary locations of each vector. Where would `man` and `woman` lie in the coordinate plane relative to `grandfather` and the answer?"
      ]
    },
    {
      "cell_type": "markdown",
      "metadata": {
        "id": "KlUKBqtHSSuZ"
      },
      "source": [
        "#### <font color=\"red\">Write your answer here.</font>"
      ]
    },
    {
      "cell_type": "markdown",
      "metadata": {
        "id": "2rRgMca9SSua"
      },
      "source": [
        "### Question 2.5: Finding Analogies [code + written]  (1.5 points)\n",
        "a. For the previous example, it's clear that \"grandmother\" completes the analogy. But give an intuitive explanation as to why the `most_similar` function gives us words like \"granddaughter\", \"daughter\", or \"mother?"
      ]
    },
    {
      "cell_type": "markdown",
      "metadata": {
        "id": "WgYQXazQSSua"
      },
      "source": [
        "#### <font color=\"red\">Write your answer here.</font>"
      ]
    },
    {
      "cell_type": "markdown",
      "metadata": {
        "id": "p9aAUXEISSub"
      },
      "source": [
        "b. Find an example of analogy that holds according to these vectors (i.e. the intended word is ranked top). In your solution please state the full analogy in the form x:y :: a:b. If you believe the analogy is complicated, explain why the analogy holds in one or two sentences.\n",
        "\n",
        "**Note**: You may have to try many analogies to find one that works!"
      ]
    },
    {
      "cell_type": "code",
      "execution_count": 25,
      "metadata": {
        "id": "CRvYK2xifpq7"
      },
      "outputs": [],
      "source": [
        "# For example: x, y, a, b = (\"\", \"\", \"\", \"\")\n",
        "# ------------------\n",
        "# Write your implementation here.\n",
        "x, y, a, b = (\"man\", \"king\", \"woman\", \"queen\")\n",
        "\n",
        "# ------------------\n",
        "\n",
        "# Test the solution\n",
        "assert wv_from_bin.most_similar(positive=[a, y], negative=[x])[0][0] == b"
      ]
    },
    {
      "cell_type": "markdown",
      "metadata": {
        "id": "K3QlPqAwSSub"
      },
      "source": [
        "#### <font color=\"red\">Write your answer here.</font>"
      ]
    },
    {
      "cell_type": "markdown",
      "metadata": {
        "id": "SwgcEywwSSuc"
      },
      "source": [
        "### Question 2.6: Incorrect Analogy [code + written] (1.5 points)\n",
        "a. Below, we expect to see the intended analogy \"hand : glove :: foot : **sock**\", but we see an unexpected result instead. Give a potential reason as to why this particular analogy turned out the way it did?"
      ]
    },
    {
      "cell_type": "code",
      "execution_count": 22,
      "metadata": {
        "colab": {
          "base_uri": "https://localhost:8080/"
        },
        "id": "m-ykWoJoSSuc",
        "outputId": "af577167-896d-4196-87f6-e31fb34e7f48"
      },
      "outputs": [
        {
          "output_type": "stream",
          "name": "stdout",
          "text": [
            "[('45,000-square', 0.4922032654285431),\n",
            " ('15,000-square', 0.4649604558944702),\n",
            " ('10,000-square', 0.4544755816459656),\n",
            " ('6,000-square', 0.44975775480270386),\n",
            " ('3,500-square', 0.444133460521698),\n",
            " ('700-square', 0.44257497787475586),\n",
            " ('50,000-square', 0.4356396794319153),\n",
            " ('3,000-square', 0.43486514687538147),\n",
            " ('30,000-square', 0.4330596923828125),\n",
            " ('footed', 0.43236875534057617)]\n"
          ]
        }
      ],
      "source": [
        "pprint.pprint(wv_from_bin.most_similar(positive=['foot', 'glove'], negative=['hand']))"
      ]
    },
    {
      "cell_type": "markdown",
      "metadata": {
        "id": "zn4ruS8MSSud"
      },
      "source": [
        "#### <font color=\"red\">Write your answer here.</font>"
      ]
    },
    {
      "cell_type": "markdown",
      "metadata": {
        "id": "D1gHyZt0SSud"
      },
      "source": [
        "b. Find another example of analogy that does *not* hold according to these vectors. In your solution, state the intended analogy in the form x:y :: a:b, and state the **incorrect** value of b according to the word vectors (in the previous example, this would be **'45,000-square'**)."
      ]
    },
    {
      "cell_type": "code",
      "execution_count": 29,
      "metadata": {
        "id": "ms-DTC8_ftiA",
        "colab": {
          "base_uri": "https://localhost:8080/"
        },
        "outputId": "73fa2f86-65d1-466c-e7a4-acf893ac3723"
      },
      "outputs": [
        {
          "output_type": "stream",
          "name": "stdout",
          "text": [
            "[('worse', 0.7904375791549683),\n",
            " ('actually', 0.6759738922119141),\n",
            " ('things', 0.6420083045959473),\n",
            " ('because', 0.6380332112312317),\n",
            " ('getting', 0.626547634601593),\n",
            " ('harder', 0.6230919361114502),\n",
            " ('probably', 0.6195410490036011),\n",
            " (\"n't\", 0.6192646026611328),\n",
            " ('problems', 0.6180102229118347),\n",
            " ('much', 0.6165168881416321)]\n"
          ]
        }
      ],
      "source": [
        "# For example: x, y, a, b = (\"\", \"\", \"\", \"\")\n",
        "# ------------------\n",
        "# Write your implementation here.\n",
        "\n",
        "x, y, a, b = (\"good\", \"better\", \"bad\", \"worst\")\n",
        "# ------------------\n",
        "pprint.pprint(wv_from_bin.most_similar(positive=[a, y], negative=[x]))\n",
        "assert wv_from_bin.most_similar(positive=[a, y], negative=[x])[0][0] != b"
      ]
    },
    {
      "cell_type": "markdown",
      "metadata": {
        "id": "c4x0EHjeSSue"
      },
      "source": [
        "#### <font color=\"red\">Write your answer here.</font>"
      ]
    },
    {
      "cell_type": "markdown",
      "metadata": {
        "id": "yvlycXN-SSuf"
      },
      "source": [
        "### Question 2.7: Guided Analysis of Bias in Word Vectors [written] (1 point)\n",
        "\n",
        "It's important to be cognizant of the biases (gender, race, sexual orientation etc.) implicit in our word embeddings. Bias can be dangerous because it can reinforce stereotypes through applications that employ these models.\n",
        "\n",
        "Run the cell below, to examine (a) which terms are most similar to \"man\" and \"profession\" and most dissimilar to \"woman\" and (b) which terms are most similar to \"woman\" and \"profession\" and most dissimilar to \"man\". Point out the difference between the list of female-associated words and the list of male-associated words, and explain how it is reflecting gender bias."
      ]
    },
    {
      "cell_type": "code",
      "execution_count": 30,
      "metadata": {
        "colab": {
          "base_uri": "https://localhost:8080/"
        },
        "id": "XggWA4MhSSuf",
        "outputId": "7a3e02ad-ebaf-4f43-f90e-32fc5fc9b3bc"
      },
      "outputs": [
        {
          "output_type": "stream",
          "name": "stdout",
          "text": [
            "[('reputation', 0.5250176787376404),\n",
            " ('professions', 0.5178037881851196),\n",
            " ('skill', 0.49046966433525085),\n",
            " ('skills', 0.49005505442619324),\n",
            " ('ethic', 0.4897659420967102),\n",
            " ('business', 0.4875852167606354),\n",
            " ('respected', 0.485920250415802),\n",
            " ('practice', 0.482104629278183),\n",
            " ('regarded', 0.4778572618961334),\n",
            " ('life', 0.4760662019252777)]\n",
            "\n",
            "[('professions', 0.5957457423210144),\n",
            " ('practitioner', 0.49884122610092163),\n",
            " ('teaching', 0.48292139172554016),\n",
            " ('nursing', 0.48211804032325745),\n",
            " ('vocation', 0.4788965880870819),\n",
            " ('teacher', 0.47160351276397705),\n",
            " ('practicing', 0.46937814354896545),\n",
            " ('educator', 0.46524327993392944),\n",
            " ('physicians', 0.4628995358943939),\n",
            " ('professionals', 0.4601394236087799)]\n"
          ]
        }
      ],
      "source": [
        "# Run this cell\n",
        "# Here `positive` indicates the list of words to be similar to and `negative` indicates the list of words to be\n",
        "# most dissimilar from.\n",
        "\n",
        "pprint.pprint(wv_from_bin.most_similar(positive=['man', 'profession'], negative=['woman']))\n",
        "print()\n",
        "pprint.pprint(wv_from_bin.most_similar(positive=['woman', 'profession'], negative=['man']))"
      ]
    },
    {
      "cell_type": "markdown",
      "metadata": {
        "id": "x4g6KbsYSSuh"
      },
      "source": [
        "#### <font color=\"red\">Write your answer here.</font>"
      ]
    },
    {
      "cell_type": "markdown",
      "metadata": {
        "id": "LxJmnS6lSSui"
      },
      "source": [
        "### Question 2.8: Independent Analysis of Bias in Word Vectors [code + written]  (1 point)\n",
        "\n",
        "Use the `most_similar` function to find another pair of analogies that demonstrates some bias is exhibited by the vectors. Please briefly explain the example of bias that you discover."
      ]
    },
    {
      "cell_type": "code",
      "execution_count": 39,
      "metadata": {
        "colab": {
          "base_uri": "https://localhost:8080/"
        },
        "id": "PZoDheIfSSui",
        "outputId": "c903930d-ac9f-4f09-8e89-6b7f4d1d108b"
      },
      "outputs": [
        {
          "output_type": "stream",
          "name": "stdout",
          "text": [
            "[('charm', 0.5294546484947205),\n",
            " ('great', 0.5255903601646423),\n",
            " ('nature', 0.5149915218353271),\n",
            " ('perfect', 0.49912911653518677),\n",
            " ('real', 0.49423420429229736),\n",
            " ('natural', 0.49236369132995605),\n",
            " ('life', 0.48828962445259094),\n",
            " ('good', 0.4873884320259094),\n",
            " ('sense', 0.4842359125614166),\n",
            " ('mind', 0.48228588700294495)]\n",
            "\n",
            "[('beautiful', 0.5614375472068787),\n",
            " ('her', 0.5034982562065125),\n",
            " ('pageants', 0.5023706555366516),\n",
            " ('salon', 0.5019980669021606),\n",
            " ('she', 0.495121568441391),\n",
            " ('women', 0.493356853723526),\n",
            " ('pageant', 0.49317800998687744),\n",
            " ('girl', 0.49275603890419006),\n",
            " ('glamour', 0.47752588987350464),\n",
            " ('actress', 0.4712526798248291)]\n",
            "\n",
            "[('emotions', 0.5983694791793823),\n",
            " ('passion', 0.5466556549072266),\n",
            " ('sense', 0.5229476690292358),\n",
            " ('emotional', 0.5136566162109375),\n",
            " ('excitement', 0.5050309896469116),\n",
            " ('mind', 0.5013147592544556),\n",
            " ('visceral', 0.4933265149593353),\n",
            " ('empathy', 0.48468390107154846),\n",
            " ('enthusiasm', 0.48392820358276367),\n",
            " ('sadness', 0.4819459617137909)]\n",
            "\n",
            "[('emotions', 0.6624002456665039),\n",
            " ('grief', 0.5809026956558228),\n",
            " ('emotional', 0.5685931444168091),\n",
            " ('sadness', 0.5641127228736877),\n",
            " ('anguish', 0.559867799282074),\n",
            " ('empathy', 0.5506919026374817),\n",
            " ('feelings', 0.5486668944358826),\n",
            " ('tears', 0.5251890420913696),\n",
            " ('excitement', 0.5160225629806519),\n",
            " ('joy', 0.5072627067565918)]\n",
            "\n",
            "[('leaders', 0.594796359539032),\n",
            " ('leadership', 0.5656561255455017),\n",
            " ('led', 0.5461341142654419),\n",
            " ('party', 0.5012627243995667),\n",
            " ('hero', 0.5005468726158142),\n",
            " ('opposition', 0.5000653266906738),\n",
            " ('behind', 0.49351024627685547),\n",
            " ('himself', 0.49071192741394043),\n",
            " ('followers', 0.48749345541000366),\n",
            " ('commander', 0.47566473484039307)]\n",
            "\n",
            "[('party', 0.5895429253578186),\n",
            " ('opposition', 0.5860390067100525),\n",
            " ('lawmaker', 0.5509670376777649),\n",
            " ('leaders', 0.549190104007721),\n",
            " ('socialist', 0.547894299030304),\n",
            " ('leadership', 0.5265938639640808),\n",
            " ('politician', 0.5238558053970337),\n",
            " ('activist', 0.5222507119178772),\n",
            " ('democratic', 0.5146673321723938),\n",
            " ('coalition', 0.49587902426719666)]\n"
          ]
        }
      ],
      "source": [
        "# ------------------\n",
        "# Write your implementation here.\n",
        "pprint.pprint(wv_from_bin.most_similar(positive=['man', 'beauty'], negative=['woman']))\n",
        "print()\n",
        "pprint.pprint(wv_from_bin.most_similar(positive=['woman', 'beauty'], negative=['man']))\n",
        "print()\n",
        "# ------------------\n",
        "pprint.pprint(wv_from_bin.most_similar(positive=['man', 'emotion'], negative=['woman']))\n",
        "print()\n",
        "pprint.pprint(wv_from_bin.most_similar(positive=['woman', 'emotion'], negative=['man']))\n",
        "print()\n",
        "\n",
        "pprint.pprint(wv_from_bin.most_similar(positive=['man', 'leader'], negative=['woman']))\n",
        "print()\n",
        "pprint.pprint(wv_from_bin.most_similar(positive=['woman', 'leader'], negative=['man']))"
      ]
    },
    {
      "cell_type": "markdown",
      "metadata": {
        "id": "TGOlmtJoSSuj"
      },
      "source": [
        "#### <font color=\"red\">Write your answer here.</font>"
      ]
    },
    {
      "cell_type": "markdown",
      "metadata": {
        "id": "eK2XVWzmSSuk"
      },
      "source": [
        "### Question 2.9: Thinking About Bias [written] (2 points)\n",
        "\n",
        "a. Give one explanation of how bias gets into the word vectors. Briefly describe a real-world example that demonstrates this source of bias. Your real-world example should be focused on word vectors, as opposed to bias in other AI systems (e.g., ChatGPT)."
      ]
    },
    {
      "cell_type": "markdown",
      "metadata": {
        "id": "19pM85fCSSuk"
      },
      "source": [
        "#### <font color=\"red\">Write your answer here.</font>"
      ]
    },
    {
      "cell_type": "markdown",
      "metadata": {
        "id": "ILYqJZ7ASSul"
      },
      "source": [
        "b. What is one method you can use to mitigate bias exhibited by word vectors? Briefly describe a real-world example that demonstrates this method."
      ]
    },
    {
      "cell_type": "markdown",
      "metadata": {
        "id": "dnJaAB7mSSul"
      },
      "source": [
        "\n",
        "#### <font color=\"red\">Write your answer here.</font>"
      ]
    },
    {
      "cell_type": "markdown",
      "metadata": {
        "id": "dzh3eEmZSSum"
      },
      "source": [
        "# <font color=\"blue\"> Submission Instructions</font>\n",
        "\n",
        "1. Click the Save button at the top of the Jupyter Notebook.\n",
        "2. Select Cell -> All Output -> Clear. This will clear all the outputs from all cells (but will keep the content of all cells).\n",
        "2. Select Cell -> Run All. This will run all the cells in order, and will take several minutes.\n",
        "3. Once you've rerun everything, select File -> Download as -> PDF via LaTeX (If you have trouble using \"PDF via LaTex\", you can also save the webpage as pdf. <font color='blue'> Make sure all your solutions especially the coding parts are displayed in the pdf</font>, it's okay if the provided codes get cut off because lines are not wrapped in code cells).\n",
        "4. Look at the PDF file and make sure all your solutions are there, displayed correctly. The PDF is the only thing your graders will see!\n",
        "5. Submit your PDF on Gradescope."
      ]
    }
  ],
  "metadata": {
    "anaconda-cloud": {},
    "colab": {
      "provenance": []
    },
    "kernelspec": {
      "display_name": "Python 3",
      "language": "python",
      "name": "python3"
    },
    "language_info": {
      "codemirror_mode": {
        "name": "ipython",
        "version": 3
      },
      "file_extension": ".py",
      "mimetype": "text/x-python",
      "name": "python",
      "nbconvert_exporter": "python",
      "pygments_lexer": "ipython3",
      "version": "3.10.8"
    },
    "widgets": {
      "application/vnd.jupyter.widget-state+json": {
        "cf7c3d8f4cb44e43bf23c08edbdb4ff4": {
          "model_module": "@jupyter-widgets/controls",
          "model_name": "HBoxModel",
          "model_module_version": "1.5.0",
          "state": {
            "_dom_classes": [],
            "_model_module": "@jupyter-widgets/controls",
            "_model_module_version": "1.5.0",
            "_model_name": "HBoxModel",
            "_view_count": null,
            "_view_module": "@jupyter-widgets/controls",
            "_view_module_version": "1.5.0",
            "_view_name": "HBoxView",
            "box_style": "",
            "children": [
              "IPY_MODEL_6dbcc0f94e6d4e839676153b0e7c27b2",
              "IPY_MODEL_a14304827ad74e22ae816608d5f656ba",
              "IPY_MODEL_939221d820bd4a87b86f3a5eef7f9b58"
            ],
            "layout": "IPY_MODEL_fc935db32bee4c6299aabf1587400f7b"
          }
        },
        "6dbcc0f94e6d4e839676153b0e7c27b2": {
          "model_module": "@jupyter-widgets/controls",
          "model_name": "HTMLModel",
          "model_module_version": "1.5.0",
          "state": {
            "_dom_classes": [],
            "_model_module": "@jupyter-widgets/controls",
            "_model_module_version": "1.5.0",
            "_model_name": "HTMLModel",
            "_view_count": null,
            "_view_module": "@jupyter-widgets/controls",
            "_view_module_version": "1.5.0",
            "_view_name": "HTMLView",
            "description": "",
            "description_tooltip": null,
            "layout": "IPY_MODEL_09faf11289b047f294765aa48d7e58fc",
            "placeholder": "​",
            "style": "IPY_MODEL_0985737bedb643d4bdf1a7d2be77e884",
            "value": "README.md: "
          }
        },
        "a14304827ad74e22ae816608d5f656ba": {
          "model_module": "@jupyter-widgets/controls",
          "model_name": "FloatProgressModel",
          "model_module_version": "1.5.0",
          "state": {
            "_dom_classes": [],
            "_model_module": "@jupyter-widgets/controls",
            "_model_module_version": "1.5.0",
            "_model_name": "FloatProgressModel",
            "_view_count": null,
            "_view_module": "@jupyter-widgets/controls",
            "_view_module_version": "1.5.0",
            "_view_name": "ProgressView",
            "bar_style": "success",
            "description": "",
            "description_tooltip": null,
            "layout": "IPY_MODEL_7b007e96c50f4e4b84fbe6ef01a45714",
            "max": 1,
            "min": 0,
            "orientation": "horizontal",
            "style": "IPY_MODEL_e28ba9399a634793a4d76fe07efc853e",
            "value": 1
          }
        },
        "939221d820bd4a87b86f3a5eef7f9b58": {
          "model_module": "@jupyter-widgets/controls",
          "model_name": "HTMLModel",
          "model_module_version": "1.5.0",
          "state": {
            "_dom_classes": [],
            "_model_module": "@jupyter-widgets/controls",
            "_model_module_version": "1.5.0",
            "_model_name": "HTMLModel",
            "_view_count": null,
            "_view_module": "@jupyter-widgets/controls",
            "_view_module_version": "1.5.0",
            "_view_name": "HTMLView",
            "description": "",
            "description_tooltip": null,
            "layout": "IPY_MODEL_24d111df139d4f5caef75ab06808798d",
            "placeholder": "​",
            "style": "IPY_MODEL_95f9143e630b45feac98a8946f81078d",
            "value": " 7.81k/? [00:00&lt;00:00, 455kB/s]"
          }
        },
        "fc935db32bee4c6299aabf1587400f7b": {
          "model_module": "@jupyter-widgets/base",
          "model_name": "LayoutModel",
          "model_module_version": "1.2.0",
          "state": {
            "_model_module": "@jupyter-widgets/base",
            "_model_module_version": "1.2.0",
            "_model_name": "LayoutModel",
            "_view_count": null,
            "_view_module": "@jupyter-widgets/base",
            "_view_module_version": "1.2.0",
            "_view_name": "LayoutView",
            "align_content": null,
            "align_items": null,
            "align_self": null,
            "border": null,
            "bottom": null,
            "display": null,
            "flex": null,
            "flex_flow": null,
            "grid_area": null,
            "grid_auto_columns": null,
            "grid_auto_flow": null,
            "grid_auto_rows": null,
            "grid_column": null,
            "grid_gap": null,
            "grid_row": null,
            "grid_template_areas": null,
            "grid_template_columns": null,
            "grid_template_rows": null,
            "height": null,
            "justify_content": null,
            "justify_items": null,
            "left": null,
            "margin": null,
            "max_height": null,
            "max_width": null,
            "min_height": null,
            "min_width": null,
            "object_fit": null,
            "object_position": null,
            "order": null,
            "overflow": null,
            "overflow_x": null,
            "overflow_y": null,
            "padding": null,
            "right": null,
            "top": null,
            "visibility": null,
            "width": null
          }
        },
        "09faf11289b047f294765aa48d7e58fc": {
          "model_module": "@jupyter-widgets/base",
          "model_name": "LayoutModel",
          "model_module_version": "1.2.0",
          "state": {
            "_model_module": "@jupyter-widgets/base",
            "_model_module_version": "1.2.0",
            "_model_name": "LayoutModel",
            "_view_count": null,
            "_view_module": "@jupyter-widgets/base",
            "_view_module_version": "1.2.0",
            "_view_name": "LayoutView",
            "align_content": null,
            "align_items": null,
            "align_self": null,
            "border": null,
            "bottom": null,
            "display": null,
            "flex": null,
            "flex_flow": null,
            "grid_area": null,
            "grid_auto_columns": null,
            "grid_auto_flow": null,
            "grid_auto_rows": null,
            "grid_column": null,
            "grid_gap": null,
            "grid_row": null,
            "grid_template_areas": null,
            "grid_template_columns": null,
            "grid_template_rows": null,
            "height": null,
            "justify_content": null,
            "justify_items": null,
            "left": null,
            "margin": null,
            "max_height": null,
            "max_width": null,
            "min_height": null,
            "min_width": null,
            "object_fit": null,
            "object_position": null,
            "order": null,
            "overflow": null,
            "overflow_x": null,
            "overflow_y": null,
            "padding": null,
            "right": null,
            "top": null,
            "visibility": null,
            "width": null
          }
        },
        "0985737bedb643d4bdf1a7d2be77e884": {
          "model_module": "@jupyter-widgets/controls",
          "model_name": "DescriptionStyleModel",
          "model_module_version": "1.5.0",
          "state": {
            "_model_module": "@jupyter-widgets/controls",
            "_model_module_version": "1.5.0",
            "_model_name": "DescriptionStyleModel",
            "_view_count": null,
            "_view_module": "@jupyter-widgets/base",
            "_view_module_version": "1.2.0",
            "_view_name": "StyleView",
            "description_width": ""
          }
        },
        "7b007e96c50f4e4b84fbe6ef01a45714": {
          "model_module": "@jupyter-widgets/base",
          "model_name": "LayoutModel",
          "model_module_version": "1.2.0",
          "state": {
            "_model_module": "@jupyter-widgets/base",
            "_model_module_version": "1.2.0",
            "_model_name": "LayoutModel",
            "_view_count": null,
            "_view_module": "@jupyter-widgets/base",
            "_view_module_version": "1.2.0",
            "_view_name": "LayoutView",
            "align_content": null,
            "align_items": null,
            "align_self": null,
            "border": null,
            "bottom": null,
            "display": null,
            "flex": null,
            "flex_flow": null,
            "grid_area": null,
            "grid_auto_columns": null,
            "grid_auto_flow": null,
            "grid_auto_rows": null,
            "grid_column": null,
            "grid_gap": null,
            "grid_row": null,
            "grid_template_areas": null,
            "grid_template_columns": null,
            "grid_template_rows": null,
            "height": null,
            "justify_content": null,
            "justify_items": null,
            "left": null,
            "margin": null,
            "max_height": null,
            "max_width": null,
            "min_height": null,
            "min_width": null,
            "object_fit": null,
            "object_position": null,
            "order": null,
            "overflow": null,
            "overflow_x": null,
            "overflow_y": null,
            "padding": null,
            "right": null,
            "top": null,
            "visibility": null,
            "width": "20px"
          }
        },
        "e28ba9399a634793a4d76fe07efc853e": {
          "model_module": "@jupyter-widgets/controls",
          "model_name": "ProgressStyleModel",
          "model_module_version": "1.5.0",
          "state": {
            "_model_module": "@jupyter-widgets/controls",
            "_model_module_version": "1.5.0",
            "_model_name": "ProgressStyleModel",
            "_view_count": null,
            "_view_module": "@jupyter-widgets/base",
            "_view_module_version": "1.2.0",
            "_view_name": "StyleView",
            "bar_color": null,
            "description_width": ""
          }
        },
        "24d111df139d4f5caef75ab06808798d": {
          "model_module": "@jupyter-widgets/base",
          "model_name": "LayoutModel",
          "model_module_version": "1.2.0",
          "state": {
            "_model_module": "@jupyter-widgets/base",
            "_model_module_version": "1.2.0",
            "_model_name": "LayoutModel",
            "_view_count": null,
            "_view_module": "@jupyter-widgets/base",
            "_view_module_version": "1.2.0",
            "_view_name": "LayoutView",
            "align_content": null,
            "align_items": null,
            "align_self": null,
            "border": null,
            "bottom": null,
            "display": null,
            "flex": null,
            "flex_flow": null,
            "grid_area": null,
            "grid_auto_columns": null,
            "grid_auto_flow": null,
            "grid_auto_rows": null,
            "grid_column": null,
            "grid_gap": null,
            "grid_row": null,
            "grid_template_areas": null,
            "grid_template_columns": null,
            "grid_template_rows": null,
            "height": null,
            "justify_content": null,
            "justify_items": null,
            "left": null,
            "margin": null,
            "max_height": null,
            "max_width": null,
            "min_height": null,
            "min_width": null,
            "object_fit": null,
            "object_position": null,
            "order": null,
            "overflow": null,
            "overflow_x": null,
            "overflow_y": null,
            "padding": null,
            "right": null,
            "top": null,
            "visibility": null,
            "width": null
          }
        },
        "95f9143e630b45feac98a8946f81078d": {
          "model_module": "@jupyter-widgets/controls",
          "model_name": "DescriptionStyleModel",
          "model_module_version": "1.5.0",
          "state": {
            "_model_module": "@jupyter-widgets/controls",
            "_model_module_version": "1.5.0",
            "_model_name": "DescriptionStyleModel",
            "_view_count": null,
            "_view_module": "@jupyter-widgets/base",
            "_view_module_version": "1.2.0",
            "_view_name": "StyleView",
            "description_width": ""
          }
        },
        "2b14a0c40f0644b39a774e071a5d054e": {
          "model_module": "@jupyter-widgets/controls",
          "model_name": "HBoxModel",
          "model_module_version": "1.5.0",
          "state": {
            "_dom_classes": [],
            "_model_module": "@jupyter-widgets/controls",
            "_model_module_version": "1.5.0",
            "_model_name": "HBoxModel",
            "_view_count": null,
            "_view_module": "@jupyter-widgets/controls",
            "_view_module_version": "1.5.0",
            "_view_name": "HBoxView",
            "box_style": "",
            "children": [
              "IPY_MODEL_6951b3060be1418584ecd90fe9cacddc",
              "IPY_MODEL_740788851cfb4b23823a9aeff48a29bf",
              "IPY_MODEL_e0624009fe8e4085b6dab07870dd4aff"
            ],
            "layout": "IPY_MODEL_36aac12489104390af5e40839161e3e6"
          }
        },
        "6951b3060be1418584ecd90fe9cacddc": {
          "model_module": "@jupyter-widgets/controls",
          "model_name": "HTMLModel",
          "model_module_version": "1.5.0",
          "state": {
            "_dom_classes": [],
            "_model_module": "@jupyter-widgets/controls",
            "_model_module_version": "1.5.0",
            "_model_name": "HTMLModel",
            "_view_count": null,
            "_view_module": "@jupyter-widgets/controls",
            "_view_module_version": "1.5.0",
            "_view_name": "HTMLView",
            "description": "",
            "description_tooltip": null,
            "layout": "IPY_MODEL_a1663ec20a3d45fd8e3ba9386e10a918",
            "placeholder": "​",
            "style": "IPY_MODEL_a1a36dfe96594658814f124a9fce9b0c",
            "value": "train-00000-of-00001.parquet: 100%"
          }
        },
        "740788851cfb4b23823a9aeff48a29bf": {
          "model_module": "@jupyter-widgets/controls",
          "model_name": "FloatProgressModel",
          "model_module_version": "1.5.0",
          "state": {
            "_dom_classes": [],
            "_model_module": "@jupyter-widgets/controls",
            "_model_module_version": "1.5.0",
            "_model_name": "FloatProgressModel",
            "_view_count": null,
            "_view_module": "@jupyter-widgets/controls",
            "_view_module_version": "1.5.0",
            "_view_name": "ProgressView",
            "bar_style": "success",
            "description": "",
            "description_tooltip": null,
            "layout": "IPY_MODEL_e4c65d57ddcb474287f62cf5c98cd4b5",
            "max": 20979968,
            "min": 0,
            "orientation": "horizontal",
            "style": "IPY_MODEL_7dc69ade70434b77995a04749ae17ccb",
            "value": 20979968
          }
        },
        "e0624009fe8e4085b6dab07870dd4aff": {
          "model_module": "@jupyter-widgets/controls",
          "model_name": "HTMLModel",
          "model_module_version": "1.5.0",
          "state": {
            "_dom_classes": [],
            "_model_module": "@jupyter-widgets/controls",
            "_model_module_version": "1.5.0",
            "_model_name": "HTMLModel",
            "_view_count": null,
            "_view_module": "@jupyter-widgets/controls",
            "_view_module_version": "1.5.0",
            "_view_name": "HTMLView",
            "description": "",
            "description_tooltip": null,
            "layout": "IPY_MODEL_54a24d03b6be41189d6f2ff5683ff03f",
            "placeholder": "​",
            "style": "IPY_MODEL_6de89effac504f7191dc0ccf1e402919",
            "value": " 21.0M/21.0M [00:00&lt;00:00, 49.8MB/s]"
          }
        },
        "36aac12489104390af5e40839161e3e6": {
          "model_module": "@jupyter-widgets/base",
          "model_name": "LayoutModel",
          "model_module_version": "1.2.0",
          "state": {
            "_model_module": "@jupyter-widgets/base",
            "_model_module_version": "1.2.0",
            "_model_name": "LayoutModel",
            "_view_count": null,
            "_view_module": "@jupyter-widgets/base",
            "_view_module_version": "1.2.0",
            "_view_name": "LayoutView",
            "align_content": null,
            "align_items": null,
            "align_self": null,
            "border": null,
            "bottom": null,
            "display": null,
            "flex": null,
            "flex_flow": null,
            "grid_area": null,
            "grid_auto_columns": null,
            "grid_auto_flow": null,
            "grid_auto_rows": null,
            "grid_column": null,
            "grid_gap": null,
            "grid_row": null,
            "grid_template_areas": null,
            "grid_template_columns": null,
            "grid_template_rows": null,
            "height": null,
            "justify_content": null,
            "justify_items": null,
            "left": null,
            "margin": null,
            "max_height": null,
            "max_width": null,
            "min_height": null,
            "min_width": null,
            "object_fit": null,
            "object_position": null,
            "order": null,
            "overflow": null,
            "overflow_x": null,
            "overflow_y": null,
            "padding": null,
            "right": null,
            "top": null,
            "visibility": null,
            "width": null
          }
        },
        "a1663ec20a3d45fd8e3ba9386e10a918": {
          "model_module": "@jupyter-widgets/base",
          "model_name": "LayoutModel",
          "model_module_version": "1.2.0",
          "state": {
            "_model_module": "@jupyter-widgets/base",
            "_model_module_version": "1.2.0",
            "_model_name": "LayoutModel",
            "_view_count": null,
            "_view_module": "@jupyter-widgets/base",
            "_view_module_version": "1.2.0",
            "_view_name": "LayoutView",
            "align_content": null,
            "align_items": null,
            "align_self": null,
            "border": null,
            "bottom": null,
            "display": null,
            "flex": null,
            "flex_flow": null,
            "grid_area": null,
            "grid_auto_columns": null,
            "grid_auto_flow": null,
            "grid_auto_rows": null,
            "grid_column": null,
            "grid_gap": null,
            "grid_row": null,
            "grid_template_areas": null,
            "grid_template_columns": null,
            "grid_template_rows": null,
            "height": null,
            "justify_content": null,
            "justify_items": null,
            "left": null,
            "margin": null,
            "max_height": null,
            "max_width": null,
            "min_height": null,
            "min_width": null,
            "object_fit": null,
            "object_position": null,
            "order": null,
            "overflow": null,
            "overflow_x": null,
            "overflow_y": null,
            "padding": null,
            "right": null,
            "top": null,
            "visibility": null,
            "width": null
          }
        },
        "a1a36dfe96594658814f124a9fce9b0c": {
          "model_module": "@jupyter-widgets/controls",
          "model_name": "DescriptionStyleModel",
          "model_module_version": "1.5.0",
          "state": {
            "_model_module": "@jupyter-widgets/controls",
            "_model_module_version": "1.5.0",
            "_model_name": "DescriptionStyleModel",
            "_view_count": null,
            "_view_module": "@jupyter-widgets/base",
            "_view_module_version": "1.2.0",
            "_view_name": "StyleView",
            "description_width": ""
          }
        },
        "e4c65d57ddcb474287f62cf5c98cd4b5": {
          "model_module": "@jupyter-widgets/base",
          "model_name": "LayoutModel",
          "model_module_version": "1.2.0",
          "state": {
            "_model_module": "@jupyter-widgets/base",
            "_model_module_version": "1.2.0",
            "_model_name": "LayoutModel",
            "_view_count": null,
            "_view_module": "@jupyter-widgets/base",
            "_view_module_version": "1.2.0",
            "_view_name": "LayoutView",
            "align_content": null,
            "align_items": null,
            "align_self": null,
            "border": null,
            "bottom": null,
            "display": null,
            "flex": null,
            "flex_flow": null,
            "grid_area": null,
            "grid_auto_columns": null,
            "grid_auto_flow": null,
            "grid_auto_rows": null,
            "grid_column": null,
            "grid_gap": null,
            "grid_row": null,
            "grid_template_areas": null,
            "grid_template_columns": null,
            "grid_template_rows": null,
            "height": null,
            "justify_content": null,
            "justify_items": null,
            "left": null,
            "margin": null,
            "max_height": null,
            "max_width": null,
            "min_height": null,
            "min_width": null,
            "object_fit": null,
            "object_position": null,
            "order": null,
            "overflow": null,
            "overflow_x": null,
            "overflow_y": null,
            "padding": null,
            "right": null,
            "top": null,
            "visibility": null,
            "width": null
          }
        },
        "7dc69ade70434b77995a04749ae17ccb": {
          "model_module": "@jupyter-widgets/controls",
          "model_name": "ProgressStyleModel",
          "model_module_version": "1.5.0",
          "state": {
            "_model_module": "@jupyter-widgets/controls",
            "_model_module_version": "1.5.0",
            "_model_name": "ProgressStyleModel",
            "_view_count": null,
            "_view_module": "@jupyter-widgets/base",
            "_view_module_version": "1.2.0",
            "_view_name": "StyleView",
            "bar_color": null,
            "description_width": ""
          }
        },
        "54a24d03b6be41189d6f2ff5683ff03f": {
          "model_module": "@jupyter-widgets/base",
          "model_name": "LayoutModel",
          "model_module_version": "1.2.0",
          "state": {
            "_model_module": "@jupyter-widgets/base",
            "_model_module_version": "1.2.0",
            "_model_name": "LayoutModel",
            "_view_count": null,
            "_view_module": "@jupyter-widgets/base",
            "_view_module_version": "1.2.0",
            "_view_name": "LayoutView",
            "align_content": null,
            "align_items": null,
            "align_self": null,
            "border": null,
            "bottom": null,
            "display": null,
            "flex": null,
            "flex_flow": null,
            "grid_area": null,
            "grid_auto_columns": null,
            "grid_auto_flow": null,
            "grid_auto_rows": null,
            "grid_column": null,
            "grid_gap": null,
            "grid_row": null,
            "grid_template_areas": null,
            "grid_template_columns": null,
            "grid_template_rows": null,
            "height": null,
            "justify_content": null,
            "justify_items": null,
            "left": null,
            "margin": null,
            "max_height": null,
            "max_width": null,
            "min_height": null,
            "min_width": null,
            "object_fit": null,
            "object_position": null,
            "order": null,
            "overflow": null,
            "overflow_x": null,
            "overflow_y": null,
            "padding": null,
            "right": null,
            "top": null,
            "visibility": null,
            "width": null
          }
        },
        "6de89effac504f7191dc0ccf1e402919": {
          "model_module": "@jupyter-widgets/controls",
          "model_name": "DescriptionStyleModel",
          "model_module_version": "1.5.0",
          "state": {
            "_model_module": "@jupyter-widgets/controls",
            "_model_module_version": "1.5.0",
            "_model_name": "DescriptionStyleModel",
            "_view_count": null,
            "_view_module": "@jupyter-widgets/base",
            "_view_module_version": "1.2.0",
            "_view_name": "StyleView",
            "description_width": ""
          }
        },
        "c6a58eb237bf498880109022158b8e28": {
          "model_module": "@jupyter-widgets/controls",
          "model_name": "HBoxModel",
          "model_module_version": "1.5.0",
          "state": {
            "_dom_classes": [],
            "_model_module": "@jupyter-widgets/controls",
            "_model_module_version": "1.5.0",
            "_model_name": "HBoxModel",
            "_view_count": null,
            "_view_module": "@jupyter-widgets/controls",
            "_view_module_version": "1.5.0",
            "_view_name": "HBoxView",
            "box_style": "",
            "children": [
              "IPY_MODEL_f11db810cfa049919566ec120b38567a",
              "IPY_MODEL_18dce283a45145d2b9f6d04045e8d4a4",
              "IPY_MODEL_675f3e5cc5f54b85895afd10a400b25d"
            ],
            "layout": "IPY_MODEL_655fa0f2cc1b4d66a9613cc07f985409"
          }
        },
        "f11db810cfa049919566ec120b38567a": {
          "model_module": "@jupyter-widgets/controls",
          "model_name": "HTMLModel",
          "model_module_version": "1.5.0",
          "state": {
            "_dom_classes": [],
            "_model_module": "@jupyter-widgets/controls",
            "_model_module_version": "1.5.0",
            "_model_name": "HTMLModel",
            "_view_count": null,
            "_view_module": "@jupyter-widgets/controls",
            "_view_module_version": "1.5.0",
            "_view_name": "HTMLView",
            "description": "",
            "description_tooltip": null,
            "layout": "IPY_MODEL_88d10a7bc1de40cba5038d293f6d91dd",
            "placeholder": "​",
            "style": "IPY_MODEL_ff1dcbe12ea64914a4af6fe392750097",
            "value": "test-00000-of-00001.parquet: 100%"
          }
        },
        "18dce283a45145d2b9f6d04045e8d4a4": {
          "model_module": "@jupyter-widgets/controls",
          "model_name": "FloatProgressModel",
          "model_module_version": "1.5.0",
          "state": {
            "_dom_classes": [],
            "_model_module": "@jupyter-widgets/controls",
            "_model_module_version": "1.5.0",
            "_model_name": "FloatProgressModel",
            "_view_count": null,
            "_view_module": "@jupyter-widgets/controls",
            "_view_module_version": "1.5.0",
            "_view_name": "ProgressView",
            "bar_style": "success",
            "description": "",
            "description_tooltip": null,
            "layout": "IPY_MODEL_8bf73d933831403287f278b4fa13f050",
            "max": 20470363,
            "min": 0,
            "orientation": "horizontal",
            "style": "IPY_MODEL_e252d6c8e45a4cc0826917df5bfcfe70",
            "value": 20470363
          }
        },
        "675f3e5cc5f54b85895afd10a400b25d": {
          "model_module": "@jupyter-widgets/controls",
          "model_name": "HTMLModel",
          "model_module_version": "1.5.0",
          "state": {
            "_dom_classes": [],
            "_model_module": "@jupyter-widgets/controls",
            "_model_module_version": "1.5.0",
            "_model_name": "HTMLModel",
            "_view_count": null,
            "_view_module": "@jupyter-widgets/controls",
            "_view_module_version": "1.5.0",
            "_view_name": "HTMLView",
            "description": "",
            "description_tooltip": null,
            "layout": "IPY_MODEL_eca23f05c4e64b7ca83c01784608413e",
            "placeholder": "​",
            "style": "IPY_MODEL_6014c194c14a42369cd8b7b825b7204f",
            "value": " 20.5M/20.5M [00:00&lt;00:00, 129MB/s]"
          }
        },
        "655fa0f2cc1b4d66a9613cc07f985409": {
          "model_module": "@jupyter-widgets/base",
          "model_name": "LayoutModel",
          "model_module_version": "1.2.0",
          "state": {
            "_model_module": "@jupyter-widgets/base",
            "_model_module_version": "1.2.0",
            "_model_name": "LayoutModel",
            "_view_count": null,
            "_view_module": "@jupyter-widgets/base",
            "_view_module_version": "1.2.0",
            "_view_name": "LayoutView",
            "align_content": null,
            "align_items": null,
            "align_self": null,
            "border": null,
            "bottom": null,
            "display": null,
            "flex": null,
            "flex_flow": null,
            "grid_area": null,
            "grid_auto_columns": null,
            "grid_auto_flow": null,
            "grid_auto_rows": null,
            "grid_column": null,
            "grid_gap": null,
            "grid_row": null,
            "grid_template_areas": null,
            "grid_template_columns": null,
            "grid_template_rows": null,
            "height": null,
            "justify_content": null,
            "justify_items": null,
            "left": null,
            "margin": null,
            "max_height": null,
            "max_width": null,
            "min_height": null,
            "min_width": null,
            "object_fit": null,
            "object_position": null,
            "order": null,
            "overflow": null,
            "overflow_x": null,
            "overflow_y": null,
            "padding": null,
            "right": null,
            "top": null,
            "visibility": null,
            "width": null
          }
        },
        "88d10a7bc1de40cba5038d293f6d91dd": {
          "model_module": "@jupyter-widgets/base",
          "model_name": "LayoutModel",
          "model_module_version": "1.2.0",
          "state": {
            "_model_module": "@jupyter-widgets/base",
            "_model_module_version": "1.2.0",
            "_model_name": "LayoutModel",
            "_view_count": null,
            "_view_module": "@jupyter-widgets/base",
            "_view_module_version": "1.2.0",
            "_view_name": "LayoutView",
            "align_content": null,
            "align_items": null,
            "align_self": null,
            "border": null,
            "bottom": null,
            "display": null,
            "flex": null,
            "flex_flow": null,
            "grid_area": null,
            "grid_auto_columns": null,
            "grid_auto_flow": null,
            "grid_auto_rows": null,
            "grid_column": null,
            "grid_gap": null,
            "grid_row": null,
            "grid_template_areas": null,
            "grid_template_columns": null,
            "grid_template_rows": null,
            "height": null,
            "justify_content": null,
            "justify_items": null,
            "left": null,
            "margin": null,
            "max_height": null,
            "max_width": null,
            "min_height": null,
            "min_width": null,
            "object_fit": null,
            "object_position": null,
            "order": null,
            "overflow": null,
            "overflow_x": null,
            "overflow_y": null,
            "padding": null,
            "right": null,
            "top": null,
            "visibility": null,
            "width": null
          }
        },
        "ff1dcbe12ea64914a4af6fe392750097": {
          "model_module": "@jupyter-widgets/controls",
          "model_name": "DescriptionStyleModel",
          "model_module_version": "1.5.0",
          "state": {
            "_model_module": "@jupyter-widgets/controls",
            "_model_module_version": "1.5.0",
            "_model_name": "DescriptionStyleModel",
            "_view_count": null,
            "_view_module": "@jupyter-widgets/base",
            "_view_module_version": "1.2.0",
            "_view_name": "StyleView",
            "description_width": ""
          }
        },
        "8bf73d933831403287f278b4fa13f050": {
          "model_module": "@jupyter-widgets/base",
          "model_name": "LayoutModel",
          "model_module_version": "1.2.0",
          "state": {
            "_model_module": "@jupyter-widgets/base",
            "_model_module_version": "1.2.0",
            "_model_name": "LayoutModel",
            "_view_count": null,
            "_view_module": "@jupyter-widgets/base",
            "_view_module_version": "1.2.0",
            "_view_name": "LayoutView",
            "align_content": null,
            "align_items": null,
            "align_self": null,
            "border": null,
            "bottom": null,
            "display": null,
            "flex": null,
            "flex_flow": null,
            "grid_area": null,
            "grid_auto_columns": null,
            "grid_auto_flow": null,
            "grid_auto_rows": null,
            "grid_column": null,
            "grid_gap": null,
            "grid_row": null,
            "grid_template_areas": null,
            "grid_template_columns": null,
            "grid_template_rows": null,
            "height": null,
            "justify_content": null,
            "justify_items": null,
            "left": null,
            "margin": null,
            "max_height": null,
            "max_width": null,
            "min_height": null,
            "min_width": null,
            "object_fit": null,
            "object_position": null,
            "order": null,
            "overflow": null,
            "overflow_x": null,
            "overflow_y": null,
            "padding": null,
            "right": null,
            "top": null,
            "visibility": null,
            "width": null
          }
        },
        "e252d6c8e45a4cc0826917df5bfcfe70": {
          "model_module": "@jupyter-widgets/controls",
          "model_name": "ProgressStyleModel",
          "model_module_version": "1.5.0",
          "state": {
            "_model_module": "@jupyter-widgets/controls",
            "_model_module_version": "1.5.0",
            "_model_name": "ProgressStyleModel",
            "_view_count": null,
            "_view_module": "@jupyter-widgets/base",
            "_view_module_version": "1.2.0",
            "_view_name": "StyleView",
            "bar_color": null,
            "description_width": ""
          }
        },
        "eca23f05c4e64b7ca83c01784608413e": {
          "model_module": "@jupyter-widgets/base",
          "model_name": "LayoutModel",
          "model_module_version": "1.2.0",
          "state": {
            "_model_module": "@jupyter-widgets/base",
            "_model_module_version": "1.2.0",
            "_model_name": "LayoutModel",
            "_view_count": null,
            "_view_module": "@jupyter-widgets/base",
            "_view_module_version": "1.2.0",
            "_view_name": "LayoutView",
            "align_content": null,
            "align_items": null,
            "align_self": null,
            "border": null,
            "bottom": null,
            "display": null,
            "flex": null,
            "flex_flow": null,
            "grid_area": null,
            "grid_auto_columns": null,
            "grid_auto_flow": null,
            "grid_auto_rows": null,
            "grid_column": null,
            "grid_gap": null,
            "grid_row": null,
            "grid_template_areas": null,
            "grid_template_columns": null,
            "grid_template_rows": null,
            "height": null,
            "justify_content": null,
            "justify_items": null,
            "left": null,
            "margin": null,
            "max_height": null,
            "max_width": null,
            "min_height": null,
            "min_width": null,
            "object_fit": null,
            "object_position": null,
            "order": null,
            "overflow": null,
            "overflow_x": null,
            "overflow_y": null,
            "padding": null,
            "right": null,
            "top": null,
            "visibility": null,
            "width": null
          }
        },
        "6014c194c14a42369cd8b7b825b7204f": {
          "model_module": "@jupyter-widgets/controls",
          "model_name": "DescriptionStyleModel",
          "model_module_version": "1.5.0",
          "state": {
            "_model_module": "@jupyter-widgets/controls",
            "_model_module_version": "1.5.0",
            "_model_name": "DescriptionStyleModel",
            "_view_count": null,
            "_view_module": "@jupyter-widgets/base",
            "_view_module_version": "1.2.0",
            "_view_name": "StyleView",
            "description_width": ""
          }
        },
        "e3e4a60cd6f8446e9a78e5391309b373": {
          "model_module": "@jupyter-widgets/controls",
          "model_name": "HBoxModel",
          "model_module_version": "1.5.0",
          "state": {
            "_dom_classes": [],
            "_model_module": "@jupyter-widgets/controls",
            "_model_module_version": "1.5.0",
            "_model_name": "HBoxModel",
            "_view_count": null,
            "_view_module": "@jupyter-widgets/controls",
            "_view_module_version": "1.5.0",
            "_view_name": "HBoxView",
            "box_style": "",
            "children": [
              "IPY_MODEL_17da207a943e49caaf0332306875c6d2",
              "IPY_MODEL_08b936a949744dcf88ff691dda5982ec",
              "IPY_MODEL_9f5db4b6b7f24340b69042853e9163bc"
            ],
            "layout": "IPY_MODEL_5b5bd67276384df59d26a82ace0eb00c"
          }
        },
        "17da207a943e49caaf0332306875c6d2": {
          "model_module": "@jupyter-widgets/controls",
          "model_name": "HTMLModel",
          "model_module_version": "1.5.0",
          "state": {
            "_dom_classes": [],
            "_model_module": "@jupyter-widgets/controls",
            "_model_module_version": "1.5.0",
            "_model_name": "HTMLModel",
            "_view_count": null,
            "_view_module": "@jupyter-widgets/controls",
            "_view_module_version": "1.5.0",
            "_view_name": "HTMLView",
            "description": "",
            "description_tooltip": null,
            "layout": "IPY_MODEL_61cb64bedff84bf29b9e28a4ad0db989",
            "placeholder": "​",
            "style": "IPY_MODEL_d4ac71cd68ad4877953ceb5bc97b4ed0",
            "value": "unsupervised-00000-of-00001.parquet: 100%"
          }
        },
        "08b936a949744dcf88ff691dda5982ec": {
          "model_module": "@jupyter-widgets/controls",
          "model_name": "FloatProgressModel",
          "model_module_version": "1.5.0",
          "state": {
            "_dom_classes": [],
            "_model_module": "@jupyter-widgets/controls",
            "_model_module_version": "1.5.0",
            "_model_name": "FloatProgressModel",
            "_view_count": null,
            "_view_module": "@jupyter-widgets/controls",
            "_view_module_version": "1.5.0",
            "_view_name": "ProgressView",
            "bar_style": "success",
            "description": "",
            "description_tooltip": null,
            "layout": "IPY_MODEL_27b90786c2684841aba784763b4d43e2",
            "max": 41996509,
            "min": 0,
            "orientation": "horizontal",
            "style": "IPY_MODEL_4a96a0de7efa4dfbb5fc031325ccbaca",
            "value": 41996509
          }
        },
        "9f5db4b6b7f24340b69042853e9163bc": {
          "model_module": "@jupyter-widgets/controls",
          "model_name": "HTMLModel",
          "model_module_version": "1.5.0",
          "state": {
            "_dom_classes": [],
            "_model_module": "@jupyter-widgets/controls",
            "_model_module_version": "1.5.0",
            "_model_name": "HTMLModel",
            "_view_count": null,
            "_view_module": "@jupyter-widgets/controls",
            "_view_module_version": "1.5.0",
            "_view_name": "HTMLView",
            "description": "",
            "description_tooltip": null,
            "layout": "IPY_MODEL_2ab010aa4c7b4ce3985783cf27d4e3d5",
            "placeholder": "​",
            "style": "IPY_MODEL_32e9a8ec635440dea5bd3b6b2a675f81",
            "value": " 42.0M/42.0M [00:00&lt;00:00, 171MB/s]"
          }
        },
        "5b5bd67276384df59d26a82ace0eb00c": {
          "model_module": "@jupyter-widgets/base",
          "model_name": "LayoutModel",
          "model_module_version": "1.2.0",
          "state": {
            "_model_module": "@jupyter-widgets/base",
            "_model_module_version": "1.2.0",
            "_model_name": "LayoutModel",
            "_view_count": null,
            "_view_module": "@jupyter-widgets/base",
            "_view_module_version": "1.2.0",
            "_view_name": "LayoutView",
            "align_content": null,
            "align_items": null,
            "align_self": null,
            "border": null,
            "bottom": null,
            "display": null,
            "flex": null,
            "flex_flow": null,
            "grid_area": null,
            "grid_auto_columns": null,
            "grid_auto_flow": null,
            "grid_auto_rows": null,
            "grid_column": null,
            "grid_gap": null,
            "grid_row": null,
            "grid_template_areas": null,
            "grid_template_columns": null,
            "grid_template_rows": null,
            "height": null,
            "justify_content": null,
            "justify_items": null,
            "left": null,
            "margin": null,
            "max_height": null,
            "max_width": null,
            "min_height": null,
            "min_width": null,
            "object_fit": null,
            "object_position": null,
            "order": null,
            "overflow": null,
            "overflow_x": null,
            "overflow_y": null,
            "padding": null,
            "right": null,
            "top": null,
            "visibility": null,
            "width": null
          }
        },
        "61cb64bedff84bf29b9e28a4ad0db989": {
          "model_module": "@jupyter-widgets/base",
          "model_name": "LayoutModel",
          "model_module_version": "1.2.0",
          "state": {
            "_model_module": "@jupyter-widgets/base",
            "_model_module_version": "1.2.0",
            "_model_name": "LayoutModel",
            "_view_count": null,
            "_view_module": "@jupyter-widgets/base",
            "_view_module_version": "1.2.0",
            "_view_name": "LayoutView",
            "align_content": null,
            "align_items": null,
            "align_self": null,
            "border": null,
            "bottom": null,
            "display": null,
            "flex": null,
            "flex_flow": null,
            "grid_area": null,
            "grid_auto_columns": null,
            "grid_auto_flow": null,
            "grid_auto_rows": null,
            "grid_column": null,
            "grid_gap": null,
            "grid_row": null,
            "grid_template_areas": null,
            "grid_template_columns": null,
            "grid_template_rows": null,
            "height": null,
            "justify_content": null,
            "justify_items": null,
            "left": null,
            "margin": null,
            "max_height": null,
            "max_width": null,
            "min_height": null,
            "min_width": null,
            "object_fit": null,
            "object_position": null,
            "order": null,
            "overflow": null,
            "overflow_x": null,
            "overflow_y": null,
            "padding": null,
            "right": null,
            "top": null,
            "visibility": null,
            "width": null
          }
        },
        "d4ac71cd68ad4877953ceb5bc97b4ed0": {
          "model_module": "@jupyter-widgets/controls",
          "model_name": "DescriptionStyleModel",
          "model_module_version": "1.5.0",
          "state": {
            "_model_module": "@jupyter-widgets/controls",
            "_model_module_version": "1.5.0",
            "_model_name": "DescriptionStyleModel",
            "_view_count": null,
            "_view_module": "@jupyter-widgets/base",
            "_view_module_version": "1.2.0",
            "_view_name": "StyleView",
            "description_width": ""
          }
        },
        "27b90786c2684841aba784763b4d43e2": {
          "model_module": "@jupyter-widgets/base",
          "model_name": "LayoutModel",
          "model_module_version": "1.2.0",
          "state": {
            "_model_module": "@jupyter-widgets/base",
            "_model_module_version": "1.2.0",
            "_model_name": "LayoutModel",
            "_view_count": null,
            "_view_module": "@jupyter-widgets/base",
            "_view_module_version": "1.2.0",
            "_view_name": "LayoutView",
            "align_content": null,
            "align_items": null,
            "align_self": null,
            "border": null,
            "bottom": null,
            "display": null,
            "flex": null,
            "flex_flow": null,
            "grid_area": null,
            "grid_auto_columns": null,
            "grid_auto_flow": null,
            "grid_auto_rows": null,
            "grid_column": null,
            "grid_gap": null,
            "grid_row": null,
            "grid_template_areas": null,
            "grid_template_columns": null,
            "grid_template_rows": null,
            "height": null,
            "justify_content": null,
            "justify_items": null,
            "left": null,
            "margin": null,
            "max_height": null,
            "max_width": null,
            "min_height": null,
            "min_width": null,
            "object_fit": null,
            "object_position": null,
            "order": null,
            "overflow": null,
            "overflow_x": null,
            "overflow_y": null,
            "padding": null,
            "right": null,
            "top": null,
            "visibility": null,
            "width": null
          }
        },
        "4a96a0de7efa4dfbb5fc031325ccbaca": {
          "model_module": "@jupyter-widgets/controls",
          "model_name": "ProgressStyleModel",
          "model_module_version": "1.5.0",
          "state": {
            "_model_module": "@jupyter-widgets/controls",
            "_model_module_version": "1.5.0",
            "_model_name": "ProgressStyleModel",
            "_view_count": null,
            "_view_module": "@jupyter-widgets/base",
            "_view_module_version": "1.2.0",
            "_view_name": "StyleView",
            "bar_color": null,
            "description_width": ""
          }
        },
        "2ab010aa4c7b4ce3985783cf27d4e3d5": {
          "model_module": "@jupyter-widgets/base",
          "model_name": "LayoutModel",
          "model_module_version": "1.2.0",
          "state": {
            "_model_module": "@jupyter-widgets/base",
            "_model_module_version": "1.2.0",
            "_model_name": "LayoutModel",
            "_view_count": null,
            "_view_module": "@jupyter-widgets/base",
            "_view_module_version": "1.2.0",
            "_view_name": "LayoutView",
            "align_content": null,
            "align_items": null,
            "align_self": null,
            "border": null,
            "bottom": null,
            "display": null,
            "flex": null,
            "flex_flow": null,
            "grid_area": null,
            "grid_auto_columns": null,
            "grid_auto_flow": null,
            "grid_auto_rows": null,
            "grid_column": null,
            "grid_gap": null,
            "grid_row": null,
            "grid_template_areas": null,
            "grid_template_columns": null,
            "grid_template_rows": null,
            "height": null,
            "justify_content": null,
            "justify_items": null,
            "left": null,
            "margin": null,
            "max_height": null,
            "max_width": null,
            "min_height": null,
            "min_width": null,
            "object_fit": null,
            "object_position": null,
            "order": null,
            "overflow": null,
            "overflow_x": null,
            "overflow_y": null,
            "padding": null,
            "right": null,
            "top": null,
            "visibility": null,
            "width": null
          }
        },
        "32e9a8ec635440dea5bd3b6b2a675f81": {
          "model_module": "@jupyter-widgets/controls",
          "model_name": "DescriptionStyleModel",
          "model_module_version": "1.5.0",
          "state": {
            "_model_module": "@jupyter-widgets/controls",
            "_model_module_version": "1.5.0",
            "_model_name": "DescriptionStyleModel",
            "_view_count": null,
            "_view_module": "@jupyter-widgets/base",
            "_view_module_version": "1.2.0",
            "_view_name": "StyleView",
            "description_width": ""
          }
        },
        "01ae92a149b546e18fa540ff1a3be69e": {
          "model_module": "@jupyter-widgets/controls",
          "model_name": "HBoxModel",
          "model_module_version": "1.5.0",
          "state": {
            "_dom_classes": [],
            "_model_module": "@jupyter-widgets/controls",
            "_model_module_version": "1.5.0",
            "_model_name": "HBoxModel",
            "_view_count": null,
            "_view_module": "@jupyter-widgets/controls",
            "_view_module_version": "1.5.0",
            "_view_name": "HBoxView",
            "box_style": "",
            "children": [
              "IPY_MODEL_a14373668a74426bb01b7259d35e6d5d",
              "IPY_MODEL_b6b6b7adb6ec4d23b0a00b61ddba2b7c",
              "IPY_MODEL_0ff4e5c3665242aaaad4ece27508efa6"
            ],
            "layout": "IPY_MODEL_c4ee073293ac4c039155c3e8badb2780"
          }
        },
        "a14373668a74426bb01b7259d35e6d5d": {
          "model_module": "@jupyter-widgets/controls",
          "model_name": "HTMLModel",
          "model_module_version": "1.5.0",
          "state": {
            "_dom_classes": [],
            "_model_module": "@jupyter-widgets/controls",
            "_model_module_version": "1.5.0",
            "_model_name": "HTMLModel",
            "_view_count": null,
            "_view_module": "@jupyter-widgets/controls",
            "_view_module_version": "1.5.0",
            "_view_name": "HTMLView",
            "description": "",
            "description_tooltip": null,
            "layout": "IPY_MODEL_02662179fc8945afbc07bb73caa7cbfa",
            "placeholder": "​",
            "style": "IPY_MODEL_fd34d5f806ed4e77b21e7b083e08590e",
            "value": "Generating train split: 100%"
          }
        },
        "b6b6b7adb6ec4d23b0a00b61ddba2b7c": {
          "model_module": "@jupyter-widgets/controls",
          "model_name": "FloatProgressModel",
          "model_module_version": "1.5.0",
          "state": {
            "_dom_classes": [],
            "_model_module": "@jupyter-widgets/controls",
            "_model_module_version": "1.5.0",
            "_model_name": "FloatProgressModel",
            "_view_count": null,
            "_view_module": "@jupyter-widgets/controls",
            "_view_module_version": "1.5.0",
            "_view_name": "ProgressView",
            "bar_style": "success",
            "description": "",
            "description_tooltip": null,
            "layout": "IPY_MODEL_69decf47cb86400cb0c5a5a7d7d270e4",
            "max": 25000,
            "min": 0,
            "orientation": "horizontal",
            "style": "IPY_MODEL_d72bd8b775934c219b743d9703aa62fc",
            "value": 25000
          }
        },
        "0ff4e5c3665242aaaad4ece27508efa6": {
          "model_module": "@jupyter-widgets/controls",
          "model_name": "HTMLModel",
          "model_module_version": "1.5.0",
          "state": {
            "_dom_classes": [],
            "_model_module": "@jupyter-widgets/controls",
            "_model_module_version": "1.5.0",
            "_model_name": "HTMLModel",
            "_view_count": null,
            "_view_module": "@jupyter-widgets/controls",
            "_view_module_version": "1.5.0",
            "_view_name": "HTMLView",
            "description": "",
            "description_tooltip": null,
            "layout": "IPY_MODEL_1b22353b488046e39ab56ce368ec33fc",
            "placeholder": "​",
            "style": "IPY_MODEL_536e4a35eb654ce6891258ad51656bfd",
            "value": " 25000/25000 [00:00&lt;00:00, 86377.50 examples/s]"
          }
        },
        "c4ee073293ac4c039155c3e8badb2780": {
          "model_module": "@jupyter-widgets/base",
          "model_name": "LayoutModel",
          "model_module_version": "1.2.0",
          "state": {
            "_model_module": "@jupyter-widgets/base",
            "_model_module_version": "1.2.0",
            "_model_name": "LayoutModel",
            "_view_count": null,
            "_view_module": "@jupyter-widgets/base",
            "_view_module_version": "1.2.0",
            "_view_name": "LayoutView",
            "align_content": null,
            "align_items": null,
            "align_self": null,
            "border": null,
            "bottom": null,
            "display": null,
            "flex": null,
            "flex_flow": null,
            "grid_area": null,
            "grid_auto_columns": null,
            "grid_auto_flow": null,
            "grid_auto_rows": null,
            "grid_column": null,
            "grid_gap": null,
            "grid_row": null,
            "grid_template_areas": null,
            "grid_template_columns": null,
            "grid_template_rows": null,
            "height": null,
            "justify_content": null,
            "justify_items": null,
            "left": null,
            "margin": null,
            "max_height": null,
            "max_width": null,
            "min_height": null,
            "min_width": null,
            "object_fit": null,
            "object_position": null,
            "order": null,
            "overflow": null,
            "overflow_x": null,
            "overflow_y": null,
            "padding": null,
            "right": null,
            "top": null,
            "visibility": null,
            "width": null
          }
        },
        "02662179fc8945afbc07bb73caa7cbfa": {
          "model_module": "@jupyter-widgets/base",
          "model_name": "LayoutModel",
          "model_module_version": "1.2.0",
          "state": {
            "_model_module": "@jupyter-widgets/base",
            "_model_module_version": "1.2.0",
            "_model_name": "LayoutModel",
            "_view_count": null,
            "_view_module": "@jupyter-widgets/base",
            "_view_module_version": "1.2.0",
            "_view_name": "LayoutView",
            "align_content": null,
            "align_items": null,
            "align_self": null,
            "border": null,
            "bottom": null,
            "display": null,
            "flex": null,
            "flex_flow": null,
            "grid_area": null,
            "grid_auto_columns": null,
            "grid_auto_flow": null,
            "grid_auto_rows": null,
            "grid_column": null,
            "grid_gap": null,
            "grid_row": null,
            "grid_template_areas": null,
            "grid_template_columns": null,
            "grid_template_rows": null,
            "height": null,
            "justify_content": null,
            "justify_items": null,
            "left": null,
            "margin": null,
            "max_height": null,
            "max_width": null,
            "min_height": null,
            "min_width": null,
            "object_fit": null,
            "object_position": null,
            "order": null,
            "overflow": null,
            "overflow_x": null,
            "overflow_y": null,
            "padding": null,
            "right": null,
            "top": null,
            "visibility": null,
            "width": null
          }
        },
        "fd34d5f806ed4e77b21e7b083e08590e": {
          "model_module": "@jupyter-widgets/controls",
          "model_name": "DescriptionStyleModel",
          "model_module_version": "1.5.0",
          "state": {
            "_model_module": "@jupyter-widgets/controls",
            "_model_module_version": "1.5.0",
            "_model_name": "DescriptionStyleModel",
            "_view_count": null,
            "_view_module": "@jupyter-widgets/base",
            "_view_module_version": "1.2.0",
            "_view_name": "StyleView",
            "description_width": ""
          }
        },
        "69decf47cb86400cb0c5a5a7d7d270e4": {
          "model_module": "@jupyter-widgets/base",
          "model_name": "LayoutModel",
          "model_module_version": "1.2.0",
          "state": {
            "_model_module": "@jupyter-widgets/base",
            "_model_module_version": "1.2.0",
            "_model_name": "LayoutModel",
            "_view_count": null,
            "_view_module": "@jupyter-widgets/base",
            "_view_module_version": "1.2.0",
            "_view_name": "LayoutView",
            "align_content": null,
            "align_items": null,
            "align_self": null,
            "border": null,
            "bottom": null,
            "display": null,
            "flex": null,
            "flex_flow": null,
            "grid_area": null,
            "grid_auto_columns": null,
            "grid_auto_flow": null,
            "grid_auto_rows": null,
            "grid_column": null,
            "grid_gap": null,
            "grid_row": null,
            "grid_template_areas": null,
            "grid_template_columns": null,
            "grid_template_rows": null,
            "height": null,
            "justify_content": null,
            "justify_items": null,
            "left": null,
            "margin": null,
            "max_height": null,
            "max_width": null,
            "min_height": null,
            "min_width": null,
            "object_fit": null,
            "object_position": null,
            "order": null,
            "overflow": null,
            "overflow_x": null,
            "overflow_y": null,
            "padding": null,
            "right": null,
            "top": null,
            "visibility": null,
            "width": null
          }
        },
        "d72bd8b775934c219b743d9703aa62fc": {
          "model_module": "@jupyter-widgets/controls",
          "model_name": "ProgressStyleModel",
          "model_module_version": "1.5.0",
          "state": {
            "_model_module": "@jupyter-widgets/controls",
            "_model_module_version": "1.5.0",
            "_model_name": "ProgressStyleModel",
            "_view_count": null,
            "_view_module": "@jupyter-widgets/base",
            "_view_module_version": "1.2.0",
            "_view_name": "StyleView",
            "bar_color": null,
            "description_width": ""
          }
        },
        "1b22353b488046e39ab56ce368ec33fc": {
          "model_module": "@jupyter-widgets/base",
          "model_name": "LayoutModel",
          "model_module_version": "1.2.0",
          "state": {
            "_model_module": "@jupyter-widgets/base",
            "_model_module_version": "1.2.0",
            "_model_name": "LayoutModel",
            "_view_count": null,
            "_view_module": "@jupyter-widgets/base",
            "_view_module_version": "1.2.0",
            "_view_name": "LayoutView",
            "align_content": null,
            "align_items": null,
            "align_self": null,
            "border": null,
            "bottom": null,
            "display": null,
            "flex": null,
            "flex_flow": null,
            "grid_area": null,
            "grid_auto_columns": null,
            "grid_auto_flow": null,
            "grid_auto_rows": null,
            "grid_column": null,
            "grid_gap": null,
            "grid_row": null,
            "grid_template_areas": null,
            "grid_template_columns": null,
            "grid_template_rows": null,
            "height": null,
            "justify_content": null,
            "justify_items": null,
            "left": null,
            "margin": null,
            "max_height": null,
            "max_width": null,
            "min_height": null,
            "min_width": null,
            "object_fit": null,
            "object_position": null,
            "order": null,
            "overflow": null,
            "overflow_x": null,
            "overflow_y": null,
            "padding": null,
            "right": null,
            "top": null,
            "visibility": null,
            "width": null
          }
        },
        "536e4a35eb654ce6891258ad51656bfd": {
          "model_module": "@jupyter-widgets/controls",
          "model_name": "DescriptionStyleModel",
          "model_module_version": "1.5.0",
          "state": {
            "_model_module": "@jupyter-widgets/controls",
            "_model_module_version": "1.5.0",
            "_model_name": "DescriptionStyleModel",
            "_view_count": null,
            "_view_module": "@jupyter-widgets/base",
            "_view_module_version": "1.2.0",
            "_view_name": "StyleView",
            "description_width": ""
          }
        },
        "0854539c3df94aa79d3c3f854de831f9": {
          "model_module": "@jupyter-widgets/controls",
          "model_name": "HBoxModel",
          "model_module_version": "1.5.0",
          "state": {
            "_dom_classes": [],
            "_model_module": "@jupyter-widgets/controls",
            "_model_module_version": "1.5.0",
            "_model_name": "HBoxModel",
            "_view_count": null,
            "_view_module": "@jupyter-widgets/controls",
            "_view_module_version": "1.5.0",
            "_view_name": "HBoxView",
            "box_style": "",
            "children": [
              "IPY_MODEL_96fa59d457744d54b6d1d60ac9eee67c",
              "IPY_MODEL_4d3b4e0eab2b4999b74b891bbec5050d",
              "IPY_MODEL_0e8975b705d14964a2403a8e2f925f80"
            ],
            "layout": "IPY_MODEL_57081c3a3a3d44aeab7b75f4dd391064"
          }
        },
        "96fa59d457744d54b6d1d60ac9eee67c": {
          "model_module": "@jupyter-widgets/controls",
          "model_name": "HTMLModel",
          "model_module_version": "1.5.0",
          "state": {
            "_dom_classes": [],
            "_model_module": "@jupyter-widgets/controls",
            "_model_module_version": "1.5.0",
            "_model_name": "HTMLModel",
            "_view_count": null,
            "_view_module": "@jupyter-widgets/controls",
            "_view_module_version": "1.5.0",
            "_view_name": "HTMLView",
            "description": "",
            "description_tooltip": null,
            "layout": "IPY_MODEL_e671a8094d27414ea0f8d127fbdbe211",
            "placeholder": "​",
            "style": "IPY_MODEL_ba087fcff25e4db9a99a2195666cd291",
            "value": "Generating test split: 100%"
          }
        },
        "4d3b4e0eab2b4999b74b891bbec5050d": {
          "model_module": "@jupyter-widgets/controls",
          "model_name": "FloatProgressModel",
          "model_module_version": "1.5.0",
          "state": {
            "_dom_classes": [],
            "_model_module": "@jupyter-widgets/controls",
            "_model_module_version": "1.5.0",
            "_model_name": "FloatProgressModel",
            "_view_count": null,
            "_view_module": "@jupyter-widgets/controls",
            "_view_module_version": "1.5.0",
            "_view_name": "ProgressView",
            "bar_style": "success",
            "description": "",
            "description_tooltip": null,
            "layout": "IPY_MODEL_472ad90453184c7588a6d09da1f47b25",
            "max": 25000,
            "min": 0,
            "orientation": "horizontal",
            "style": "IPY_MODEL_14c5a0043032487c97d75de09a5d47bf",
            "value": 25000
          }
        },
        "0e8975b705d14964a2403a8e2f925f80": {
          "model_module": "@jupyter-widgets/controls",
          "model_name": "HTMLModel",
          "model_module_version": "1.5.0",
          "state": {
            "_dom_classes": [],
            "_model_module": "@jupyter-widgets/controls",
            "_model_module_version": "1.5.0",
            "_model_name": "HTMLModel",
            "_view_count": null,
            "_view_module": "@jupyter-widgets/controls",
            "_view_module_version": "1.5.0",
            "_view_name": "HTMLView",
            "description": "",
            "description_tooltip": null,
            "layout": "IPY_MODEL_157fad9691c5422091cfd96ec8b07b96",
            "placeholder": "​",
            "style": "IPY_MODEL_3bca9869483a4855aa0e3de48ad92009",
            "value": " 25000/25000 [00:00&lt;00:00, 70231.51 examples/s]"
          }
        },
        "57081c3a3a3d44aeab7b75f4dd391064": {
          "model_module": "@jupyter-widgets/base",
          "model_name": "LayoutModel",
          "model_module_version": "1.2.0",
          "state": {
            "_model_module": "@jupyter-widgets/base",
            "_model_module_version": "1.2.0",
            "_model_name": "LayoutModel",
            "_view_count": null,
            "_view_module": "@jupyter-widgets/base",
            "_view_module_version": "1.2.0",
            "_view_name": "LayoutView",
            "align_content": null,
            "align_items": null,
            "align_self": null,
            "border": null,
            "bottom": null,
            "display": null,
            "flex": null,
            "flex_flow": null,
            "grid_area": null,
            "grid_auto_columns": null,
            "grid_auto_flow": null,
            "grid_auto_rows": null,
            "grid_column": null,
            "grid_gap": null,
            "grid_row": null,
            "grid_template_areas": null,
            "grid_template_columns": null,
            "grid_template_rows": null,
            "height": null,
            "justify_content": null,
            "justify_items": null,
            "left": null,
            "margin": null,
            "max_height": null,
            "max_width": null,
            "min_height": null,
            "min_width": null,
            "object_fit": null,
            "object_position": null,
            "order": null,
            "overflow": null,
            "overflow_x": null,
            "overflow_y": null,
            "padding": null,
            "right": null,
            "top": null,
            "visibility": null,
            "width": null
          }
        },
        "e671a8094d27414ea0f8d127fbdbe211": {
          "model_module": "@jupyter-widgets/base",
          "model_name": "LayoutModel",
          "model_module_version": "1.2.0",
          "state": {
            "_model_module": "@jupyter-widgets/base",
            "_model_module_version": "1.2.0",
            "_model_name": "LayoutModel",
            "_view_count": null,
            "_view_module": "@jupyter-widgets/base",
            "_view_module_version": "1.2.0",
            "_view_name": "LayoutView",
            "align_content": null,
            "align_items": null,
            "align_self": null,
            "border": null,
            "bottom": null,
            "display": null,
            "flex": null,
            "flex_flow": null,
            "grid_area": null,
            "grid_auto_columns": null,
            "grid_auto_flow": null,
            "grid_auto_rows": null,
            "grid_column": null,
            "grid_gap": null,
            "grid_row": null,
            "grid_template_areas": null,
            "grid_template_columns": null,
            "grid_template_rows": null,
            "height": null,
            "justify_content": null,
            "justify_items": null,
            "left": null,
            "margin": null,
            "max_height": null,
            "max_width": null,
            "min_height": null,
            "min_width": null,
            "object_fit": null,
            "object_position": null,
            "order": null,
            "overflow": null,
            "overflow_x": null,
            "overflow_y": null,
            "padding": null,
            "right": null,
            "top": null,
            "visibility": null,
            "width": null
          }
        },
        "ba087fcff25e4db9a99a2195666cd291": {
          "model_module": "@jupyter-widgets/controls",
          "model_name": "DescriptionStyleModel",
          "model_module_version": "1.5.0",
          "state": {
            "_model_module": "@jupyter-widgets/controls",
            "_model_module_version": "1.5.0",
            "_model_name": "DescriptionStyleModel",
            "_view_count": null,
            "_view_module": "@jupyter-widgets/base",
            "_view_module_version": "1.2.0",
            "_view_name": "StyleView",
            "description_width": ""
          }
        },
        "472ad90453184c7588a6d09da1f47b25": {
          "model_module": "@jupyter-widgets/base",
          "model_name": "LayoutModel",
          "model_module_version": "1.2.0",
          "state": {
            "_model_module": "@jupyter-widgets/base",
            "_model_module_version": "1.2.0",
            "_model_name": "LayoutModel",
            "_view_count": null,
            "_view_module": "@jupyter-widgets/base",
            "_view_module_version": "1.2.0",
            "_view_name": "LayoutView",
            "align_content": null,
            "align_items": null,
            "align_self": null,
            "border": null,
            "bottom": null,
            "display": null,
            "flex": null,
            "flex_flow": null,
            "grid_area": null,
            "grid_auto_columns": null,
            "grid_auto_flow": null,
            "grid_auto_rows": null,
            "grid_column": null,
            "grid_gap": null,
            "grid_row": null,
            "grid_template_areas": null,
            "grid_template_columns": null,
            "grid_template_rows": null,
            "height": null,
            "justify_content": null,
            "justify_items": null,
            "left": null,
            "margin": null,
            "max_height": null,
            "max_width": null,
            "min_height": null,
            "min_width": null,
            "object_fit": null,
            "object_position": null,
            "order": null,
            "overflow": null,
            "overflow_x": null,
            "overflow_y": null,
            "padding": null,
            "right": null,
            "top": null,
            "visibility": null,
            "width": null
          }
        },
        "14c5a0043032487c97d75de09a5d47bf": {
          "model_module": "@jupyter-widgets/controls",
          "model_name": "ProgressStyleModel",
          "model_module_version": "1.5.0",
          "state": {
            "_model_module": "@jupyter-widgets/controls",
            "_model_module_version": "1.5.0",
            "_model_name": "ProgressStyleModel",
            "_view_count": null,
            "_view_module": "@jupyter-widgets/base",
            "_view_module_version": "1.2.0",
            "_view_name": "StyleView",
            "bar_color": null,
            "description_width": ""
          }
        },
        "157fad9691c5422091cfd96ec8b07b96": {
          "model_module": "@jupyter-widgets/base",
          "model_name": "LayoutModel",
          "model_module_version": "1.2.0",
          "state": {
            "_model_module": "@jupyter-widgets/base",
            "_model_module_version": "1.2.0",
            "_model_name": "LayoutModel",
            "_view_count": null,
            "_view_module": "@jupyter-widgets/base",
            "_view_module_version": "1.2.0",
            "_view_name": "LayoutView",
            "align_content": null,
            "align_items": null,
            "align_self": null,
            "border": null,
            "bottom": null,
            "display": null,
            "flex": null,
            "flex_flow": null,
            "grid_area": null,
            "grid_auto_columns": null,
            "grid_auto_flow": null,
            "grid_auto_rows": null,
            "grid_column": null,
            "grid_gap": null,
            "grid_row": null,
            "grid_template_areas": null,
            "grid_template_columns": null,
            "grid_template_rows": null,
            "height": null,
            "justify_content": null,
            "justify_items": null,
            "left": null,
            "margin": null,
            "max_height": null,
            "max_width": null,
            "min_height": null,
            "min_width": null,
            "object_fit": null,
            "object_position": null,
            "order": null,
            "overflow": null,
            "overflow_x": null,
            "overflow_y": null,
            "padding": null,
            "right": null,
            "top": null,
            "visibility": null,
            "width": null
          }
        },
        "3bca9869483a4855aa0e3de48ad92009": {
          "model_module": "@jupyter-widgets/controls",
          "model_name": "DescriptionStyleModel",
          "model_module_version": "1.5.0",
          "state": {
            "_model_module": "@jupyter-widgets/controls",
            "_model_module_version": "1.5.0",
            "_model_name": "DescriptionStyleModel",
            "_view_count": null,
            "_view_module": "@jupyter-widgets/base",
            "_view_module_version": "1.2.0",
            "_view_name": "StyleView",
            "description_width": ""
          }
        },
        "f09d017f50a8414399da02c0224233cc": {
          "model_module": "@jupyter-widgets/controls",
          "model_name": "HBoxModel",
          "model_module_version": "1.5.0",
          "state": {
            "_dom_classes": [],
            "_model_module": "@jupyter-widgets/controls",
            "_model_module_version": "1.5.0",
            "_model_name": "HBoxModel",
            "_view_count": null,
            "_view_module": "@jupyter-widgets/controls",
            "_view_module_version": "1.5.0",
            "_view_name": "HBoxView",
            "box_style": "",
            "children": [
              "IPY_MODEL_fa0d85397894421e977334b72c4cdd71",
              "IPY_MODEL_e1ec3778880d4c468d1f201b6f40c3a9",
              "IPY_MODEL_675c45fa07d04ed6a2efc3d7958760b5"
            ],
            "layout": "IPY_MODEL_f27009fe3bb5466bac0ddfcef39a9d72"
          }
        },
        "fa0d85397894421e977334b72c4cdd71": {
          "model_module": "@jupyter-widgets/controls",
          "model_name": "HTMLModel",
          "model_module_version": "1.5.0",
          "state": {
            "_dom_classes": [],
            "_model_module": "@jupyter-widgets/controls",
            "_model_module_version": "1.5.0",
            "_model_name": "HTMLModel",
            "_view_count": null,
            "_view_module": "@jupyter-widgets/controls",
            "_view_module_version": "1.5.0",
            "_view_name": "HTMLView",
            "description": "",
            "description_tooltip": null,
            "layout": "IPY_MODEL_0073c7e1f02348ddb0884984751be6f5",
            "placeholder": "​",
            "style": "IPY_MODEL_fee233059b184821b700bee282fed6d6",
            "value": "Generating unsupervised split: 100%"
          }
        },
        "e1ec3778880d4c468d1f201b6f40c3a9": {
          "model_module": "@jupyter-widgets/controls",
          "model_name": "FloatProgressModel",
          "model_module_version": "1.5.0",
          "state": {
            "_dom_classes": [],
            "_model_module": "@jupyter-widgets/controls",
            "_model_module_version": "1.5.0",
            "_model_name": "FloatProgressModel",
            "_view_count": null,
            "_view_module": "@jupyter-widgets/controls",
            "_view_module_version": "1.5.0",
            "_view_name": "ProgressView",
            "bar_style": "success",
            "description": "",
            "description_tooltip": null,
            "layout": "IPY_MODEL_3cc5737bc3134307a340ff351054e1da",
            "max": 50000,
            "min": 0,
            "orientation": "horizontal",
            "style": "IPY_MODEL_b466335666ec460f8f9a0cd81be1a7ca",
            "value": 50000
          }
        },
        "675c45fa07d04ed6a2efc3d7958760b5": {
          "model_module": "@jupyter-widgets/controls",
          "model_name": "HTMLModel",
          "model_module_version": "1.5.0",
          "state": {
            "_dom_classes": [],
            "_model_module": "@jupyter-widgets/controls",
            "_model_module_version": "1.5.0",
            "_model_name": "HTMLModel",
            "_view_count": null,
            "_view_module": "@jupyter-widgets/controls",
            "_view_module_version": "1.5.0",
            "_view_name": "HTMLView",
            "description": "",
            "description_tooltip": null,
            "layout": "IPY_MODEL_8f87878452444649802d0daf9bf2b190",
            "placeholder": "​",
            "style": "IPY_MODEL_39068e30b3f142f5b1899c13dc1e9612",
            "value": " 50000/50000 [00:00&lt;00:00, 124398.57 examples/s]"
          }
        },
        "f27009fe3bb5466bac0ddfcef39a9d72": {
          "model_module": "@jupyter-widgets/base",
          "model_name": "LayoutModel",
          "model_module_version": "1.2.0",
          "state": {
            "_model_module": "@jupyter-widgets/base",
            "_model_module_version": "1.2.0",
            "_model_name": "LayoutModel",
            "_view_count": null,
            "_view_module": "@jupyter-widgets/base",
            "_view_module_version": "1.2.0",
            "_view_name": "LayoutView",
            "align_content": null,
            "align_items": null,
            "align_self": null,
            "border": null,
            "bottom": null,
            "display": null,
            "flex": null,
            "flex_flow": null,
            "grid_area": null,
            "grid_auto_columns": null,
            "grid_auto_flow": null,
            "grid_auto_rows": null,
            "grid_column": null,
            "grid_gap": null,
            "grid_row": null,
            "grid_template_areas": null,
            "grid_template_columns": null,
            "grid_template_rows": null,
            "height": null,
            "justify_content": null,
            "justify_items": null,
            "left": null,
            "margin": null,
            "max_height": null,
            "max_width": null,
            "min_height": null,
            "min_width": null,
            "object_fit": null,
            "object_position": null,
            "order": null,
            "overflow": null,
            "overflow_x": null,
            "overflow_y": null,
            "padding": null,
            "right": null,
            "top": null,
            "visibility": null,
            "width": null
          }
        },
        "0073c7e1f02348ddb0884984751be6f5": {
          "model_module": "@jupyter-widgets/base",
          "model_name": "LayoutModel",
          "model_module_version": "1.2.0",
          "state": {
            "_model_module": "@jupyter-widgets/base",
            "_model_module_version": "1.2.0",
            "_model_name": "LayoutModel",
            "_view_count": null,
            "_view_module": "@jupyter-widgets/base",
            "_view_module_version": "1.2.0",
            "_view_name": "LayoutView",
            "align_content": null,
            "align_items": null,
            "align_self": null,
            "border": null,
            "bottom": null,
            "display": null,
            "flex": null,
            "flex_flow": null,
            "grid_area": null,
            "grid_auto_columns": null,
            "grid_auto_flow": null,
            "grid_auto_rows": null,
            "grid_column": null,
            "grid_gap": null,
            "grid_row": null,
            "grid_template_areas": null,
            "grid_template_columns": null,
            "grid_template_rows": null,
            "height": null,
            "justify_content": null,
            "justify_items": null,
            "left": null,
            "margin": null,
            "max_height": null,
            "max_width": null,
            "min_height": null,
            "min_width": null,
            "object_fit": null,
            "object_position": null,
            "order": null,
            "overflow": null,
            "overflow_x": null,
            "overflow_y": null,
            "padding": null,
            "right": null,
            "top": null,
            "visibility": null,
            "width": null
          }
        },
        "fee233059b184821b700bee282fed6d6": {
          "model_module": "@jupyter-widgets/controls",
          "model_name": "DescriptionStyleModel",
          "model_module_version": "1.5.0",
          "state": {
            "_model_module": "@jupyter-widgets/controls",
            "_model_module_version": "1.5.0",
            "_model_name": "DescriptionStyleModel",
            "_view_count": null,
            "_view_module": "@jupyter-widgets/base",
            "_view_module_version": "1.2.0",
            "_view_name": "StyleView",
            "description_width": ""
          }
        },
        "3cc5737bc3134307a340ff351054e1da": {
          "model_module": "@jupyter-widgets/base",
          "model_name": "LayoutModel",
          "model_module_version": "1.2.0",
          "state": {
            "_model_module": "@jupyter-widgets/base",
            "_model_module_version": "1.2.0",
            "_model_name": "LayoutModel",
            "_view_count": null,
            "_view_module": "@jupyter-widgets/base",
            "_view_module_version": "1.2.0",
            "_view_name": "LayoutView",
            "align_content": null,
            "align_items": null,
            "align_self": null,
            "border": null,
            "bottom": null,
            "display": null,
            "flex": null,
            "flex_flow": null,
            "grid_area": null,
            "grid_auto_columns": null,
            "grid_auto_flow": null,
            "grid_auto_rows": null,
            "grid_column": null,
            "grid_gap": null,
            "grid_row": null,
            "grid_template_areas": null,
            "grid_template_columns": null,
            "grid_template_rows": null,
            "height": null,
            "justify_content": null,
            "justify_items": null,
            "left": null,
            "margin": null,
            "max_height": null,
            "max_width": null,
            "min_height": null,
            "min_width": null,
            "object_fit": null,
            "object_position": null,
            "order": null,
            "overflow": null,
            "overflow_x": null,
            "overflow_y": null,
            "padding": null,
            "right": null,
            "top": null,
            "visibility": null,
            "width": null
          }
        },
        "b466335666ec460f8f9a0cd81be1a7ca": {
          "model_module": "@jupyter-widgets/controls",
          "model_name": "ProgressStyleModel",
          "model_module_version": "1.5.0",
          "state": {
            "_model_module": "@jupyter-widgets/controls",
            "_model_module_version": "1.5.0",
            "_model_name": "ProgressStyleModel",
            "_view_count": null,
            "_view_module": "@jupyter-widgets/base",
            "_view_module_version": "1.2.0",
            "_view_name": "StyleView",
            "bar_color": null,
            "description_width": ""
          }
        },
        "8f87878452444649802d0daf9bf2b190": {
          "model_module": "@jupyter-widgets/base",
          "model_name": "LayoutModel",
          "model_module_version": "1.2.0",
          "state": {
            "_model_module": "@jupyter-widgets/base",
            "_model_module_version": "1.2.0",
            "_model_name": "LayoutModel",
            "_view_count": null,
            "_view_module": "@jupyter-widgets/base",
            "_view_module_version": "1.2.0",
            "_view_name": "LayoutView",
            "align_content": null,
            "align_items": null,
            "align_self": null,
            "border": null,
            "bottom": null,
            "display": null,
            "flex": null,
            "flex_flow": null,
            "grid_area": null,
            "grid_auto_columns": null,
            "grid_auto_flow": null,
            "grid_auto_rows": null,
            "grid_column": null,
            "grid_gap": null,
            "grid_row": null,
            "grid_template_areas": null,
            "grid_template_columns": null,
            "grid_template_rows": null,
            "height": null,
            "justify_content": null,
            "justify_items": null,
            "left": null,
            "margin": null,
            "max_height": null,
            "max_width": null,
            "min_height": null,
            "min_width": null,
            "object_fit": null,
            "object_position": null,
            "order": null,
            "overflow": null,
            "overflow_x": null,
            "overflow_y": null,
            "padding": null,
            "right": null,
            "top": null,
            "visibility": null,
            "width": null
          }
        },
        "39068e30b3f142f5b1899c13dc1e9612": {
          "model_module": "@jupyter-widgets/controls",
          "model_name": "DescriptionStyleModel",
          "model_module_version": "1.5.0",
          "state": {
            "_model_module": "@jupyter-widgets/controls",
            "_model_module_version": "1.5.0",
            "_model_name": "DescriptionStyleModel",
            "_view_count": null,
            "_view_module": "@jupyter-widgets/base",
            "_view_module_version": "1.2.0",
            "_view_name": "StyleView",
            "description_width": ""
          }
        }
      }
    }
  },
  "nbformat": 4,
  "nbformat_minor": 0
}